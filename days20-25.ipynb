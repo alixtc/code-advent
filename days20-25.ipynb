{
 "cells": [
  {
   "cell_type": "code",
   "execution_count": 1,
   "id": "cab96d7e",
   "metadata": {
    "ExecuteTime": {
     "end_time": "2021-12-22T05:16:05.234156Z",
     "start_time": "2021-12-22T05:16:04.209032Z"
    }
   },
   "outputs": [],
   "source": [
    "import numpy as np\n",
    "import pandas as pd\n",
    "import matplotlib.pyplot as plt"
   ]
  },
  {
   "cell_type": "markdown",
   "id": "327c622b",
   "metadata": {},
   "source": [
    "# Day 20"
   ]
  },
  {
   "cell_type": "code",
   "execution_count": 3,
   "id": "57daff7c",
   "metadata": {
    "ExecuteTime": {
     "end_time": "2021-12-20T12:30:03.719753Z",
     "start_time": "2021-12-20T12:30:03.716185Z"
    }
   },
   "outputs": [],
   "source": [
    "day = 'day20'\n",
    "with open(f'test{day}' , 'r') as f:\n",
    "    file = f.read().splitlines()"
   ]
  },
  {
   "cell_type": "code",
   "execution_count": 263,
   "id": "6472a099",
   "metadata": {
    "ExecuteTime": {
     "end_time": "2021-12-20T07:36:13.643125Z",
     "start_time": "2021-12-20T07:36:13.636371Z"
    }
   },
   "outputs": [
    {
     "data": {
      "text/plain": [
       "array([[0, 0, 0, 0, 0, 0, 0, 0, 0, 0, 0, 0, 0, 0, 0],\n",
       "       [0, 0, 0, 0, 0, 0, 0, 0, 0, 0, 0, 0, 0, 0, 0],\n",
       "       [0, 0, 0, 0, 0, 0, 0, 0, 0, 0, 0, 0, 0, 0, 0],\n",
       "       [0, 0, 0, 0, 0, 0, 0, 0, 0, 0, 1, 0, 0, 0, 0],\n",
       "       [0, 0, 0, 0, 1, 0, 0, 1, 0, 1, 0, 0, 0, 0, 0],\n",
       "       [0, 0, 0, 1, 0, 1, 0, 0, 0, 1, 1, 1, 0, 0, 0],\n",
       "       [0, 0, 0, 1, 0, 0, 0, 1, 1, 0, 1, 0, 0, 0, 0],\n",
       "       [0, 0, 0, 1, 0, 0, 0, 0, 0, 1, 0, 1, 0, 0, 0],\n",
       "       [0, 0, 0, 0, 1, 0, 1, 1, 1, 1, 1, 0, 0, 0, 0],\n",
       "       [0, 0, 0, 0, 0, 1, 0, 1, 1, 1, 1, 1, 0, 0, 0],\n",
       "       [0, 0, 0, 0, 0, 0, 1, 1, 0, 1, 1, 0, 0, 0, 0],\n",
       "       [0, 0, 0, 0, 0, 0, 0, 1, 1, 1, 0, 0, 0, 0, 0],\n",
       "       [0, 0, 0, 0, 0, 0, 0, 0, 0, 0, 0, 0, 0, 0, 0],\n",
       "       [0, 0, 0, 0, 0, 0, 0, 0, 0, 0, 0, 0, 0, 0, 0],\n",
       "       [0, 0, 0, 0, 0, 0, 0, 0, 0, 0, 0, 0, 0, 0, 0]])"
      ]
     },
     "execution_count": 263,
     "metadata": {},
     "output_type": "execute_result"
    }
   ],
   "source": [
    "test2 =\"\"\"...............\n",
    "...............\n",
    "...............\n",
    "..........#....\n",
    "....#..#.#.....\n",
    "...#.#...###...\n",
    "...#...##.#....\n",
    "...#.....#.#...\n",
    "....#.#####....\n",
    ".....#.#####...\n",
    "......##.##....\n",
    ".......###.....\n",
    "...............\n",
    "...............\n",
    "...............\"\"\"\n",
    "test2 = pd.Series(test2.split('\\n'))\n",
    "test2 = test2.apply(map_pattern).to_list()\n",
    "test2 = np.array(test2)\n",
    "test2"
   ]
  },
  {
   "cell_type": "code",
   "execution_count": 4,
   "id": "d7093030",
   "metadata": {
    "ExecuteTime": {
     "end_time": "2021-12-20T12:30:05.712757Z",
     "start_time": "2021-12-20T12:30:05.709104Z"
    }
   },
   "outputs": [],
   "source": [
    "with open(f'{day}' , 'r') as f:\n",
    "    file = f.read().splitlines()"
   ]
  },
  {
   "cell_type": "code",
   "execution_count": 5,
   "id": "f963a130",
   "metadata": {
    "ExecuteTime": {
     "end_time": "2021-12-20T12:30:07.857245Z",
     "start_time": "2021-12-20T12:30:07.852384Z"
    }
   },
   "outputs": [],
   "source": [
    "file = pd.Series(file)\n",
    "file\n",
    "\n",
    "split = np.where(file == '')[0][0]\n",
    "\n",
    "image = file[split+1:]"
   ]
  },
  {
   "cell_type": "code",
   "execution_count": null,
   "id": "1e31afc7",
   "metadata": {},
   "outputs": [],
   "source": []
  },
  {
   "cell_type": "code",
   "execution_count": 6,
   "id": "46bcdea6",
   "metadata": {
    "ExecuteTime": {
     "end_time": "2021-12-20T12:30:08.603110Z",
     "start_time": "2021-12-20T12:30:08.593941Z"
    }
   },
   "outputs": [
    {
     "data": {
      "text/plain": [
       "'[1, 1, 0, 0, 1, 0, 1, 1, 1, 1, 0, 0, 1, 0, 1, 0, 1, 1, 0, 1, 1, 1, 1, 1, 1, 1, 0, 1, 1, 1, 1, 1, 1, 0, 1, 1, 1, 1, 1, 0, 0, 1, 0, 0, 0, 1, 1, 0, 1, 1, 1, 0, 0, 0, 0, 1, 0, 0, 1, 0, 1, 1, 0, 0, 1, 0, 0, 0, 0, 1, 0, 1, 0, 1, 1, 0, 1, 0, 1, 0, 1, 0, 0, 0, 1, 1, 1, 0, 0, 1, 1, 1, 0, 0, 1, 0, 1, 0, 0, 1, 0, 1, 1, 1, 1, 1, 0, 1, 0, 1, 0, 1, 1, 0, 0, 1, 1, 0, 1, 0, 1, 1, 1, 0, 1, 0, 0, 1, 1, 0, 1, 1, 1, 0, 1, 1, 1, 0, 0, 0, 1, 1, 1, 1, 0, 1, 1, 1, 1, 1, 0, 0, 0, 0, 1, 0, 0, 0, 0, 1, 0, 0, 1, 0, 1, 0, 0, 0, 1, 0, 1, 0, 1, 0, 1, 0, 1, 0, 0, 0, 1, 1, 1, 1, 1, 0, 0, 0, 1, 1, 0, 0, 1, 1, 1, 1, 0, 1, 1, 0, 1, 1, 0, 0, 0, 1, 0, 1, 1, 0, 1, 1, 1, 1, 1, 0, 0, 0, 0, 0, 0, 0, 0, 1, 0, 0, 1, 1, 1, 1, 1, 0, 0, 1, 1, 0, 1, 1, 0, 0, 1, 1, 1, 1, 1, 1, 1, 1, 1, 1, 1, 0, 0, 0, 0, 1, 0, 1, 1, 0, 1, 1, 1, 1, 1, 0, 1, 1, 0, 0, 1, 1, 1, 1, 1, 0, 0, 0, 1, 0, 0, 1, 0, 1, 0, 1, 1, 0, 0, 0, 1, 0, 1, 0, 1, 0, 0, 1, 0, 0, 0, 1, 1, 1, 1, 0, 0, 0, 0, 0, 0, 1, 0, 1, 0, 1, 1, 1, 1, 0, 0, 0, 0, 1, 1, 0, 1, 0, 1, 1, 0, 1, 1, 1, 1, 0, 0, 1, 1, 0, 0, 1, 1, 0, 1, 0, 0, 0, 0, 0, 0, 0, 1, 0, 0, 0, 1, 0, 1, 1, 1, 1, 1, 1, 1, 1, 1, 1, 1, 0, 0, 0, 0, 0, 1, 1, 1, 0, 1, 1, 1, 1, 1, 1, 1, 0, 0, 0, 0, 1, 1, 0, 1, 0, 1, 1, 1, 1, 1, 1, 1, 0, 0, 1, 0, 0, 0, 0, 0, 0, 0, 1, 1, 1, 0, 1, 1, 0, 0, 0, 0, 1, 0, 1, 0, 0, 1, 0, 0, 0, 0, 1, 1, 0, 0, 1, 0, 1, 1, 1, 0, 1, 0, 0, 1, 0, 1, 1, 1, 0, 1, 1, 1, 0, 1, 1, 0, 0, 1, 1, 0, 1, 0, 1, 0, 0, 0, 1, 0, 1, 0, 0, 0, 0, 0, 1, 1, 1, 0, 1, 0, 1, 0, 0, 0, 0, 1, 1, 1, 0, 0, 1, 0, 0, 0, 0, 0, 1, 1, 0, 1, 0, 1, 1, 1, 1, 1, 0, 0, 0, 0, 0]'"
      ]
     },
     "execution_count": 6,
     "metadata": {},
     "output_type": "execute_result"
    }
   ],
   "source": [
    "algo = file[:split]\n",
    "algo = ''.join(algo.to_list())\n",
    "algo = [char.replace('#',\"1\").replace('.', \"0\") for char in algo]\n",
    "algo = [int(char) for char in algo]\n",
    "str(algo)"
   ]
  },
  {
   "cell_type": "code",
   "execution_count": 7,
   "id": "a97c27dc",
   "metadata": {
    "ExecuteTime": {
     "end_time": "2021-12-20T12:30:10.153120Z",
     "start_time": "2021-12-20T12:30:10.149526Z"
    }
   },
   "outputs": [],
   "source": [
    "def map_pattern(x):\n",
    "    #x = x.split(\": \")[1]\n",
    "    #x = x.split(',')\n",
    "    x = x.replace('#',\"1\").replace('.', \"0\")\n",
    "    x = [int(i) for i in x]\n",
    "    #x = np.array(x)\n",
    "    #x = np.pad(a, [(1, 1), (0, 1)], mode='constant', constant_values=0)\n",
    "    return x"
   ]
  },
  {
   "cell_type": "code",
   "execution_count": 8,
   "id": "fe904401",
   "metadata": {
    "ExecuteTime": {
     "end_time": "2021-12-20T12:30:10.484455Z",
     "start_time": "2021-12-20T12:30:10.473611Z"
    }
   },
   "outputs": [
    {
     "data": {
      "text/plain": [
       "array([[1, 0, 1, ..., 1, 0, 0],\n",
       "       [0, 1, 0, ..., 0, 1, 0],\n",
       "       [0, 1, 1, ..., 0, 0, 0],\n",
       "       ...,\n",
       "       [1, 0, 0, ..., 1, 0, 0],\n",
       "       [1, 1, 0, ..., 0, 0, 1],\n",
       "       [1, 0, 0, ..., 1, 0, 0]])"
      ]
     },
     "execution_count": 8,
     "metadata": {},
     "output_type": "execute_result"
    }
   ],
   "source": [
    "data = image.apply(map_pattern).to_list()\n",
    "data = np.array(data)\n",
    "data"
   ]
  },
  {
   "cell_type": "code",
   "execution_count": 9,
   "id": "3cb252cc",
   "metadata": {
    "ExecuteTime": {
     "end_time": "2021-12-20T12:30:12.082153Z",
     "start_time": "2021-12-20T12:30:12.077260Z"
    }
   },
   "outputs": [
    {
     "data": {
      "text/plain": [
       "4947"
      ]
     },
     "execution_count": 9,
     "metadata": {},
     "output_type": "execute_result"
    }
   ],
   "source": [
    "data.sum()"
   ]
  },
  {
   "cell_type": "code",
   "execution_count": 10,
   "id": "20953cf4",
   "metadata": {
    "ExecuteTime": {
     "end_time": "2021-12-20T12:30:12.697555Z",
     "start_time": "2021-12-20T12:30:12.693631Z"
    }
   },
   "outputs": [],
   "source": [
    "def convert_kernel(img):\n",
    "    img = img.flatten().tolist()\n",
    "    img = ''.join([str(bit) for bit in img])\n",
    "    return img"
   ]
  },
  {
   "cell_type": "code",
   "execution_count": 11,
   "id": "8d98c39f",
   "metadata": {
    "ExecuteTime": {
     "end_time": "2021-12-20T12:30:13.547251Z",
     "start_time": "2021-12-20T12:30:13.542095Z"
    }
   },
   "outputs": [
    {
     "data": {
      "text/plain": [
       "(106, 106)"
      ]
     },
     "execution_count": 11,
     "metadata": {},
     "output_type": "execute_result"
    }
   ],
   "source": [
    "padded = np.pad(data, 3, mode='constant', constant_values=0)\n",
    "\n",
    "padded.shape"
   ]
  },
  {
   "cell_type": "code",
   "execution_count": 12,
   "id": "0de84139",
   "metadata": {
    "ExecuteTime": {
     "end_time": "2021-12-20T12:30:30.107300Z",
     "start_time": "2021-12-20T12:30:19.344906Z"
    }
   },
   "outputs": [],
   "source": [
    "for _ in range(25):\n",
    "    new_image = padded.copy()\n",
    "    for x in range(1, padded.shape[1]-1):\n",
    "        for y in range(1, padded.shape[1]-1):\n",
    "            kernel = padded[x-1:x+2, y-1:y+2]\n",
    "            decoder = int(convert_kernel(kernel), 2)\n",
    "            new_image[x, y] = algo[decoder]\n",
    "\n",
    "    #change first and last line    \n",
    "    new_image[0, :], new_image[-1, :] = 1, 1\n",
    "    new_image[:, 0], new_image[:, -1] = 1, 1\n",
    "    padded = new_image.copy()\n",
    "    padded = np.pad(padded, 2, mode='constant', constant_values=1)\n",
    "\n",
    "    new_image = padded.copy()\n",
    "    for x in range(1, padded.shape[1]-1):\n",
    "        for y in range(1, padded.shape[1]-1):\n",
    "            kernel = padded[x-1:x+2, y-1:y+2]\n",
    "            decoder = int(convert_kernel(kernel), 2)\n",
    "            new_image[x, y] = algo[decoder]\n",
    "\n",
    "    #change first and last line    \n",
    "    new_image[0, :], new_image[-1, :] = 0, 0\n",
    "    new_image[:, 0], new_image[:, -1] = 0, 0\n",
    "    padded = new_image.copy()\n",
    "    padded = np.pad(padded, 2, mode='constant', constant_values=0)"
   ]
  },
  {
   "cell_type": "code",
   "execution_count": null,
   "id": "b2855b7d",
   "metadata": {
    "ExecuteTime": {
     "end_time": "2021-12-20T07:20:49.900131Z",
     "start_time": "2021-12-20T07:20:49.897224Z"
    }
   },
   "outputs": [],
   "source": []
  },
  {
   "cell_type": "code",
   "execution_count": 13,
   "id": "3fb02751",
   "metadata": {
    "ExecuteTime": {
     "end_time": "2021-12-20T12:30:33.098726Z",
     "start_time": "2021-12-20T12:30:33.094093Z"
    }
   },
   "outputs": [
    {
     "data": {
      "text/plain": [
       "array([[0, 0, 0, ..., 0, 0, 0],\n",
       "       [0, 0, 0, ..., 0, 0, 0],\n",
       "       [0, 0, 0, ..., 0, 0, 0],\n",
       "       ...,\n",
       "       [0, 0, 0, ..., 0, 0, 0],\n",
       "       [0, 0, 0, ..., 0, 0, 0],\n",
       "       [0, 0, 0, ..., 0, 0, 0]])"
      ]
     },
     "execution_count": 13,
     "metadata": {},
     "output_type": "execute_result"
    }
   ],
   "source": [
    "new_image"
   ]
  },
  {
   "cell_type": "code",
   "execution_count": 14,
   "id": "9f07b03e",
   "metadata": {
    "ExecuteTime": {
     "end_time": "2021-12-20T12:30:33.714754Z",
     "start_time": "2021-12-20T12:30:33.478277Z"
    }
   },
   "outputs": [
    {
     "data": {
      "text/plain": [
       "<matplotlib.image.AxesImage at 0x122ba3a10>"
      ]
     },
     "execution_count": 14,
     "metadata": {},
     "output_type": "execute_result"
    },
    {
     "data": {
      "image/png": "[encoded data removed]",
      "text/plain": [
       "<Figure size 432x288 with 1 Axes>"
      ]
     },
     "metadata": {
      "needs_background": "light"
     },
     "output_type": "display_data"
    }
   ],
   "source": [
    "plt.imshow(padded)"
   ]
  },
  {
   "cell_type": "code",
   "execution_count": 15,
   "id": "9b54db12",
   "metadata": {
    "ExecuteTime": {
     "end_time": "2021-12-20T12:30:34.203045Z",
     "start_time": "2021-12-20T12:30:33.962004Z"
    }
   },
   "outputs": [
    {
     "data": {
      "text/plain": [
       "<matplotlib.image.AxesImage at 0x122cc53d0>"
      ]
     },
     "execution_count": 15,
     "metadata": {},
     "output_type": "execute_result"
    },
    {
     "data": {
      "image/png": "[encoded data removed]",
      "text/plain": [
       "<Figure size 432x288 with 1 Axes>"
      ]
     },
     "metadata": {
      "needs_background": "light"
     },
     "output_type": "display_data"
    }
   ],
   "source": [
    "plt.imshow(new_image)"
   ]
  },
  {
   "cell_type": "code",
   "execution_count": 16,
   "id": "0c86476c",
   "metadata": {
    "ExecuteTime": {
     "end_time": "2021-12-20T12:30:35.744180Z",
     "start_time": "2021-12-20T12:30:35.738510Z"
    }
   },
   "outputs": [
    {
     "data": {
      "text/plain": [
       "17628"
      ]
     },
     "execution_count": 16,
     "metadata": {},
     "output_type": "execute_result"
    }
   ],
   "source": [
    "padded.sum()"
   ]
  },
  {
   "cell_type": "code",
   "execution_count": 327,
   "id": "2f1e9358",
   "metadata": {
    "ExecuteTime": {
     "end_time": "2021-12-20T07:53:55.326780Z",
     "start_time": "2021-12-20T07:53:55.322318Z"
    }
   },
   "outputs": [
    {
     "data": {
      "text/plain": [
       "5294"
      ]
     },
     "execution_count": 327,
     "metadata": {},
     "output_type": "execute_result"
    }
   ],
   "source": [
    "padded.sum()"
   ]
  },
  {
   "cell_type": "code",
   "execution_count": 328,
   "id": "a1db7db2",
   "metadata": {
    "ExecuteTime": {
     "end_time": "2021-12-20T07:53:56.962912Z",
     "start_time": "2021-12-20T07:53:56.958279Z"
    }
   },
   "outputs": [
    {
     "data": {
      "text/plain": [
       "5075"
      ]
     },
     "execution_count": 328,
     "metadata": {},
     "output_type": "execute_result"
    }
   ],
   "source": [
    "data.sum()"
   ]
  },
  {
   "cell_type": "markdown",
   "id": "b5fe4188",
   "metadata": {},
   "source": [
    "Note value between : 5552 and 5776"
   ]
  },
  {
   "cell_type": "markdown",
   "id": "5c39e253",
   "metadata": {},
   "source": [
    "# Day 21"
   ]
  },
  {
   "cell_type": "code",
   "execution_count": null,
   "id": "154604ea",
   "metadata": {},
   "outputs": [],
   "source": [
    "day = 'day20'\n",
    "with open(f'test{day}' , 'r') as f:\n",
    "    file = f.read().splitlines()"
   ]
  },
  {
   "cell_type": "code",
   "execution_count": 2,
   "id": "f877b1b5",
   "metadata": {
    "ExecuteTime": {
     "end_time": "2021-12-21T06:06:58.517338Z",
     "start_time": "2021-12-21T06:06:58.481473Z"
    }
   },
   "outputs": [],
   "source": [
    "class Die:\n",
    "    def __init__(self):\n",
    "        self.value = 0\n",
    "        self.rolls = 0\n",
    "        \n",
    "    def roll_dice(self):\n",
    "        self.value += 1\n",
    "        self.rolls += 1\n",
    "        if self.value == 101:\n",
    "            self.value = 1\n",
    "        return self.value\n",
    "    \n",
    "    def roll_three_times(self):\n",
    "        rolls = [self.roll_dice() for _ in range(3)]\n",
    "        return sum(rolls)"
   ]
  },
  {
   "cell_type": "code",
   "execution_count": 3,
   "id": "94ffceaa",
   "metadata": {
    "ExecuteTime": {
     "end_time": "2021-12-21T06:07:17.863747Z",
     "start_time": "2021-12-21T06:07:17.859550Z"
    }
   },
   "outputs": [],
   "source": [
    "d100 = Die()"
   ]
  },
  {
   "cell_type": "code",
   "execution_count": 5,
   "id": "13b7ef14",
   "metadata": {
    "ExecuteTime": {
     "end_time": "2021-12-21T06:07:43.387219Z",
     "start_time": "2021-12-21T06:07:43.382966Z"
    }
   },
   "outputs": [
    {
     "data": {
      "text/plain": [
       "15"
      ]
     },
     "execution_count": 5,
     "metadata": {},
     "output_type": "execute_result"
    }
   ],
   "source": [
    "d100.roll_three_times()"
   ]
  },
  {
   "cell_type": "code",
   "execution_count": 14,
   "id": "229eea6c",
   "metadata": {
    "ExecuteTime": {
     "end_time": "2021-12-21T06:23:58.353168Z",
     "start_time": "2021-12-21T06:23:58.347941Z"
    }
   },
   "outputs": [],
   "source": [
    "class Player:\n",
    "    def __init__(self, start):\n",
    "        self.position = start\n",
    "        self.score = 0\n",
    "        \n",
    "    def play_once(self, dice):\n",
    "        mouvement = dice.roll_three_times()\n",
    "        self.position = (self.position + mouvement) \n",
    "        print('mouvement', mouvement)\n",
    "        while self.position > 10:\n",
    "                self.position = self.position - 10\n",
    "                \n",
    "        self.score += self.position\n",
    "        print(self.score)\n",
    "    \n",
    "        \n",
    "    def check_for_win(self):\n",
    "        if self.score >= 1000:\n",
    "            return 'win'\n",
    "        "
   ]
  },
  {
   "cell_type": "code",
   "execution_count": 22,
   "id": "c12703eb",
   "metadata": {
    "ExecuteTime": {
     "end_time": "2021-12-21T06:26:11.656220Z",
     "start_time": "2021-12-21T06:26:11.652935Z"
    }
   },
   "outputs": [],
   "source": [
    "player_first = Player(4)\n",
    "player_second = Player(7)\n",
    "\n",
    "dice = Die()"
   ]
  },
  {
   "cell_type": "code",
   "execution_count": 23,
   "id": "04148242",
   "metadata": {
    "ExecuteTime": {
     "end_time": "2021-12-21T06:26:12.195883Z",
     "start_time": "2021-12-21T06:26:12.080231Z"
    }
   },
   "outputs": [
    {
     "name": "stdout",
     "output_type": "stream",
     "text": [
      "mouvement 6\n",
      "10\n",
      "mouvement 15\n",
      "2\n",
      "mouvement 24\n",
      "14\n",
      "mouvement 33\n",
      "7\n",
      "mouvement 42\n",
      "20\n",
      "mouvement 51\n",
      "13\n",
      "mouvement 60\n",
      "26\n",
      "mouvement 69\n",
      "18\n",
      "mouvement 78\n",
      "30\n",
      "mouvement 87\n",
      "20\n",
      "mouvement 96\n",
      "40\n",
      "mouvement 105\n",
      "27\n",
      "mouvement 114\n",
      "44\n",
      "mouvement 123\n",
      "37\n",
      "mouvement 132\n",
      "50\n",
      "mouvement 141\n",
      "38\n",
      "mouvement 150\n",
      "56\n",
      "mouvement 159\n",
      "48\n",
      "mouvement 168\n",
      "60\n",
      "mouvement 177\n",
      "55\n",
      "mouvement 186\n",
      "70\n",
      "mouvement 195\n",
      "57\n",
      "mouvement 204\n",
      "74\n",
      "mouvement 213\n",
      "62\n",
      "mouvement 222\n",
      "80\n",
      "mouvement 231\n",
      "68\n",
      "mouvement 240\n",
      "86\n",
      "mouvement 249\n",
      "73\n",
      "mouvement 258\n",
      "90\n",
      "mouvement 267\n",
      "75\n",
      "mouvement 276\n",
      "100\n",
      "mouvement 285\n",
      "82\n",
      "mouvement 294\n",
      "104\n",
      "mouvement 103\n",
      "92\n",
      "mouvement 12\n",
      "110\n",
      "mouvement 21\n",
      "93\n",
      "mouvement 30\n",
      "116\n",
      "mouvement 39\n",
      "103\n",
      "mouvement 48\n",
      "120\n",
      "mouvement 57\n",
      "110\n",
      "mouvement 66\n",
      "130\n",
      "mouvement 75\n",
      "112\n",
      "mouvement 84\n",
      "134\n",
      "mouvement 93\n",
      "117\n",
      "mouvement 102\n",
      "140\n",
      "mouvement 111\n",
      "123\n",
      "mouvement 120\n",
      "146\n",
      "mouvement 129\n",
      "128\n",
      "mouvement 138\n",
      "150\n",
      "mouvement 147\n",
      "130\n",
      "mouvement 156\n",
      "160\n",
      "mouvement 165\n",
      "137\n",
      "mouvement 174\n",
      "164\n",
      "mouvement 183\n",
      "147\n",
      "mouvement 192\n",
      "170\n",
      "mouvement 201\n",
      "148\n",
      "mouvement 210\n",
      "176\n",
      "mouvement 219\n",
      "158\n",
      "mouvement 228\n",
      "180\n",
      "mouvement 237\n",
      "165\n",
      "mouvement 246\n",
      "190\n",
      "mouvement 255\n",
      "167\n",
      "mouvement 264\n",
      "194\n",
      "mouvement 273\n",
      "172\n",
      "mouvement 282\n",
      "200\n",
      "mouvement 291\n",
      "178\n",
      "mouvement 200\n",
      "206\n",
      "mouvement 9\n",
      "183\n",
      "mouvement 18\n",
      "210\n",
      "mouvement 27\n",
      "185\n",
      "mouvement 36\n",
      "220\n",
      "mouvement 45\n",
      "192\n",
      "mouvement 54\n",
      "224\n",
      "mouvement 63\n",
      "202\n",
      "mouvement 72\n",
      "230\n",
      "mouvement 81\n",
      "203\n",
      "mouvement 90\n",
      "236\n",
      "mouvement 99\n",
      "213\n",
      "mouvement 108\n",
      "240\n",
      "mouvement 117\n",
      "220\n",
      "mouvement 126\n",
      "250\n",
      "mouvement 135\n",
      "222\n",
      "mouvement 144\n",
      "254\n",
      "mouvement 153\n",
      "227\n",
      "mouvement 162\n",
      "260\n",
      "mouvement 171\n",
      "233\n",
      "mouvement 180\n",
      "266\n",
      "mouvement 189\n",
      "238\n",
      "mouvement 198\n",
      "270\n",
      "mouvement 207\n",
      "240\n",
      "mouvement 216\n",
      "280\n",
      "mouvement 225\n",
      "247\n",
      "mouvement 234\n",
      "284\n",
      "mouvement 243\n",
      "257\n",
      "mouvement 252\n",
      "290\n",
      "mouvement 261\n",
      "258\n",
      "mouvement 270\n",
      "296\n",
      "mouvement 279\n",
      "268\n",
      "mouvement 288\n",
      "300\n",
      "mouvement 297\n",
      "275\n",
      "mouvement 6\n",
      "310\n",
      "mouvement 15\n",
      "277\n",
      "mouvement 24\n",
      "314\n",
      "mouvement 33\n",
      "282\n",
      "mouvement 42\n",
      "320\n",
      "mouvement 51\n",
      "288\n",
      "mouvement 60\n",
      "326\n",
      "mouvement 69\n",
      "293\n",
      "mouvement 78\n",
      "330\n",
      "mouvement 87\n",
      "295\n",
      "mouvement 96\n",
      "340\n",
      "mouvement 105\n",
      "302\n",
      "mouvement 114\n",
      "344\n",
      "mouvement 123\n",
      "312\n",
      "mouvement 132\n",
      "350\n",
      "mouvement 141\n",
      "313\n",
      "mouvement 150\n",
      "356\n",
      "mouvement 159\n",
      "323\n",
      "mouvement 168\n",
      "360\n",
      "mouvement 177\n",
      "330\n",
      "mouvement 186\n",
      "370\n",
      "mouvement 195\n",
      "332\n",
      "mouvement 204\n",
      "374\n",
      "mouvement 213\n",
      "337\n",
      "mouvement 222\n",
      "380\n",
      "mouvement 231\n",
      "343\n",
      "mouvement 240\n",
      "386\n",
      "mouvement 249\n",
      "348\n",
      "mouvement 258\n",
      "390\n",
      "mouvement 267\n",
      "350\n",
      "mouvement 276\n",
      "400\n",
      "mouvement 285\n",
      "357\n",
      "mouvement 294\n",
      "404\n",
      "mouvement 103\n",
      "367\n",
      "mouvement 12\n",
      "410\n",
      "mouvement 21\n",
      "368\n",
      "mouvement 30\n",
      "416\n",
      "mouvement 39\n",
      "378\n",
      "mouvement 48\n",
      "420\n",
      "mouvement 57\n",
      "385\n",
      "mouvement 66\n",
      "430\n",
      "mouvement 75\n",
      "387\n",
      "mouvement 84\n",
      "434\n",
      "mouvement 93\n",
      "392\n",
      "mouvement 102\n",
      "440\n",
      "mouvement 111\n",
      "398\n",
      "mouvement 120\n",
      "446\n",
      "mouvement 129\n",
      "403\n",
      "mouvement 138\n",
      "450\n",
      "mouvement 147\n",
      "405\n",
      "mouvement 156\n",
      "460\n",
      "mouvement 165\n",
      "412\n",
      "mouvement 174\n",
      "464\n",
      "mouvement 183\n",
      "422\n",
      "mouvement 192\n",
      "470\n",
      "mouvement 201\n",
      "423\n",
      "mouvement 210\n",
      "476\n",
      "mouvement 219\n",
      "433\n",
      "mouvement 228\n",
      "480\n",
      "mouvement 237\n",
      "440\n",
      "mouvement 246\n",
      "490\n",
      "mouvement 255\n",
      "442\n",
      "mouvement 264\n",
      "494\n",
      "mouvement 273\n",
      "447\n",
      "mouvement 282\n",
      "500\n",
      "mouvement 291\n",
      "453\n",
      "mouvement 200\n",
      "506\n",
      "mouvement 9\n",
      "458\n",
      "mouvement 18\n",
      "510\n",
      "mouvement 27\n",
      "460\n",
      "mouvement 36\n",
      "520\n",
      "mouvement 45\n",
      "467\n",
      "mouvement 54\n",
      "524\n",
      "mouvement 63\n",
      "477\n",
      "mouvement 72\n",
      "530\n",
      "mouvement 81\n",
      "478\n",
      "mouvement 90\n",
      "536\n",
      "mouvement 99\n",
      "488\n",
      "mouvement 108\n",
      "540\n",
      "mouvement 117\n",
      "495\n",
      "mouvement 126\n",
      "550\n",
      "mouvement 135\n",
      "497\n",
      "mouvement 144\n",
      "554\n",
      "mouvement 153\n",
      "502\n",
      "mouvement 162\n",
      "560\n",
      "mouvement 171\n",
      "508\n",
      "mouvement 180\n",
      "566\n",
      "mouvement 189\n",
      "513\n",
      "mouvement 198\n",
      "570\n",
      "mouvement 207\n",
      "515\n",
      "mouvement 216\n",
      "580\n",
      "mouvement 225\n",
      "522\n",
      "mouvement 234\n",
      "584\n",
      "mouvement 243\n",
      "532\n",
      "mouvement 252\n",
      "590\n",
      "mouvement 261\n",
      "533\n",
      "mouvement 270\n",
      "596\n",
      "mouvement 279\n",
      "543\n",
      "mouvement 288\n",
      "600\n",
      "mouvement 297\n",
      "550\n",
      "mouvement 6\n",
      "610\n",
      "mouvement 15\n",
      "552\n",
      "mouvement 24\n",
      "614\n",
      "mouvement 33\n",
      "557\n",
      "mouvement 42\n",
      "620\n",
      "mouvement 51\n",
      "563\n",
      "mouvement 60\n",
      "626\n",
      "mouvement 69\n",
      "568\n",
      "mouvement 78\n",
      "630\n",
      "mouvement 87\n",
      "570\n",
      "mouvement 96\n",
      "640\n",
      "mouvement 105\n",
      "577\n",
      "mouvement 114\n",
      "644\n",
      "mouvement 123\n",
      "587\n",
      "mouvement 132\n",
      "650\n",
      "mouvement 141\n",
      "588\n",
      "mouvement 150\n",
      "656\n",
      "mouvement 159\n",
      "598\n",
      "mouvement 168\n",
      "660\n",
      "mouvement 177\n",
      "605\n",
      "mouvement 186\n",
      "670\n",
      "mouvement 195\n",
      "607\n",
      "mouvement 204\n",
      "674\n",
      "mouvement 213\n",
      "612\n",
      "mouvement 222\n",
      "680\n",
      "mouvement 231\n",
      "618\n",
      "mouvement 240\n",
      "686\n",
      "mouvement 249\n",
      "623\n",
      "mouvement 258\n",
      "690\n",
      "mouvement 267\n",
      "625\n",
      "mouvement 276\n",
      "700\n",
      "mouvement 285\n",
      "632\n",
      "mouvement 294\n",
      "704\n",
      "mouvement 103\n",
      "642\n",
      "mouvement 12\n",
      "710\n",
      "mouvement 21\n",
      "643\n",
      "mouvement 30\n",
      "716\n",
      "mouvement 39\n",
      "653\n",
      "mouvement 48\n",
      "720\n",
      "mouvement 57\n",
      "660\n",
      "mouvement 66\n",
      "730\n",
      "mouvement 75\n",
      "662\n",
      "mouvement 84\n",
      "734\n",
      "mouvement 93\n",
      "667\n",
      "mouvement 102\n",
      "740\n",
      "mouvement 111\n",
      "673\n",
      "mouvement 120\n",
      "746\n",
      "mouvement 129\n",
      "678\n",
      "mouvement 138\n",
      "750\n",
      "mouvement 147\n",
      "680\n",
      "mouvement 156\n",
      "760\n",
      "mouvement 165\n",
      "687\n",
      "mouvement 174\n",
      "764\n",
      "mouvement 183\n",
      "697\n",
      "mouvement 192\n",
      "770\n",
      "mouvement 201\n",
      "698\n",
      "mouvement 210\n",
      "776\n",
      "mouvement 219\n",
      "708\n",
      "mouvement 228\n",
      "780\n",
      "mouvement 237\n",
      "715\n",
      "mouvement 246\n",
      "790\n",
      "mouvement 255\n",
      "717\n",
      "mouvement 264\n",
      "794\n",
      "mouvement 273\n",
      "722\n",
      "mouvement 282\n",
      "800\n",
      "mouvement 291\n",
      "728\n",
      "mouvement 200\n",
      "806\n",
      "mouvement 9\n",
      "733\n",
      "mouvement 18\n",
      "810\n",
      "mouvement 27\n",
      "735\n",
      "mouvement 36\n",
      "820\n",
      "mouvement 45\n",
      "742\n",
      "mouvement 54\n",
      "824\n",
      "mouvement 63\n",
      "752\n",
      "mouvement 72\n",
      "830\n",
      "mouvement 81\n",
      "753\n",
      "mouvement 90\n",
      "836\n",
      "mouvement 99\n",
      "763\n",
      "mouvement 108\n",
      "840\n",
      "mouvement 117\n",
      "770\n",
      "mouvement 126\n",
      "850\n",
      "mouvement 135\n",
      "772\n",
      "mouvement 144\n",
      "854\n",
      "mouvement 153\n",
      "777\n",
      "mouvement 162\n",
      "860\n",
      "mouvement 171\n",
      "783\n",
      "mouvement 180\n",
      "866\n",
      "mouvement 189\n",
      "788\n",
      "mouvement 198\n",
      "870\n",
      "mouvement 207\n",
      "790\n",
      "mouvement 216\n",
      "880\n",
      "mouvement 225\n",
      "797\n",
      "mouvement 234\n",
      "884\n",
      "mouvement 243\n",
      "807\n",
      "mouvement 252\n",
      "890\n",
      "mouvement 261\n",
      "808\n",
      "mouvement 270\n",
      "896\n",
      "mouvement 279\n",
      "818\n",
      "mouvement 288\n",
      "900\n",
      "mouvement 297\n",
      "825\n",
      "mouvement 6\n",
      "910\n",
      "mouvement 15\n",
      "827\n",
      "mouvement 24\n",
      "914\n",
      "mouvement 33\n",
      "832\n",
      "mouvement 42\n",
      "920\n",
      "mouvement 51\n",
      "838\n",
      "mouvement 60\n",
      "926\n",
      "mouvement 69\n",
      "843\n",
      "mouvement 78\n",
      "930\n",
      "mouvement 87\n",
      "845\n",
      "mouvement 96\n",
      "940\n",
      "mouvement 105\n",
      "852\n",
      "mouvement 114\n",
      "944\n",
      "mouvement 123\n",
      "862\n",
      "mouvement 132\n",
      "950\n",
      "mouvement 141\n",
      "863\n",
      "mouvement 150\n",
      "956\n",
      "mouvement 159\n",
      "873\n",
      "mouvement 168\n",
      "960\n",
      "mouvement 177\n",
      "880\n",
      "mouvement 186\n",
      "970\n",
      "mouvement 195\n",
      "882\n",
      "mouvement 204\n",
      "974\n",
      "mouvement 213\n",
      "887\n",
      "mouvement 222\n",
      "980\n",
      "mouvement 231\n",
      "893\n",
      "mouvement 240\n",
      "986\n",
      "mouvement 249\n",
      "898\n",
      "mouvement 258\n",
      "990\n",
      "mouvement 267\n",
      "900\n",
      "mouvement 276\n",
      "1000\n",
      "player_first\n"
     ]
    }
   ],
   "source": [
    "while (player_first.score  < 1000) and (player_second.score < 1000):\n",
    "    player_first.play_once(dice)\n",
    "    \n",
    "    if player_first.score >= 1000:\n",
    "        print('player_first')\n",
    "        break\n",
    "        \n",
    "    player_second.play_once(dice)\n",
    "    "
   ]
  },
  {
   "cell_type": "code",
   "execution_count": 26,
   "id": "d8e417e0",
   "metadata": {
    "ExecuteTime": {
     "end_time": "2021-12-21T06:26:32.910082Z",
     "start_time": "2021-12-21T06:26:32.905426Z"
    }
   },
   "outputs": [
    {
     "data": {
      "text/plain": [
       "893700"
      ]
     },
     "execution_count": 26,
     "metadata": {},
     "output_type": "execute_result"
    }
   ],
   "source": [
    "player_second.score * dice.rolls"
   ]
  },
  {
   "cell_type": "code",
   "execution_count": 25,
   "id": "1fd08225",
   "metadata": {
    "ExecuteTime": {
     "end_time": "2021-12-21T06:26:24.002321Z",
     "start_time": "2021-12-21T06:26:23.998165Z"
    }
   },
   "outputs": [
    {
     "data": {
      "text/plain": [
       "993"
      ]
     },
     "execution_count": 25,
     "metadata": {},
     "output_type": "execute_result"
    }
   ],
   "source": [
    "dice.rolls"
   ]
  },
  {
   "cell_type": "code",
   "execution_count": 27,
   "id": "e96c96cf",
   "metadata": {
    "ExecuteTime": {
     "end_time": "2021-12-21T06:43:12.203183Z",
     "start_time": "2021-12-21T06:43:12.200039Z"
    }
   },
   "outputs": [],
   "source": [
    "class Score:\n",
    "    def __init__(self):\n",
    "        self.player1 = 0\n",
    "        self.player2 = 0"
   ]
  },
  {
   "cell_type": "code",
   "execution_count": 39,
   "id": "6a57cc3f",
   "metadata": {
    "ExecuteTime": {
     "end_time": "2021-12-21T06:53:15.329481Z",
     "start_time": "2021-12-21T06:53:15.325318Z"
    }
   },
   "outputs": [],
   "source": [
    "class Player:\n",
    "    def __init__(self, start):\n",
    "        self.position = start\n",
    "        self.score = 0\n",
    "        \n",
    "    def play_once(self, movement):\n",
    "\n",
    "        self.position = (self.position + movement) \n",
    "\n",
    "        while self.position > 10:\n",
    "                self.position = self.position - 10\n",
    "                \n",
    "        self.score += self.position\n",
    "\n",
    "    "
   ]
  },
  {
   "cell_type": "code",
   "execution_count": 51,
   "id": "f5f4ee43",
   "metadata": {
    "ExecuteTime": {
     "end_time": "2021-12-21T06:57:22.554329Z",
     "start_time": "2021-12-21T06:57:22.551314Z"
    }
   },
   "outputs": [],
   "source": [
    "score = Score()\n",
    "p1 = Player(4)\n",
    "p2 = Player(8)\n"
   ]
  },
  {
   "cell_type": "code",
   "execution_count": 50,
   "id": "bffccbe1",
   "metadata": {
    "ExecuteTime": {
     "end_time": "2021-12-21T06:57:20.030547Z",
     "start_time": "2021-12-21T06:57:20.025571Z"
    }
   },
   "outputs": [],
   "source": [
    "def dirac_game(player1, player2, score):\n",
    "    # boucler sur 1 2 3 \n",
    "    for i in range(1,4):\n",
    "    # bouger player 1\n",
    "        player1.play_once(i)\n",
    "\n",
    "            # check if win \n",
    "        if player1.score >= 21:\n",
    "            # add to score\n",
    "            score.player1 += 1\n",
    "            return 'win'\n",
    "        \n",
    "        for j in range(1,4):\n",
    "            player2.play_once(i)\n",
    "\n",
    "            # check if win add to score \n",
    "            if player2.score >= 21:\n",
    "                score.player2 += 1 \n",
    "                return 'win'\n",
    "                \n",
    "             \n",
    "            next_game = dirac_game(player1, player2, score)\n",
    "            if next_game == 'win':\n",
    "                continue\n",
    "                \n",
    "  \n",
    "\n",
    "    # no winner call itself\n",
    "    # if return is not none\n",
    "    # continue\n",
    "\n",
    "\n"
   ]
  },
  {
   "cell_type": "code",
   "execution_count": 52,
   "id": "6ca0385f",
   "metadata": {
    "ExecuteTime": {
     "end_time": "2021-12-21T06:57:26.442000Z",
     "start_time": "2021-12-21T06:57:26.437285Z"
    }
   },
   "outputs": [
    {
     "data": {
      "text/plain": [
       "'win'"
      ]
     },
     "execution_count": 52,
     "metadata": {},
     "output_type": "execute_result"
    }
   ],
   "source": [
    "dirac_game(p1, p2, score)"
   ]
  },
  {
   "cell_type": "code",
   "execution_count": 53,
   "id": "208a1a06",
   "metadata": {
    "ExecuteTime": {
     "end_time": "2021-12-21T06:57:28.441813Z",
     "start_time": "2021-12-21T06:57:28.437973Z"
    }
   },
   "outputs": [
    {
     "data": {
      "text/plain": [
       "3"
      ]
     },
     "execution_count": 53,
     "metadata": {},
     "output_type": "execute_result"
    }
   ],
   "source": [
    "score.player2"
   ]
  },
  {
   "cell_type": "code",
   "execution_count": 54,
   "id": "cdface35",
   "metadata": {
    "ExecuteTime": {
     "end_time": "2021-12-21T06:57:37.356330Z",
     "start_time": "2021-12-21T06:57:37.351802Z"
    }
   },
   "outputs": [
    {
     "data": {
      "text/plain": [
       "1"
      ]
     },
     "execution_count": 54,
     "metadata": {},
     "output_type": "execute_result"
    }
   ],
   "source": [
    "score.player1"
   ]
  },
  {
   "cell_type": "markdown",
   "id": "8185bbfe",
   "metadata": {},
   "source": [
    "# day 22\n"
   ]
  },
  {
   "cell_type": "code",
   "execution_count": 298,
   "id": "d7d3c1d9",
   "metadata": {
    "ExecuteTime": {
     "end_time": "2021-12-22T07:17:45.398375Z",
     "start_time": "2021-12-22T07:17:45.394290Z"
    }
   },
   "outputs": [],
   "source": [
    "day = 'day22'\n",
    "with open(f'test{day}' , 'r') as f:\n",
    "    file = f.read().splitlines()"
   ]
  },
  {
   "cell_type": "code",
   "execution_count": 299,
   "id": "aabb3137",
   "metadata": {
    "ExecuteTime": {
     "end_time": "2021-12-22T07:17:45.722520Z",
     "start_time": "2021-12-22T07:17:45.718825Z"
    }
   },
   "outputs": [],
   "source": [
    "file = pd.Series(file).str.split(' |=|,')"
   ]
  },
  {
   "cell_type": "code",
   "execution_count": 300,
   "id": "b54dfe7b",
   "metadata": {
    "ExecuteTime": {
     "end_time": "2021-12-22T07:17:45.977094Z",
     "start_time": "2021-12-22T07:17:45.967747Z"
    }
   },
   "outputs": [
    {
     "data": {
      "text/plain": [
       "0         [on, x, -20..26, y, -36..17, z, -47..7]\n",
       "1        [on, x, -20..33, y, -21..23, z, -26..28]\n",
       "2        [on, x, -22..28, y, -29..23, z, -38..16]\n",
       "3          [on, x, -46..7, y, -6..46, z, -50..-1]\n",
       "4          [on, x, -49..1, y, -3..46, z, -24..28]\n",
       "5          [on, x, 2..47, y, -22..22, z, -23..27]\n",
       "6        [on, x, -27..23, y, -28..26, z, -21..29]\n",
       "7           [on, x, -39..5, y, -6..47, z, -3..44]\n",
       "8         [on, x, -30..21, y, -8..43, z, -13..34]\n",
       "9        [on, x, -22..26, y, -27..20, z, -29..19]\n",
       "10     [off, x, -48..-32, y, 26..41, z, -47..-37]\n",
       "11         [on, x, -12..35, y, 6..50, z, -50..-2]\n",
       "12    [off, x, -48..-32, y, -32..-16, z, -15..-5]\n",
       "13        [on, x, -18..26, y, -33..15, z, -7..46]\n",
       "14     [off, x, -40..-22, y, -38..-28, z, 23..41]\n",
       "15        [on, x, -16..35, y, -41..10, z, -47..6]\n",
       "16       [off, x, -32..-23, y, 11..30, z, -14..3]\n",
       "17        [on, x, -49..-5, y, -3..45, z, -29..18]\n",
       "18        [off, x, 18..30, y, -20..-8, z, -3..13]\n",
       "19         [on, x, -41..9, y, -7..43, z, -33..15]\n",
       "dtype: object"
      ]
     },
     "execution_count": 300,
     "metadata": {},
     "output_type": "execute_result"
    }
   ],
   "source": [
    "file"
   ]
  },
  {
   "cell_type": "code",
   "execution_count": 301,
   "id": "550d043a",
   "metadata": {
    "ExecuteTime": {
     "end_time": "2021-12-22T07:17:46.339393Z",
     "start_time": "2021-12-22T07:17:46.334916Z"
    }
   },
   "outputs": [],
   "source": [
    "def to_tuple(string):\n",
    "    string = string.split('..')\n",
    "    return (int(string[0]), int(string[1]))\n",
    "\n",
    "def map_pattern(x):\n",
    "    x = [elm for elm in x if elm not in ['x', 'y', 'z']] \n",
    "    x = [to_tuple(elm) if '..' in elm else elm for elm in x]\n",
    "    return x"
   ]
  },
  {
   "cell_type": "code",
   "execution_count": 302,
   "id": "8112ce11",
   "metadata": {
    "ExecuteTime": {
     "end_time": "2021-12-22T07:17:47.146146Z",
     "start_time": "2021-12-22T07:17:47.143039Z"
    }
   },
   "outputs": [],
   "source": [
    "data = file.apply(map_pattern)"
   ]
  },
  {
   "cell_type": "code",
   "execution_count": 303,
   "id": "25b6cfab",
   "metadata": {
    "ExecuteTime": {
     "end_time": "2021-12-22T07:17:47.834508Z",
     "start_time": "2021-12-22T07:17:47.816161Z"
    }
   },
   "outputs": [
    {
     "data": {
      "text/plain": [
       "0         [on, (-20, 26), (-36, 17), (-47, 7)]\n",
       "1        [on, (-20, 33), (-21, 23), (-26, 28)]\n",
       "2        [on, (-22, 28), (-29, 23), (-38, 16)]\n",
       "3          [on, (-46, 7), (-6, 46), (-50, -1)]\n",
       "4          [on, (-49, 1), (-3, 46), (-24, 28)]\n",
       "5          [on, (2, 47), (-22, 22), (-23, 27)]\n",
       "6        [on, (-27, 23), (-28, 26), (-21, 29)]\n",
       "7           [on, (-39, 5), (-6, 47), (-3, 44)]\n",
       "8         [on, (-30, 21), (-8, 43), (-13, 34)]\n",
       "9        [on, (-22, 26), (-27, 20), (-29, 19)]\n",
       "10     [off, (-48, -32), (26, 41), (-47, -37)]\n",
       "11         [on, (-12, 35), (6, 50), (-50, -2)]\n",
       "12    [off, (-48, -32), (-32, -16), (-15, -5)]\n",
       "13        [on, (-18, 26), (-33, 15), (-7, 46)]\n",
       "14     [off, (-40, -22), (-38, -28), (23, 41)]\n",
       "15        [on, (-16, 35), (-41, 10), (-47, 6)]\n",
       "16       [off, (-32, -23), (11, 30), (-14, 3)]\n",
       "17        [on, (-49, -5), (-3, 45), (-29, 18)]\n",
       "18        [off, (18, 30), (-20, -8), (-3, 13)]\n",
       "19         [on, (-41, 9), (-7, 43), (-33, 15)]\n",
       "dtype: object"
      ]
     },
     "execution_count": 303,
     "metadata": {},
     "output_type": "execute_result"
    }
   ],
   "source": [
    "data"
   ]
  },
  {
   "cell_type": "code",
   "execution_count": 304,
   "id": "c2d8714f",
   "metadata": {
    "ExecuteTime": {
     "end_time": "2021-12-22T07:17:50.180355Z",
     "start_time": "2021-12-22T07:17:50.176533Z"
    }
   },
   "outputs": [],
   "source": [
    "from itertools import product\n",
    "def get_single_range(tup):\n",
    "    start = tup[0]\n",
    "    stop = tup[1]+1\n",
    "    return list(range(start, stop))\n",
    "\n",
    "def get_ranges(tuples):\n",
    "    ranges = [get_single_range(tup) for tup in tuples]\n",
    "    for i in product(*ranges):\n",
    "        yield i"
   ]
  },
  {
   "cell_type": "code",
   "execution_count": 282,
   "id": "fc401663",
   "metadata": {
    "ExecuteTime": {
     "end_time": "2021-12-22T07:15:19.873346Z",
     "start_time": "2021-12-22T07:15:19.868182Z"
    }
   },
   "outputs": [],
   "source": [
    "from dataclasses import dataclass\n",
    "@dataclass\n",
    "class Cube:\n",
    "    def __init__(self, status, position):\n",
    "        self.coordo = position\n",
    "        self.on = (status == 'on')\n",
    "        \n",
    "    def switch(self, other):\n",
    "        other.on = self.on\n",
    "        #return other\n",
    "        \n",
    "    def __eq__(self, other):\n",
    "        return (self.coordo == other.coordo)# & (self.on == other.on)\n",
    "    \n",
    "    \n",
    "    def __repr__(self):\n",
    "        return f'[{self.coordo}, {self.on}]'"
   ]
  },
  {
   "cell_type": "code",
   "execution_count": 283,
   "id": "b0053d42",
   "metadata": {
    "ExecuteTime": {
     "end_time": "2021-12-22T07:15:21.020015Z",
     "start_time": "2021-12-22T07:15:21.017110Z"
    }
   },
   "outputs": [],
   "source": [
    "def generate_cubes(line):\n",
    "    return [Cube(line[0], i) for i in get_ranges(line[1:])]"
   ]
  },
  {
   "cell_type": "code",
   "execution_count": 305,
   "id": "a5b3a403",
   "metadata": {
    "ExecuteTime": {
     "end_time": "2021-12-22T07:17:58.530543Z",
     "start_time": "2021-12-22T07:17:57.867404Z"
    }
   },
   "outputs": [
    {
     "data": {
      "text/plain": [
       "[[(-20, -36, -47), True],\n",
       " [(-20, -36, -46), True],\n",
       " [(-20, -36, -45), True],\n",
       " [(-20, -36, -44), True],\n",
       " [(-20, -36, -43), True],\n",
       " [(-20, -36, -42), True],\n",
       " [(-20, -36, -41), True],\n",
       " [(-20, -36, -40), True],\n",
       " [(-20, -36, -39), True],\n",
       " [(-20, -36, -38), True],\n",
       " [(-20, -36, -37), True],\n",
       " [(-20, -36, -36), True],\n",
       " [(-20, -36, -35), True],\n",
       " [(-20, -36, -34), True],\n",
       " [(-20, -36, -33), True],\n",
       " [(-20, -36, -32), True],\n",
       " [(-20, -36, -31), True],\n",
       " [(-20, -36, -30), True],\n",
       " [(-20, -36, -29), True],\n",
       " [(-20, -36, -28), True],\n",
       " [(-20, -36, -27), True],\n",
       " [(-20, -36, -26), True],\n",
       " [(-20, -36, -25), True],\n",
       " [(-20, -36, -24), True],\n",
       " [(-20, -36, -23), True],\n",
       " [(-20, -36, -22), True],\n",
       " [(-20, -36, -21), True],\n",
       " [(-20, -36, -20), True],\n",
       " [(-20, -36, -19), True],\n",
       " [(-20, -36, -18), True],\n",
       " [(-20, -36, -17), True],\n",
       " [(-20, -36, -16), True],\n",
       " [(-20, -36, -15), True],\n",
       " [(-20, -36, -14), True],\n",
       " [(-20, -36, -13), True],\n",
       " [(-20, -36, -12), True],\n",
       " [(-20, -36, -11), True],\n",
       " [(-20, -36, -10), True],\n",
       " [(-20, -36, -9), True],\n",
       " [(-20, -36, -8), True],\n",
       " [(-20, -36, -7), True],\n",
       " [(-20, -36, -6), True],\n",
       " [(-20, -36, -5), True],\n",
       " [(-20, -36, -4), True],\n",
       " [(-20, -36, -3), True],\n",
       " [(-20, -36, -2), True],\n",
       " [(-20, -36, -1), True],\n",
       " [(-20, -36, 0), True],\n",
       " [(-20, -36, 1), True],\n",
       " [(-20, -36, 2), True],\n",
       " [(-20, -36, 3), True],\n",
       " [(-20, -36, 4), True],\n",
       " [(-20, -36, 5), True],\n",
       " [(-20, -36, 6), True],\n",
       " [(-20, -36, 7), True],\n",
       " [(-20, -35, -47), True],\n",
       " [(-20, -35, -46), True],\n",
       " [(-20, -35, -45), True],\n",
       " [(-20, -35, -44), True],\n",
       " [(-20, -35, -43), True],\n",
       " [(-20, -35, -42), True],\n",
       " [(-20, -35, -41), True],\n",
       " [(-20, -35, -40), True],\n",
       " [(-20, -35, -39), True],\n",
       " [(-20, -35, -38), True],\n",
       " [(-20, -35, -37), True],\n",
       " [(-20, -35, -36), True],\n",
       " [(-20, -35, -35), True],\n",
       " [(-20, -35, -34), True],\n",
       " [(-20, -35, -33), True],\n",
       " [(-20, -35, -32), True],\n",
       " [(-20, -35, -31), True],\n",
       " [(-20, -35, -30), True],\n",
       " [(-20, -35, -29), True],\n",
       " [(-20, -35, -28), True],\n",
       " [(-20, -35, -27), True],\n",
       " [(-20, -35, -26), True],\n",
       " [(-20, -35, -25), True],\n",
       " [(-20, -35, -24), True],\n",
       " [(-20, -35, -23), True],\n",
       " [(-20, -35, -22), True],\n",
       " [(-20, -35, -21), True],\n",
       " [(-20, -35, -20), True],\n",
       " [(-20, -35, -19), True],\n",
       " [(-20, -35, -18), True],\n",
       " [(-20, -35, -17), True],\n",
       " [(-20, -35, -16), True],\n",
       " [(-20, -35, -15), True],\n",
       " [(-20, -35, -14), True],\n",
       " [(-20, -35, -13), True],\n",
       " [(-20, -35, -12), True],\n",
       " [(-20, -35, -11), True],\n",
       " [(-20, -35, -10), True],\n",
       " [(-20, -35, -9), True],\n",
       " [(-20, -35, -8), True],\n",
       " [(-20, -35, -7), True],\n",
       " [(-20, -35, -6), True],\n",
       " [(-20, -35, -5), True],\n",
       " [(-20, -35, -4), True],\n",
       " [(-20, -35, -3), True],\n",
       " [(-20, -35, -2), True],\n",
       " [(-20, -35, -1), True],\n",
       " [(-20, -35, 0), True],\n",
       " [(-20, -35, 1), True],\n",
       " [(-20, -35, 2), True],\n",
       " [(-20, -35, 3), True],\n",
       " [(-20, -35, 4), True],\n",
       " [(-20, -35, 5), True],\n",
       " [(-20, -35, 6), True],\n",
       " [(-20, -35, 7), True],\n",
       " [(-20, -34, -47), True],\n",
       " [(-20, -34, -46), True],\n",
       " [(-20, -34, -45), True],\n",
       " [(-20, -34, -44), True],\n",
       " [(-20, -34, -43), True],\n",
       " [(-20, -34, -42), True],\n",
       " [(-20, -34, -41), True],\n",
       " [(-20, -34, -40), True],\n",
       " [(-20, -34, -39), True],\n",
       " [(-20, -34, -38), True],\n",
       " [(-20, -34, -37), True],\n",
       " [(-20, -34, -36), True],\n",
       " [(-20, -34, -35), True],\n",
       " [(-20, -34, -34), True],\n",
       " [(-20, -34, -33), True],\n",
       " [(-20, -34, -32), True],\n",
       " [(-20, -34, -31), True],\n",
       " [(-20, -34, -30), True],\n",
       " [(-20, -34, -29), True],\n",
       " [(-20, -34, -28), True],\n",
       " [(-20, -34, -27), True],\n",
       " [(-20, -34, -26), True],\n",
       " [(-20, -34, -25), True],\n",
       " [(-20, -34, -24), True],\n",
       " [(-20, -34, -23), True],\n",
       " [(-20, -34, -22), True],\n",
       " [(-20, -34, -21), True],\n",
       " [(-20, -34, -20), True],\n",
       " [(-20, -34, -19), True],\n",
       " [(-20, -34, -18), True],\n",
       " [(-20, -34, -17), True],\n",
       " [(-20, -34, -16), True],\n",
       " [(-20, -34, -15), True],\n",
       " [(-20, -34, -14), True],\n",
       " [(-20, -34, -13), True],\n",
       " [(-20, -34, -12), True],\n",
       " [(-20, -34, -11), True],\n",
       " [(-20, -34, -10), True],\n",
       " [(-20, -34, -9), True],\n",
       " [(-20, -34, -8), True],\n",
       " [(-20, -34, -7), True],\n",
       " [(-20, -34, -6), True],\n",
       " [(-20, -34, -5), True],\n",
       " [(-20, -34, -4), True],\n",
       " [(-20, -34, -3), True],\n",
       " [(-20, -34, -2), True],\n",
       " [(-20, -34, -1), True],\n",
       " [(-20, -34, 0), True],\n",
       " [(-20, -34, 1), True],\n",
       " [(-20, -34, 2), True],\n",
       " [(-20, -34, 3), True],\n",
       " [(-20, -34, 4), True],\n",
       " [(-20, -34, 5), True],\n",
       " [(-20, -34, 6), True],\n",
       " [(-20, -34, 7), True],\n",
       " [(-20, -33, -47), True],\n",
       " [(-20, -33, -46), True],\n",
       " [(-20, -33, -45), True],\n",
       " [(-20, -33, -44), True],\n",
       " [(-20, -33, -43), True],\n",
       " [(-20, -33, -42), True],\n",
       " [(-20, -33, -41), True],\n",
       " [(-20, -33, -40), True],\n",
       " [(-20, -33, -39), True],\n",
       " [(-20, -33, -38), True],\n",
       " [(-20, -33, -37), True],\n",
       " [(-20, -33, -36), True],\n",
       " [(-20, -33, -35), True],\n",
       " [(-20, -33, -34), True],\n",
       " [(-20, -33, -33), True],\n",
       " [(-20, -33, -32), True],\n",
       " [(-20, -33, -31), True],\n",
       " [(-20, -33, -30), True],\n",
       " [(-20, -33, -29), True],\n",
       " [(-20, -33, -28), True],\n",
       " [(-20, -33, -27), True],\n",
       " [(-20, -33, -26), True],\n",
       " [(-20, -33, -25), True],\n",
       " [(-20, -33, -24), True],\n",
       " [(-20, -33, -23), True],\n",
       " [(-20, -33, -22), True],\n",
       " [(-20, -33, -21), True],\n",
       " [(-20, -33, -20), True],\n",
       " [(-20, -33, -19), True],\n",
       " [(-20, -33, -18), True],\n",
       " [(-20, -33, -17), True],\n",
       " [(-20, -33, -16), True],\n",
       " [(-20, -33, -15), True],\n",
       " [(-20, -33, -14), True],\n",
       " [(-20, -33, -13), True],\n",
       " [(-20, -33, -12), True],\n",
       " [(-20, -33, -11), True],\n",
       " [(-20, -33, -10), True],\n",
       " [(-20, -33, -9), True],\n",
       " [(-20, -33, -8), True],\n",
       " [(-20, -33, -7), True],\n",
       " [(-20, -33, -6), True],\n",
       " [(-20, -33, -5), True],\n",
       " [(-20, -33, -4), True],\n",
       " [(-20, -33, -3), True],\n",
       " [(-20, -33, -2), True],\n",
       " [(-20, -33, -1), True],\n",
       " [(-20, -33, 0), True],\n",
       " [(-20, -33, 1), True],\n",
       " [(-20, -33, 2), True],\n",
       " [(-20, -33, 3), True],\n",
       " [(-20, -33, 4), True],\n",
       " [(-20, -33, 5), True],\n",
       " [(-20, -33, 6), True],\n",
       " [(-20, -33, 7), True],\n",
       " [(-20, -32, -47), True],\n",
       " [(-20, -32, -46), True],\n",
       " [(-20, -32, -45), True],\n",
       " [(-20, -32, -44), True],\n",
       " [(-20, -32, -43), True],\n",
       " [(-20, -32, -42), True],\n",
       " [(-20, -32, -41), True],\n",
       " [(-20, -32, -40), True],\n",
       " [(-20, -32, -39), True],\n",
       " [(-20, -32, -38), True],\n",
       " [(-20, -32, -37), True],\n",
       " [(-20, -32, -36), True],\n",
       " [(-20, -32, -35), True],\n",
       " [(-20, -32, -34), True],\n",
       " [(-20, -32, -33), True],\n",
       " [(-20, -32, -32), True],\n",
       " [(-20, -32, -31), True],\n",
       " [(-20, -32, -30), True],\n",
       " [(-20, -32, -29), True],\n",
       " [(-20, -32, -28), True],\n",
       " [(-20, -32, -27), True],\n",
       " [(-20, -32, -26), True],\n",
       " [(-20, -32, -25), True],\n",
       " [(-20, -32, -24), True],\n",
       " [(-20, -32, -23), True],\n",
       " [(-20, -32, -22), True],\n",
       " [(-20, -32, -21), True],\n",
       " [(-20, -32, -20), True],\n",
       " [(-20, -32, -19), True],\n",
       " [(-20, -32, -18), True],\n",
       " [(-20, -32, -17), True],\n",
       " [(-20, -32, -16), True],\n",
       " [(-20, -32, -15), True],\n",
       " [(-20, -32, -14), True],\n",
       " [(-20, -32, -13), True],\n",
       " [(-20, -32, -12), True],\n",
       " [(-20, -32, -11), True],\n",
       " [(-20, -32, -10), True],\n",
       " [(-20, -32, -9), True],\n",
       " [(-20, -32, -8), True],\n",
       " [(-20, -32, -7), True],\n",
       " [(-20, -32, -6), True],\n",
       " [(-20, -32, -5), True],\n",
       " [(-20, -32, -4), True],\n",
       " [(-20, -32, -3), True],\n",
       " [(-20, -32, -2), True],\n",
       " [(-20, -32, -1), True],\n",
       " [(-20, -32, 0), True],\n",
       " [(-20, -32, 1), True],\n",
       " [(-20, -32, 2), True],\n",
       " [(-20, -32, 3), True],\n",
       " [(-20, -32, 4), True],\n",
       " [(-20, -32, 5), True],\n",
       " [(-20, -32, 6), True],\n",
       " [(-20, -32, 7), True],\n",
       " [(-20, -31, -47), True],\n",
       " [(-20, -31, -46), True],\n",
       " [(-20, -31, -45), True],\n",
       " [(-20, -31, -44), True],\n",
       " [(-20, -31, -43), True],\n",
       " [(-20, -31, -42), True],\n",
       " [(-20, -31, -41), True],\n",
       " [(-20, -31, -40), True],\n",
       " [(-20, -31, -39), True],\n",
       " [(-20, -31, -38), True],\n",
       " [(-20, -31, -37), True],\n",
       " [(-20, -31, -36), True],\n",
       " [(-20, -31, -35), True],\n",
       " [(-20, -31, -34), True],\n",
       " [(-20, -31, -33), True],\n",
       " [(-20, -31, -32), True],\n",
       " [(-20, -31, -31), True],\n",
       " [(-20, -31, -30), True],\n",
       " [(-20, -31, -29), True],\n",
       " [(-20, -31, -28), True],\n",
       " [(-20, -31, -27), True],\n",
       " [(-20, -31, -26), True],\n",
       " [(-20, -31, -25), True],\n",
       " [(-20, -31, -24), True],\n",
       " [(-20, -31, -23), True],\n",
       " [(-20, -31, -22), True],\n",
       " [(-20, -31, -21), True],\n",
       " [(-20, -31, -20), True],\n",
       " [(-20, -31, -19), True],\n",
       " [(-20, -31, -18), True],\n",
       " [(-20, -31, -17), True],\n",
       " [(-20, -31, -16), True],\n",
       " [(-20, -31, -15), True],\n",
       " [(-20, -31, -14), True],\n",
       " [(-20, -31, -13), True],\n",
       " [(-20, -31, -12), True],\n",
       " [(-20, -31, -11), True],\n",
       " [(-20, -31, -10), True],\n",
       " [(-20, -31, -9), True],\n",
       " [(-20, -31, -8), True],\n",
       " [(-20, -31, -7), True],\n",
       " [(-20, -31, -6), True],\n",
       " [(-20, -31, -5), True],\n",
       " [(-20, -31, -4), True],\n",
       " [(-20, -31, -3), True],\n",
       " [(-20, -31, -2), True],\n",
       " [(-20, -31, -1), True],\n",
       " [(-20, -31, 0), True],\n",
       " [(-20, -31, 1), True],\n",
       " [(-20, -31, 2), True],\n",
       " [(-20, -31, 3), True],\n",
       " [(-20, -31, 4), True],\n",
       " [(-20, -31, 5), True],\n",
       " [(-20, -31, 6), True],\n",
       " [(-20, -31, 7), True],\n",
       " [(-20, -30, -47), True],\n",
       " [(-20, -30, -46), True],\n",
       " [(-20, -30, -45), True],\n",
       " [(-20, -30, -44), True],\n",
       " [(-20, -30, -43), True],\n",
       " [(-20, -30, -42), True],\n",
       " [(-20, -30, -41), True],\n",
       " [(-20, -30, -40), True],\n",
       " [(-20, -30, -39), True],\n",
       " [(-20, -30, -38), True],\n",
       " [(-20, -30, -37), True],\n",
       " [(-20, -30, -36), True],\n",
       " [(-20, -30, -35), True],\n",
       " [(-20, -30, -34), True],\n",
       " [(-20, -30, -33), True],\n",
       " [(-20, -30, -32), True],\n",
       " [(-20, -30, -31), True],\n",
       " [(-20, -30, -30), True],\n",
       " [(-20, -30, -29), True],\n",
       " [(-20, -30, -28), True],\n",
       " [(-20, -30, -27), True],\n",
       " [(-20, -30, -26), True],\n",
       " [(-20, -30, -25), True],\n",
       " [(-20, -30, -24), True],\n",
       " [(-20, -30, -23), True],\n",
       " [(-20, -30, -22), True],\n",
       " [(-20, -30, -21), True],\n",
       " [(-20, -30, -20), True],\n",
       " [(-20, -30, -19), True],\n",
       " [(-20, -30, -18), True],\n",
       " [(-20, -30, -17), True],\n",
       " [(-20, -30, -16), True],\n",
       " [(-20, -30, -15), True],\n",
       " [(-20, -30, -14), True],\n",
       " [(-20, -30, -13), True],\n",
       " [(-20, -30, -12), True],\n",
       " [(-20, -30, -11), True],\n",
       " [(-20, -30, -10), True],\n",
       " [(-20, -30, -9), True],\n",
       " [(-20, -30, -8), True],\n",
       " [(-20, -30, -7), True],\n",
       " [(-20, -30, -6), True],\n",
       " [(-20, -30, -5), True],\n",
       " [(-20, -30, -4), True],\n",
       " [(-20, -30, -3), True],\n",
       " [(-20, -30, -2), True],\n",
       " [(-20, -30, -1), True],\n",
       " [(-20, -30, 0), True],\n",
       " [(-20, -30, 1), True],\n",
       " [(-20, -30, 2), True],\n",
       " [(-20, -30, 3), True],\n",
       " [(-20, -30, 4), True],\n",
       " [(-20, -30, 5), True],\n",
       " [(-20, -30, 6), True],\n",
       " [(-20, -30, 7), True],\n",
       " [(-20, -29, -47), True],\n",
       " [(-20, -29, -46), True],\n",
       " [(-20, -29, -45), True],\n",
       " [(-20, -29, -44), True],\n",
       " [(-20, -29, -43), True],\n",
       " [(-20, -29, -42), True],\n",
       " [(-20, -29, -41), True],\n",
       " [(-20, -29, -40), True],\n",
       " [(-20, -29, -39), True],\n",
       " [(-20, -29, -38), True],\n",
       " [(-20, -29, -37), True],\n",
       " [(-20, -29, -36), True],\n",
       " [(-20, -29, -35), True],\n",
       " [(-20, -29, -34), True],\n",
       " [(-20, -29, -33), True],\n",
       " [(-20, -29, -32), True],\n",
       " [(-20, -29, -31), True],\n",
       " [(-20, -29, -30), True],\n",
       " [(-20, -29, -29), True],\n",
       " [(-20, -29, -28), True],\n",
       " [(-20, -29, -27), True],\n",
       " [(-20, -29, -26), True],\n",
       " [(-20, -29, -25), True],\n",
       " [(-20, -29, -24), True],\n",
       " [(-20, -29, -23), True],\n",
       " [(-20, -29, -22), True],\n",
       " [(-20, -29, -21), True],\n",
       " [(-20, -29, -20), True],\n",
       " [(-20, -29, -19), True],\n",
       " [(-20, -29, -18), True],\n",
       " [(-20, -29, -17), True],\n",
       " [(-20, -29, -16), True],\n",
       " [(-20, -29, -15), True],\n",
       " [(-20, -29, -14), True],\n",
       " [(-20, -29, -13), True],\n",
       " [(-20, -29, -12), True],\n",
       " [(-20, -29, -11), True],\n",
       " [(-20, -29, -10), True],\n",
       " [(-20, -29, -9), True],\n",
       " [(-20, -29, -8), True],\n",
       " [(-20, -29, -7), True],\n",
       " [(-20, -29, -6), True],\n",
       " [(-20, -29, -5), True],\n",
       " [(-20, -29, -4), True],\n",
       " [(-20, -29, -3), True],\n",
       " [(-20, -29, -2), True],\n",
       " [(-20, -29, -1), True],\n",
       " [(-20, -29, 0), True],\n",
       " [(-20, -29, 1), True],\n",
       " [(-20, -29, 2), True],\n",
       " [(-20, -29, 3), True],\n",
       " [(-20, -29, 4), True],\n",
       " [(-20, -29, 5), True],\n",
       " [(-20, -29, 6), True],\n",
       " [(-20, -29, 7), True],\n",
       " [(-20, -28, -47), True],\n",
       " [(-20, -28, -46), True],\n",
       " [(-20, -28, -45), True],\n",
       " [(-20, -28, -44), True],\n",
       " [(-20, -28, -43), True],\n",
       " [(-20, -28, -42), True],\n",
       " [(-20, -28, -41), True],\n",
       " [(-20, -28, -40), True],\n",
       " [(-20, -28, -39), True],\n",
       " [(-20, -28, -38), True],\n",
       " [(-20, -28, -37), True],\n",
       " [(-20, -28, -36), True],\n",
       " [(-20, -28, -35), True],\n",
       " [(-20, -28, -34), True],\n",
       " [(-20, -28, -33), True],\n",
       " [(-20, -28, -32), True],\n",
       " [(-20, -28, -31), True],\n",
       " [(-20, -28, -30), True],\n",
       " [(-20, -28, -29), True],\n",
       " [(-20, -28, -28), True],\n",
       " [(-20, -28, -27), True],\n",
       " [(-20, -28, -26), True],\n",
       " [(-20, -28, -25), True],\n",
       " [(-20, -28, -24), True],\n",
       " [(-20, -28, -23), True],\n",
       " [(-20, -28, -22), True],\n",
       " [(-20, -28, -21), True],\n",
       " [(-20, -28, -20), True],\n",
       " [(-20, -28, -19), True],\n",
       " [(-20, -28, -18), True],\n",
       " [(-20, -28, -17), True],\n",
       " [(-20, -28, -16), True],\n",
       " [(-20, -28, -15), True],\n",
       " [(-20, -28, -14), True],\n",
       " [(-20, -28, -13), True],\n",
       " [(-20, -28, -12), True],\n",
       " [(-20, -28, -11), True],\n",
       " [(-20, -28, -10), True],\n",
       " [(-20, -28, -9), True],\n",
       " [(-20, -28, -8), True],\n",
       " [(-20, -28, -7), True],\n",
       " [(-20, -28, -6), True],\n",
       " [(-20, -28, -5), True],\n",
       " [(-20, -28, -4), True],\n",
       " [(-20, -28, -3), True],\n",
       " [(-20, -28, -2), True],\n",
       " [(-20, -28, -1), True],\n",
       " [(-20, -28, 0), True],\n",
       " [(-20, -28, 1), True],\n",
       " [(-20, -28, 2), True],\n",
       " [(-20, -28, 3), True],\n",
       " [(-20, -28, 4), True],\n",
       " [(-20, -28, 5), True],\n",
       " [(-20, -28, 6), True],\n",
       " [(-20, -28, 7), True],\n",
       " [(-20, -27, -47), True],\n",
       " [(-20, -27, -46), True],\n",
       " [(-20, -27, -45), True],\n",
       " [(-20, -27, -44), True],\n",
       " [(-20, -27, -43), True],\n",
       " [(-20, -27, -42), True],\n",
       " [(-20, -27, -41), True],\n",
       " [(-20, -27, -40), True],\n",
       " [(-20, -27, -39), True],\n",
       " [(-20, -27, -38), True],\n",
       " [(-20, -27, -37), True],\n",
       " [(-20, -27, -36), True],\n",
       " [(-20, -27, -35), True],\n",
       " [(-20, -27, -34), True],\n",
       " [(-20, -27, -33), True],\n",
       " [(-20, -27, -32), True],\n",
       " [(-20, -27, -31), True],\n",
       " [(-20, -27, -30), True],\n",
       " [(-20, -27, -29), True],\n",
       " [(-20, -27, -28), True],\n",
       " [(-20, -27, -27), True],\n",
       " [(-20, -27, -26), True],\n",
       " [(-20, -27, -25), True],\n",
       " [(-20, -27, -24), True],\n",
       " [(-20, -27, -23), True],\n",
       " [(-20, -27, -22), True],\n",
       " [(-20, -27, -21), True],\n",
       " [(-20, -27, -20), True],\n",
       " [(-20, -27, -19), True],\n",
       " [(-20, -27, -18), True],\n",
       " [(-20, -27, -17), True],\n",
       " [(-20, -27, -16), True],\n",
       " [(-20, -27, -15), True],\n",
       " [(-20, -27, -14), True],\n",
       " [(-20, -27, -13), True],\n",
       " [(-20, -27, -12), True],\n",
       " [(-20, -27, -11), True],\n",
       " [(-20, -27, -10), True],\n",
       " [(-20, -27, -9), True],\n",
       " [(-20, -27, -8), True],\n",
       " [(-20, -27, -7), True],\n",
       " [(-20, -27, -6), True],\n",
       " [(-20, -27, -5), True],\n",
       " [(-20, -27, -4), True],\n",
       " [(-20, -27, -3), True],\n",
       " [(-20, -27, -2), True],\n",
       " [(-20, -27, -1), True],\n",
       " [(-20, -27, 0), True],\n",
       " [(-20, -27, 1), True],\n",
       " [(-20, -27, 2), True],\n",
       " [(-20, -27, 3), True],\n",
       " [(-20, -27, 4), True],\n",
       " [(-20, -27, 5), True],\n",
       " [(-20, -27, 6), True],\n",
       " [(-20, -27, 7), True],\n",
       " [(-20, -26, -47), True],\n",
       " [(-20, -26, -46), True],\n",
       " [(-20, -26, -45), True],\n",
       " [(-20, -26, -44), True],\n",
       " [(-20, -26, -43), True],\n",
       " [(-20, -26, -42), True],\n",
       " [(-20, -26, -41), True],\n",
       " [(-20, -26, -40), True],\n",
       " [(-20, -26, -39), True],\n",
       " [(-20, -26, -38), True],\n",
       " [(-20, -26, -37), True],\n",
       " [(-20, -26, -36), True],\n",
       " [(-20, -26, -35), True],\n",
       " [(-20, -26, -34), True],\n",
       " [(-20, -26, -33), True],\n",
       " [(-20, -26, -32), True],\n",
       " [(-20, -26, -31), True],\n",
       " [(-20, -26, -30), True],\n",
       " [(-20, -26, -29), True],\n",
       " [(-20, -26, -28), True],\n",
       " [(-20, -26, -27), True],\n",
       " [(-20, -26, -26), True],\n",
       " [(-20, -26, -25), True],\n",
       " [(-20, -26, -24), True],\n",
       " [(-20, -26, -23), True],\n",
       " [(-20, -26, -22), True],\n",
       " [(-20, -26, -21), True],\n",
       " [(-20, -26, -20), True],\n",
       " [(-20, -26, -19), True],\n",
       " [(-20, -26, -18), True],\n",
       " [(-20, -26, -17), True],\n",
       " [(-20, -26, -16), True],\n",
       " [(-20, -26, -15), True],\n",
       " [(-20, -26, -14), True],\n",
       " [(-20, -26, -13), True],\n",
       " [(-20, -26, -12), True],\n",
       " [(-20, -26, -11), True],\n",
       " [(-20, -26, -10), True],\n",
       " [(-20, -26, -9), True],\n",
       " [(-20, -26, -8), True],\n",
       " [(-20, -26, -7), True],\n",
       " [(-20, -26, -6), True],\n",
       " [(-20, -26, -5), True],\n",
       " [(-20, -26, -4), True],\n",
       " [(-20, -26, -3), True],\n",
       " [(-20, -26, -2), True],\n",
       " [(-20, -26, -1), True],\n",
       " [(-20, -26, 0), True],\n",
       " [(-20, -26, 1), True],\n",
       " [(-20, -26, 2), True],\n",
       " [(-20, -26, 3), True],\n",
       " [(-20, -26, 4), True],\n",
       " [(-20, -26, 5), True],\n",
       " [(-20, -26, 6), True],\n",
       " [(-20, -26, 7), True],\n",
       " [(-20, -25, -47), True],\n",
       " [(-20, -25, -46), True],\n",
       " [(-20, -25, -45), True],\n",
       " [(-20, -25, -44), True],\n",
       " [(-20, -25, -43), True],\n",
       " [(-20, -25, -42), True],\n",
       " [(-20, -25, -41), True],\n",
       " [(-20, -25, -40), True],\n",
       " [(-20, -25, -39), True],\n",
       " [(-20, -25, -38), True],\n",
       " [(-20, -25, -37), True],\n",
       " [(-20, -25, -36), True],\n",
       " [(-20, -25, -35), True],\n",
       " [(-20, -25, -34), True],\n",
       " [(-20, -25, -33), True],\n",
       " [(-20, -25, -32), True],\n",
       " [(-20, -25, -31), True],\n",
       " [(-20, -25, -30), True],\n",
       " [(-20, -25, -29), True],\n",
       " [(-20, -25, -28), True],\n",
       " [(-20, -25, -27), True],\n",
       " [(-20, -25, -26), True],\n",
       " [(-20, -25, -25), True],\n",
       " [(-20, -25, -24), True],\n",
       " [(-20, -25, -23), True],\n",
       " [(-20, -25, -22), True],\n",
       " [(-20, -25, -21), True],\n",
       " [(-20, -25, -20), True],\n",
       " [(-20, -25, -19), True],\n",
       " [(-20, -25, -18), True],\n",
       " [(-20, -25, -17), True],\n",
       " [(-20, -25, -16), True],\n",
       " [(-20, -25, -15), True],\n",
       " [(-20, -25, -14), True],\n",
       " [(-20, -25, -13), True],\n",
       " [(-20, -25, -12), True],\n",
       " [(-20, -25, -11), True],\n",
       " [(-20, -25, -10), True],\n",
       " [(-20, -25, -9), True],\n",
       " [(-20, -25, -8), True],\n",
       " [(-20, -25, -7), True],\n",
       " [(-20, -25, -6), True],\n",
       " [(-20, -25, -5), True],\n",
       " [(-20, -25, -4), True],\n",
       " [(-20, -25, -3), True],\n",
       " [(-20, -25, -2), True],\n",
       " [(-20, -25, -1), True],\n",
       " [(-20, -25, 0), True],\n",
       " [(-20, -25, 1), True],\n",
       " [(-20, -25, 2), True],\n",
       " [(-20, -25, 3), True],\n",
       " [(-20, -25, 4), True],\n",
       " [(-20, -25, 5), True],\n",
       " [(-20, -25, 6), True],\n",
       " [(-20, -25, 7), True],\n",
       " [(-20, -24, -47), True],\n",
       " [(-20, -24, -46), True],\n",
       " [(-20, -24, -45), True],\n",
       " [(-20, -24, -44), True],\n",
       " [(-20, -24, -43), True],\n",
       " [(-20, -24, -42), True],\n",
       " [(-20, -24, -41), True],\n",
       " [(-20, -24, -40), True],\n",
       " [(-20, -24, -39), True],\n",
       " [(-20, -24, -38), True],\n",
       " [(-20, -24, -37), True],\n",
       " [(-20, -24, -36), True],\n",
       " [(-20, -24, -35), True],\n",
       " [(-20, -24, -34), True],\n",
       " [(-20, -24, -33), True],\n",
       " [(-20, -24, -32), True],\n",
       " [(-20, -24, -31), True],\n",
       " [(-20, -24, -30), True],\n",
       " [(-20, -24, -29), True],\n",
       " [(-20, -24, -28), True],\n",
       " [(-20, -24, -27), True],\n",
       " [(-20, -24, -26), True],\n",
       " [(-20, -24, -25), True],\n",
       " [(-20, -24, -24), True],\n",
       " [(-20, -24, -23), True],\n",
       " [(-20, -24, -22), True],\n",
       " [(-20, -24, -21), True],\n",
       " [(-20, -24, -20), True],\n",
       " [(-20, -24, -19), True],\n",
       " [(-20, -24, -18), True],\n",
       " [(-20, -24, -17), True],\n",
       " [(-20, -24, -16), True],\n",
       " [(-20, -24, -15), True],\n",
       " [(-20, -24, -14), True],\n",
       " [(-20, -24, -13), True],\n",
       " [(-20, -24, -12), True],\n",
       " [(-20, -24, -11), True],\n",
       " [(-20, -24, -10), True],\n",
       " [(-20, -24, -9), True],\n",
       " [(-20, -24, -8), True],\n",
       " [(-20, -24, -7), True],\n",
       " [(-20, -24, -6), True],\n",
       " [(-20, -24, -5), True],\n",
       " [(-20, -24, -4), True],\n",
       " [(-20, -24, -3), True],\n",
       " [(-20, -24, -2), True],\n",
       " [(-20, -24, -1), True],\n",
       " [(-20, -24, 0), True],\n",
       " [(-20, -24, 1), True],\n",
       " [(-20, -24, 2), True],\n",
       " [(-20, -24, 3), True],\n",
       " [(-20, -24, 4), True],\n",
       " [(-20, -24, 5), True],\n",
       " [(-20, -24, 6), True],\n",
       " [(-20, -24, 7), True],\n",
       " [(-20, -23, -47), True],\n",
       " [(-20, -23, -46), True],\n",
       " [(-20, -23, -45), True],\n",
       " [(-20, -23, -44), True],\n",
       " [(-20, -23, -43), True],\n",
       " [(-20, -23, -42), True],\n",
       " [(-20, -23, -41), True],\n",
       " [(-20, -23, -40), True],\n",
       " [(-20, -23, -39), True],\n",
       " [(-20, -23, -38), True],\n",
       " [(-20, -23, -37), True],\n",
       " [(-20, -23, -36), True],\n",
       " [(-20, -23, -35), True],\n",
       " [(-20, -23, -34), True],\n",
       " [(-20, -23, -33), True],\n",
       " [(-20, -23, -32), True],\n",
       " [(-20, -23, -31), True],\n",
       " [(-20, -23, -30), True],\n",
       " [(-20, -23, -29), True],\n",
       " [(-20, -23, -28), True],\n",
       " [(-20, -23, -27), True],\n",
       " [(-20, -23, -26), True],\n",
       " [(-20, -23, -25), True],\n",
       " [(-20, -23, -24), True],\n",
       " [(-20, -23, -23), True],\n",
       " [(-20, -23, -22), True],\n",
       " [(-20, -23, -21), True],\n",
       " [(-20, -23, -20), True],\n",
       " [(-20, -23, -19), True],\n",
       " [(-20, -23, -18), True],\n",
       " [(-20, -23, -17), True],\n",
       " [(-20, -23, -16), True],\n",
       " [(-20, -23, -15), True],\n",
       " [(-20, -23, -14), True],\n",
       " [(-20, -23, -13), True],\n",
       " [(-20, -23, -12), True],\n",
       " [(-20, -23, -11), True],\n",
       " [(-20, -23, -10), True],\n",
       " [(-20, -23, -9), True],\n",
       " [(-20, -23, -8), True],\n",
       " [(-20, -23, -7), True],\n",
       " [(-20, -23, -6), True],\n",
       " [(-20, -23, -5), True],\n",
       " [(-20, -23, -4), True],\n",
       " [(-20, -23, -3), True],\n",
       " [(-20, -23, -2), True],\n",
       " [(-20, -23, -1), True],\n",
       " [(-20, -23, 0), True],\n",
       " [(-20, -23, 1), True],\n",
       " [(-20, -23, 2), True],\n",
       " [(-20, -23, 3), True],\n",
       " [(-20, -23, 4), True],\n",
       " [(-20, -23, 5), True],\n",
       " [(-20, -23, 6), True],\n",
       " [(-20, -23, 7), True],\n",
       " [(-20, -22, -47), True],\n",
       " [(-20, -22, -46), True],\n",
       " [(-20, -22, -45), True],\n",
       " [(-20, -22, -44), True],\n",
       " [(-20, -22, -43), True],\n",
       " [(-20, -22, -42), True],\n",
       " [(-20, -22, -41), True],\n",
       " [(-20, -22, -40), True],\n",
       " [(-20, -22, -39), True],\n",
       " [(-20, -22, -38), True],\n",
       " [(-20, -22, -37), True],\n",
       " [(-20, -22, -36), True],\n",
       " [(-20, -22, -35), True],\n",
       " [(-20, -22, -34), True],\n",
       " [(-20, -22, -33), True],\n",
       " [(-20, -22, -32), True],\n",
       " [(-20, -22, -31), True],\n",
       " [(-20, -22, -30), True],\n",
       " [(-20, -22, -29), True],\n",
       " [(-20, -22, -28), True],\n",
       " [(-20, -22, -27), True],\n",
       " [(-20, -22, -26), True],\n",
       " [(-20, -22, -25), True],\n",
       " [(-20, -22, -24), True],\n",
       " [(-20, -22, -23), True],\n",
       " [(-20, -22, -22), True],\n",
       " [(-20, -22, -21), True],\n",
       " [(-20, -22, -20), True],\n",
       " [(-20, -22, -19), True],\n",
       " [(-20, -22, -18), True],\n",
       " [(-20, -22, -17), True],\n",
       " [(-20, -22, -16), True],\n",
       " [(-20, -22, -15), True],\n",
       " [(-20, -22, -14), True],\n",
       " [(-20, -22, -13), True],\n",
       " [(-20, -22, -12), True],\n",
       " [(-20, -22, -11), True],\n",
       " [(-20, -22, -10), True],\n",
       " [(-20, -22, -9), True],\n",
       " [(-20, -22, -8), True],\n",
       " [(-20, -22, -7), True],\n",
       " [(-20, -22, -6), True],\n",
       " [(-20, -22, -5), True],\n",
       " [(-20, -22, -4), True],\n",
       " [(-20, -22, -3), True],\n",
       " [(-20, -22, -2), True],\n",
       " [(-20, -22, -1), True],\n",
       " [(-20, -22, 0), True],\n",
       " [(-20, -22, 1), True],\n",
       " [(-20, -22, 2), True],\n",
       " [(-20, -22, 3), True],\n",
       " [(-20, -22, 4), True],\n",
       " [(-20, -22, 5), True],\n",
       " [(-20, -22, 6), True],\n",
       " [(-20, -22, 7), True],\n",
       " [(-20, -21, -47), True],\n",
       " [(-20, -21, -46), True],\n",
       " [(-20, -21, -45), True],\n",
       " [(-20, -21, -44), True],\n",
       " [(-20, -21, -43), True],\n",
       " [(-20, -21, -42), True],\n",
       " [(-20, -21, -41), True],\n",
       " [(-20, -21, -40), True],\n",
       " [(-20, -21, -39), True],\n",
       " [(-20, -21, -38), True],\n",
       " [(-20, -21, -37), True],\n",
       " [(-20, -21, -36), True],\n",
       " [(-20, -21, -35), True],\n",
       " [(-20, -21, -34), True],\n",
       " [(-20, -21, -33), True],\n",
       " [(-20, -21, -32), True],\n",
       " [(-20, -21, -31), True],\n",
       " [(-20, -21, -30), True],\n",
       " [(-20, -21, -29), True],\n",
       " [(-20, -21, -28), True],\n",
       " [(-20, -21, -27), True],\n",
       " [(-20, -21, -26), True],\n",
       " [(-20, -21, -25), True],\n",
       " [(-20, -21, -24), True],\n",
       " [(-20, -21, -23), True],\n",
       " [(-20, -21, -22), True],\n",
       " [(-20, -21, -21), True],\n",
       " [(-20, -21, -20), True],\n",
       " [(-20, -21, -19), True],\n",
       " [(-20, -21, -18), True],\n",
       " [(-20, -21, -17), True],\n",
       " [(-20, -21, -16), True],\n",
       " [(-20, -21, -15), True],\n",
       " [(-20, -21, -14), True],\n",
       " [(-20, -21, -13), True],\n",
       " [(-20, -21, -12), True],\n",
       " [(-20, -21, -11), True],\n",
       " [(-20, -21, -10), True],\n",
       " [(-20, -21, -9), True],\n",
       " [(-20, -21, -8), True],\n",
       " [(-20, -21, -7), True],\n",
       " [(-20, -21, -6), True],\n",
       " [(-20, -21, -5), True],\n",
       " [(-20, -21, -4), True],\n",
       " [(-20, -21, -3), True],\n",
       " [(-20, -21, -2), True],\n",
       " [(-20, -21, -1), True],\n",
       " [(-20, -21, 0), True],\n",
       " [(-20, -21, 1), True],\n",
       " [(-20, -21, 2), True],\n",
       " [(-20, -21, 3), True],\n",
       " [(-20, -21, 4), True],\n",
       " [(-20, -21, 5), True],\n",
       " [(-20, -21, 6), True],\n",
       " [(-20, -21, 7), True],\n",
       " [(-20, -20, -47), True],\n",
       " [(-20, -20, -46), True],\n",
       " [(-20, -20, -45), True],\n",
       " [(-20, -20, -44), True],\n",
       " [(-20, -20, -43), True],\n",
       " [(-20, -20, -42), True],\n",
       " [(-20, -20, -41), True],\n",
       " [(-20, -20, -40), True],\n",
       " [(-20, -20, -39), True],\n",
       " [(-20, -20, -38), True],\n",
       " [(-20, -20, -37), True],\n",
       " [(-20, -20, -36), True],\n",
       " [(-20, -20, -35), True],\n",
       " [(-20, -20, -34), True],\n",
       " [(-20, -20, -33), True],\n",
       " [(-20, -20, -32), True],\n",
       " [(-20, -20, -31), True],\n",
       " [(-20, -20, -30), True],\n",
       " [(-20, -20, -29), True],\n",
       " [(-20, -20, -28), True],\n",
       " [(-20, -20, -27), True],\n",
       " [(-20, -20, -26), True],\n",
       " [(-20, -20, -25), True],\n",
       " [(-20, -20, -24), True],\n",
       " [(-20, -20, -23), True],\n",
       " [(-20, -20, -22), True],\n",
       " [(-20, -20, -21), True],\n",
       " [(-20, -20, -20), True],\n",
       " [(-20, -20, -19), True],\n",
       " [(-20, -20, -18), True],\n",
       " [(-20, -20, -17), True],\n",
       " [(-20, -20, -16), True],\n",
       " [(-20, -20, -15), True],\n",
       " [(-20, -20, -14), True],\n",
       " [(-20, -20, -13), True],\n",
       " [(-20, -20, -12), True],\n",
       " [(-20, -20, -11), True],\n",
       " [(-20, -20, -10), True],\n",
       " [(-20, -20, -9), True],\n",
       " [(-20, -20, -8), True],\n",
       " [(-20, -20, -7), True],\n",
       " [(-20, -20, -6), True],\n",
       " [(-20, -20, -5), True],\n",
       " [(-20, -20, -4), True],\n",
       " [(-20, -20, -3), True],\n",
       " [(-20, -20, -2), True],\n",
       " [(-20, -20, -1), True],\n",
       " [(-20, -20, 0), True],\n",
       " [(-20, -20, 1), True],\n",
       " [(-20, -20, 2), True],\n",
       " [(-20, -20, 3), True],\n",
       " [(-20, -20, 4), True],\n",
       " [(-20, -20, 5), True],\n",
       " [(-20, -20, 6), True],\n",
       " [(-20, -20, 7), True],\n",
       " [(-20, -19, -47), True],\n",
       " [(-20, -19, -46), True],\n",
       " [(-20, -19, -45), True],\n",
       " [(-20, -19, -44), True],\n",
       " [(-20, -19, -43), True],\n",
       " [(-20, -19, -42), True],\n",
       " [(-20, -19, -41), True],\n",
       " [(-20, -19, -40), True],\n",
       " [(-20, -19, -39), True],\n",
       " [(-20, -19, -38), True],\n",
       " [(-20, -19, -37), True],\n",
       " [(-20, -19, -36), True],\n",
       " [(-20, -19, -35), True],\n",
       " [(-20, -19, -34), True],\n",
       " [(-20, -19, -33), True],\n",
       " [(-20, -19, -32), True],\n",
       " [(-20, -19, -31), True],\n",
       " [(-20, -19, -30), True],\n",
       " [(-20, -19, -29), True],\n",
       " [(-20, -19, -28), True],\n",
       " [(-20, -19, -27), True],\n",
       " [(-20, -19, -26), True],\n",
       " [(-20, -19, -25), True],\n",
       " [(-20, -19, -24), True],\n",
       " [(-20, -19, -23), True],\n",
       " [(-20, -19, -22), True],\n",
       " [(-20, -19, -21), True],\n",
       " [(-20, -19, -20), True],\n",
       " [(-20, -19, -19), True],\n",
       " [(-20, -19, -18), True],\n",
       " [(-20, -19, -17), True],\n",
       " [(-20, -19, -16), True],\n",
       " [(-20, -19, -15), True],\n",
       " [(-20, -19, -14), True],\n",
       " [(-20, -19, -13), True],\n",
       " [(-20, -19, -12), True],\n",
       " [(-20, -19, -11), True],\n",
       " [(-20, -19, -10), True],\n",
       " [(-20, -19, -9), True],\n",
       " [(-20, -19, -8), True],\n",
       " [(-20, -19, -7), True],\n",
       " [(-20, -19, -6), True],\n",
       " [(-20, -19, -5), True],\n",
       " [(-20, -19, -4), True],\n",
       " [(-20, -19, -3), True],\n",
       " [(-20, -19, -2), True],\n",
       " [(-20, -19, -1), True],\n",
       " [(-20, -19, 0), True],\n",
       " [(-20, -19, 1), True],\n",
       " [(-20, -19, 2), True],\n",
       " [(-20, -19, 3), True],\n",
       " [(-20, -19, 4), True],\n",
       " [(-20, -19, 5), True],\n",
       " [(-20, -19, 6), True],\n",
       " [(-20, -19, 7), True],\n",
       " [(-20, -18, -47), True],\n",
       " [(-20, -18, -46), True],\n",
       " [(-20, -18, -45), True],\n",
       " [(-20, -18, -44), True],\n",
       " [(-20, -18, -43), True],\n",
       " [(-20, -18, -42), True],\n",
       " [(-20, -18, -41), True],\n",
       " [(-20, -18, -40), True],\n",
       " [(-20, -18, -39), True],\n",
       " [(-20, -18, -38), True],\n",
       " ...]"
      ]
     },
     "execution_count": 305,
     "metadata": {},
     "output_type": "execute_result"
    }
   ],
   "source": [
    "test = generate_cubes(data[0])\n",
    "test"
   ]
  },
  {
   "cell_type": "code",
   "execution_count": 292,
   "id": "85a255a7",
   "metadata": {
    "ExecuteTime": {
     "end_time": "2021-12-22T07:16:24.055790Z",
     "start_time": "2021-12-22T07:16:24.053062Z"
    }
   },
   "outputs": [],
   "source": [
    "candidate = generate_cubes(data[1])"
   ]
  },
  {
   "cell_type": "code",
   "execution_count": 306,
   "id": "edc59c82",
   "metadata": {
    "ExecuteTime": {
     "end_time": "2021-12-22T07:23:43.319426Z",
     "start_time": "2021-12-22T07:18:05.992899Z"
    }
   },
   "outputs": [
    {
     "ename": "KeyboardInterrupt",
     "evalue": "",
     "output_type": "error",
     "traceback": [
      "\u001b[0;31m---------------------------------------------------------------------------\u001b[0m",
      "\u001b[0;31mKeyboardInterrupt\u001b[0m                         Traceback (most recent call last)",
      "\u001b[0;32m<ipython-input-306-4fccb4ba3599>\u001b[0m in \u001b[0;36m<module>\u001b[0;34m\u001b[0m\n\u001b[1;32m      2\u001b[0m     \u001b[0mcandidate\u001b[0m \u001b[0;34m=\u001b[0m \u001b[0mgenerate_cubes\u001b[0m\u001b[0;34m(\u001b[0m\u001b[0mline\u001b[0m\u001b[0;34m)\u001b[0m\u001b[0;34m\u001b[0m\u001b[0;34m\u001b[0m\u001b[0m\n\u001b[1;32m      3\u001b[0m     \u001b[0;32mfor\u001b[0m \u001b[0mc\u001b[0m \u001b[0;32min\u001b[0m \u001b[0mcandidate\u001b[0m\u001b[0;34m:\u001b[0m\u001b[0;34m\u001b[0m\u001b[0;34m\u001b[0m\u001b[0m\n\u001b[0;32m----> 4\u001b[0;31m         \u001b[0;32mif\u001b[0m \u001b[0mc\u001b[0m \u001b[0;32mnot\u001b[0m \u001b[0;32min\u001b[0m \u001b[0mtest\u001b[0m\u001b[0;34m:\u001b[0m\u001b[0;34m\u001b[0m\u001b[0;34m\u001b[0m\u001b[0m\n\u001b[0m\u001b[1;32m      5\u001b[0m             \u001b[0mtest\u001b[0m\u001b[0;34m.\u001b[0m\u001b[0mappend\u001b[0m\u001b[0;34m(\u001b[0m\u001b[0mc\u001b[0m\u001b[0;34m)\u001b[0m\u001b[0;34m\u001b[0m\u001b[0;34m\u001b[0m\u001b[0m\n\u001b[1;32m      6\u001b[0m \u001b[0;34m\u001b[0m\u001b[0m\n",
      "\u001b[0;32m<ipython-input-282-dfb64528a552>\u001b[0m in \u001b[0;36m__eq__\u001b[0;34m(self, other)\u001b[0m\n\u001b[1;32m     10\u001b[0m         \u001b[0;31m#return other\u001b[0m\u001b[0;34m\u001b[0m\u001b[0;34m\u001b[0m\u001b[0;34m\u001b[0m\u001b[0m\n\u001b[1;32m     11\u001b[0m \u001b[0;34m\u001b[0m\u001b[0m\n\u001b[0;32m---> 12\u001b[0;31m     \u001b[0;32mdef\u001b[0m \u001b[0m__eq__\u001b[0m\u001b[0;34m(\u001b[0m\u001b[0mself\u001b[0m\u001b[0;34m,\u001b[0m \u001b[0mother\u001b[0m\u001b[0;34m)\u001b[0m\u001b[0;34m:\u001b[0m\u001b[0;34m\u001b[0m\u001b[0;34m\u001b[0m\u001b[0m\n\u001b[0m\u001b[1;32m     13\u001b[0m         \u001b[0;32mreturn\u001b[0m \u001b[0;34m(\u001b[0m\u001b[0mself\u001b[0m\u001b[0;34m.\u001b[0m\u001b[0mcoordo\u001b[0m \u001b[0;34m==\u001b[0m \u001b[0mother\u001b[0m\u001b[0;34m.\u001b[0m\u001b[0mcoordo\u001b[0m\u001b[0;34m)\u001b[0m\u001b[0;31m# & (self.on == other.on)\u001b[0m\u001b[0;34m\u001b[0m\u001b[0;34m\u001b[0m\u001b[0m\n\u001b[1;32m     14\u001b[0m \u001b[0;34m\u001b[0m\u001b[0m\n",
      "\u001b[0;31mKeyboardInterrupt\u001b[0m: "
     ]
    }
   ],
   "source": [
    "for line in data[1:]:\n",
    "    candidate = generate_cubes(line)\n",
    "    for c in candidate:\n",
    "        if c not in test:\n",
    "            test.append(c)\n",
    "\n",
    "    for c in candidate:\n",
    "        for t in test:\n",
    "            if c == t:\n",
    "                c.switch(t)"
   ]
  },
  {
   "cell_type": "code",
   "execution_count": 297,
   "id": "f6ef5f67",
   "metadata": {
    "ExecuteTime": {
     "end_time": "2021-12-22T07:17:14.778882Z",
     "start_time": "2021-12-22T07:17:14.774047Z"
    }
   },
   "outputs": [
    {
     "data": {
      "text/plain": [
       "39"
      ]
     },
     "execution_count": 297,
     "metadata": {},
     "output_type": "execute_result"
    }
   ],
   "source": [
    "sum(map(lambda x: x.on, test))"
   ]
  },
  {
   "cell_type": "code",
   "execution_count": 176,
   "id": "49c954cd",
   "metadata": {
    "ExecuteTime": {
     "end_time": "2021-12-22T06:28:38.631387Z",
     "start_time": "2021-12-22T06:28:38.627602Z"
    }
   },
   "outputs": [
    {
     "data": {
      "text/plain": [
       "39"
      ]
     },
     "execution_count": 176,
     "metadata": {},
     "output_type": "execute_result"
    }
   ],
   "source": [
    "len(test)"
   ]
  },
  {
   "cell_type": "code",
   "execution_count": 308,
   "id": "b979b8e0",
   "metadata": {
    "ExecuteTime": {
     "end_time": "2021-12-22T07:24:23.078207Z",
     "start_time": "2021-12-22T07:24:23.069288Z"
    }
   },
   "outputs": [
    {
     "ename": "MemoryError",
     "evalue": "Unable to allocate 909. TiB for an array with shape (50000, 50000, 50000) and data type float64",
     "output_type": "error",
     "traceback": [
      "\u001b[0;31m---------------------------------------------------------------------------\u001b[0m",
      "\u001b[0;31mMemoryError\u001b[0m                               Traceback (most recent call last)",
      "\u001b[0;32m<ipython-input-308-370d8cedb5ff>\u001b[0m in \u001b[0;36m<module>\u001b[0;34m\u001b[0m\n\u001b[0;32m----> 1\u001b[0;31m \u001b[0mnp\u001b[0m\u001b[0;34m.\u001b[0m\u001b[0mzeros\u001b[0m\u001b[0;34m(\u001b[0m\u001b[0;34m(\u001b[0m\u001b[0;36m50000\u001b[0m\u001b[0;34m,\u001b[0m \u001b[0;36m50000\u001b[0m\u001b[0;34m,\u001b[0m \u001b[0;36m50000\u001b[0m\u001b[0;34m)\u001b[0m\u001b[0;34m)\u001b[0m\u001b[0;34m\u001b[0m\u001b[0;34m\u001b[0m\u001b[0m\n\u001b[0m",
      "\u001b[0;31mMemoryError\u001b[0m: Unable to allocate 909. TiB for an array with shape (50000, 50000, 50000) and data type float64"
     ]
    }
   ],
   "source": [
    "np.zeros((50000, 50000, 50000))"
   ]
  },
  {
   "cell_type": "code",
   "execution_count": null,
   "id": "aed2cd4a",
   "metadata": {},
   "outputs": [],
   "source": []
  }
 ],
 "metadata": {
  "kernelspec": {
   "display_name": "Python 3",
   "language": "python",
   "name": "python3"
  },
  "language_info": {
   "codemirror_mode": {
    "name": "ipython",
    "version": 3
   },
   "file_extension": ".py",
   "mimetype": "text/x-python",
   "name": "python",
   "nbconvert_exporter": "python",
   "pygments_lexer": "ipython3",
   "version": "3.7.12"
  },
  "toc": {
   "base_numbering": 1,
   "nav_menu": {},
   "number_sections": true,
   "sideBar": true,
   "skip_h1_title": false,
   "title_cell": "Table of Contents",
   "title_sidebar": "Contents",
   "toc_cell": false,
   "toc_position": {},
   "toc_section_display": true,
   "toc_window_display": true
  }
 },
 "nbformat": 4,
 "nbformat_minor": 5
}
