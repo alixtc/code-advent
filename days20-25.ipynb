{
 "cells": [
  {
   "cell_type": "code",
   "execution_count": 1,
   "id": "cab96d7e",
   "metadata": {
    "ExecuteTime": {
     "end_time": "2021-12-20T12:29:52.024424Z",
     "start_time": "2021-12-20T12:29:51.452122Z"
    }
   },
   "outputs": [],
   "source": [
    "import numpy as np\n",
    "import pandas as pd\n",
    "import matplotlib.pyplot as plt"
   ]
  },
  {
   "cell_type": "code",
   "execution_count": 3,
   "id": "57daff7c",
   "metadata": {
    "ExecuteTime": {
     "end_time": "2021-12-20T12:30:03.719753Z",
     "start_time": "2021-12-20T12:30:03.716185Z"
    }
   },
   "outputs": [],
   "source": [
    "day = 'day20'\n",
    "with open(f'test{day}' , 'r') as f:\n",
    "    file = f.read().splitlines()"
   ]
  },
  {
   "cell_type": "code",
   "execution_count": 263,
   "id": "6472a099",
   "metadata": {
    "ExecuteTime": {
     "end_time": "2021-12-20T07:36:13.643125Z",
     "start_time": "2021-12-20T07:36:13.636371Z"
    }
   },
   "outputs": [
    {
     "data": {
      "text/plain": [
       "array([[0, 0, 0, 0, 0, 0, 0, 0, 0, 0, 0, 0, 0, 0, 0],\n",
       "       [0, 0, 0, 0, 0, 0, 0, 0, 0, 0, 0, 0, 0, 0, 0],\n",
       "       [0, 0, 0, 0, 0, 0, 0, 0, 0, 0, 0, 0, 0, 0, 0],\n",
       "       [0, 0, 0, 0, 0, 0, 0, 0, 0, 0, 1, 0, 0, 0, 0],\n",
       "       [0, 0, 0, 0, 1, 0, 0, 1, 0, 1, 0, 0, 0, 0, 0],\n",
       "       [0, 0, 0, 1, 0, 1, 0, 0, 0, 1, 1, 1, 0, 0, 0],\n",
       "       [0, 0, 0, 1, 0, 0, 0, 1, 1, 0, 1, 0, 0, 0, 0],\n",
       "       [0, 0, 0, 1, 0, 0, 0, 0, 0, 1, 0, 1, 0, 0, 0],\n",
       "       [0, 0, 0, 0, 1, 0, 1, 1, 1, 1, 1, 0, 0, 0, 0],\n",
       "       [0, 0, 0, 0, 0, 1, 0, 1, 1, 1, 1, 1, 0, 0, 0],\n",
       "       [0, 0, 0, 0, 0, 0, 1, 1, 0, 1, 1, 0, 0, 0, 0],\n",
       "       [0, 0, 0, 0, 0, 0, 0, 1, 1, 1, 0, 0, 0, 0, 0],\n",
       "       [0, 0, 0, 0, 0, 0, 0, 0, 0, 0, 0, 0, 0, 0, 0],\n",
       "       [0, 0, 0, 0, 0, 0, 0, 0, 0, 0, 0, 0, 0, 0, 0],\n",
       "       [0, 0, 0, 0, 0, 0, 0, 0, 0, 0, 0, 0, 0, 0, 0]])"
      ]
     },
     "execution_count": 263,
     "metadata": {},
     "output_type": "execute_result"
    }
   ],
   "source": [
    "test2 =\"\"\"...............\n",
    "...............\n",
    "...............\n",
    "..........#....\n",
    "....#..#.#.....\n",
    "...#.#...###...\n",
    "...#...##.#....\n",
    "...#.....#.#...\n",
    "....#.#####....\n",
    ".....#.#####...\n",
    "......##.##....\n",
    ".......###.....\n",
    "...............\n",
    "...............\n",
    "...............\"\"\"\n",
    "test2 = pd.Series(test2.split('\\n'))\n",
    "test2 = test2.apply(map_pattern).to_list()\n",
    "test2 = np.array(test2)\n",
    "test2"
   ]
  },
  {
   "cell_type": "code",
   "execution_count": 4,
   "id": "d7093030",
   "metadata": {
    "ExecuteTime": {
     "end_time": "2021-12-20T12:30:05.712757Z",
     "start_time": "2021-12-20T12:30:05.709104Z"
    }
   },
   "outputs": [],
   "source": [
    "with open(f'{day}' , 'r') as f:\n",
    "    file = f.read().splitlines()"
   ]
  },
  {
   "cell_type": "code",
   "execution_count": 5,
   "id": "f963a130",
   "metadata": {
    "ExecuteTime": {
     "end_time": "2021-12-20T12:30:07.857245Z",
     "start_time": "2021-12-20T12:30:07.852384Z"
    }
   },
   "outputs": [],
   "source": [
    "file = pd.Series(file)\n",
    "file\n",
    "\n",
    "split = np.where(file == '')[0][0]\n",
    "\n",
    "image = file[split+1:]"
   ]
  },
  {
   "cell_type": "code",
   "execution_count": null,
   "id": "1e31afc7",
   "metadata": {},
   "outputs": [],
   "source": []
  },
  {
   "cell_type": "code",
   "execution_count": 6,
   "id": "46bcdea6",
   "metadata": {
    "ExecuteTime": {
     "end_time": "2021-12-20T12:30:08.603110Z",
     "start_time": "2021-12-20T12:30:08.593941Z"
    }
   },
   "outputs": [
    {
     "data": {
      "text/plain": [
       "'[1, 1, 0, 0, 1, 0, 1, 1, 1, 1, 0, 0, 1, 0, 1, 0, 1, 1, 0, 1, 1, 1, 1, 1, 1, 1, 0, 1, 1, 1, 1, 1, 1, 0, 1, 1, 1, 1, 1, 0, 0, 1, 0, 0, 0, 1, 1, 0, 1, 1, 1, 0, 0, 0, 0, 1, 0, 0, 1, 0, 1, 1, 0, 0, 1, 0, 0, 0, 0, 1, 0, 1, 0, 1, 1, 0, 1, 0, 1, 0, 1, 0, 0, 0, 1, 1, 1, 0, 0, 1, 1, 1, 0, 0, 1, 0, 1, 0, 0, 1, 0, 1, 1, 1, 1, 1, 0, 1, 0, 1, 0, 1, 1, 0, 0, 1, 1, 0, 1, 0, 1, 1, 1, 0, 1, 0, 0, 1, 1, 0, 1, 1, 1, 0, 1, 1, 1, 0, 0, 0, 1, 1, 1, 1, 0, 1, 1, 1, 1, 1, 0, 0, 0, 0, 1, 0, 0, 0, 0, 1, 0, 0, 1, 0, 1, 0, 0, 0, 1, 0, 1, 0, 1, 0, 1, 0, 1, 0, 0, 0, 1, 1, 1, 1, 1, 0, 0, 0, 1, 1, 0, 0, 1, 1, 1, 1, 0, 1, 1, 0, 1, 1, 0, 0, 0, 1, 0, 1, 1, 0, 1, 1, 1, 1, 1, 0, 0, 0, 0, 0, 0, 0, 0, 1, 0, 0, 1, 1, 1, 1, 1, 0, 0, 1, 1, 0, 1, 1, 0, 0, 1, 1, 1, 1, 1, 1, 1, 1, 1, 1, 1, 0, 0, 0, 0, 1, 0, 1, 1, 0, 1, 1, 1, 1, 1, 0, 1, 1, 0, 0, 1, 1, 1, 1, 1, 0, 0, 0, 1, 0, 0, 1, 0, 1, 0, 1, 1, 0, 0, 0, 1, 0, 1, 0, 1, 0, 0, 1, 0, 0, 0, 1, 1, 1, 1, 0, 0, 0, 0, 0, 0, 1, 0, 1, 0, 1, 1, 1, 1, 0, 0, 0, 0, 1, 1, 0, 1, 0, 1, 1, 0, 1, 1, 1, 1, 0, 0, 1, 1, 0, 0, 1, 1, 0, 1, 0, 0, 0, 0, 0, 0, 0, 1, 0, 0, 0, 1, 0, 1, 1, 1, 1, 1, 1, 1, 1, 1, 1, 1, 0, 0, 0, 0, 0, 1, 1, 1, 0, 1, 1, 1, 1, 1, 1, 1, 0, 0, 0, 0, 1, 1, 0, 1, 0, 1, 1, 1, 1, 1, 1, 1, 0, 0, 1, 0, 0, 0, 0, 0, 0, 0, 1, 1, 1, 0, 1, 1, 0, 0, 0, 0, 1, 0, 1, 0, 0, 1, 0, 0, 0, 0, 1, 1, 0, 0, 1, 0, 1, 1, 1, 0, 1, 0, 0, 1, 0, 1, 1, 1, 0, 1, 1, 1, 0, 1, 1, 0, 0, 1, 1, 0, 1, 0, 1, 0, 0, 0, 1, 0, 1, 0, 0, 0, 0, 0, 1, 1, 1, 0, 1, 0, 1, 0, 0, 0, 0, 1, 1, 1, 0, 0, 1, 0, 0, 0, 0, 0, 1, 1, 0, 1, 0, 1, 1, 1, 1, 1, 0, 0, 0, 0, 0]'"
      ]
     },
     "execution_count": 6,
     "metadata": {},
     "output_type": "execute_result"
    }
   ],
   "source": [
    "algo = file[:split]\n",
    "algo = ''.join(algo.to_list())\n",
    "algo = [char.replace('#',\"1\").replace('.', \"0\") for char in algo]\n",
    "algo = [int(char) for char in algo]\n",
    "str(algo)"
   ]
  },
  {
   "cell_type": "code",
   "execution_count": 7,
   "id": "a97c27dc",
   "metadata": {
    "ExecuteTime": {
     "end_time": "2021-12-20T12:30:10.153120Z",
     "start_time": "2021-12-20T12:30:10.149526Z"
    }
   },
   "outputs": [],
   "source": [
    "def map_pattern(x):\n",
    "    #x = x.split(\": \")[1]\n",
    "    #x = x.split(',')\n",
    "    x = x.replace('#',\"1\").replace('.', \"0\")\n",
    "    x = [int(i) for i in x]\n",
    "    #x = np.array(x)\n",
    "    #x = np.pad(a, [(1, 1), (0, 1)], mode='constant', constant_values=0)\n",
    "    return x"
   ]
  },
  {
   "cell_type": "code",
   "execution_count": 8,
   "id": "fe904401",
   "metadata": {
    "ExecuteTime": {
     "end_time": "2021-12-20T12:30:10.484455Z",
     "start_time": "2021-12-20T12:30:10.473611Z"
    }
   },
   "outputs": [
    {
     "data": {
      "text/plain": [
       "array([[1, 0, 1, ..., 1, 0, 0],\n",
       "       [0, 1, 0, ..., 0, 1, 0],\n",
       "       [0, 1, 1, ..., 0, 0, 0],\n",
       "       ...,\n",
       "       [1, 0, 0, ..., 1, 0, 0],\n",
       "       [1, 1, 0, ..., 0, 0, 1],\n",
       "       [1, 0, 0, ..., 1, 0, 0]])"
      ]
     },
     "execution_count": 8,
     "metadata": {},
     "output_type": "execute_result"
    }
   ],
   "source": [
    "data = image.apply(map_pattern).to_list()\n",
    "data = np.array(data)\n",
    "data"
   ]
  },
  {
   "cell_type": "code",
   "execution_count": 9,
   "id": "3cb252cc",
   "metadata": {
    "ExecuteTime": {
     "end_time": "2021-12-20T12:30:12.082153Z",
     "start_time": "2021-12-20T12:30:12.077260Z"
    }
   },
   "outputs": [
    {
     "data": {
      "text/plain": [
       "4947"
      ]
     },
     "execution_count": 9,
     "metadata": {},
     "output_type": "execute_result"
    }
   ],
   "source": [
    "data.sum()"
   ]
  },
  {
   "cell_type": "code",
   "execution_count": 10,
   "id": "20953cf4",
   "metadata": {
    "ExecuteTime": {
     "end_time": "2021-12-20T12:30:12.697555Z",
     "start_time": "2021-12-20T12:30:12.693631Z"
    }
   },
   "outputs": [],
   "source": [
    "def convert_kernel(img):\n",
    "    img = img.flatten().tolist()\n",
    "    img = ''.join([str(bit) for bit in img])\n",
    "    return img"
   ]
  },
  {
   "cell_type": "code",
   "execution_count": 11,
   "id": "8d98c39f",
   "metadata": {
    "ExecuteTime": {
     "end_time": "2021-12-20T12:30:13.547251Z",
     "start_time": "2021-12-20T12:30:13.542095Z"
    }
   },
   "outputs": [
    {
     "data": {
      "text/plain": [
       "(106, 106)"
      ]
     },
     "execution_count": 11,
     "metadata": {},
     "output_type": "execute_result"
    }
   ],
   "source": [
    "padded = np.pad(data, 3, mode='constant', constant_values=0)\n",
    "\n",
    "padded.shape"
   ]
  },
  {
   "cell_type": "code",
   "execution_count": 12,
   "id": "0de84139",
   "metadata": {
    "ExecuteTime": {
     "end_time": "2021-12-20T12:30:30.107300Z",
     "start_time": "2021-12-20T12:30:19.344906Z"
    }
   },
   "outputs": [],
   "source": [
    "for _ in range(25):\n",
    "    new_image = padded.copy()\n",
    "    for x in range(1, padded.shape[1]-1):\n",
    "        for y in range(1, padded.shape[1]-1):\n",
    "            kernel = padded[x-1:x+2, y-1:y+2]\n",
    "            decoder = int(convert_kernel(kernel), 2)\n",
    "            new_image[x, y] = algo[decoder]\n",
    "\n",
    "    #change first and last line    \n",
    "    new_image[0, :], new_image[-1, :] = 1, 1\n",
    "    new_image[:, 0], new_image[:, -1] = 1, 1\n",
    "    padded = new_image.copy()\n",
    "    padded = np.pad(padded, 2, mode='constant', constant_values=1)\n",
    "\n",
    "    new_image = padded.copy()\n",
    "    for x in range(1, padded.shape[1]-1):\n",
    "        for y in range(1, padded.shape[1]-1):\n",
    "            kernel = padded[x-1:x+2, y-1:y+2]\n",
    "            decoder = int(convert_kernel(kernel), 2)\n",
    "            new_image[x, y] = algo[decoder]\n",
    "\n",
    "    #change first and last line    \n",
    "    new_image[0, :], new_image[-1, :] = 0, 0\n",
    "    new_image[:, 0], new_image[:, -1] = 0, 0\n",
    "    padded = new_image.copy()\n",
    "    padded = np.pad(padded, 2, mode='constant', constant_values=0)"
   ]
  },
  {
   "cell_type": "code",
   "execution_count": null,
   "id": "b2855b7d",
   "metadata": {
    "ExecuteTime": {
     "end_time": "2021-12-20T07:20:49.900131Z",
     "start_time": "2021-12-20T07:20:49.897224Z"
    }
   },
   "outputs": [],
   "source": []
  },
  {
   "cell_type": "code",
   "execution_count": 13,
   "id": "3fb02751",
   "metadata": {
    "ExecuteTime": {
     "end_time": "2021-12-20T12:30:33.098726Z",
     "start_time": "2021-12-20T12:30:33.094093Z"
    }
   },
   "outputs": [
    {
     "data": {
      "text/plain": [
       "array([[0, 0, 0, ..., 0, 0, 0],\n",
       "       [0, 0, 0, ..., 0, 0, 0],\n",
       "       [0, 0, 0, ..., 0, 0, 0],\n",
       "       ...,\n",
       "       [0, 0, 0, ..., 0, 0, 0],\n",
       "       [0, 0, 0, ..., 0, 0, 0],\n",
       "       [0, 0, 0, ..., 0, 0, 0]])"
      ]
     },
     "execution_count": 13,
     "metadata": {},
     "output_type": "execute_result"
    }
   ],
   "source": [
    "new_image"
   ]
  },
  {
   "cell_type": "code",
   "execution_count": 14,
   "id": "9f07b03e",
   "metadata": {
    "ExecuteTime": {
     "end_time": "2021-12-20T12:30:33.714754Z",
     "start_time": "2021-12-20T12:30:33.478277Z"
    }
   },
   "outputs": [
    {
     "data": {
      "text/plain": [
       "<matplotlib.image.AxesImage at 0x122ba3a10>"
      ]
     },
     "execution_count": 14,
     "metadata": {},
     "output_type": "execute_result"
    },
    {
     "data": {
      "image/png": "[encoded data removed]",
      "text/plain": [
       "<Figure size 432x288 with 1 Axes>"
      ]
     },
     "metadata": {
      "needs_background": "light"
     },
     "output_type": "display_data"
    }
   ],
   "source": [
    "plt.imshow(padded)"
   ]
  },
  {
   "cell_type": "code",
   "execution_count": 15,
   "id": "9b54db12",
   "metadata": {
    "ExecuteTime": {
     "end_time": "2021-12-20T12:30:34.203045Z",
     "start_time": "2021-12-20T12:30:33.962004Z"
    }
   },
   "outputs": [
    {
     "data": {
      "text/plain": [
       "<matplotlib.image.AxesImage at 0x122cc53d0>"
      ]
     },
     "execution_count": 15,
     "metadata": {},
     "output_type": "execute_result"
    },
    {
     "data": {
      "image/png": "[encoded data removed]",
      "text/plain": [
       "<Figure size 432x288 with 1 Axes>"
      ]
     },
     "metadata": {
      "needs_background": "light"
     },
     "output_type": "display_data"
    }
   ],
   "source": [
    "plt.imshow(new_image)"
   ]
  },
  {
   "cell_type": "code",
   "execution_count": 16,
   "id": "0c86476c",
   "metadata": {
    "ExecuteTime": {
     "end_time": "2021-12-20T12:30:35.744180Z",
     "start_time": "2021-12-20T12:30:35.738510Z"
    }
   },
   "outputs": [
    {
     "data": {
      "text/plain": [
       "17628"
      ]
     },
     "execution_count": 16,
     "metadata": {},
     "output_type": "execute_result"
    }
   ],
   "source": [
    "padded.sum()"
   ]
  },
  {
   "cell_type": "code",
   "execution_count": 327,
   "id": "2f1e9358",
   "metadata": {
    "ExecuteTime": {
     "end_time": "2021-12-20T07:53:55.326780Z",
     "start_time": "2021-12-20T07:53:55.322318Z"
    }
   },
   "outputs": [
    {
     "data": {
      "text/plain": [
       "5294"
      ]
     },
     "execution_count": 327,
     "metadata": {},
     "output_type": "execute_result"
    }
   ],
   "source": [
    "padded.sum()"
   ]
  },
  {
   "cell_type": "code",
   "execution_count": 328,
   "id": "a1db7db2",
   "metadata": {
    "ExecuteTime": {
     "end_time": "2021-12-20T07:53:56.962912Z",
     "start_time": "2021-12-20T07:53:56.958279Z"
    }
   },
   "outputs": [
    {
     "data": {
      "text/plain": [
       "5075"
      ]
     },
     "execution_count": 328,
     "metadata": {},
     "output_type": "execute_result"
    }
   ],
   "source": [
    "data.sum()"
   ]
  },
  {
   "cell_type": "markdown",
   "id": "b5fe4188",
   "metadata": {},
   "source": [
    "Note value between : 5552 and 5776"
   ]
  },
  {
   "cell_type": "code",
   "execution_count": null,
   "id": "67e53ccb",
   "metadata": {},
   "outputs": [],
   "source": []
  }
 ],
 "metadata": {
  "kernelspec": {
   "display_name": "Python 3",
   "language": "python",
   "name": "python3"
  },
  "language_info": {
   "codemirror_mode": {
    "name": "ipython",
    "version": 3
   },
   "file_extension": ".py",
   "mimetype": "text/x-python",
   "name": "python",
   "nbconvert_exporter": "python",
   "pygments_lexer": "ipython3",
   "version": "3.7.12"
  },
  "toc": {
   "base_numbering": 1,
   "nav_menu": {},
   "number_sections": true,
   "sideBar": true,
   "skip_h1_title": false,
   "title_cell": "Table of Contents",
   "title_sidebar": "Contents",
   "toc_cell": false,
   "toc_position": {},
   "toc_section_display": true,
   "toc_window_display": false
  }
 },
 "nbformat": 4,
 "nbformat_minor": 5
}
