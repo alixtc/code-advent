{
 "cells": [
  {
   "cell_type": "code",
   "execution_count": 1,
   "id": "d90c2285",
   "metadata": {
    "ExecuteTime": {
     "end_time": "2021-12-19T20:38:07.295953Z",
     "start_time": "2021-12-19T20:38:06.674901Z"
    }
   },
   "outputs": [],
   "source": [
    "import pandas as pd\n",
    "import numpy as np"
   ]
  },
  {
   "cell_type": "markdown",
   "id": "ede73318",
   "metadata": {
    "ExecuteTime": {
     "end_time": "2021-12-09T18:03:43.792927Z",
     "start_time": "2021-12-09T18:03:43.790251Z"
    }
   },
   "source": [
    "# TEMPLATE"
   ]
  },
  {
   "cell_type": "code",
   "execution_count": null,
   "id": "bba75474",
   "metadata": {},
   "outputs": [],
   "source": []
  },
  {
   "cell_type": "markdown",
   "id": "895ffadf",
   "metadata": {},
   "source": [
    "# Day 10"
   ]
  },
  {
   "cell_type": "code",
   "execution_count": 5,
   "id": "ee70902e",
   "metadata": {
    "ExecuteTime": {
     "end_time": "2021-12-10T05:06:47.078333Z",
     "start_time": "2021-12-10T05:06:47.046727Z"
    }
   },
   "outputs": [
    {
     "name": "stderr",
     "output_type": "stream",
     "text": [
      "/Users/alixtiran-cappello/.pyenv/versions/3.7.12/envs/rotor/lib/python3.7/site-packages/ipykernel_launcher.py:4: DeprecationWarning: The default dtype for empty Series will be 'object' instead of 'float64' in a future version. Specify a dtype explicitly to silence this warning.\n",
      "  after removing the cwd from sys.path.\n"
     ]
    },
    {
     "data": {
      "text/plain": [
       "Series([], dtype: float64)"
      ]
     },
     "execution_count": 5,
     "metadata": {},
     "output_type": "execute_result"
    }
   ],
   "source": [
    "day = 'day10'\n",
    "with open(f'test{day}' , 'r') as f:\n",
    "    file = f.read().splitlines()\n",
    "file = pd.Series(file)\n",
    "file"
   ]
  },
  {
   "cell_type": "code",
   "execution_count": 155,
   "id": "b96d6c77",
   "metadata": {
    "ExecuteTime": {
     "end_time": "2021-12-10T05:53:59.879097Z",
     "start_time": "2021-12-10T05:53:59.871379Z"
    }
   },
   "outputs": [
    {
     "data": {
      "text/plain": [
       "0      (({({({(({{<{{()<>}}>}}([<[(<>{})(()()))[[{}[]...\n",
       "1      [{(<(<<([[[{(([]{})<(){}>)<{<>}(()[])>}]]{[([(...\n",
       "2      ((<[([(({<<<{{<><>}({}<>)}{{<>{}}[[]()]}>>([<[...\n",
       "3      [<[<({{({{[({[[][]]<{}<>>})<[<{}{}>]([<><>](<>...\n",
       "4      [<{<<({[{{{(<({}()){{}[]}><(<><>)[[]{}]>)}<(([...\n",
       "                             ...                        \n",
       "97     <({{<(<([({<[{<>[]}]<[{}{}]{()[]}>>(({[]()}))}...\n",
       "98     {[(([<([[<[<{[()]}>[<[<>{}][<><>]>{[()]{<>}}]]...\n",
       "99     <<({<<<({(<<[<[]()>{[][]}][<{}{}>{[]<>}]>[{{<>...\n",
       "100    [[[(<<(({[(((((){})(<>{}))<[[]()]{{}{})>)(<[()...\n",
       "101    {[[{<[{([<[<{(<><>)}({{}}([][]))>]{{<[<>{}]>(<...\n",
       "Length: 102, dtype: object"
      ]
     },
     "execution_count": 155,
     "metadata": {},
     "output_type": "execute_result"
    }
   ],
   "source": [
    "with open(day , 'r') as f:\n",
    "    file = f.read().splitlines()\n",
    "file = pd.Series(file)\n",
    "file"
   ]
  },
  {
   "cell_type": "code",
   "execution_count": null,
   "id": "cee89c90",
   "metadata": {},
   "outputs": [],
   "source": [
    "def map_pattern(x):\n",
    "    #x = x.split(\": \")[1]\n",
    "    x = x.split(',')\n",
    "    return np.array(x, dtype=int)\n",
    "          \n",
    "data = file.apply(map_pattern).to_list()\n",
    "#data = pd.DataFrame(data)\n",
    "#data = data.astype(int)\n",
    "data "
   ]
  },
  {
   "cell_type": "markdown",
   "id": "cb75e048",
   "metadata": {},
   "source": [
    "## Test"
   ]
  },
  {
   "cell_type": "code",
   "execution_count": 156,
   "id": "6ceb510f",
   "metadata": {
    "ExecuteTime": {
     "end_time": "2021-12-10T05:54:05.077638Z",
     "start_time": "2021-12-10T05:54:05.067084Z"
    }
   },
   "outputs": [
    {
     "data": {
      "text/html": [
       "<div>\n",
       "<style scoped>\n",
       "    .dataframe tbody tr th:only-of-type {\n",
       "        vertical-align: middle;\n",
       "    }\n",
       "\n",
       "    .dataframe tbody tr th {\n",
       "        vertical-align: top;\n",
       "    }\n",
       "\n",
       "    .dataframe thead th {\n",
       "        text-align: right;\n",
       "    }\n",
       "</style>\n",
       "<table border=\"1\" class=\"dataframe\">\n",
       "  <thead>\n",
       "    <tr style=\"text-align: right;\">\n",
       "      <th></th>\n",
       "      <th>string</th>\n",
       "    </tr>\n",
       "  </thead>\n",
       "  <tbody>\n",
       "    <tr>\n",
       "      <th>0</th>\n",
       "      <td>(({({({(({{&lt;{{()&lt;&gt;}}&gt;}}([&lt;[(&lt;&gt;{})(()()))[[{}[]...</td>\n",
       "    </tr>\n",
       "    <tr>\n",
       "      <th>1</th>\n",
       "      <td>[{(&lt;(&lt;&lt;([[[{(([]{})&lt;(){}&gt;)&lt;{&lt;&gt;}(()[])&gt;}]]{[([(...</td>\n",
       "    </tr>\n",
       "    <tr>\n",
       "      <th>2</th>\n",
       "      <td>((&lt;[([(({&lt;&lt;&lt;{{&lt;&gt;&lt;&gt;}({}&lt;&gt;)}{{&lt;&gt;{}}[[]()]}&gt;&gt;([&lt;[...</td>\n",
       "    </tr>\n",
       "    <tr>\n",
       "      <th>3</th>\n",
       "      <td>[&lt;[&lt;({{({{[({[[][]]&lt;{}&lt;&gt;&gt;})&lt;[&lt;{}{}&gt;]([&lt;&gt;&lt;&gt;](&lt;&gt;...</td>\n",
       "    </tr>\n",
       "    <tr>\n",
       "      <th>4</th>\n",
       "      <td>[&lt;{&lt;&lt;({[{{{(&lt;({}()){{}[]}&gt;&lt;(&lt;&gt;&lt;&gt;)[[]{}]&gt;)}&lt;(([...</td>\n",
       "    </tr>\n",
       "    <tr>\n",
       "      <th>...</th>\n",
       "      <td>...</td>\n",
       "    </tr>\n",
       "    <tr>\n",
       "      <th>97</th>\n",
       "      <td>&lt;({{&lt;(&lt;([({&lt;[{&lt;&gt;[]}]&lt;[{}{}]{()[]}&gt;&gt;(({[]()}))}...</td>\n",
       "    </tr>\n",
       "    <tr>\n",
       "      <th>98</th>\n",
       "      <td>{[(([&lt;([[&lt;[&lt;{[()]}&gt;[&lt;[&lt;&gt;{}][&lt;&gt;&lt;&gt;]&gt;{[()]{&lt;&gt;}}]]...</td>\n",
       "    </tr>\n",
       "    <tr>\n",
       "      <th>99</th>\n",
       "      <td>&lt;&lt;({&lt;&lt;&lt;({(&lt;&lt;[&lt;[]()&gt;{[][]}][&lt;{}{}&gt;{[]&lt;&gt;}]&gt;[{{&lt;&gt;...</td>\n",
       "    </tr>\n",
       "    <tr>\n",
       "      <th>100</th>\n",
       "      <td>[[[(&lt;&lt;(({[(((((){})(&lt;&gt;{}))&lt;[[]()]{{}{})&gt;)(&lt;[()...</td>\n",
       "    </tr>\n",
       "    <tr>\n",
       "      <th>101</th>\n",
       "      <td>{[[{&lt;[{([&lt;[&lt;{(&lt;&gt;&lt;&gt;)}({{}}([][]))&gt;]{{&lt;[&lt;&gt;{}]&gt;(&lt;...</td>\n",
       "    </tr>\n",
       "  </tbody>\n",
       "</table>\n",
       "<p>102 rows × 1 columns</p>\n",
       "</div>"
      ],
      "text/plain": [
       "                                                string\n",
       "0    (({({({(({{<{{()<>}}>}}([<[(<>{})(()()))[[{}[]...\n",
       "1    [{(<(<<([[[{(([]{})<(){}>)<{<>}(()[])>}]]{[([(...\n",
       "2    ((<[([(({<<<{{<><>}({}<>)}{{<>{}}[[]()]}>>([<[...\n",
       "3    [<[<({{({{[({[[][]]<{}<>>})<[<{}{}>]([<><>](<>...\n",
       "4    [<{<<({[{{{(<({}()){{}[]}><(<><>)[[]{}]>)}<(([...\n",
       "..                                                 ...\n",
       "97   <({{<(<([({<[{<>[]}]<[{}{}]{()[]}>>(({[]()}))}...\n",
       "98   {[(([<([[<[<{[()]}>[<[<>{}][<><>]>{[()]{<>}}]]...\n",
       "99   <<({<<<({(<<[<[]()>{[][]}][<{}{}>{[]<>}]>[{{<>...\n",
       "100  [[[(<<(({[(((((){})(<>{}))<[[]()]{{}{})>)(<[()...\n",
       "101  {[[{<[{([<[<{(<><>)}({{}}([][]))>]{{<[<>{}]>(<...\n",
       "\n",
       "[102 rows x 1 columns]"
      ]
     },
     "execution_count": 156,
     "metadata": {},
     "output_type": "execute_result"
    }
   ],
   "source": [
    "data = pd.DataFrame(file, columns=['string'])\n",
    "data"
   ]
  },
  {
   "cell_type": "markdown",
   "id": "300e338d",
   "metadata": {},
   "source": [
    "## Prep"
   ]
  },
  {
   "cell_type": "code",
   "execution_count": 165,
   "id": "645adfbe",
   "metadata": {
    "ExecuteTime": {
     "end_time": "2021-12-10T05:54:38.510389Z",
     "start_time": "2021-12-10T05:54:38.506888Z"
    }
   },
   "outputs": [],
   "source": [
    "# Python3 code to Check for \n",
    "# balanced parentheses in an expression\n",
    "open_list = [\"[\",\"{\",\"(\", '<']\n",
    "close_list = [\"]\",\"}\",\")\", '>']\n",
    "\n",
    "matching = { \n",
    "    ')': 3,\n",
    "            \n",
    "    \"]\": 57,\n",
    "'}': 1197,\n",
    "'>': 25137\n",
    "}"
   ]
  },
  {
   "cell_type": "code",
   "execution_count": 158,
   "id": "80b514d0",
   "metadata": {
    "ExecuteTime": {
     "end_time": "2021-12-10T05:54:14.623610Z",
     "start_time": "2021-12-10T05:54:14.615709Z"
    }
   },
   "outputs": [
    {
     "name": "stdout",
     "output_type": "stream",
     "text": [
      "{[]{()}} - ('Balanced', None)\n",
      "[{}{})(] - ('Corrupted', ')')\n",
      "((() - ('Unbalanced', None)\n"
     ]
    }
   ],
   "source": [
    "# Function to check parentheses\n",
    "def check(myStr):\n",
    "    stack = []\n",
    "    for i in myStr:\n",
    "        if i in open_list:\n",
    "            stack.append(i)\n",
    "        elif i in close_list:\n",
    "            pos = close_list.index(i)\n",
    "            if ((len(stack) > 0) and\n",
    "                (open_list[pos] == stack[len(stack)-1])):\n",
    "                stack.pop()\n",
    "            else:\n",
    "                return \"Corrupted\", i\n",
    "    if len(stack) == 0:\n",
    "        return \"Balanced\", None\n",
    "    else:\n",
    "        return \"Unbalanced\", None\n",
    "  \n",
    "  \n",
    "# Driver code\n",
    "string = \"{[]{()}}\"\n",
    "print(string,\"-\", check(string))\n",
    "  \n",
    "string = \"[{}{})(]\"\n",
    "print(string,\"-\", check(string))\n",
    "  \n",
    "string = \"((()\"\n",
    "print(string,\"-\",check(string))"
   ]
  },
  {
   "cell_type": "markdown",
   "id": "c87314ea",
   "metadata": {},
   "source": [
    "## Part 1"
   ]
  },
  {
   "cell_type": "code",
   "execution_count": 159,
   "id": "1ededc67",
   "metadata": {
    "ExecuteTime": {
     "end_time": "2021-12-10T05:54:21.334475Z",
     "start_time": "2021-12-10T05:54:21.326857Z"
    }
   },
   "outputs": [],
   "source": [
    "data['status']= data.string.apply(check)"
   ]
  },
  {
   "cell_type": "code",
   "execution_count": 160,
   "id": "257e7fd7",
   "metadata": {
    "ExecuteTime": {
     "end_time": "2021-12-10T05:54:21.882956Z",
     "start_time": "2021-12-10T05:54:21.878813Z"
    }
   },
   "outputs": [],
   "source": [
    "data['char'] = data.status.apply(lambda x: x[1])"
   ]
  },
  {
   "cell_type": "code",
   "execution_count": 161,
   "id": "998ca0d3",
   "metadata": {
    "ExecuteTime": {
     "end_time": "2021-12-10T05:54:22.569919Z",
     "start_time": "2021-12-10T05:54:22.566529Z"
    }
   },
   "outputs": [],
   "source": [
    "data['status'] = data.status.apply(lambda x: x[0])"
   ]
  },
  {
   "cell_type": "code",
   "execution_count": 162,
   "id": "0d7a35e0",
   "metadata": {
    "ExecuteTime": {
     "end_time": "2021-12-10T05:54:23.233015Z",
     "start_time": "2021-12-10T05:54:23.221999Z"
    }
   },
   "outputs": [
    {
     "data": {
      "text/html": [
       "<div>\n",
       "<style scoped>\n",
       "    .dataframe tbody tr th:only-of-type {\n",
       "        vertical-align: middle;\n",
       "    }\n",
       "\n",
       "    .dataframe tbody tr th {\n",
       "        vertical-align: top;\n",
       "    }\n",
       "\n",
       "    .dataframe thead th {\n",
       "        text-align: right;\n",
       "    }\n",
       "</style>\n",
       "<table border=\"1\" class=\"dataframe\">\n",
       "  <thead>\n",
       "    <tr style=\"text-align: right;\">\n",
       "      <th></th>\n",
       "      <th>string</th>\n",
       "      <th>status</th>\n",
       "      <th>char</th>\n",
       "    </tr>\n",
       "  </thead>\n",
       "  <tbody>\n",
       "    <tr>\n",
       "      <th>0</th>\n",
       "      <td>(({({({(({{&lt;{{()&lt;&gt;}}&gt;}}([&lt;[(&lt;&gt;{})(()()))[[{}[]...</td>\n",
       "      <td>Corrupted</td>\n",
       "      <td>)</td>\n",
       "    </tr>\n",
       "    <tr>\n",
       "      <th>1</th>\n",
       "      <td>[{(&lt;(&lt;&lt;([[[{(([]{})&lt;(){}&gt;)&lt;{&lt;&gt;}(()[])&gt;}]]{[([(...</td>\n",
       "      <td>Unbalanced</td>\n",
       "      <td>None</td>\n",
       "    </tr>\n",
       "    <tr>\n",
       "      <th>2</th>\n",
       "      <td>((&lt;[([(({&lt;&lt;&lt;{{&lt;&gt;&lt;&gt;}({}&lt;&gt;)}{{&lt;&gt;{}}[[]()]}&gt;&gt;([&lt;[...</td>\n",
       "      <td>Corrupted</td>\n",
       "      <td>}</td>\n",
       "    </tr>\n",
       "    <tr>\n",
       "      <th>3</th>\n",
       "      <td>[&lt;[&lt;({{({{[({[[][]]&lt;{}&lt;&gt;&gt;})&lt;[&lt;{}{}&gt;]([&lt;&gt;&lt;&gt;](&lt;&gt;...</td>\n",
       "      <td>Corrupted</td>\n",
       "      <td>}</td>\n",
       "    </tr>\n",
       "    <tr>\n",
       "      <th>4</th>\n",
       "      <td>[&lt;{&lt;&lt;({[{{{(&lt;({}()){{}[]}&gt;&lt;(&lt;&gt;&lt;&gt;)[[]{}]&gt;)}&lt;(([...</td>\n",
       "      <td>Unbalanced</td>\n",
       "      <td>None</td>\n",
       "    </tr>\n",
       "    <tr>\n",
       "      <th>...</th>\n",
       "      <td>...</td>\n",
       "      <td>...</td>\n",
       "      <td>...</td>\n",
       "    </tr>\n",
       "    <tr>\n",
       "      <th>97</th>\n",
       "      <td>&lt;({{&lt;(&lt;([({&lt;[{&lt;&gt;[]}]&lt;[{}{}]{()[]}&gt;&gt;(({[]()}))}...</td>\n",
       "      <td>Unbalanced</td>\n",
       "      <td>None</td>\n",
       "    </tr>\n",
       "    <tr>\n",
       "      <th>98</th>\n",
       "      <td>{[(([&lt;([[&lt;[&lt;{[()]}&gt;[&lt;[&lt;&gt;{}][&lt;&gt;&lt;&gt;]&gt;{[()]{&lt;&gt;}}]]...</td>\n",
       "      <td>Unbalanced</td>\n",
       "      <td>None</td>\n",
       "    </tr>\n",
       "    <tr>\n",
       "      <th>99</th>\n",
       "      <td>&lt;&lt;({&lt;&lt;&lt;({(&lt;&lt;[&lt;[]()&gt;{[][]}][&lt;{}{}&gt;{[]&lt;&gt;}]&gt;[{{&lt;&gt;...</td>\n",
       "      <td>Unbalanced</td>\n",
       "      <td>None</td>\n",
       "    </tr>\n",
       "    <tr>\n",
       "      <th>100</th>\n",
       "      <td>[[[(&lt;&lt;(({[(((((){})(&lt;&gt;{}))&lt;[[]()]{{}{})&gt;)(&lt;[()...</td>\n",
       "      <td>Corrupted</td>\n",
       "      <td>)</td>\n",
       "    </tr>\n",
       "    <tr>\n",
       "      <th>101</th>\n",
       "      <td>{[[{&lt;[{([&lt;[&lt;{(&lt;&gt;&lt;&gt;)}({{}}([][]))&gt;]{{&lt;[&lt;&gt;{}]&gt;(&lt;...</td>\n",
       "      <td>Unbalanced</td>\n",
       "      <td>None</td>\n",
       "    </tr>\n",
       "  </tbody>\n",
       "</table>\n",
       "<p>102 rows × 3 columns</p>\n",
       "</div>"
      ],
      "text/plain": [
       "                                                string      status  char\n",
       "0    (({({({(({{<{{()<>}}>}}([<[(<>{})(()()))[[{}[]...   Corrupted     )\n",
       "1    [{(<(<<([[[{(([]{})<(){}>)<{<>}(()[])>}]]{[([(...  Unbalanced  None\n",
       "2    ((<[([(({<<<{{<><>}({}<>)}{{<>{}}[[]()]}>>([<[...   Corrupted     }\n",
       "3    [<[<({{({{[({[[][]]<{}<>>})<[<{}{}>]([<><>](<>...   Corrupted     }\n",
       "4    [<{<<({[{{{(<({}()){{}[]}><(<><>)[[]{}]>)}<(([...  Unbalanced  None\n",
       "..                                                 ...         ...   ...\n",
       "97   <({{<(<([({<[{<>[]}]<[{}{}]{()[]}>>(({[]()}))}...  Unbalanced  None\n",
       "98   {[(([<([[<[<{[()]}>[<[<>{}][<><>]>{[()]{<>}}]]...  Unbalanced  None\n",
       "99   <<({<<<({(<<[<[]()>{[][]}][<{}{}>{[]<>}]>[{{<>...  Unbalanced  None\n",
       "100  [[[(<<(({[(((((){})(<>{}))<[[]()]{{}{})>)(<[()...   Corrupted     )\n",
       "101  {[[{<[{([<[<{(<><>)}({{}}([][]))>]{{<[<>{}]>(<...  Unbalanced  None\n",
       "\n",
       "[102 rows x 3 columns]"
      ]
     },
     "execution_count": 162,
     "metadata": {},
     "output_type": "execute_result"
    }
   ],
   "source": [
    "data"
   ]
  },
  {
   "cell_type": "code",
   "execution_count": 167,
   "id": "de880092",
   "metadata": {
    "ExecuteTime": {
     "end_time": "2021-12-10T05:54:54.514346Z",
     "start_time": "2021-12-10T05:54:54.505536Z"
    }
   },
   "outputs": [
    {
     "data": {
      "text/html": [
       "<div>\n",
       "<style scoped>\n",
       "    .dataframe tbody tr th:only-of-type {\n",
       "        vertical-align: middle;\n",
       "    }\n",
       "\n",
       "    .dataframe tbody tr th {\n",
       "        vertical-align: top;\n",
       "    }\n",
       "\n",
       "    .dataframe thead th {\n",
       "        text-align: right;\n",
       "    }\n",
       "</style>\n",
       "<table border=\"1\" class=\"dataframe\">\n",
       "  <thead>\n",
       "    <tr style=\"text-align: right;\">\n",
       "      <th></th>\n",
       "      <th>index</th>\n",
       "      <th>char</th>\n",
       "    </tr>\n",
       "  </thead>\n",
       "  <tbody>\n",
       "    <tr>\n",
       "      <th>0</th>\n",
       "      <td>)</td>\n",
       "      <td>17</td>\n",
       "    </tr>\n",
       "    <tr>\n",
       "      <th>1</th>\n",
       "      <td>&gt;</td>\n",
       "      <td>15</td>\n",
       "    </tr>\n",
       "    <tr>\n",
       "      <th>2</th>\n",
       "      <td>}</td>\n",
       "      <td>10</td>\n",
       "    </tr>\n",
       "    <tr>\n",
       "      <th>3</th>\n",
       "      <td>]</td>\n",
       "      <td>9</td>\n",
       "    </tr>\n",
       "  </tbody>\n",
       "</table>\n",
       "</div>"
      ],
      "text/plain": [
       "  index  char\n",
       "0     )    17\n",
       "1     >    15\n",
       "2     }    10\n",
       "3     ]     9"
      ]
     },
     "execution_count": 167,
     "metadata": {},
     "output_type": "execute_result"
    }
   ],
   "source": [
    "summary = pd.DataFrame(data.char.value_counts()).reset_index()\n",
    "summary"
   ]
  },
  {
   "cell_type": "code",
   "execution_count": 168,
   "id": "7adb6d58",
   "metadata": {
    "ExecuteTime": {
     "end_time": "2021-12-10T05:55:05.144408Z",
     "start_time": "2021-12-10T05:55:05.139989Z"
    }
   },
   "outputs": [],
   "source": [
    "summary['index'] = summary['index'].map(matching)"
   ]
  },
  {
   "cell_type": "code",
   "execution_count": 169,
   "id": "48a6dfee",
   "metadata": {
    "ExecuteTime": {
     "end_time": "2021-12-10T05:55:05.973388Z",
     "start_time": "2021-12-10T05:55:05.968228Z"
    }
   },
   "outputs": [
    {
     "data": {
      "text/plain": [
       "389589"
      ]
     },
     "execution_count": 169,
     "metadata": {},
     "output_type": "execute_result"
    }
   ],
   "source": [
    "(summary['index'] * summary.char).sum()"
   ]
  },
  {
   "cell_type": "markdown",
   "id": "355de38b",
   "metadata": {},
   "source": [
    "## Part 2"
   ]
  },
  {
   "cell_type": "code",
   "execution_count": 170,
   "id": "7fe17cf5",
   "metadata": {
    "ExecuteTime": {
     "end_time": "2021-12-10T05:55:09.971178Z",
     "start_time": "2021-12-10T05:55:09.965693Z"
    }
   },
   "outputs": [],
   "source": [
    "# Function to check parentheses\n",
    "def check(myStr):\n",
    "    stack = []\n",
    "    unba = []\n",
    "    for i in myStr:\n",
    "        if i in open_list:\n",
    "            stack.append(i)\n",
    "        elif i in close_list:\n",
    "            pos = close_list.index(i)\n",
    "            if ((len(stack) > 0) and\n",
    "                (open_list[pos] == stack[len(stack)-1])):\n",
    "                stack.pop()\n",
    "            else:\n",
    "                return \"Corrupted\", i\n",
    "    if len(stack) == 0:\n",
    "        return \"Balanced\", None\n",
    "    else:\n",
    "        return stack"
   ]
  },
  {
   "cell_type": "code",
   "execution_count": 171,
   "id": "1871c9dc",
   "metadata": {
    "ExecuteTime": {
     "end_time": "2021-12-10T05:55:11.725835Z",
     "start_time": "2021-12-10T05:55:11.721209Z"
    }
   },
   "outputs": [],
   "source": [
    "unba = data[data.status == 'Unbalanced']\n",
    "unba = unba[['string']]"
   ]
  },
  {
   "cell_type": "code",
   "execution_count": 173,
   "id": "323486f6",
   "metadata": {
    "ExecuteTime": {
     "end_time": "2021-12-10T05:55:15.308694Z",
     "start_time": "2021-12-10T05:55:15.302238Z"
    }
   },
   "outputs": [],
   "source": [
    "unba['list'] = unba.string.apply(check)"
   ]
  },
  {
   "cell_type": "code",
   "execution_count": 175,
   "id": "7f3e597c",
   "metadata": {
    "ExecuteTime": {
     "end_time": "2021-12-10T05:55:18.375753Z",
     "start_time": "2021-12-10T05:55:18.372990Z"
    }
   },
   "outputs": [],
   "source": [
    "matcher = { \n",
    "    '(': 1,   \n",
    "    \"[\": 2,\n",
    "'{': 3,\n",
    "'<': 4\n",
    "}"
   ]
  },
  {
   "cell_type": "code",
   "execution_count": 176,
   "id": "cf977c5e",
   "metadata": {
    "ExecuteTime": {
     "end_time": "2021-12-10T05:55:18.859733Z",
     "start_time": "2021-12-10T05:55:18.856402Z"
    }
   },
   "outputs": [],
   "source": [
    "def count_point(stack):\n",
    "    count = 0\n",
    "    stack.reverse()\n",
    "    for item in stack:\n",
    "        count *= 5\n",
    "        count += matcher[item]\n",
    "    return count"
   ]
  },
  {
   "cell_type": "code",
   "execution_count": 177,
   "id": "c066d52f",
   "metadata": {
    "ExecuteTime": {
     "end_time": "2021-12-10T05:55:19.916471Z",
     "start_time": "2021-12-10T05:55:19.912679Z"
    }
   },
   "outputs": [],
   "source": [
    "unba['res'] = unba['list'].apply(count_point)"
   ]
  },
  {
   "cell_type": "code",
   "execution_count": 179,
   "id": "af0144f7",
   "metadata": {
    "ExecuteTime": {
     "end_time": "2021-12-10T05:55:25.228889Z",
     "start_time": "2021-12-10T05:55:25.225182Z"
    }
   },
   "outputs": [],
   "source": [
    "res = unba['res'].sort_values().reset_index(drop='True')"
   ]
  },
  {
   "cell_type": "code",
   "execution_count": 180,
   "id": "3643398d",
   "metadata": {
    "ExecuteTime": {
     "end_time": "2021-12-10T05:55:25.848433Z",
     "start_time": "2021-12-10T05:55:25.844053Z"
    }
   },
   "outputs": [
    {
     "data": {
      "text/plain": [
       "1190420163"
      ]
     },
     "execution_count": 180,
     "metadata": {},
     "output_type": "execute_result"
    }
   ],
   "source": [
    "res[len(res) // 2]"
   ]
  },
  {
   "cell_type": "code",
   "execution_count": null,
   "id": "85714475",
   "metadata": {},
   "outputs": [],
   "source": []
  },
  {
   "cell_type": "markdown",
   "id": "f58c60db",
   "metadata": {},
   "source": [
    "# Day 11"
   ]
  },
  {
   "cell_type": "code",
   "execution_count": 3,
   "id": "8d59a60f",
   "metadata": {
    "ExecuteTime": {
     "end_time": "2021-12-11T18:53:47.262926Z",
     "start_time": "2021-12-11T18:53:47.248987Z"
    }
   },
   "outputs": [
    {
     "data": {
      "text/plain": [
       "0    5483143223\n",
       "1    2745854711\n",
       "2    5264556173\n",
       "3    6141336146\n",
       "4    6357385478\n",
       "5    4167524645\n",
       "6    2176841721\n",
       "7    6882881134\n",
       "8    4846848554\n",
       "9    5283751526\n",
       "dtype: object"
      ]
     },
     "execution_count": 3,
     "metadata": {},
     "output_type": "execute_result"
    }
   ],
   "source": [
    "day = 'day11'\n",
    "with open(f'test{day}' , 'r') as f:\n",
    "    file = f.read().splitlines()\n",
    "file = pd.Series(file)\n",
    "file"
   ]
  },
  {
   "cell_type": "code",
   "execution_count": 4,
   "id": "10f604eb",
   "metadata": {
    "ExecuteTime": {
     "end_time": "2021-12-11T18:53:47.700071Z",
     "start_time": "2021-12-11T18:53:47.693157Z"
    }
   },
   "outputs": [
    {
     "data": {
      "text/plain": [
       "0    5212166716\n",
       "1    1567322581\n",
       "2    2268461548\n",
       "3    3481561744\n",
       "4    6248342248\n",
       "5    6526667368\n",
       "6    5627335775\n",
       "7    8124511754\n",
       "8    4614137683\n",
       "9    4724561156\n",
       "dtype: object"
      ]
     },
     "execution_count": 4,
     "metadata": {},
     "output_type": "execute_result"
    }
   ],
   "source": [
    "with open(day , 'r') as f:\n",
    "    file = f.read().splitlines()\n",
    "file = pd.Series(file)\n",
    "file"
   ]
  },
  {
   "cell_type": "code",
   "execution_count": 5,
   "id": "e5dce24f",
   "metadata": {
    "ExecuteTime": {
     "end_time": "2021-12-11T18:53:49.107645Z",
     "start_time": "2021-12-11T18:53:49.087468Z"
    }
   },
   "outputs": [
    {
     "data": {
      "text/html": [
       "<div>\n",
       "<style scoped>\n",
       "    .dataframe tbody tr th:only-of-type {\n",
       "        vertical-align: middle;\n",
       "    }\n",
       "\n",
       "    .dataframe tbody tr th {\n",
       "        vertical-align: top;\n",
       "    }\n",
       "\n",
       "    .dataframe thead th {\n",
       "        text-align: right;\n",
       "    }\n",
       "</style>\n",
       "<table border=\"1\" class=\"dataframe\">\n",
       "  <thead>\n",
       "    <tr style=\"text-align: right;\">\n",
       "      <th></th>\n",
       "      <th>0</th>\n",
       "      <th>1</th>\n",
       "      <th>2</th>\n",
       "      <th>3</th>\n",
       "      <th>4</th>\n",
       "      <th>5</th>\n",
       "      <th>6</th>\n",
       "      <th>7</th>\n",
       "      <th>8</th>\n",
       "      <th>9</th>\n",
       "    </tr>\n",
       "  </thead>\n",
       "  <tbody>\n",
       "    <tr>\n",
       "      <th>0</th>\n",
       "      <td>5</td>\n",
       "      <td>2</td>\n",
       "      <td>1</td>\n",
       "      <td>2</td>\n",
       "      <td>1</td>\n",
       "      <td>6</td>\n",
       "      <td>6</td>\n",
       "      <td>7</td>\n",
       "      <td>1</td>\n",
       "      <td>6</td>\n",
       "    </tr>\n",
       "    <tr>\n",
       "      <th>1</th>\n",
       "      <td>1</td>\n",
       "      <td>5</td>\n",
       "      <td>6</td>\n",
       "      <td>7</td>\n",
       "      <td>3</td>\n",
       "      <td>2</td>\n",
       "      <td>2</td>\n",
       "      <td>5</td>\n",
       "      <td>8</td>\n",
       "      <td>1</td>\n",
       "    </tr>\n",
       "    <tr>\n",
       "      <th>2</th>\n",
       "      <td>2</td>\n",
       "      <td>2</td>\n",
       "      <td>6</td>\n",
       "      <td>8</td>\n",
       "      <td>4</td>\n",
       "      <td>6</td>\n",
       "      <td>1</td>\n",
       "      <td>5</td>\n",
       "      <td>4</td>\n",
       "      <td>8</td>\n",
       "    </tr>\n",
       "    <tr>\n",
       "      <th>3</th>\n",
       "      <td>3</td>\n",
       "      <td>4</td>\n",
       "      <td>8</td>\n",
       "      <td>1</td>\n",
       "      <td>5</td>\n",
       "      <td>6</td>\n",
       "      <td>1</td>\n",
       "      <td>7</td>\n",
       "      <td>4</td>\n",
       "      <td>4</td>\n",
       "    </tr>\n",
       "    <tr>\n",
       "      <th>4</th>\n",
       "      <td>6</td>\n",
       "      <td>2</td>\n",
       "      <td>4</td>\n",
       "      <td>8</td>\n",
       "      <td>3</td>\n",
       "      <td>4</td>\n",
       "      <td>2</td>\n",
       "      <td>2</td>\n",
       "      <td>4</td>\n",
       "      <td>8</td>\n",
       "    </tr>\n",
       "    <tr>\n",
       "      <th>5</th>\n",
       "      <td>6</td>\n",
       "      <td>5</td>\n",
       "      <td>2</td>\n",
       "      <td>6</td>\n",
       "      <td>6</td>\n",
       "      <td>6</td>\n",
       "      <td>7</td>\n",
       "      <td>3</td>\n",
       "      <td>6</td>\n",
       "      <td>8</td>\n",
       "    </tr>\n",
       "    <tr>\n",
       "      <th>6</th>\n",
       "      <td>5</td>\n",
       "      <td>6</td>\n",
       "      <td>2</td>\n",
       "      <td>7</td>\n",
       "      <td>3</td>\n",
       "      <td>3</td>\n",
       "      <td>5</td>\n",
       "      <td>7</td>\n",
       "      <td>7</td>\n",
       "      <td>5</td>\n",
       "    </tr>\n",
       "    <tr>\n",
       "      <th>7</th>\n",
       "      <td>8</td>\n",
       "      <td>1</td>\n",
       "      <td>2</td>\n",
       "      <td>4</td>\n",
       "      <td>5</td>\n",
       "      <td>1</td>\n",
       "      <td>1</td>\n",
       "      <td>7</td>\n",
       "      <td>5</td>\n",
       "      <td>4</td>\n",
       "    </tr>\n",
       "    <tr>\n",
       "      <th>8</th>\n",
       "      <td>4</td>\n",
       "      <td>6</td>\n",
       "      <td>1</td>\n",
       "      <td>4</td>\n",
       "      <td>1</td>\n",
       "      <td>3</td>\n",
       "      <td>7</td>\n",
       "      <td>6</td>\n",
       "      <td>8</td>\n",
       "      <td>3</td>\n",
       "    </tr>\n",
       "    <tr>\n",
       "      <th>9</th>\n",
       "      <td>4</td>\n",
       "      <td>7</td>\n",
       "      <td>2</td>\n",
       "      <td>4</td>\n",
       "      <td>5</td>\n",
       "      <td>6</td>\n",
       "      <td>1</td>\n",
       "      <td>1</td>\n",
       "      <td>5</td>\n",
       "      <td>6</td>\n",
       "    </tr>\n",
       "  </tbody>\n",
       "</table>\n",
       "</div>"
      ],
      "text/plain": [
       "   0  1  2  3  4  5  6  7  8  9\n",
       "0  5  2  1  2  1  6  6  7  1  6\n",
       "1  1  5  6  7  3  2  2  5  8  1\n",
       "2  2  2  6  8  4  6  1  5  4  8\n",
       "3  3  4  8  1  5  6  1  7  4  4\n",
       "4  6  2  4  8  3  4  2  2  4  8\n",
       "5  6  5  2  6  6  6  7  3  6  8\n",
       "6  5  6  2  7  3  3  5  7  7  5\n",
       "7  8  1  2  4  5  1  1  7  5  4\n",
       "8  4  6  1  4  1  3  7  6  8  3\n",
       "9  4  7  2  4  5  6  1  1  5  6"
      ]
     },
     "execution_count": 5,
     "metadata": {},
     "output_type": "execute_result"
    }
   ],
   "source": [
    "def map_pattern(x):\n",
    "    #x = x.split(\": \")[1]\n",
    "    x = [it for it in x]\n",
    "    return np.array(x, dtype=int)\n",
    "          \n",
    "data = file.apply(map_pattern).to_list()\n",
    "data = pd.DataFrame(data)\n",
    "#data = data.astype(int)\n",
    "#data  = data.to_numpy()\n",
    "data"
   ]
  },
  {
   "cell_type": "markdown",
   "id": "b0e55ddf",
   "metadata": {},
   "source": [
    "## Part 1"
   ]
  },
  {
   "cell_type": "code",
   "execution_count": 7,
   "id": "9da78e38",
   "metadata": {
    "ExecuteTime": {
     "end_time": "2021-12-11T18:53:54.220775Z",
     "start_time": "2021-12-11T18:53:54.212610Z"
    }
   },
   "outputs": [],
   "source": [
    "import itertools\n",
    "\n",
    "def limit_range(coordo):\n",
    "    return max(coordo-1, 0), min(coordo+2, 10)\n",
    "\n",
    "def upgrade_next(x, y):\n",
    "    positions = []\n",
    "    a = np.arange(*limit_range(x))\n",
    "    b = np.arange(*limit_range(y))\n",
    "    \n",
    "    positions = itertools.product(a,b)         \n",
    "    return list(positions)\n",
    "\n",
    "def run(df, n_runs):\n",
    "    data = df.copy()\n",
    "    flashes = 0\n",
    "    \n",
    "    for run in range(n_runs):\n",
    "        data = data + 1\n",
    "        xs, ys = np.where(data > 9)\n",
    "        \n",
    "        while len(xs) > 0:\n",
    "        \n",
    "            flashes += len(xs)\n",
    "            \n",
    "            positions = []\n",
    "            for x, y in zip(xs, ys):\n",
    "                # add new positions to upgrade to list\n",
    "                positions += upgrade_next(x, y)\n",
    "                \n",
    "                # Reset count once count passes 9\n",
    "                data.iloc[x, y] = 0\n",
    "            \n",
    "            # update df if value is not a zero\n",
    "            for x, y in positions:\n",
    "                if data.iloc[x, y] > 0:\n",
    "                    data.iloc[x, y] += 1\n",
    "            \n",
    "            xs, ys = np.where(data > 9)\n",
    "            \n",
    "    return flashes"
   ]
  },
  {
   "cell_type": "code",
   "execution_count": 8,
   "id": "7ec52864",
   "metadata": {
    "ExecuteTime": {
     "end_time": "2021-12-11T18:53:56.441442Z",
     "start_time": "2021-12-11T18:53:54.710379Z"
    }
   },
   "outputs": [
    {
     "data": {
      "text/plain": [
       "1719"
      ]
     },
     "execution_count": 8,
     "metadata": {},
     "output_type": "execute_result"
    }
   ],
   "source": [
    "run(data, 100) "
   ]
  },
  {
   "cell_type": "code",
   "execution_count": 10,
   "id": "7f582d82",
   "metadata": {
    "ExecuteTime": {
     "end_time": "2021-12-11T18:53:56.456428Z",
     "start_time": "2021-12-11T18:53:56.450062Z"
    }
   },
   "outputs": [
    {
     "data": {
      "text/plain": [
       "'réponse 1719'"
      ]
     },
     "execution_count": 10,
     "metadata": {},
     "output_type": "execute_result"
    }
   ],
   "source": [
    "\"réponse 1719\""
   ]
  },
  {
   "cell_type": "code",
   "execution_count": null,
   "id": "3c0c083f",
   "metadata": {},
   "outputs": [],
   "source": []
  },
  {
   "cell_type": "markdown",
   "id": "234790aa",
   "metadata": {},
   "source": [
    "## Part 2"
   ]
  },
  {
   "cell_type": "code",
   "execution_count": 18,
   "id": "2c45649c",
   "metadata": {
    "ExecuteTime": {
     "end_time": "2021-12-11T13:08:36.566175Z",
     "start_time": "2021-12-11T13:08:36.556925Z"
    }
   },
   "outputs": [],
   "source": [
    "def run(df):\n",
    "    data = df.copy()\n",
    "    flashes = 0\n",
    "    run = 0\n",
    "    \n",
    "    while True:\n",
    "        run += 1\n",
    "        data = data + 1\n",
    "        \n",
    "        xs, ys = np.where(data > 9)\n",
    "        x_to_reset = [] \n",
    "        y_to_reset = []\n",
    "        while len(xs) > 0:\n",
    "            x_to_reset += xs.tolist() \n",
    "            y_to_reset += ys.tolist()\n",
    "            \n",
    "            positions = []\n",
    "            flashes += len(xs)\n",
    "\n",
    "            for i in range(len(xs)):\n",
    "                pos = upgrade_next(xs[i], ys[i])\n",
    "                positions += pos\n",
    "\n",
    "            positions = pd.DataFrame(positions, columns=['x', 'y'])\n",
    "\n",
    "            cond = (\n",
    "                ((positions.x >= 0) & (positions.x <= 9))\n",
    "                &\n",
    "                ((positions.y >= 0) & (positions.y <= 9))\n",
    "            )\n",
    "            positions = positions[cond]\n",
    "\n",
    "            # update df\n",
    "            for idx, row in positions.iterrows():\n",
    "                data.iloc[row['x'], row['y']] += 1\n",
    "            \n",
    "            for x, y in zip(xs, ys):\n",
    "                data.iloc[x, y] = 0\n",
    "            xs, ys = np.where(data > 9)\n",
    "            \n",
    "            \n",
    "        for x, y in zip(x_to_reset, y_to_reset):\n",
    "                data.iloc[x, y] = 0\n",
    "        \n",
    "        if (data == 0).sum().sum() == 100:\n",
    "            return run\n",
    "        \n",
    "    return flashes, data"
   ]
  },
  {
   "cell_type": "code",
   "execution_count": 19,
   "id": "5e9c4caa",
   "metadata": {
    "ExecuteTime": {
     "end_time": "2021-12-11T13:08:49.079959Z",
     "start_time": "2021-12-11T13:08:37.016509Z"
    }
   },
   "outputs": [
    {
     "data": {
      "text/plain": [
       "351"
      ]
     },
     "execution_count": 19,
     "metadata": {},
     "output_type": "execute_result"
    }
   ],
   "source": [
    "run(data)"
   ]
  },
  {
   "cell_type": "code",
   "execution_count": 106,
   "id": "3b355d6b",
   "metadata": {
    "ExecuteTime": {
     "end_time": "2021-12-11T06:25:34.995615Z",
     "start_time": "2021-12-11T06:25:34.991364Z"
    }
   },
   "outputs": [
    {
     "data": {
      "text/plain": [
       "'réponse 382'"
      ]
     },
     "execution_count": 106,
     "metadata": {},
     "output_type": "execute_result"
    }
   ],
   "source": [
    "\"réponse 382\""
   ]
  },
  {
   "cell_type": "code",
   "execution_count": null,
   "id": "ecc88a7e",
   "metadata": {},
   "outputs": [],
   "source": []
  },
  {
   "cell_type": "markdown",
   "id": "0eee1683",
   "metadata": {
    "ExecuteTime": {
     "end_time": "2021-12-09T18:03:43.792927Z",
     "start_time": "2021-12-09T18:03:43.790251Z"
    }
   },
   "source": [
    "# Day 12"
   ]
  },
  {
   "cell_type": "markdown",
   "id": "afc2a273",
   "metadata": {
    "ExecuteTime": {
     "end_time": "2021-12-09T18:03:43.792927Z",
     "start_time": "2021-12-09T18:03:43.790251Z"
    }
   },
   "source": [
    "## Preparation"
   ]
  },
  {
   "cell_type": "code",
   "execution_count": 2,
   "id": "11eb8224",
   "metadata": {
    "ExecuteTime": {
     "end_time": "2021-12-12T12:54:28.175569Z",
     "start_time": "2021-12-12T12:54:28.161506Z"
    }
   },
   "outputs": [
    {
     "data": {
      "text/plain": [
       "0      dc-end\n",
       "1    HN-start\n",
       "2    start-kj\n",
       "3    dc-start\n",
       "4       dc-HN\n",
       "5       LN-dc\n",
       "6      HN-end\n",
       "7       kj-sa\n",
       "8       kj-HN\n",
       "9       kj-dc\n",
       "dtype: object"
      ]
     },
     "execution_count": 2,
     "metadata": {},
     "output_type": "execute_result"
    }
   ],
   "source": [
    "day = 'day12'\n",
    "with open(f'test{day}' , 'r') as f:\n",
    "    file = f.read().splitlines()\n",
    "file = pd.Series(file)\n",
    "file"
   ]
  },
  {
   "cell_type": "code",
   "execution_count": 324,
   "id": "f9c6877b",
   "metadata": {
    "ExecuteTime": {
     "end_time": "2021-12-12T08:28:39.173751Z",
     "start_time": "2021-12-12T08:28:39.167028Z"
    }
   },
   "outputs": [
    {
     "data": {
      "text/plain": [
       "0     start-qs\n",
       "1        qs-jz\n",
       "2     start-lm\n",
       "3        qb-QV\n",
       "4        QV-dr\n",
       "5       QV-end\n",
       "6        ni-qb\n",
       "7        VH-jz\n",
       "8        qs-lm\n",
       "9       qb-end\n",
       "10       dr-fu\n",
       "11       jz-lm\n",
       "12    start-VH\n",
       "13       QV-jz\n",
       "14       VH-qs\n",
       "15       lm-dr\n",
       "16       dr-ni\n",
       "17       ni-jz\n",
       "18       lm-QV\n",
       "19       jz-dr\n",
       "20      ni-end\n",
       "21       VH-dr\n",
       "22       VH-ni\n",
       "23       qb-HE\n",
       "dtype: object"
      ]
     },
     "execution_count": 324,
     "metadata": {},
     "output_type": "execute_result"
    }
   ],
   "source": [
    "with open(day , 'r') as f:\n",
    "    file = f.read().splitlines()\n",
    "file = pd.Series(file)\n",
    "file"
   ]
  },
  {
   "cell_type": "code",
   "execution_count": 11,
   "id": "ff1e662b",
   "metadata": {
    "ExecuteTime": {
     "end_time": "2021-12-11T18:56:11.215553Z",
     "start_time": "2021-12-11T18:56:11.209294Z"
    }
   },
   "outputs": [
    {
     "data": {
      "text/plain": [
       "[5212166716,\n",
       " 1567322581,\n",
       " 2268461548,\n",
       " 3481561744,\n",
       " 6248342248,\n",
       " 6526667368,\n",
       " 5627335775,\n",
       " 8124511754,\n",
       " 4614137683,\n",
       " 4724561156]"
      ]
     },
     "execution_count": 11,
     "metadata": {},
     "output_type": "execute_result"
    }
   ],
   "source": [
    "def map_pattern(x):\n",
    "    #x = x.split(\": \")[1]\n",
    "    #x = x.split(',')\n",
    "    return np.array(x, dtype=int)\n",
    "          \n",
    "data = file.apply(map_pattern).to_list()\n",
    "#data = pd.DataFrame(data)\n",
    "#data = data.astype(int)\n",
    "data "
   ]
  },
  {
   "cell_type": "markdown",
   "id": "b2619058",
   "metadata": {},
   "source": [
    "## Test"
   ]
  },
  {
   "cell_type": "code",
   "execution_count": 327,
   "id": "79572ea9",
   "metadata": {
    "ExecuteTime": {
     "end_time": "2021-12-12T08:29:08.394348Z",
     "start_time": "2021-12-12T08:29:07.873386Z"
    }
   },
   "outputs": [
    {
     "data": {
      "text/plain": [
       "5178"
      ]
     },
     "execution_count": 327,
     "metadata": {},
     "output_type": "execute_result"
    }
   ],
   "source": [
    "import re\n",
    "\n",
    "class PathFinder:\n",
    "    def __init__(self, chemins):\n",
    "        self.chemins = chemins\n",
    "        self.visited_path = []\n",
    "\n",
    "    def find_path(self, visits, point='start'):\n",
    "        # first item start\n",
    "        point = f'-{point}|{point}-'\n",
    "\n",
    "        # find all path with first item\n",
    "        # remove first item from path \n",
    "        # remove dash\n",
    "        paths = [item for item in self.chemins if re.search(point, item) ]\n",
    "        paths = [re.sub(point, '', p) for p in paths]\n",
    "        paths \n",
    "\n",
    "        if len(visits) == 0:\n",
    "            visited = ['start']\n",
    "        else:\n",
    "            visited = visits.copy()\n",
    "\n",
    "            \n",
    "        # new point to start with\n",
    "        for new_point in paths:\n",
    "\n",
    "            if new_point.islower() and new_point in visited:\n",
    "                continue\n",
    "            \n",
    "            if new_point == \"end\":\n",
    "                \n",
    "                visited.append(new_point)\n",
    "                self.visited_path.append(visited)\n",
    "                #print('path saved', visited, '\\n')\n",
    "                visited.pop()\n",
    "                continue\n",
    "            \n",
    "            \n",
    "            #if new_point not in visited:\n",
    "            visited.append(new_point)\n",
    "            a = self.find_path(visited, new_point)\n",
    "            \n",
    "            if a == 'dead':\n",
    "                visited.pop()\n",
    "                continue\n",
    "            \n",
    "        \n",
    "        return 'dead'\n",
    "        # call function from there\n",
    "\n",
    "finder = PathFinder(file)\n",
    "\n",
    "\n",
    "finder.find_path([])\n",
    "\n",
    "res = sorted([','.join(line) for line in finder.visited_path])\n",
    "len(res)"
   ]
  },
  {
   "cell_type": "code",
   "execution_count": 326,
   "id": "7a806fd0",
   "metadata": {
    "ExecuteTime": {
     "end_time": "2021-12-12T08:28:45.337182Z",
     "start_time": "2021-12-12T08:28:45.330786Z"
    }
   },
   "outputs": [],
   "source": [
    "test = \"\"\"start,A,b,A,c,A,end\n",
    "start,A,b,A,end\n",
    "start,A,b,end\n",
    "start,A,c,A,b,A,end\n",
    "start,A,c,A,b,end\n",
    "start,A,c,A,end\n",
    "start,A,end\n",
    "start,b,A,c,A,end\n",
    "start,b,A,end\n",
    "start,b,end\"\"\".split('\\n')"
   ]
  },
  {
   "cell_type": "code",
   "execution_count": 232,
   "id": "7ecf9960",
   "metadata": {
    "ExecuteTime": {
     "end_time": "2021-12-12T07:21:13.663747Z",
     "start_time": "2021-12-12T07:21:13.659421Z"
    }
   },
   "outputs": [
    {
     "data": {
      "text/plain": [
       "False"
      ]
     },
     "execution_count": 232,
     "metadata": {},
     "output_type": "execute_result"
    }
   ],
   "source": [
    "res == test"
   ]
  },
  {
   "cell_type": "markdown",
   "id": "05557ffb",
   "metadata": {},
   "source": [
    "## Part 1"
   ]
  },
  {
   "cell_type": "code",
   "execution_count": 332,
   "id": "044b16b4",
   "metadata": {
    "ExecuteTime": {
     "end_time": "2021-12-12T08:46:53.530185Z",
     "start_time": "2021-12-12T08:46:53.523098Z"
    }
   },
   "outputs": [
    {
     "data": {
      "text/plain": [
       "0       ax-end\n",
       "1        xq-GF\n",
       "2       end-xq\n",
       "3        im-wg\n",
       "4        ax-ie\n",
       "5     start-ws\n",
       "6        ie-ws\n",
       "7     CV-start\n",
       "8        ng-wg\n",
       "9        ng-ie\n",
       "10       GF-ng\n",
       "11       ng-av\n",
       "12      CV-end\n",
       "13       ie-GF\n",
       "14       CV-ie\n",
       "15       im-xq\n",
       "16    start-GF\n",
       "17       GF-ws\n",
       "18       wg-LY\n",
       "19       CV-ws\n",
       "20       im-CV\n",
       "21       CV-wg\n",
       "dtype: object"
      ]
     },
     "execution_count": 332,
     "metadata": {},
     "output_type": "execute_result"
    }
   ],
   "source": [
    "day = 'day12'\n",
    "with open(f'{day}' , 'r') as f:\n",
    "    file = f.read().splitlines()\n",
    "file = pd.Series(file)\n",
    "file"
   ]
  },
  {
   "cell_type": "code",
   "execution_count": 28,
   "id": "d3cec4d5",
   "metadata": {
    "ExecuteTime": {
     "end_time": "2021-12-12T12:17:24.812586Z",
     "start_time": "2021-12-12T12:17:24.807416Z"
    }
   },
   "outputs": [
    {
     "data": {
      "text/plain": [
       "0      dc-end\n",
       "1    HN-start\n",
       "2    start-kj\n",
       "3    dc-start\n",
       "4       dc-HN\n",
       "5       LN-dc\n",
       "6      HN-end\n",
       "7       kj-sa\n",
       "8       kj-HN\n",
       "9       kj-dc\n",
       "dtype: object"
      ]
     },
     "execution_count": 28,
     "metadata": {},
     "output_type": "execute_result"
    }
   ],
   "source": []
  },
  {
   "cell_type": "code",
   "execution_count": 30,
   "id": "5b216fb6",
   "metadata": {
    "ExecuteTime": {
     "end_time": "2021-12-12T12:19:16.105639Z",
     "start_time": "2021-12-12T12:19:16.100392Z"
    }
   },
   "outputs": [
    {
     "data": {
      "text/plain": [
       "['start', 'dc', 'end', 'kj']"
      ]
     },
     "execution_count": 30,
     "metadata": {},
     "output_type": "execute_result"
    }
   ],
   "source": [
    "paths = [string for string in file  if CHEMINS in string]\n",
    "paths = [string.replace(CHEMINS, '').replace('-', '') for string in paths]\n",
    "paths"
   ]
  },
  {
   "cell_type": "code",
   "execution_count": 14,
   "id": "653b48d4",
   "metadata": {
    "ExecuteTime": {
     "end_time": "2021-12-12T13:00:37.076616Z",
     "start_time": "2021-12-12T13:00:37.069221Z"
    }
   },
   "outputs": [],
   "source": [
    "def get_paths_from_point(point, paths_from_file=file):\n",
    "    # find all path with a given point \n",
    "    # keep only the other point in those paths\n",
    "    paths = [string for string in paths_from_file if point in string]\n",
    "    paths = [string.replace(point, '').replace('-', '') for string in paths]\n",
    "    return paths\n",
    "\n",
    "def find_path(visits=[], point='start', os=''):\n",
    "    if len(visits) == 0:\n",
    "        visited = ['start']\n",
    "    else:\n",
    "        visited = visits.copy()\n",
    "    \n",
    "    global res\n",
    "\n",
    "    # Begin search among possible paths\n",
    "    paths = get_paths_from_point(point)\n",
    "    for new_point in paths:\n",
    "        one_shot = os\n",
    "\n",
    "        if new_point == \"end\": # Saves results in global variable\n",
    "            res.append(visited)\n",
    "            continue\n",
    "\n",
    "        if new_point.islower() and new_point in visited:\n",
    "            if new_point == 'start':\n",
    "                continue\n",
    "            else: \n",
    "                if one_shot == '':\n",
    "                    one_shot = new_point\n",
    "                else:\n",
    "                    if visited.count(one_shot) > 1:\n",
    "                        continue \n",
    "\n",
    "        visited.append(new_point)\n",
    "        a = find_path(visited, new_point, one_shot)\n",
    "\n",
    "        if a == 'dead':\n",
    "            visited.pop()\n",
    "            continue\n",
    "\n",
    "    return 'dead'\n"
   ]
  },
  {
   "cell_type": "code",
   "execution_count": 15,
   "id": "3755fa4f",
   "metadata": {
    "ExecuteTime": {
     "end_time": "2021-12-12T13:00:37.726744Z",
     "start_time": "2021-12-12T13:00:37.720644Z"
    },
    "scrolled": true
   },
   "outputs": [
    {
     "data": {
      "text/plain": [
       "103"
      ]
     },
     "execution_count": 15,
     "metadata": {},
     "output_type": "execute_result"
    }
   ],
   "source": [
    "res = []\n",
    "find_path()\n",
    "len(res)"
   ]
  },
  {
   "cell_type": "markdown",
   "id": "6f214e33",
   "metadata": {},
   "source": [
    "# Day 13"
   ]
  },
  {
   "cell_type": "markdown",
   "id": "ff1c41e5",
   "metadata": {
    "ExecuteTime": {
     "end_time": "2021-12-09T18:03:43.792927Z",
     "start_time": "2021-12-09T18:03:43.790251Z"
    }
   },
   "source": [
    "## Preparation"
   ]
  },
  {
   "cell_type": "code",
   "execution_count": 241,
   "id": "8aff9735",
   "metadata": {
    "ExecuteTime": {
     "end_time": "2021-12-13T06:09:53.179138Z",
     "start_time": "2021-12-13T06:09:53.172067Z"
    }
   },
   "outputs": [
    {
     "data": {
      "text/plain": [
       "0               6,10\n",
       "1               0,14\n",
       "2               9,10\n",
       "3                0,3\n",
       "4               10,4\n",
       "5               4,11\n",
       "6                6,0\n",
       "7               6,12\n",
       "8                4,1\n",
       "9               0,13\n",
       "10             10,12\n",
       "11               3,4\n",
       "12               3,0\n",
       "13               8,4\n",
       "14              1,10\n",
       "15              2,14\n",
       "16              8,10\n",
       "17               9,0\n",
       "18                  \n",
       "19    fold along y=7\n",
       "20    fold along x=5\n",
       "dtype: object"
      ]
     },
     "execution_count": 241,
     "metadata": {},
     "output_type": "execute_result"
    }
   ],
   "source": [
    "day = 'day13'\n",
    "with open(f'test{day}' , 'r') as f:\n",
    "    file = f.read().splitlines()\n",
    "file = pd.Series(file)\n",
    "file"
   ]
  },
  {
   "cell_type": "code",
   "execution_count": 394,
   "id": "d7885765",
   "metadata": {
    "ExecuteTime": {
     "end_time": "2021-12-13T06:54:58.342325Z",
     "start_time": "2021-12-13T06:54:58.335366Z"
    }
   },
   "outputs": [
    {
     "data": {
      "text/plain": [
       "0               388,758\n",
       "1                82,197\n",
       "2               689,684\n",
       "3               140,677\n",
       "4                616,14\n",
       "             ...       \n",
       "1029    fold along y=55\n",
       "1030    fold along x=40\n",
       "1031    fold along y=27\n",
       "1032    fold along y=13\n",
       "1033     fold along y=6\n",
       "Length: 1034, dtype: object"
      ]
     },
     "execution_count": 394,
     "metadata": {},
     "output_type": "execute_result"
    }
   ],
   "source": [
    "with open(day , 'r') as f:\n",
    "    file = f.read().splitlines()\n",
    "file = pd.Series(file)\n",
    "file"
   ]
  },
  {
   "cell_type": "code",
   "execution_count": 395,
   "id": "f2c457fb",
   "metadata": {
    "ExecuteTime": {
     "end_time": "2021-12-13T06:54:59.505117Z",
     "start_time": "2021-12-13T06:54:59.500793Z"
    }
   },
   "outputs": [],
   "source": [
    "fold = [f.split('along ')[1] for f in file if 'fold' in f]\n",
    "xy = [f.split(',') for f in file if ',' in f]"
   ]
  },
  {
   "cell_type": "code",
   "execution_count": 397,
   "id": "c5c7946a",
   "metadata": {
    "ExecuteTime": {
     "end_time": "2021-12-13T06:55:00.105122Z",
     "start_time": "2021-12-13T06:55:00.100928Z"
    }
   },
   "outputs": [],
   "source": [
    "data = pd.DataFrame(xy, columns=['x', 'y']).astype(int)"
   ]
  },
  {
   "cell_type": "code",
   "execution_count": 399,
   "id": "ba0db876",
   "metadata": {
    "ExecuteTime": {
     "end_time": "2021-12-13T06:55:01.101111Z",
     "start_time": "2021-12-13T06:55:00.685000Z"
    }
   },
   "outputs": [],
   "source": [
    "grid = np.ones(( data.y.max()+1, data.x.max()+1))\n",
    "grid = np.where(grid ==1, '.', grid)\n",
    "#grid = pd.DataFrame(grid)"
   ]
  },
  {
   "cell_type": "code",
   "execution_count": 401,
   "id": "e8d4c2ce",
   "metadata": {
    "ExecuteTime": {
     "end_time": "2021-12-13T06:55:01.274584Z",
     "start_time": "2021-12-13T06:55:01.205780Z"
    }
   },
   "outputs": [],
   "source": [
    "for idx, row in data.iterrows():\n",
    "    grid[row['y'], row['x']] = \"#\"\n",
    "    #print(row['x'],row['y'])"
   ]
  },
  {
   "cell_type": "code",
   "execution_count": 402,
   "id": "b119ad00",
   "metadata": {
    "ExecuteTime": {
     "end_time": "2021-12-13T06:55:01.655763Z",
     "start_time": "2021-12-13T06:55:01.650859Z"
    }
   },
   "outputs": [
    {
     "data": {
      "text/plain": [
       "array([['.', '.', '.', ..., '.', '.', '.'],\n",
       "       ['.', '.', '.', ..., '.', '.', '.'],\n",
       "       ['.', '.', '.', ..., '.', '.', '.'],\n",
       "       ...,\n",
       "       ['.', '.', '.', ..., '.', '.', '.'],\n",
       "       ['.', '.', '.', ..., '.', '.', '.'],\n",
       "       ['.', '.', '.', ..., '.', '.', '.']], dtype='<U32')"
      ]
     },
     "execution_count": 402,
     "metadata": {},
     "output_type": "execute_result"
    }
   ],
   "source": [
    "grid"
   ]
  },
  {
   "cell_type": "code",
   "execution_count": 403,
   "id": "f4aa0f7c",
   "metadata": {
    "ExecuteTime": {
     "end_time": "2021-12-13T06:55:02.096521Z",
     "start_time": "2021-12-13T06:55:02.091618Z"
    }
   },
   "outputs": [],
   "source": [
    "def split_grid(grid, dic_entry):\n",
    "    axis, value = dic_entry.split('=')\n",
    "    value = int(value)\n",
    "    if axis=='y':\n",
    "        first_grid = grid[:value][:]\n",
    "        second_grid = grid[value+1:][:]\n",
    "        second_grid = np.flip(second_grid, 0)\n",
    "    \n",
    "    if axis=='x':\n",
    "        first_grid = grid[:, :value]\n",
    "        second_grid = grid[:, value+1:]\n",
    "        second_grid = np.flip(second_grid, 1)\n",
    "        \n",
    "    return first_grid, second_grid"
   ]
  },
  {
   "cell_type": "code",
   "execution_count": 404,
   "id": "69109549",
   "metadata": {
    "ExecuteTime": {
     "end_time": "2021-12-13T06:55:02.771282Z",
     "start_time": "2021-12-13T06:55:02.767297Z"
    }
   },
   "outputs": [],
   "source": [
    "def fold_grid(grid, fold):\n",
    "    for f in fold:\n",
    "        a, b = split_grid(grid, f)\n",
    "        if f[0] == 'x':\n",
    "            grid = merge_on_x(a,b)\n",
    "        else:\n",
    "            grid = merge_on_y(a, b)\n",
    "    return grid"
   ]
  },
  {
   "cell_type": "code",
   "execution_count": 406,
   "id": "5b28dfd2",
   "metadata": {
    "ExecuteTime": {
     "end_time": "2021-12-13T06:55:08.697955Z",
     "start_time": "2021-12-13T06:55:08.694023Z"
    }
   },
   "outputs": [],
   "source": [
    "def merge_on_y(a, b):\n",
    "    for idxb, tempb in enumerate(b[::-1][:]):\n",
    "        tempa = a[-1-idxb, :]\n",
    "        replace = np.where(tempb==\"#\", \"#\", tempa)\n",
    "        a[-1-idxb, :] = replace\n",
    "    return a"
   ]
  },
  {
   "cell_type": "code",
   "execution_count": 407,
   "id": "3ea42889",
   "metadata": {
    "ExecuteTime": {
     "end_time": "2021-12-13T06:55:09.021800Z",
     "start_time": "2021-12-13T06:55:09.017609Z"
    }
   },
   "outputs": [],
   "source": [
    "def merge_on_x(a,b ):\n",
    "    for idxb, tempb in enumerate(b[:, ::-1].T):\n",
    "        tempa = a[:, -1-idxb ]\n",
    "        replace = np.where(tempb==\"#\", \"#\", tempa)\n",
    "        a[:, -1-idxb] = replace\n",
    "    return a"
   ]
  },
  {
   "cell_type": "code",
   "execution_count": 405,
   "id": "d2c8f49d",
   "metadata": {
    "ExecuteTime": {
     "end_time": "2021-12-13T06:55:07.471436Z",
     "start_time": "2021-12-13T06:55:07.468501Z"
    }
   },
   "outputs": [],
   "source": [
    "a, b = split_grid(grid, fold[0])"
   ]
  },
  {
   "cell_type": "code",
   "execution_count": 408,
   "id": "bc492fbe",
   "metadata": {
    "ExecuteTime": {
     "end_time": "2021-12-13T06:55:09.751927Z",
     "start_time": "2021-12-13T06:55:09.711435Z"
    }
   },
   "outputs": [],
   "source": [
    "a = merge_on_y(a, b)"
   ]
  },
  {
   "cell_type": "code",
   "execution_count": 355,
   "id": "bcf15c32",
   "metadata": {
    "ExecuteTime": {
     "end_time": "2021-12-13T06:43:56.544127Z",
     "start_time": "2021-12-13T06:43:56.460387Z"
    }
   },
   "outputs": [],
   "source": [
    "one = merge_on_x(a, b)"
   ]
  },
  {
   "cell_type": "code",
   "execution_count": 409,
   "id": "f0bd6de9",
   "metadata": {
    "ExecuteTime": {
     "end_time": "2021-12-13T06:55:12.675283Z",
     "start_time": "2021-12-13T06:55:12.417388Z"
    }
   },
   "outputs": [
    {
     "data": {
      "text/plain": [
       "{'#': 842, '.': 585383}"
      ]
     },
     "execution_count": 409,
     "metadata": {},
     "output_type": "execute_result"
    }
   ],
   "source": [
    "unique, counts = np.unique(a, return_counts=True)\n",
    "dict(zip(unique, counts))"
   ]
  },
  {
   "cell_type": "markdown",
   "id": "4ae54f55",
   "metadata": {},
   "source": [
    "## Part 2"
   ]
  },
  {
   "cell_type": "code",
   "execution_count": 410,
   "id": "f9c04f10",
   "metadata": {
    "ExecuteTime": {
     "end_time": "2021-12-13T06:55:32.545520Z",
     "start_time": "2021-12-13T06:55:32.411232Z"
    }
   },
   "outputs": [],
   "source": [
    "res = fold_grid(grid, fold)"
   ]
  },
  {
   "cell_type": "code",
   "execution_count": 411,
   "id": "7dde99c8",
   "metadata": {
    "ExecuteTime": {
     "end_time": "2021-12-13T06:55:32.592139Z",
     "start_time": "2021-12-13T06:55:32.588554Z"
    }
   },
   "outputs": [],
   "source": [
    "res = np.where(res=='.', 0, res)\n",
    "res = np.where(res=='#', 1, res)"
   ]
  },
  {
   "cell_type": "code",
   "execution_count": 412,
   "id": "e9d67a94",
   "metadata": {
    "ExecuteTime": {
     "end_time": "2021-12-13T06:55:32.776089Z",
     "start_time": "2021-12-13T06:55:32.772430Z"
    }
   },
   "outputs": [],
   "source": [
    "res = pd.DataFrame(res).astype(int)"
   ]
  },
  {
   "cell_type": "code",
   "execution_count": 413,
   "id": "a703dccf",
   "metadata": {
    "ExecuteTime": {
     "end_time": "2021-12-13T06:55:33.610572Z",
     "start_time": "2021-12-13T06:55:33.438660Z"
    },
    "scrolled": false
   },
   "outputs": [
    {
     "data": {
      "text/plain": [
       "<matplotlib.image.AxesImage at 0x11e10b990>"
      ]
     },
     "execution_count": 413,
     "metadata": {},
     "output_type": "execute_result"
    },
    {
     "data": {
      "image/png": "[encoded data removed]",
      "text/plain": [
       "<Figure size 432x288 with 1 Axes>"
      ]
     },
     "metadata": {
      "needs_background": "light"
     },
     "output_type": "display_data"
    }
   ],
   "source": [
    "import matplotlib.pyplot as plt\n",
    "plt.imshow(res)"
   ]
  },
  {
   "cell_type": "markdown",
   "id": "6c31f39d",
   "metadata": {},
   "source": [
    "# Day 14"
   ]
  },
  {
   "cell_type": "markdown",
   "id": "3fc1a306",
   "metadata": {
    "ExecuteTime": {
     "end_time": "2021-12-09T18:03:43.792927Z",
     "start_time": "2021-12-09T18:03:43.790251Z"
    }
   },
   "source": [
    "## Preparation"
   ]
  },
  {
   "cell_type": "code",
   "execution_count": 168,
   "id": "814e24df",
   "metadata": {
    "ExecuteTime": {
     "end_time": "2021-12-14T19:49:23.040698Z",
     "start_time": "2021-12-14T19:49:23.032994Z"
    }
   },
   "outputs": [
    {
     "data": {
      "text/plain": [
       "0        NNCB\n",
       "1            \n",
       "2     CH -> B\n",
       "3     HH -> N\n",
       "4     CB -> H\n",
       "5     NH -> C\n",
       "6     HB -> C\n",
       "7     HC -> B\n",
       "8     HN -> C\n",
       "9     NN -> C\n",
       "10    BH -> H\n",
       "11    NC -> B\n",
       "12    NB -> B\n",
       "13    BN -> B\n",
       "14    BB -> N\n",
       "15    BC -> B\n",
       "16    CC -> N\n",
       "17    CN -> C\n",
       "dtype: object"
      ]
     },
     "execution_count": 168,
     "metadata": {},
     "output_type": "execute_result"
    }
   ],
   "source": [
    "day = 'day14'\n",
    "with open(f'test{day}' , 'r') as f:\n",
    "    file = f.read().splitlines()\n",
    "file = pd.Series(file)\n",
    "file"
   ]
  },
  {
   "cell_type": "code",
   "execution_count": 145,
   "id": "7103b1eb",
   "metadata": {
    "ExecuteTime": {
     "end_time": "2021-12-14T19:05:37.788781Z",
     "start_time": "2021-12-14T19:05:37.781335Z"
    }
   },
   "outputs": [
    {
     "data": {
      "text/plain": [
       "0      SVKVKCCBNHNSOSCCOPOC\n",
       "1                          \n",
       "2                   KK -> B\n",
       "3                   CS -> P\n",
       "4                   VV -> O\n",
       "               ...         \n",
       "97                  HN -> V\n",
       "98                  OK -> O\n",
       "99                  FF -> V\n",
       "100                 CV -> V\n",
       "101                 PP -> V\n",
       "Length: 102, dtype: object"
      ]
     },
     "execution_count": 145,
     "metadata": {},
     "output_type": "execute_result"
    }
   ],
   "source": [
    "with open(day , 'r') as f:\n",
    "    file = f.read().splitlines()\n",
    "file = pd.Series(file)\n",
    "file"
   ]
  },
  {
   "cell_type": "code",
   "execution_count": 146,
   "id": "f8e80335",
   "metadata": {
    "ExecuteTime": {
     "end_time": "2021-12-14T19:05:38.213512Z",
     "start_time": "2021-12-14T19:05:38.208821Z"
    }
   },
   "outputs": [],
   "source": [
    "rule = file[0]\n",
    "def map_pattern(x):\n",
    "    #x = x.split(\": \")[1]\n",
    "    x = x.split(' -> ')\n",
    "    return x\n",
    "          \n",
    "data = file[2:].apply(map_pattern).to_list()\n",
    "#data = pd.DataFrame(data)\n",
    "#data = data.astype(int)\n",
    "#data = {x[0]: x[0][0] + x[1] + x[0][1]  for x in data}\n",
    "data = {x[0]: x[1]   for x in data}\n",
    "\n",
    "#data"
   ]
  },
  {
   "cell_type": "markdown",
   "id": "b9a00bd8",
   "metadata": {},
   "source": [
    "## Test"
   ]
  },
  {
   "cell_type": "code",
   "execution_count": 179,
   "id": "3fa44591",
   "metadata": {
    "ExecuteTime": {
     "end_time": "2021-12-14T19:53:59.141972Z",
     "start_time": "2021-12-14T19:53:59.138926Z"
    }
   },
   "outputs": [],
   "source": [
    "rule = file[0]"
   ]
  },
  {
   "cell_type": "code",
   "execution_count": 180,
   "id": "cd826454",
   "metadata": {
    "ExecuteTime": {
     "end_time": "2021-12-14T19:53:59.476231Z",
     "start_time": "2021-12-14T19:53:59.473545Z"
    }
   },
   "outputs": [],
   "source": [
    "from collections import Counter\n",
    "count = Counter(rule)"
   ]
  },
  {
   "cell_type": "code",
   "execution_count": 181,
   "id": "3c273bce",
   "metadata": {
    "ExecuteTime": {
     "end_time": "2021-12-14T19:53:59.783222Z",
     "start_time": "2021-12-14T19:53:59.772079Z"
    }
   },
   "outputs": [
    {
     "name": "stdout",
     "output_type": "stream",
     "text": [
      "Counter({'N': 2, 'C': 1, 'B': 1, 'K': 1, 'S': 1, 'V': 1})\n",
      "Counter({'N': 3, 'C': 2, 'S': 2, 'V': 2, 'B': 1, 'K': 1, 'H': 1, 'P': 1})\n",
      "Counter({'N': 4, 'C': 4, 'S': 4, 'V': 4, 'B': 3, 'K': 3, 'H': 1, 'P': 1, 'O': 1})\n",
      "Counter({'C': 8, 'K': 8, 'N': 7, 'V': 7, 'S': 6, 'O': 4, 'B': 3, 'H': 3, 'P': 2, 'F': 1})\n",
      "Counter({'K': 18, 'N': 14, 'C': 14, 'V': 13, 'S': 11, 'H': 9, 'B': 7, 'O': 6, 'F': 3, 'P': 2})\n",
      "Counter({'K': 37, 'C': 29, 'N': 26, 'V': 22, 'S': 19, 'H': 19, 'B': 15, 'O': 15, 'P': 6, 'F': 5})\n",
      "Counter({'K': 72, 'C': 57, 'N': 47, 'V': 40, 'H': 40, 'B': 39, 'S': 36, 'O': 29, 'P': 13, 'F': 12})\n",
      "Counter({'K': 145, 'C': 118, 'N': 89, 'B': 88, 'V': 82, 'H': 69, 'S': 65, 'O': 64, 'P': 26, 'F': 23})\n",
      "Counter({'K': 282, 'C': 239, 'B': 182, 'N': 167, 'V': 158, 'H': 147, 'S': 131, 'O': 128, 'P': 53, 'F': 50})\n",
      "Counter({'K': 559, 'C': 493, 'B': 387, 'V': 313, 'N': 311, 'H': 280, 'O': 266, 'S': 260, 'P': 104, 'F': 100})\n"
     ]
    }
   ],
   "source": [
    "for _ in range(10):\n",
    "    to_insert = [data[rule[i:i+2]] for i in range(len(rule)-1)]\n",
    "\n",
    "    rule = [i for i in rule]\n",
    "\n",
    "    for i, lett in enumerate(to_insert):\n",
    "        rule.insert((2*i+1), lett)\n",
    "\n",
    "    count.update(to_insert)\n",
    "    print((count))\n",
    "\n",
    "    rule = ''.join(rule) "
   ]
  },
  {
   "cell_type": "code",
   "execution_count": 154,
   "id": "b235bf9a",
   "metadata": {
    "ExecuteTime": {
     "end_time": "2021-12-14T19:47:41.632412Z",
     "start_time": "2021-12-14T19:47:41.627530Z"
    }
   },
   "outputs": [
    {
     "data": {
      "text/plain": [
       "67655"
      ]
     },
     "execution_count": 154,
     "metadata": {},
     "output_type": "execute_result"
    }
   ],
   "source": [
    "max(count.values()) - min(count.values()) "
   ]
  },
  {
   "cell_type": "code",
   "execution_count": 144,
   "id": "d20287bd",
   "metadata": {
    "ExecuteTime": {
     "end_time": "2021-12-14T19:05:28.625381Z",
     "start_time": "2021-12-14T19:05:28.621054Z"
    }
   },
   "outputs": [
    {
     "data": {
      "text/plain": [
       "Counter({'N': 865, 'C': 298, 'B': 1749, 'H': 161})"
      ]
     },
     "execution_count": 144,
     "metadata": {},
     "output_type": "execute_result"
    }
   ],
   "source": [
    "count"
   ]
  },
  {
   "cell_type": "markdown",
   "id": "c61fef41",
   "metadata": {},
   "source": [
    "## Part 1"
   ]
  },
  {
   "cell_type": "code",
   "execution_count": 134,
   "id": "df04cf09",
   "metadata": {
    "ExecuteTime": {
     "end_time": "2021-12-14T18:52:00.640581Z",
     "start_time": "2021-12-14T18:52:00.636338Z"
    }
   },
   "outputs": [
    {
     "data": {
      "text/plain": [
       "True"
      ]
     },
     "execution_count": 134,
     "metadata": {},
     "output_type": "execute_result"
    }
   ],
   "source": []
  },
  {
   "cell_type": "markdown",
   "id": "a25279ef",
   "metadata": {},
   "source": [
    "# day 15"
   ]
  },
  {
   "cell_type": "code",
   "execution_count": 185,
   "id": "0b03cedd",
   "metadata": {
    "ExecuteTime": {
     "end_time": "2021-12-15T05:01:14.099041Z",
     "start_time": "2021-12-15T05:01:14.092243Z"
    }
   },
   "outputs": [
    {
     "data": {
      "text/plain": [
       "0    1163751742\n",
       "1    1381373672\n",
       "2    2136511328\n",
       "3    3694931569\n",
       "4    7463417111\n",
       "5    1319128137\n",
       "6    1359912421\n",
       "7    3125421639\n",
       "8    1293138521\n",
       "9    2311944581\n",
       "dtype: object"
      ]
     },
     "execution_count": 185,
     "metadata": {},
     "output_type": "execute_result"
    }
   ],
   "source": [
    "day = 'day15'\n",
    "with open(f'test{day}' , 'r') as f:\n",
    "    file = f.read().splitlines()\n",
    "file = pd.Series(file)\n",
    "file"
   ]
  },
  {
   "cell_type": "code",
   "execution_count": 218,
   "id": "56202dfc",
   "metadata": {
    "ExecuteTime": {
     "end_time": "2021-12-15T05:22:33.927614Z",
     "start_time": "2021-12-15T05:22:33.920109Z"
    }
   },
   "outputs": [
    {
     "data": {
      "text/plain": [
       "0     4762999789865789979838469132535949928924821629...\n",
       "1     2878689389148477519999123173439839916421859766...\n",
       "2     4681844686577988929825996716999999595142263859...\n",
       "3     9336787159699929348236396957149575286918149176...\n",
       "4     4412778865289876989817697439991158316498888846...\n",
       "                            ...                        \n",
       "95    8896972417796897466198771849598333659811593287...\n",
       "96    8929197695685946989955451996992847784359198649...\n",
       "97    7758493985827548487978389978352561798197251191...\n",
       "98    9596899189247929998998329673792729789795579158...\n",
       "99    4868743394828817989695434879853789734813996791...\n",
       "Length: 100, dtype: object"
      ]
     },
     "execution_count": 218,
     "metadata": {},
     "output_type": "execute_result"
    }
   ],
   "source": [
    "with open(f'{day}' , 'r') as f:\n",
    "    file = f.read().splitlines()\n",
    "file = pd.Series(file)\n",
    "file"
   ]
  },
  {
   "cell_type": "code",
   "execution_count": 222,
   "id": "c08fd5a8",
   "metadata": {
    "ExecuteTime": {
     "end_time": "2021-12-15T05:30:04.153232Z",
     "start_time": "2021-12-15T05:30:04.132042Z"
    }
   },
   "outputs": [
    {
     "data": {
      "text/plain": [
       "array([[4, 7, 6, ..., 7, 4, 9],\n",
       "       [2, 8, 7, ..., 8, 8, 6],\n",
       "       [4, 6, 8, ..., 9, 4, 2],\n",
       "       ...,\n",
       "       [7, 7, 5, ..., 6, 7, 8],\n",
       "       [9, 5, 9, ..., 9, 9, 5],\n",
       "       [4, 8, 6, ..., 9, 3, 9]])"
      ]
     },
     "execution_count": 222,
     "metadata": {},
     "output_type": "execute_result"
    }
   ],
   "source": [
    "def map_pattern(x):\n",
    "    #x = x.split(\": \")[1]\n",
    "    x = [i for i in x]\n",
    "    return np.array(x, dtype=int)\n",
    "          \n",
    "data = file.apply(map_pattern).to_list()\n",
    "data = pd.DataFrame(data)\n",
    "#data = data.astype(int)\n",
    "data = data.to_numpy()\n",
    "data"
   ]
  },
  {
   "cell_type": "markdown",
   "id": "83aace8a",
   "metadata": {},
   "source": [
    "## Test"
   ]
  },
  {
   "cell_type": "code",
   "execution_count": 220,
   "id": "a0c5bf16",
   "metadata": {
    "ExecuteTime": {
     "end_time": "2021-12-15T05:22:35.755205Z",
     "start_time": "2021-12-15T05:22:35.748888Z"
    }
   },
   "outputs": [],
   "source": [
    "def minPathSum(grid):\n",
    "    rows = len(grid)\n",
    "    cols = len(grid[0])\n",
    "    \n",
    "    # first row\n",
    "    for i in range(1, cols):\n",
    "        grid[0][i] += grid[0][i-1]\n",
    "    \n",
    "    # first col\n",
    "    for i in range(1, rows):\n",
    "        grid[i][0] += grid[i-1][0]\n",
    "    # inner cells\n",
    "    for i in range(1, rows):\n",
    "        for j in range(1, cols):\n",
    "            grid[i][j] += min(grid[i-1][j], grid[i][j-1])\n",
    "    return grid[-1][-1]"
   ]
  },
  {
   "cell_type": "code",
   "execution_count": 221,
   "id": "e0fb9064",
   "metadata": {
    "ExecuteTime": {
     "end_time": "2021-12-15T05:22:36.168852Z",
     "start_time": "2021-12-15T05:22:36.145783Z"
    }
   },
   "outputs": [
    {
     "data": {
      "text/plain": [
       "745"
      ]
     },
     "execution_count": 221,
     "metadata": {},
     "output_type": "execute_result"
    }
   ],
   "source": [
    "minPathSum(data) - data[0, 0]"
   ]
  },
  {
   "cell_type": "markdown",
   "id": "9b56d936",
   "metadata": {},
   "source": [
    "## Part 1"
   ]
  },
  {
   "cell_type": "code",
   "execution_count": 274,
   "id": "5927a90a",
   "metadata": {
    "ExecuteTime": {
     "end_time": "2021-12-15T06:42:25.979755Z",
     "start_time": "2021-12-15T06:42:25.973904Z"
    }
   },
   "outputs": [
    {
     "data": {
      "text/plain": [
       "array([[4, 7, 6, ..., 7, 4, 9],\n",
       "       [2, 8, 7, ..., 8, 8, 6],\n",
       "       [4, 6, 8, ..., 9, 4, 2],\n",
       "       ...,\n",
       "       [7, 7, 5, ..., 6, 7, 8],\n",
       "       [9, 5, 9, ..., 9, 9, 5],\n",
       "       [4, 8, 6, ..., 9, 3, 9]])"
      ]
     },
     "execution_count": 274,
     "metadata": {},
     "output_type": "execute_result"
    }
   ],
   "source": [
    "np.array(data)"
   ]
  },
  {
   "cell_type": "code",
   "execution_count": 282,
   "id": "d7cbf7c3",
   "metadata": {
    "ExecuteTime": {
     "end_time": "2021-12-15T06:48:41.520660Z",
     "start_time": "2021-12-15T06:48:41.514762Z"
    }
   },
   "outputs": [
    {
     "data": {
      "text/plain": [
       "(500, 500)"
      ]
     },
     "execution_count": 282,
     "metadata": {},
     "output_type": "execute_result"
    }
   ],
   "source": [
    "tile = np.tile(data, (5, 5))\n",
    "\n",
    "tile.shape"
   ]
  },
  {
   "cell_type": "code",
   "execution_count": 283,
   "id": "3e8d2e84",
   "metadata": {
    "ExecuteTime": {
     "end_time": "2021-12-15T06:48:42.311030Z",
     "start_time": "2021-12-15T06:48:41.882908Z"
    }
   },
   "outputs": [],
   "source": [
    "for i in range(tile.shape[0]):\n",
    "    for j in range(tile.shape[1]):\n",
    "        i_, j_ = i//100, j//100\n",
    "        adder = i_ + j_\n",
    "        tile[i, j] += adder\n",
    "        if tile[i, j] > 9:\n",
    "            tile[i, j] -=9\n",
    "        "
   ]
  },
  {
   "cell_type": "code",
   "execution_count": 284,
   "id": "96908f85",
   "metadata": {
    "ExecuteTime": {
     "end_time": "2021-12-15T06:48:42.701532Z",
     "start_time": "2021-12-15T06:48:42.696871Z"
    }
   },
   "outputs": [
    {
     "data": {
      "text/plain": [
       "array([[4, 7, 6, ..., 2, 8, 4],\n",
       "       [2, 8, 7, ..., 3, 3, 1],\n",
       "       [4, 6, 8, ..., 4, 8, 6],\n",
       "       ...,\n",
       "       [2, 2, 9, ..., 5, 6, 7],\n",
       "       [4, 9, 4, ..., 8, 8, 4],\n",
       "       [8, 3, 1, ..., 8, 2, 8]])"
      ]
     },
     "execution_count": 284,
     "metadata": {},
     "output_type": "execute_result"
    }
   ],
   "source": [
    "tile"
   ]
  },
  {
   "cell_type": "code",
   "execution_count": 285,
   "id": "e49a1290",
   "metadata": {
    "ExecuteTime": {
     "end_time": "2021-12-15T06:48:43.472589Z",
     "start_time": "2021-12-15T06:48:43.103331Z"
    }
   },
   "outputs": [
    {
     "data": {
      "text/plain": [
       "3012"
      ]
     },
     "execution_count": 285,
     "metadata": {},
     "output_type": "execute_result"
    }
   ],
   "source": [
    "minPathSum(tile) - tile[0, 0]"
   ]
  },
  {
   "cell_type": "markdown",
   "id": "e60fa61c",
   "metadata": {},
   "source": [
    "## Part 2"
   ]
  },
  {
   "cell_type": "code",
   "execution_count": 257,
   "id": "b678bcc8",
   "metadata": {
    "ExecuteTime": {
     "end_time": "2021-12-15T06:12:44.342661Z",
     "start_time": "2021-12-15T06:12:44.339255Z"
    }
   },
   "outputs": [],
   "source": [
    "import numpy as np\n",
    "import matplotlib.pyplot as plt\n",
    "\n",
    "carte = tile\n",
    "carte[0,0]=0\n",
    "min_val, max_val = 500, 500\n",
    "#carte[max_val-1,max_val-1]=0"
   ]
  },
  {
   "cell_type": "code",
   "execution_count": null,
   "id": "7e664eca",
   "metadata": {
    "ExecuteTime": {
     "end_time": "2021-12-15T06:05:15.559575Z",
     "start_time": "2021-12-15T06:02:13.901Z"
    }
   },
   "outputs": [],
   "source": [
    "fig, ax = plt.subplots(figsize=(8,8))\n",
    "\n",
    "ax.matshow(carte, ccarte=plt.cm.Blues, vmin=0, vmax=20)\n",
    "for i in range(max_val):\n",
    "    for j in range(max_val):\n",
    "      c = carte[j,i]\n",
    "      ax.text(i, j, str(c), va='center', ha='center')"
   ]
  },
  {
   "cell_type": "code",
   "execution_count": null,
   "id": "bf2eec49",
   "metadata": {},
   "outputs": [],
   "source": []
  },
  {
   "cell_type": "code",
   "execution_count": 268,
   "id": "19c6446b",
   "metadata": {
    "ExecuteTime": {
     "end_time": "2021-12-15T06:18:35.328072Z",
     "start_time": "2021-12-15T06:18:35.317117Z"
    }
   },
   "outputs": [],
   "source": [
    "from heapq import heappop, heappush\n",
    "\n",
    "with open(\"day15\") as f:\n",
    "    data = [list(map(int, line)) for line in f.read().strip().split(\"\\n\")]\n",
    "def shortest_distance(t):\n",
    "    heap = [(0, 0, 0)]\n",
    "    seen = {(0, 0)}\n",
    "    while heap:\n",
    "        distance, x, y = heappop(heap)\n",
    "        if x == t * len(data) - 1 and y == t * len(data[0]) - 1:\n",
    "            return distance\n",
    "\n",
    "        for dx, dy in ((0, 1), (0, -1), (1, 0), (-1, 0)):\n",
    "            x_, y_ = x + dx, y + dy\n",
    "            if x_ < 0 or y_ < 0 or x_ >= t * len(data) or y_ >= t * len(data):\n",
    "                continue\n",
    "\n",
    "            a, am = divmod(x_, len(data))\n",
    "            b, bm = divmod(y_, len(data[0]))\n",
    "            n = ((data[am][bm] + a + b) - 1) % 9 + 1\n",
    "\n",
    "            if (x_, y_) not in seen:\n",
    "                seen.add((x_, y_))\n",
    "                heappush(heap, (distance + n, x_, y_))\n"
   ]
  },
  {
   "cell_type": "code",
   "execution_count": 269,
   "id": "536967e6",
   "metadata": {
    "ExecuteTime": {
     "end_time": "2021-12-15T06:18:39.656796Z",
     "start_time": "2021-12-15T06:18:39.587318Z"
    }
   },
   "outputs": [
    {
     "data": {
      "text/plain": [
       "745"
      ]
     },
     "execution_count": 269,
     "metadata": {},
     "output_type": "execute_result"
    }
   ],
   "source": [
    "shortest_distance(1)"
   ]
  },
  {
   "cell_type": "code",
   "execution_count": 270,
   "id": "9576be28",
   "metadata": {
    "ExecuteTime": {
     "end_time": "2021-12-15T06:18:47.241064Z",
     "start_time": "2021-12-15T06:18:45.629056Z"
    }
   },
   "outputs": [
    {
     "data": {
      "text/plain": [
       "3002"
      ]
     },
     "execution_count": 270,
     "metadata": {},
     "output_type": "execute_result"
    }
   ],
   "source": [
    "shortest_distance(5)"
   ]
  },
  {
   "cell_type": "markdown",
   "id": "fbd065b7",
   "metadata": {},
   "source": [
    "# day 16"
   ]
  },
  {
   "cell_type": "code",
   "execution_count": 148,
   "id": "1eb3f206",
   "metadata": {
    "ExecuteTime": {
     "end_time": "2021-12-16T06:54:31.091729Z",
     "start_time": "2021-12-16T06:54:31.085512Z"
    }
   },
   "outputs": [
    {
     "data": {
      "text/plain": [
       "{'0': '0000',\n",
       " '1': '0001',\n",
       " '2': '0010',\n",
       " '3': '0011',\n",
       " '4': '0100',\n",
       " '5': '0101',\n",
       " '6': '0110',\n",
       " '7': '0111',\n",
       " '8': '1000',\n",
       " '9': '1001',\n",
       " 'A': '1010',\n",
       " 'B': '1011',\n",
       " 'C': '1100',\n",
       " 'D': '1101',\n",
       " 'E': '1110',\n",
       " 'F': '1111'}"
      ]
     },
     "execution_count": 148,
     "metadata": {},
     "output_type": "execute_result"
    }
   ],
   "source": [
    "hexa = \"\"\"0 = 0000\n",
    "1 = 0001\n",
    "2 = 0010\n",
    "3 = 0011\n",
    "4 = 0100\n",
    "5 = 0101\n",
    "6 = 0110\n",
    "7 = 0111\n",
    "8 = 1000\n",
    "9 = 1001\n",
    "A = 1010\n",
    "B = 1011\n",
    "C = 1100\n",
    "D = 1101\n",
    "E = 1110\n",
    "F = 1111\"\"\"\n",
    "hexa = hexa.split('\\n')\n",
    "\n",
    "hexa = {x.split(' = ')[0]:x.split(' = ')[1] for x in hexa}\n",
    "hexa\n"
   ]
  },
  {
   "cell_type": "code",
   "execution_count": 149,
   "id": "57a93de3",
   "metadata": {
    "ExecuteTime": {
     "end_time": "2021-12-16T06:54:31.667070Z",
     "start_time": "2021-12-16T06:54:31.662119Z"
    }
   },
   "outputs": [
    {
     "data": {
      "text/plain": [
       "True"
      ]
     },
     "execution_count": 149,
     "metadata": {},
     "output_type": "execute_result"
    }
   ],
   "source": [
    "test = [hexa[i] for i in 'D2FE28']\n",
    "test = ''.join(test)\n",
    "test == '110100101111111000101000'"
   ]
  },
  {
   "cell_type": "code",
   "execution_count": 150,
   "id": "666310b8",
   "metadata": {
    "ExecuteTime": {
     "end_time": "2021-12-16T06:54:32.076563Z",
     "start_time": "2021-12-16T06:54:32.070599Z"
    }
   },
   "outputs": [
    {
     "data": {
      "text/plain": [
       "True"
      ]
     },
     "execution_count": 150,
     "metadata": {},
     "output_type": "execute_result"
    }
   ],
   "source": [
    "test = [hexa[i] for i in '38006F45291200']\n",
    "test = ''.join(test)\n",
    "test == '00111000000000000110111101000101001010010001001000000000'"
   ]
  },
  {
   "cell_type": "code",
   "execution_count": 25,
   "id": "53a702be",
   "metadata": {
    "ExecuteTime": {
     "end_time": "2021-12-16T05:38:50.948624Z",
     "start_time": "2021-12-16T05:38:50.943302Z"
    }
   },
   "outputs": [
    {
     "data": {
      "text/plain": [
       "('110', '100', '101111111000101000')"
      ]
     },
     "execution_count": 25,
     "metadata": {},
     "output_type": "execute_result"
    }
   ],
   "source": [
    "def get_header_type(string):\n",
    "    header = string[0:3]\n",
    "    typeid = string[3:6]\n",
    "    rest = string[6:]\n",
    "    return header, typeid, rest\n",
    "\n",
    "get_header_type(test)"
   ]
  },
  {
   "cell_type": "code",
   "execution_count": 169,
   "id": "35678a94",
   "metadata": {
    "ExecuteTime": {
     "end_time": "2021-12-16T07:19:58.598611Z",
     "start_time": "2021-12-16T07:19:58.591858Z"
    }
   },
   "outputs": [
    {
     "data": {
      "text/plain": [
       "(2021, '000')"
      ]
     },
     "execution_count": 169,
     "metadata": {},
     "output_type": "execute_result"
    }
   ],
   "source": [
    "def split_package(pck):\n",
    "    bits = []\n",
    "    for i in range(len(pck)//5):\n",
    "        sub = pck[i*5:(i*5+5)]\n",
    "        bits.append(sub)\n",
    "        if sub[0] == '0':\n",
    "            break\n",
    "    bits = [b[1:] for b in bits]\n",
    "    bits = ''.join(bits)\n",
    "        \n",
    "    return int(bits, 2), pck[(i+1)*5:]\n",
    "split_package( '101111111000101000')"
   ]
  },
  {
   "cell_type": "code",
   "execution_count": 191,
   "id": "75131f62",
   "metadata": {
    "ExecuteTime": {
     "end_time": "2021-12-16T08:15:15.053840Z",
     "start_time": "2021-12-16T08:15:15.047339Z"
    }
   },
   "outputs": [],
   "source": [
    "def parse_operator(chars):\n",
    "    l = chars[0]\n",
    "    chars = chars[1:]\n",
    "    if l == '0': # length of 15\n",
    "        ope = chars[0:15]\n",
    "        ope = int(ope, 2)\n",
    "        chars = chars[15:]\n",
    "        bits = [int(chars[:11], 2), int(chars[11:ope], 2)]\n",
    "        print('length', ope)\n",
    "        rest = chars[ope:] \n",
    "        return bits, rest\n",
    "    if l == '1':\n",
    "        ope = int(chars[0:11], 2)\n",
    "        print(ope)\n",
    "        chars = chars[11:]\n",
    "        packs = [chars[i*11:(i+1)*11] for i in range(ope)]\n",
    "        rest = chars[(ope)*11:]\n",
    "        return [pckg for pckg in packs], rest"
   ]
  },
  {
   "cell_type": "code",
   "execution_count": 133,
   "id": "bc31417a",
   "metadata": {
    "ExecuteTime": {
     "end_time": "2021-12-16T06:46:45.030216Z",
     "start_time": "2021-12-16T06:46:45.026069Z"
    }
   },
   "outputs": [
    {
     "data": {
      "text/plain": [
       "([1674, 21028], '0000000')"
      ]
     },
     "execution_count": 133,
     "metadata": {},
     "output_type": "execute_result"
    }
   ],
   "source": [
    "parse_operator('00000000000110111101000101001010010001001000000000')"
   ]
  },
  {
   "cell_type": "code",
   "execution_count": 134,
   "id": "ea81b487",
   "metadata": {
    "ExecuteTime": {
     "end_time": "2021-12-16T06:46:57.430582Z",
     "start_time": "2021-12-16T06:46:57.413535Z"
    }
   },
   "outputs": [
    {
     "ename": "ValueError",
     "evalue": "invalid literal for int() with base 2: ''",
     "output_type": "error",
     "traceback": [
      "\u001b[0;31m---------------------------------------------------------------------------\u001b[0m",
      "\u001b[0;31mValueError\u001b[0m                                Traceback (most recent call last)",
      "\u001b[0;32m<ipython-input-134-9d2a403b026e>\u001b[0m in \u001b[0;36m<module>\u001b[0;34m\u001b[0m\n\u001b[0;32m----> 1\u001b[0;31m \u001b[0mparse_operator\u001b[0m\u001b[0;34m(\u001b[0m\u001b[0;34m'1101010000000000000101111010001111000'\u001b[0m\u001b[0;34m)\u001b[0m\u001b[0;34m\u001b[0m\u001b[0;34m\u001b[0m\u001b[0m\n\u001b[0m",
      "\u001b[0;32m<ipython-input-117-70ecb54f9159>\u001b[0m in \u001b[0;36mparse_operator\u001b[0;34m(chars)\u001b[0m\n\u001b[1;32m     14\u001b[0m         \u001b[0mpacks\u001b[0m \u001b[0;34m=\u001b[0m \u001b[0;34m[\u001b[0m\u001b[0mchars\u001b[0m\u001b[0;34m[\u001b[0m\u001b[0mi\u001b[0m\u001b[0;34m*\u001b[0m\u001b[0;36m11\u001b[0m\u001b[0;34m:\u001b[0m\u001b[0;34m(\u001b[0m\u001b[0mi\u001b[0m\u001b[0;34m+\u001b[0m\u001b[0;36m1\u001b[0m\u001b[0;34m)\u001b[0m\u001b[0;34m*\u001b[0m\u001b[0;36m11\u001b[0m\u001b[0;34m]\u001b[0m \u001b[0;32mfor\u001b[0m \u001b[0mi\u001b[0m \u001b[0;32min\u001b[0m \u001b[0mrange\u001b[0m\u001b[0;34m(\u001b[0m\u001b[0mope\u001b[0m\u001b[0;34m)\u001b[0m\u001b[0;34m]\u001b[0m\u001b[0;34m\u001b[0m\u001b[0;34m\u001b[0m\u001b[0m\n\u001b[1;32m     15\u001b[0m         \u001b[0mrest\u001b[0m \u001b[0;34m=\u001b[0m \u001b[0mchars\u001b[0m\u001b[0;34m[\u001b[0m\u001b[0;34m(\u001b[0m\u001b[0mope\u001b[0m\u001b[0;34m)\u001b[0m\u001b[0;34m*\u001b[0m\u001b[0;36m11\u001b[0m\u001b[0;34m:\u001b[0m\u001b[0;34m]\u001b[0m\u001b[0;34m\u001b[0m\u001b[0;34m\u001b[0m\u001b[0m\n\u001b[0;32m---> 16\u001b[0;31m         \u001b[0;32mreturn\u001b[0m \u001b[0;34m[\u001b[0m\u001b[0mint\u001b[0m\u001b[0;34m(\u001b[0m\u001b[0mpckg\u001b[0m\u001b[0;34m,\u001b[0m \u001b[0;36m2\u001b[0m\u001b[0;34m)\u001b[0m \u001b[0;32mfor\u001b[0m \u001b[0mpckg\u001b[0m \u001b[0;32min\u001b[0m \u001b[0mpacks\u001b[0m\u001b[0;34m]\u001b[0m\u001b[0;34m,\u001b[0m \u001b[0mrest\u001b[0m\u001b[0;34m\u001b[0m\u001b[0;34m\u001b[0m\u001b[0m\n\u001b[0m",
      "\u001b[0;32m<ipython-input-117-70ecb54f9159>\u001b[0m in \u001b[0;36m<listcomp>\u001b[0;34m(.0)\u001b[0m\n\u001b[1;32m     14\u001b[0m         \u001b[0mpacks\u001b[0m \u001b[0;34m=\u001b[0m \u001b[0;34m[\u001b[0m\u001b[0mchars\u001b[0m\u001b[0;34m[\u001b[0m\u001b[0mi\u001b[0m\u001b[0;34m*\u001b[0m\u001b[0;36m11\u001b[0m\u001b[0;34m:\u001b[0m\u001b[0;34m(\u001b[0m\u001b[0mi\u001b[0m\u001b[0;34m+\u001b[0m\u001b[0;36m1\u001b[0m\u001b[0;34m)\u001b[0m\u001b[0;34m*\u001b[0m\u001b[0;36m11\u001b[0m\u001b[0;34m]\u001b[0m \u001b[0;32mfor\u001b[0m \u001b[0mi\u001b[0m \u001b[0;32min\u001b[0m \u001b[0mrange\u001b[0m\u001b[0;34m(\u001b[0m\u001b[0mope\u001b[0m\u001b[0;34m)\u001b[0m\u001b[0;34m]\u001b[0m\u001b[0;34m\u001b[0m\u001b[0;34m\u001b[0m\u001b[0m\n\u001b[1;32m     15\u001b[0m         \u001b[0mrest\u001b[0m \u001b[0;34m=\u001b[0m \u001b[0mchars\u001b[0m\u001b[0;34m[\u001b[0m\u001b[0;34m(\u001b[0m\u001b[0mope\u001b[0m\u001b[0;34m)\u001b[0m\u001b[0;34m*\u001b[0m\u001b[0;36m11\u001b[0m\u001b[0;34m:\u001b[0m\u001b[0;34m]\u001b[0m\u001b[0;34m\u001b[0m\u001b[0;34m\u001b[0m\u001b[0m\n\u001b[0;32m---> 16\u001b[0;31m         \u001b[0;32mreturn\u001b[0m \u001b[0;34m[\u001b[0m\u001b[0mint\u001b[0m\u001b[0;34m(\u001b[0m\u001b[0mpckg\u001b[0m\u001b[0;34m,\u001b[0m \u001b[0;36m2\u001b[0m\u001b[0;34m)\u001b[0m \u001b[0;32mfor\u001b[0m \u001b[0mpckg\u001b[0m \u001b[0;32min\u001b[0m \u001b[0mpacks\u001b[0m\u001b[0;34m]\u001b[0m\u001b[0;34m,\u001b[0m \u001b[0mrest\u001b[0m\u001b[0;34m\u001b[0m\u001b[0;34m\u001b[0m\u001b[0m\n\u001b[0m",
      "\u001b[0;31mValueError\u001b[0m: invalid literal for int() with base 2: ''"
     ]
    }
   ],
   "source": [
    "parse_operator('1101010000000000000101111010001111000')"
   ]
  },
  {
   "cell_type": "code",
   "execution_count": 143,
   "id": "14e24e8b",
   "metadata": {
    "ExecuteTime": {
     "end_time": "2021-12-16T06:52:34.524109Z",
     "start_time": "2021-12-16T06:52:34.521085Z"
    }
   },
   "outputs": [],
   "source": [
    "def convert_hexa(hexadecimal):\n",
    "    string = [hexa[i] for i in hexadecimal]\n",
    "    string = ''.join(string)\n",
    "    return string\n",
    "    "
   ]
  },
  {
   "cell_type": "code",
   "execution_count": 189,
   "id": "e4c97f52",
   "metadata": {
    "ExecuteTime": {
     "end_time": "2021-12-16T08:14:22.584395Z",
     "start_time": "2021-12-16T08:14:22.580025Z"
    }
   },
   "outputs": [],
   "source": [
    "def parse_one_step(string):\n",
    "    head, typeid, rest = get_header_type(string)\n",
    "    if typeid == '100':\n",
    "        info, rest = split_package(rest)\n",
    "        \n",
    "    else:\n",
    "        info, rest = parse_operator(rest)\n",
    "\n",
    "    res = {'h': int(head, 2), 'type':int(typeid, 2), 'info':info}\n",
    "    return res, rest"
   ]
  },
  {
   "cell_type": "code",
   "execution_count": 155,
   "id": "88cf1f0b",
   "metadata": {
    "ExecuteTime": {
     "end_time": "2021-12-16T07:02:08.062765Z",
     "start_time": "2021-12-16T07:02:08.057786Z"
    }
   },
   "outputs": [],
   "source": [
    "parsed_data =[]\n",
    "def parse_whole_string(string):\n",
    "    global parsed_data\n",
    "    while len(string) > 6 :\n",
    "        \n",
    "    \n",
    "        parsed_data.append(res)\n",
    "        \n",
    "        string = rest\n",
    "    \n",
    "    return data, rest"
   ]
  },
  {
   "cell_type": "code",
   "execution_count": 156,
   "id": "5b0ba6fb",
   "metadata": {
    "ExecuteTime": {
     "end_time": "2021-12-16T07:02:08.757579Z",
     "start_time": "2021-12-16T07:02:08.755075Z"
    }
   },
   "outputs": [],
   "source": [
    "teststring='11101110000000001101010000001100100000100011000001100111000000000000110111101000101001010010001001000011100000000000011011110100010100101001000100100110100101111111000101'"
   ]
  },
  {
   "cell_type": "code",
   "execution_count": 157,
   "id": "64045c89",
   "metadata": {
    "ExecuteTime": {
     "end_time": "2021-12-16T07:02:09.775436Z",
     "start_time": "2021-12-16T07:02:09.770414Z"
    }
   },
   "outputs": [
    {
     "data": {
      "text/plain": [
       "([{'h': 7, 'type': 3, 'info': [641, 1154, 387]},\n",
       "  {'h': 1, 'type': 6, 'info': [1674, 21028]},\n",
       "  {'h': 1, 'type': 6, 'info': [1674, 21028]},\n",
       "  {'h': 6, 'type': 4, 'info': 2021}],\n",
       " '')"
      ]
     },
     "execution_count": 157,
     "metadata": {},
     "output_type": "execute_result"
    }
   ],
   "source": [
    "parse_whole_string(teststring)\n",
    "#parse_whole_string()"
   ]
  },
  {
   "cell_type": "code",
   "execution_count": 192,
   "id": "f5711083",
   "metadata": {
    "ExecuteTime": {
     "end_time": "2021-12-16T08:15:20.714710Z",
     "start_time": "2021-12-16T08:15:20.708543Z"
    }
   },
   "outputs": [
    {
     "name": "stdout",
     "output_type": "stream",
     "text": [
      "01100010000000001000000000000000000101100001000101010110001011001000100000000010000100011000111000110100\n",
      "2\n",
      "({'h': 3, 'type': 0, 'info': ['00000000000', '00000010110']}, '0001000101010110001011001000100000000010000100011000111000110100')\n"
     ]
    },
    {
     "data": {
      "text/plain": [
       "({'h': 0, 'type': 4, 'info': 10},\n",
       " '10110001011001000100000000010000100011000111000110100')"
      ]
     },
     "execution_count": 192,
     "metadata": {},
     "output_type": "execute_result"
    }
   ],
   "source": [
    "data = '620080001611562C8802118E34'\n",
    "data = convert_hexa(data)\n",
    "print(data)\n",
    "print(parse_one_step(data))\n",
    "parse_one_step('0001000101010110001011001000100000000010000100011000111000110100')"
   ]
  },
  {
   "cell_type": "code",
   "execution_count": 180,
   "id": "539cba82",
   "metadata": {
    "ExecuteTime": {
     "end_time": "2021-12-16T08:10:18.138237Z",
     "start_time": "2021-12-16T08:10:18.133804Z"
    }
   },
   "outputs": [
    {
     "data": {
      "text/plain": [
       "({'h': 4, 'type': 0, 'info': [13, 2147677304]}, '')"
      ]
     },
     "execution_count": 180,
     "metadata": {},
     "output_type": "execute_result"
    }
   ],
   "source": [
    "parse_one_step('100000000001001010100000000001101010000000000000101111010001111000')"
   ]
  },
  {
   "cell_type": "code",
   "execution_count": 174,
   "id": "88b81d54",
   "metadata": {
    "ExecuteTime": {
     "end_time": "2021-12-16T07:23:44.983450Z",
     "start_time": "2021-12-16T07:23:44.979019Z"
    }
   },
   "outputs": [
    {
     "data": {
      "text/plain": [
       "([13, 2147677304], '')"
      ]
     },
     "execution_count": 174,
     "metadata": {},
     "output_type": "execute_result"
    }
   ],
   "source": [
    "parse_operator('000001001010100000000001101010000000000000101111010001111000')"
   ]
  },
  {
   "cell_type": "code",
   "execution_count": 178,
   "id": "5de92710",
   "metadata": {
    "ExecuteTime": {
     "end_time": "2021-12-16T08:06:07.159610Z",
     "start_time": "2021-12-16T08:06:07.155096Z"
    }
   },
   "outputs": [
    {
     "data": {
      "text/plain": [
       "74"
      ]
     },
     "execution_count": 178,
     "metadata": {},
     "output_type": "execute_result"
    }
   ],
   "source": [
    "int('00001001010', 2)"
   ]
  },
  {
   "cell_type": "code",
   "execution_count": 175,
   "id": "69b195a2",
   "metadata": {
    "ExecuteTime": {
     "end_time": "2021-12-16T07:26:23.474421Z",
     "start_time": "2021-12-16T07:26:23.470358Z"
    }
   },
   "outputs": [
    {
     "data": {
      "text/plain": [
       "'0010000101000111011001110111001100000100'"
      ]
     },
     "execution_count": 175,
     "metadata": {},
     "output_type": "execute_result"
    }
   ],
   "source": [
    "convert_hexa('2147677304')"
   ]
  },
  {
   "cell_type": "code",
   "execution_count": 177,
   "id": "495f068e",
   "metadata": {
    "ExecuteTime": {
     "end_time": "2021-12-16T08:04:56.843108Z",
     "start_time": "2021-12-16T08:04:56.838457Z"
    }
   },
   "outputs": [
    {
     "data": {
      "text/plain": [
       "({'h': 1, 'type': 0, 'info': [1766, 4]}, '')"
      ]
     },
     "execution_count": 177,
     "metadata": {},
     "output_type": "execute_result"
    }
   ],
   "source": [
    "parse_one_step('0010000101000111011001110111001100000100')"
   ]
  },
  {
   "cell_type": "code",
   "execution_count": 2,
   "id": "99134836",
   "metadata": {
    "ExecuteTime": {
     "end_time": "2021-12-16T05:00:10.547954Z",
     "start_time": "2021-12-16T05:00:10.527760Z"
    }
   },
   "outputs": [
    {
     "name": "stderr",
     "output_type": "stream",
     "text": [
      "/Users/alixtiran-cappello/.pyenv/versions/3.7.12/envs/rotor/lib/python3.7/site-packages/ipykernel_launcher.py:4: DeprecationWarning: The default dtype for empty Series will be 'object' instead of 'float64' in a future version. Specify a dtype explicitly to silence this warning.\n",
      "  after removing the cwd from sys.path.\n"
     ]
    },
    {
     "data": {
      "text/plain": [
       "Series([], dtype: float64)"
      ]
     },
     "execution_count": 2,
     "metadata": {},
     "output_type": "execute_result"
    }
   ],
   "source": [
    "day = 'day16'\n",
    "with open(f'test{day}' , 'r') as f:\n",
    "    file = f.read().splitlines()\n",
    "file = pd.Series(file)\n",
    "file"
   ]
  },
  {
   "cell_type": "code",
   "execution_count": 3,
   "id": "8256d2a3",
   "metadata": {
    "ExecuteTime": {
     "end_time": "2021-12-16T05:00:11.102292Z",
     "start_time": "2021-12-16T05:00:11.095709Z"
    }
   },
   "outputs": [
    {
     "name": "stderr",
     "output_type": "stream",
     "text": [
      "/Users/alixtiran-cappello/.pyenv/versions/3.7.12/envs/rotor/lib/python3.7/site-packages/ipykernel_launcher.py:3: DeprecationWarning: The default dtype for empty Series will be 'object' instead of 'float64' in a future version. Specify a dtype explicitly to silence this warning.\n",
      "  This is separate from the ipykernel package so we can avoid doing imports until\n"
     ]
    },
    {
     "data": {
      "text/plain": [
       "Series([], dtype: float64)"
      ]
     },
     "execution_count": 3,
     "metadata": {},
     "output_type": "execute_result"
    }
   ],
   "source": [
    "with open(day , 'r') as f:\n",
    "    file = f.read().splitlines()\n",
    "file = pd.Series(file)\n",
    "file"
   ]
  },
  {
   "cell_type": "code",
   "execution_count": 4,
   "id": "176789b7",
   "metadata": {
    "ExecuteTime": {
     "end_time": "2021-12-16T05:00:11.614268Z",
     "start_time": "2021-12-16T05:00:11.608618Z"
    }
   },
   "outputs": [
    {
     "data": {
      "text/plain": [
       "[]"
      ]
     },
     "execution_count": 4,
     "metadata": {},
     "output_type": "execute_result"
    }
   ],
   "source": [
    "def map_pattern(x):\n",
    "    #x = x.split(\": \")[1]\n",
    "    x = x.split(',')\n",
    "    return np.array(x, dtype=int)\n",
    "          \n",
    "data = file.apply(map_pattern).to_list()\n",
    "#data = pd.DataFrame(data)\n",
    "#data = data.astype(int)\n",
    "data "
   ]
  },
  {
   "cell_type": "code",
   "execution_count": null,
   "id": "3d6ce5a3",
   "metadata": {},
   "outputs": [],
   "source": []
  },
  {
   "cell_type": "markdown",
   "id": "e146d5b3",
   "metadata": {},
   "source": [
    "# Day 17"
   ]
  },
  {
   "cell_type": "code",
   "execution_count": 13,
   "id": "eecc29a4",
   "metadata": {
    "ExecuteTime": {
     "end_time": "2021-12-17T12:27:26.756768Z",
     "start_time": "2021-12-17T12:27:26.746528Z"
    }
   },
   "outputs": [],
   "source": [
    "class Probe:\n",
    "    def __init__(self, vx, vy):\n",
    "        self.x = 0\n",
    "        self.y = 0\n",
    "        self.vx = vx\n",
    "        self.vy = vy\n",
    "        self.initial = (vx, vy)\n",
    "        self.azimut = 0\n",
    "    \n",
    "    def make_one_step(self):\n",
    "        # moves\n",
    "        self.x += self.vx\n",
    "        self.y += self.vy\n",
    "        \n",
    "        # Update velocity\n",
    "        self.vy -= 1\n",
    "        \n",
    "        # Rules for updating x velocity\n",
    "        if self.vx > 0:\n",
    "            self.vx -= 1\n",
    "        elif self.vx < 0:\n",
    "            self.vx += 1\n",
    "        else:\n",
    "            pass\n",
    "        \n",
    "    def check_for_failure(self):\n",
    "        failure_condition = (\n",
    "            ((self.x < target['xmin']) & (self.vx <= 0)) |\n",
    "            ((self.x > target['xmax']) & (self.vx >= 0)) |\n",
    "            ((self.y < target['ymin']) & (self.vy <= 0))\n",
    "        )\n",
    "        return failure_condition\n",
    "    \n",
    "    def check_for_success(self):\n",
    "        condition = (\n",
    "            (self.x >= target['xmin']) & \n",
    "            (self.x <= target['xmax']) &\n",
    "            (self.y >= target['ymin']) & \n",
    "            (self.y <= target['ymax'])\n",
    "        )\n",
    "        return condition\n",
    "        \n",
    "    def shoot(self):\n",
    "        status = True\n",
    "        \n",
    "        while status == True:\n",
    "            self.make_one_step()\n",
    "            success = self.check_for_success()\n",
    "            failure = self.check_for_failure()\n",
    "            self.azimut = max(self.azimut, self.y)\n",
    "            \n",
    "            if success:\n",
    "                return self.azimut\n",
    "            if failure:\n",
    "                return None\n",
    "                \n",
    "    def __repr__(self):\n",
    "        position = (self.x, self.y)\n",
    "        speed = (self.vx, self.vy)\n",
    "        return f'Position: {position}, speed: {speed}, max_y: {self.azimut}'"
   ]
  },
  {
   "cell_type": "code",
   "execution_count": 14,
   "id": "644cee87",
   "metadata": {
    "ExecuteTime": {
     "end_time": "2021-12-17T12:27:29.674294Z",
     "start_time": "2021-12-17T12:27:29.671321Z"
    }
   },
   "outputs": [],
   "source": [
    "# training\n",
    "target = {'xmin':20, 'xmax':30, 'ymin':-10, 'ymax':-5}"
   ]
  },
  {
   "cell_type": "code",
   "execution_count": 15,
   "id": "00345641",
   "metadata": {
    "ExecuteTime": {
     "end_time": "2021-12-17T12:27:30.173083Z",
     "start_time": "2021-12-17T12:27:30.170251Z"
    }
   },
   "outputs": [],
   "source": [
    "# Input\n",
    "target = {'xmin':287, 'xmax':309, 'ymin':-76, 'ymax':-48}"
   ]
  },
  {
   "cell_type": "code",
   "execution_count": 58,
   "id": "d0b1e50a",
   "metadata": {
    "ExecuteTime": {
     "end_time": "2021-12-17T07:20:01.984493Z",
     "start_time": "2021-12-17T07:20:01.593144Z"
    }
   },
   "outputs": [],
   "source": [
    "test = []\n",
    "for i in range(1, 200):\n",
    "    for j in range(-100, 200):\n",
    "        probe = Probe(i, j)\n",
    "        res = probe.shoot()\n",
    "        if res is not None:\n",
    "            test.append([(i, j), res]) "
   ]
  },
  {
   "cell_type": "code",
   "execution_count": 59,
   "id": "13c0b242",
   "metadata": {
    "ExecuteTime": {
     "end_time": "2021-12-17T07:20:15.550060Z",
     "start_time": "2021-12-17T07:20:15.546658Z"
    }
   },
   "outputs": [],
   "source": [
    "results = pd.DataFrame(test, columns=['init', 'ymax'])"
   ]
  },
  {
   "cell_type": "code",
   "execution_count": 60,
   "id": "3e53c0e4",
   "metadata": {
    "ExecuteTime": {
     "end_time": "2021-12-17T07:20:20.453399Z",
     "start_time": "2021-12-17T07:20:20.440544Z"
    }
   },
   "outputs": [
    {
     "data": {
      "text/html": [
       "<div>\n",
       "<style scoped>\n",
       "    .dataframe tbody tr th:only-of-type {\n",
       "        vertical-align: middle;\n",
       "    }\n",
       "\n",
       "    .dataframe tbody tr th {\n",
       "        vertical-align: top;\n",
       "    }\n",
       "\n",
       "    .dataframe thead th {\n",
       "        text-align: right;\n",
       "    }\n",
       "</style>\n",
       "<table border=\"1\" class=\"dataframe\">\n",
       "  <thead>\n",
       "    <tr style=\"text-align: right;\">\n",
       "      <th></th>\n",
       "      <th>init</th>\n",
       "      <th>ymax</th>\n",
       "    </tr>\n",
       "  </thead>\n",
       "  <tbody>\n",
       "    <tr>\n",
       "      <th>0</th>\n",
       "      <td>(6, 0)</td>\n",
       "      <td>0</td>\n",
       "    </tr>\n",
       "    <tr>\n",
       "      <th>1</th>\n",
       "      <td>(6, 1)</td>\n",
       "      <td>1</td>\n",
       "    </tr>\n",
       "    <tr>\n",
       "      <th>2</th>\n",
       "      <td>(6, 2)</td>\n",
       "      <td>3</td>\n",
       "    </tr>\n",
       "    <tr>\n",
       "      <th>3</th>\n",
       "      <td>(6, 3)</td>\n",
       "      <td>6</td>\n",
       "    </tr>\n",
       "    <tr>\n",
       "      <th>4</th>\n",
       "      <td>(6, 4)</td>\n",
       "      <td>10</td>\n",
       "    </tr>\n",
       "    <tr>\n",
       "      <th>...</th>\n",
       "      <td>...</td>\n",
       "      <td>...</td>\n",
       "    </tr>\n",
       "    <tr>\n",
       "      <th>107</th>\n",
       "      <td>(30, -9)</td>\n",
       "      <td>0</td>\n",
       "    </tr>\n",
       "    <tr>\n",
       "      <th>108</th>\n",
       "      <td>(30, -8)</td>\n",
       "      <td>0</td>\n",
       "    </tr>\n",
       "    <tr>\n",
       "      <th>109</th>\n",
       "      <td>(30, -7)</td>\n",
       "      <td>0</td>\n",
       "    </tr>\n",
       "    <tr>\n",
       "      <th>110</th>\n",
       "      <td>(30, -6)</td>\n",
       "      <td>0</td>\n",
       "    </tr>\n",
       "    <tr>\n",
       "      <th>111</th>\n",
       "      <td>(30, -5)</td>\n",
       "      <td>0</td>\n",
       "    </tr>\n",
       "  </tbody>\n",
       "</table>\n",
       "<p>112 rows × 2 columns</p>\n",
       "</div>"
      ],
      "text/plain": [
       "         init  ymax\n",
       "0      (6, 0)     0\n",
       "1      (6, 1)     1\n",
       "2      (6, 2)     3\n",
       "3      (6, 3)     6\n",
       "4      (6, 4)    10\n",
       "..        ...   ...\n",
       "107  (30, -9)     0\n",
       "108  (30, -8)     0\n",
       "109  (30, -7)     0\n",
       "110  (30, -6)     0\n",
       "111  (30, -5)     0\n",
       "\n",
       "[112 rows x 2 columns]"
      ]
     },
     "execution_count": 60,
     "metadata": {},
     "output_type": "execute_result"
    }
   ],
   "source": [
    "results"
   ]
  },
  {
   "cell_type": "code",
   "execution_count": 16,
   "id": "e115a255",
   "metadata": {
    "ExecuteTime": {
     "end_time": "2021-12-17T12:27:44.979427Z",
     "start_time": "2021-12-17T12:27:34.164617Z"
    }
   },
   "outputs": [],
   "source": [
    "trajectory = []\n",
    "for i in range(1, 1000):\n",
    "    for j in range(-1000, 1000):\n",
    "        probe = Probe(i, j)\n",
    "        res = probe.shoot()\n",
    "        if res is not None:\n",
    "            trajectory.append([(i, j), res]) \n",
    "        "
   ]
  },
  {
   "cell_type": "code",
   "execution_count": 19,
   "id": "5ed44b9b",
   "metadata": {
    "ExecuteTime": {
     "end_time": "2021-12-17T12:27:57.588229Z",
     "start_time": "2021-12-17T12:27:57.583589Z"
    }
   },
   "outputs": [],
   "source": [
    "results = pd.DataFrame(trajectory, columns=['init', 'ymax'])"
   ]
  },
  {
   "cell_type": "code",
   "execution_count": 20,
   "id": "c41b682f",
   "metadata": {
    "ExecuteTime": {
     "end_time": "2021-12-17T12:27:58.916043Z",
     "start_time": "2021-12-17T12:27:58.911304Z"
    }
   },
   "outputs": [
    {
     "data": {
      "text/plain": [
       "2850"
      ]
     },
     "execution_count": 20,
     "metadata": {},
     "output_type": "execute_result"
    }
   ],
   "source": [
    "results.ymax.max()"
   ]
  },
  {
   "cell_type": "code",
   "execution_count": 21,
   "id": "492c561f",
   "metadata": {
    "ExecuteTime": {
     "end_time": "2021-12-17T12:27:59.819333Z",
     "start_time": "2021-12-17T12:27:59.814601Z"
    }
   },
   "outputs": [
    {
     "data": {
      "text/plain": [
       "1117"
      ]
     },
     "execution_count": 21,
     "metadata": {},
     "output_type": "execute_result"
    }
   ],
   "source": [
    "len(results.init.drop_duplicates())"
   ]
  },
  {
   "cell_type": "code",
   "execution_count": 22,
   "id": "e17e11fb",
   "metadata": {
    "ExecuteTime": {
     "end_time": "2021-12-17T12:28:03.605233Z",
     "start_time": "2021-12-17T12:28:03.589899Z"
    }
   },
   "outputs": [
    {
     "data": {
      "text/html": [
       "<div>\n",
       "<style scoped>\n",
       "    .dataframe tbody tr th:only-of-type {\n",
       "        vertical-align: middle;\n",
       "    }\n",
       "\n",
       "    .dataframe tbody tr th {\n",
       "        vertical-align: top;\n",
       "    }\n",
       "\n",
       "    .dataframe thead th {\n",
       "        text-align: right;\n",
       "    }\n",
       "</style>\n",
       "<table border=\"1\" class=\"dataframe\">\n",
       "  <thead>\n",
       "    <tr style=\"text-align: right;\">\n",
       "      <th></th>\n",
       "      <th>init</th>\n",
       "      <th>ymax</th>\n",
       "    </tr>\n",
       "  </thead>\n",
       "  <tbody>\n",
       "    <tr>\n",
       "      <th>0</th>\n",
       "      <td>(24, 6)</td>\n",
       "      <td>21</td>\n",
       "    </tr>\n",
       "    <tr>\n",
       "      <th>1</th>\n",
       "      <td>(24, 7)</td>\n",
       "      <td>28</td>\n",
       "    </tr>\n",
       "    <tr>\n",
       "      <th>2</th>\n",
       "      <td>(24, 8)</td>\n",
       "      <td>36</td>\n",
       "    </tr>\n",
       "    <tr>\n",
       "      <th>3</th>\n",
       "      <td>(24, 9)</td>\n",
       "      <td>45</td>\n",
       "    </tr>\n",
       "    <tr>\n",
       "      <th>4</th>\n",
       "      <td>(24, 10)</td>\n",
       "      <td>55</td>\n",
       "    </tr>\n",
       "    <tr>\n",
       "      <th>...</th>\n",
       "      <td>...</td>\n",
       "      <td>...</td>\n",
       "    </tr>\n",
       "    <tr>\n",
       "      <th>1112</th>\n",
       "      <td>(309, -52)</td>\n",
       "      <td>0</td>\n",
       "    </tr>\n",
       "    <tr>\n",
       "      <th>1113</th>\n",
       "      <td>(309, -51)</td>\n",
       "      <td>0</td>\n",
       "    </tr>\n",
       "    <tr>\n",
       "      <th>1114</th>\n",
       "      <td>(309, -50)</td>\n",
       "      <td>0</td>\n",
       "    </tr>\n",
       "    <tr>\n",
       "      <th>1115</th>\n",
       "      <td>(309, -49)</td>\n",
       "      <td>0</td>\n",
       "    </tr>\n",
       "    <tr>\n",
       "      <th>1116</th>\n",
       "      <td>(309, -48)</td>\n",
       "      <td>0</td>\n",
       "    </tr>\n",
       "  </tbody>\n",
       "</table>\n",
       "<p>1117 rows × 2 columns</p>\n",
       "</div>"
      ],
      "text/plain": [
       "            init  ymax\n",
       "0        (24, 6)    21\n",
       "1        (24, 7)    28\n",
       "2        (24, 8)    36\n",
       "3        (24, 9)    45\n",
       "4       (24, 10)    55\n",
       "...          ...   ...\n",
       "1112  (309, -52)     0\n",
       "1113  (309, -51)     0\n",
       "1114  (309, -50)     0\n",
       "1115  (309, -49)     0\n",
       "1116  (309, -48)     0\n",
       "\n",
       "[1117 rows x 2 columns]"
      ]
     },
     "execution_count": 22,
     "metadata": {},
     "output_type": "execute_result"
    }
   ],
   "source": [
    "results"
   ]
  },
  {
   "cell_type": "markdown",
   "id": "c43b71e9",
   "metadata": {},
   "source": [
    "# Day 18"
   ]
  },
  {
   "cell_type": "code",
   "execution_count": 2,
   "id": "43e25079",
   "metadata": {
    "ExecuteTime": {
     "end_time": "2021-12-19T20:38:12.525686Z",
     "start_time": "2021-12-19T20:38:12.521184Z"
    }
   },
   "outputs": [],
   "source": [
    "def parse_string(string):\n",
    "    string = str(string)\n",
    "    level = 0\n",
    "    for idx, char in enumerate(string):\n",
    "        if char == '[':\n",
    "            level += 1\n",
    "        elif char == ']':\n",
    "            level -= 1\n",
    "        elif char  in [' ', ',']:\n",
    "            continue\n",
    "        elif int(char) in [1,2,3,4,5,6,7,8,9,0]:\n",
    "            yield (int(char), level)\n",
    "\n",
    "\n",
    "def format_input(string):\n",
    "    gen = parse_string(string)\n",
    "    return pd.DataFrame(gen, columns=['num', 'depth'])"
   ]
  },
  {
   "cell_type": "code",
   "execution_count": 119,
   "id": "58b768b5",
   "metadata": {
    "ExecuteTime": {
     "end_time": "2021-12-19T21:37:56.730643Z",
     "start_time": "2021-12-19T21:37:56.724797Z"
    }
   },
   "outputs": [],
   "source": [
    "# get the deepest layer\n",
    "def get_indexes_with_max_depth(df):\n",
    "    depth_four = df[df.depth >= 5]\n",
    "    #depth_four = depth_four.rename_axis('MyIdx').sort_values(by = ['depth', 'MyIdx'], ascending = [False, True])\n",
    "    if len(depth_four)%2 == 0:\n",
    "        depth_four = depth_four.index\n",
    "        depth_four = depth_four.to_numpy().reshape((-1, 2))\n",
    "    else:\n",
    "        pairs = depth_four.depth.value_counts()\n",
    "        pairs = pairs.index[pairs%2 == 0]\n",
    "        depth_four = depth_four[depth_four.depth.isin(pairs)]\n",
    "        depth_four = depth_four.index\n",
    "        depth_four = depth_four.to_numpy().reshape((-1, 2))\n",
    "\n",
    "    depth_four = [item for item in depth_four if df.depth[item[0]] == df.depth[item[1]]]\n",
    "    print(depth_four)\n",
    "    depth_four = depth_four[0]\n",
    "    return depth_four[0],depth_four[1]\n"
   ]
  },
  {
   "cell_type": "code",
   "execution_count": 120,
   "id": "43cfe794",
   "metadata": {
    "ExecuteTime": {
     "end_time": "2021-12-19T21:37:58.677094Z",
     "start_time": "2021-12-19T21:37:58.668764Z"
    }
   },
   "outputs": [],
   "source": [
    "def explode(df):\n",
    "    #while df.depth.max() >= 5:\n",
    "    try:\n",
    "        tempa, tempb = get_indexes_with_max_depth(df)\n",
    "    except:\n",
    "        import ipdb; ipdb.set_trace()\n",
    "    \n",
    "    ## Deal with limit at the begining of the array\n",
    "    if tempb == len(df)-1:\n",
    "        df.num[tempa-1] += df.num[tempa]\n",
    "        df.num[tempa] = 0\n",
    "        df.depth[tempa] -= 1\n",
    "        df = df.drop(tempb, axis=0).reset_index(drop=True)\n",
    "\n",
    "    ## Deal with limit at the begining of the array\n",
    "    if tempa == 0:\n",
    "        df.num[tempb+1] += df.num[tempb]\n",
    "        df.num[tempb] = 0\n",
    "        df.depth[tempb] -= 1\n",
    "        df = df.drop(tempa, axis=0).reset_index(drop=True)\n",
    "\n",
    "    # General case\n",
    "    if  (tempb < len(df)-1) and (tempa > 0):\n",
    "        # Update on both sides\n",
    "        df.num[tempa-1] += df.num[tempa]\n",
    "        df.num[tempb+1] += df.num[tempb]\n",
    "\n",
    "        if df.depth[tempa-1] < df.depth[tempb+1]:\n",
    "            df.num[tempb] = 0\n",
    "            df.depth[tempb] -= 1\n",
    "            df = df.drop(tempa, axis=0).reset_index(drop=True)\n",
    "        else:\n",
    "            df.num[tempa] = 0\n",
    "            df.depth[tempa] -= 1\n",
    "            df = df.drop(tempb, axis=0).reset_index(drop=True)\n",
    "\n",
    "    return df"
   ]
  },
  {
   "cell_type": "code",
   "execution_count": 121,
   "id": "acda4de5",
   "metadata": {
    "ExecuteTime": {
     "end_time": "2021-12-19T21:37:59.033306Z",
     "start_time": "2021-12-19T21:37:59.021815Z"
    }
   },
   "outputs": [
    {
     "name": "stdout",
     "output_type": "stream",
     "text": [
      "[array([0, 1])]\n"
     ]
    },
    {
     "data": {
      "text/html": [
       "<div>\n",
       "<style scoped>\n",
       "    .dataframe tbody tr th:only-of-type {\n",
       "        vertical-align: middle;\n",
       "    }\n",
       "\n",
       "    .dataframe tbody tr th {\n",
       "        vertical-align: top;\n",
       "    }\n",
       "\n",
       "    .dataframe thead th {\n",
       "        text-align: right;\n",
       "    }\n",
       "</style>\n",
       "<table border=\"1\" class=\"dataframe\">\n",
       "  <thead>\n",
       "    <tr style=\"text-align: right;\">\n",
       "      <th></th>\n",
       "      <th>num</th>\n",
       "      <th>depth</th>\n",
       "    </tr>\n",
       "  </thead>\n",
       "  <tbody>\n",
       "    <tr>\n",
       "      <th>0</th>\n",
       "      <td>True</td>\n",
       "      <td>True</td>\n",
       "    </tr>\n",
       "    <tr>\n",
       "      <th>1</th>\n",
       "      <td>True</td>\n",
       "      <td>True</td>\n",
       "    </tr>\n",
       "    <tr>\n",
       "      <th>2</th>\n",
       "      <td>True</td>\n",
       "      <td>True</td>\n",
       "    </tr>\n",
       "    <tr>\n",
       "      <th>3</th>\n",
       "      <td>True</td>\n",
       "      <td>True</td>\n",
       "    </tr>\n",
       "    <tr>\n",
       "      <th>4</th>\n",
       "      <td>True</td>\n",
       "      <td>True</td>\n",
       "    </tr>\n",
       "  </tbody>\n",
       "</table>\n",
       "</div>"
      ],
      "text/plain": [
       "    num  depth\n",
       "0  True   True\n",
       "1  True   True\n",
       "2  True   True\n",
       "3  True   True\n",
       "4  True   True"
      ]
     },
     "execution_count": 121,
     "metadata": {},
     "output_type": "execute_result"
    }
   ],
   "source": [
    "explode(format_input([[[[[9,8],1],2],3],4])) == format_input([[[[0,9],2],3],4])"
   ]
  },
  {
   "cell_type": "code",
   "execution_count": 122,
   "id": "7df7e591",
   "metadata": {
    "ExecuteTime": {
     "end_time": "2021-12-19T21:37:59.473710Z",
     "start_time": "2021-12-19T21:37:59.462036Z"
    }
   },
   "outputs": [
    {
     "name": "stdout",
     "output_type": "stream",
     "text": [
      "[array([0, 1])]\n"
     ]
    },
    {
     "data": {
      "text/html": [
       "<div>\n",
       "<style scoped>\n",
       "    .dataframe tbody tr th:only-of-type {\n",
       "        vertical-align: middle;\n",
       "    }\n",
       "\n",
       "    .dataframe tbody tr th {\n",
       "        vertical-align: top;\n",
       "    }\n",
       "\n",
       "    .dataframe thead th {\n",
       "        text-align: right;\n",
       "    }\n",
       "</style>\n",
       "<table border=\"1\" class=\"dataframe\">\n",
       "  <thead>\n",
       "    <tr style=\"text-align: right;\">\n",
       "      <th></th>\n",
       "      <th>num</th>\n",
       "      <th>depth</th>\n",
       "    </tr>\n",
       "  </thead>\n",
       "  <tbody>\n",
       "    <tr>\n",
       "      <th>0</th>\n",
       "      <td>True</td>\n",
       "      <td>True</td>\n",
       "    </tr>\n",
       "    <tr>\n",
       "      <th>1</th>\n",
       "      <td>True</td>\n",
       "      <td>True</td>\n",
       "    </tr>\n",
       "    <tr>\n",
       "      <th>2</th>\n",
       "      <td>True</td>\n",
       "      <td>True</td>\n",
       "    </tr>\n",
       "    <tr>\n",
       "      <th>3</th>\n",
       "      <td>True</td>\n",
       "      <td>True</td>\n",
       "    </tr>\n",
       "    <tr>\n",
       "      <th>4</th>\n",
       "      <td>True</td>\n",
       "      <td>True</td>\n",
       "    </tr>\n",
       "  </tbody>\n",
       "</table>\n",
       "</div>"
      ],
      "text/plain": [
       "    num  depth\n",
       "0  True   True\n",
       "1  True   True\n",
       "2  True   True\n",
       "3  True   True\n",
       "4  True   True"
      ]
     },
     "execution_count": 122,
     "metadata": {},
     "output_type": "execute_result"
    }
   ],
   "source": [
    "# tests\n",
    "explode(format_input([[[[[9,8],1],2],3],4])) == format_input([[[[0,9],2],3],4])"
   ]
  },
  {
   "cell_type": "code",
   "execution_count": 123,
   "id": "9f41162a",
   "metadata": {
    "ExecuteTime": {
     "end_time": "2021-12-19T21:37:59.854667Z",
     "start_time": "2021-12-19T21:37:59.842699Z"
    }
   },
   "outputs": [
    {
     "name": "stdout",
     "output_type": "stream",
     "text": [
      "[array([4, 5])]\n"
     ]
    },
    {
     "data": {
      "text/html": [
       "<div>\n",
       "<style scoped>\n",
       "    .dataframe tbody tr th:only-of-type {\n",
       "        vertical-align: middle;\n",
       "    }\n",
       "\n",
       "    .dataframe tbody tr th {\n",
       "        vertical-align: top;\n",
       "    }\n",
       "\n",
       "    .dataframe thead th {\n",
       "        text-align: right;\n",
       "    }\n",
       "</style>\n",
       "<table border=\"1\" class=\"dataframe\">\n",
       "  <thead>\n",
       "    <tr style=\"text-align: right;\">\n",
       "      <th></th>\n",
       "      <th>num</th>\n",
       "      <th>depth</th>\n",
       "    </tr>\n",
       "  </thead>\n",
       "  <tbody>\n",
       "    <tr>\n",
       "      <th>0</th>\n",
       "      <td>True</td>\n",
       "      <td>True</td>\n",
       "    </tr>\n",
       "    <tr>\n",
       "      <th>1</th>\n",
       "      <td>True</td>\n",
       "      <td>True</td>\n",
       "    </tr>\n",
       "    <tr>\n",
       "      <th>2</th>\n",
       "      <td>True</td>\n",
       "      <td>True</td>\n",
       "    </tr>\n",
       "    <tr>\n",
       "      <th>3</th>\n",
       "      <td>True</td>\n",
       "      <td>True</td>\n",
       "    </tr>\n",
       "    <tr>\n",
       "      <th>4</th>\n",
       "      <td>True</td>\n",
       "      <td>True</td>\n",
       "    </tr>\n",
       "  </tbody>\n",
       "</table>\n",
       "</div>"
      ],
      "text/plain": [
       "    num  depth\n",
       "0  True   True\n",
       "1  True   True\n",
       "2  True   True\n",
       "3  True   True\n",
       "4  True   True"
      ]
     },
     "execution_count": 123,
     "metadata": {},
     "output_type": "execute_result"
    }
   ],
   "source": [
    "explode(format_input([7,[6,[5,[4,[3,2]]]]])) == format_input([7,[6,[5,[7,0]]]])"
   ]
  },
  {
   "cell_type": "code",
   "execution_count": 124,
   "id": "dba10b46",
   "metadata": {
    "ExecuteTime": {
     "end_time": "2021-12-19T21:38:00.209769Z",
     "start_time": "2021-12-19T21:38:00.197310Z"
    }
   },
   "outputs": [
    {
     "name": "stdout",
     "output_type": "stream",
     "text": [
      "[array([3, 4])]\n"
     ]
    },
    {
     "data": {
      "text/html": [
       "<div>\n",
       "<style scoped>\n",
       "    .dataframe tbody tr th:only-of-type {\n",
       "        vertical-align: middle;\n",
       "    }\n",
       "\n",
       "    .dataframe tbody tr th {\n",
       "        vertical-align: top;\n",
       "    }\n",
       "\n",
       "    .dataframe thead th {\n",
       "        text-align: right;\n",
       "    }\n",
       "</style>\n",
       "<table border=\"1\" class=\"dataframe\">\n",
       "  <thead>\n",
       "    <tr style=\"text-align: right;\">\n",
       "      <th></th>\n",
       "      <th>num</th>\n",
       "      <th>depth</th>\n",
       "    </tr>\n",
       "  </thead>\n",
       "  <tbody>\n",
       "    <tr>\n",
       "      <th>0</th>\n",
       "      <td>True</td>\n",
       "      <td>True</td>\n",
       "    </tr>\n",
       "    <tr>\n",
       "      <th>1</th>\n",
       "      <td>True</td>\n",
       "      <td>True</td>\n",
       "    </tr>\n",
       "    <tr>\n",
       "      <th>2</th>\n",
       "      <td>True</td>\n",
       "      <td>True</td>\n",
       "    </tr>\n",
       "    <tr>\n",
       "      <th>3</th>\n",
       "      <td>True</td>\n",
       "      <td>True</td>\n",
       "    </tr>\n",
       "    <tr>\n",
       "      <th>4</th>\n",
       "      <td>True</td>\n",
       "      <td>True</td>\n",
       "    </tr>\n",
       "  </tbody>\n",
       "</table>\n",
       "</div>"
      ],
      "text/plain": [
       "    num  depth\n",
       "0  True   True\n",
       "1  True   True\n",
       "2  True   True\n",
       "3  True   True\n",
       "4  True   True"
      ]
     },
     "execution_count": 124,
     "metadata": {},
     "output_type": "execute_result"
    }
   ],
   "source": [
    "explode(format_input([[6,[5,[4,[3,2]]]],1])) == format_input([[6,[5,[7,0]]],3])"
   ]
  },
  {
   "cell_type": "code",
   "execution_count": 125,
   "id": "299a649e",
   "metadata": {
    "ExecuteTime": {
     "end_time": "2021-12-19T21:38:00.500718Z",
     "start_time": "2021-12-19T21:38:00.488241Z"
    }
   },
   "outputs": [
    {
     "name": "stdout",
     "output_type": "stream",
     "text": [
      "[array([7, 8])]\n"
     ]
    },
    {
     "data": {
      "text/html": [
       "<div>\n",
       "<style scoped>\n",
       "    .dataframe tbody tr th:only-of-type {\n",
       "        vertical-align: middle;\n",
       "    }\n",
       "\n",
       "    .dataframe tbody tr th {\n",
       "        vertical-align: top;\n",
       "    }\n",
       "\n",
       "    .dataframe thead th {\n",
       "        text-align: right;\n",
       "    }\n",
       "</style>\n",
       "<table border=\"1\" class=\"dataframe\">\n",
       "  <thead>\n",
       "    <tr style=\"text-align: right;\">\n",
       "      <th></th>\n",
       "      <th>num</th>\n",
       "      <th>depth</th>\n",
       "    </tr>\n",
       "  </thead>\n",
       "  <tbody>\n",
       "    <tr>\n",
       "      <th>0</th>\n",
       "      <td>True</td>\n",
       "      <td>True</td>\n",
       "    </tr>\n",
       "    <tr>\n",
       "      <th>1</th>\n",
       "      <td>True</td>\n",
       "      <td>True</td>\n",
       "    </tr>\n",
       "    <tr>\n",
       "      <th>2</th>\n",
       "      <td>True</td>\n",
       "      <td>True</td>\n",
       "    </tr>\n",
       "    <tr>\n",
       "      <th>3</th>\n",
       "      <td>True</td>\n",
       "      <td>True</td>\n",
       "    </tr>\n",
       "    <tr>\n",
       "      <th>4</th>\n",
       "      <td>True</td>\n",
       "      <td>True</td>\n",
       "    </tr>\n",
       "    <tr>\n",
       "      <th>5</th>\n",
       "      <td>True</td>\n",
       "      <td>True</td>\n",
       "    </tr>\n",
       "    <tr>\n",
       "      <th>6</th>\n",
       "      <td>True</td>\n",
       "      <td>True</td>\n",
       "    </tr>\n",
       "    <tr>\n",
       "      <th>7</th>\n",
       "      <td>True</td>\n",
       "      <td>True</td>\n",
       "    </tr>\n",
       "  </tbody>\n",
       "</table>\n",
       "</div>"
      ],
      "text/plain": [
       "    num  depth\n",
       "0  True   True\n",
       "1  True   True\n",
       "2  True   True\n",
       "3  True   True\n",
       "4  True   True\n",
       "5  True   True\n",
       "6  True   True\n",
       "7  True   True"
      ]
     },
     "execution_count": 125,
     "metadata": {},
     "output_type": "execute_result"
    }
   ],
   "source": [
    "explode(format_input([[3,[2,[8,0]]],[9,[5,[4,[3,2]]]]])) == format_input([[3,[2,[8,0]]],[9,[5,[7,0]]]])"
   ]
  },
  {
   "cell_type": "code",
   "execution_count": 126,
   "id": "5f937297",
   "metadata": {
    "ExecuteTime": {
     "end_time": "2021-12-19T21:38:00.779099Z",
     "start_time": "2021-12-19T21:38:00.773355Z"
    }
   },
   "outputs": [],
   "source": [
    "def individual_split(snail):\n",
    "    idx_split = snail.index[snail.num >= 10][0]\n",
    "    \n",
    "    snail.loc[idx_split, 'depth'] += 1\n",
    "    split = [\n",
    "        np.ceil(snail.loc[idx_split, 'num'] / 2),\n",
    "        snail.loc[idx_split, 'depth']\n",
    "    ]\n",
    "    snail.loc[idx_split, 'num'] = np.floor(snail.loc[idx_split, 'num'] / 2)\n",
    "    \n",
    "    line = pd.DataFrame([split], columns=['num', 'depth'])\n",
    "    snail = pd.concat([snail.iloc[:idx_split+1], line, snail.iloc[idx_split+1:]]).reset_index(drop=True)\n",
    "    return snail.astype(int)"
   ]
  },
  {
   "cell_type": "code",
   "execution_count": 127,
   "id": "750d0ffc",
   "metadata": {
    "ExecuteTime": {
     "end_time": "2021-12-19T21:38:01.005960Z",
     "start_time": "2021-12-19T21:38:01.001435Z"
    }
   },
   "outputs": [],
   "source": [
    "def sequence_explode_split(df):\n",
    "    status = True\n",
    "    while status:\n",
    "        while df.depth.max() >= 5:\n",
    "            df = explode(df)\n",
    "        while df.num.max() >= 10:\n",
    "            df = individual_split(df)\n",
    "            \n",
    "        if (df.depth.max() < 5) and (df.num.max() < 10):\n",
    "            status = False\n",
    "    return df"
   ]
  },
  {
   "cell_type": "code",
   "execution_count": 128,
   "id": "1c44805d",
   "metadata": {
    "ExecuteTime": {
     "end_time": "2021-12-19T21:38:01.373641Z",
     "start_time": "2021-12-19T21:38:01.349834Z"
    }
   },
   "outputs": [
    {
     "name": "stdout",
     "output_type": "stream",
     "text": [
      "[array([0, 1]), array([5, 6])]\n",
      "[array([4, 5])]\n",
      "[array([6, 7])]\n"
     ]
    },
    {
     "data": {
      "text/html": [
       "<div>\n",
       "<style scoped>\n",
       "    .dataframe tbody tr th:only-of-type {\n",
       "        vertical-align: middle;\n",
       "    }\n",
       "\n",
       "    .dataframe tbody tr th {\n",
       "        vertical-align: top;\n",
       "    }\n",
       "\n",
       "    .dataframe thead th {\n",
       "        text-align: right;\n",
       "    }\n",
       "</style>\n",
       "<table border=\"1\" class=\"dataframe\">\n",
       "  <thead>\n",
       "    <tr style=\"text-align: right;\">\n",
       "      <th></th>\n",
       "      <th>num</th>\n",
       "      <th>depth</th>\n",
       "    </tr>\n",
       "  </thead>\n",
       "  <tbody>\n",
       "    <tr>\n",
       "      <th>0</th>\n",
       "      <td>True</td>\n",
       "      <td>True</td>\n",
       "    </tr>\n",
       "    <tr>\n",
       "      <th>1</th>\n",
       "      <td>True</td>\n",
       "      <td>True</td>\n",
       "    </tr>\n",
       "    <tr>\n",
       "      <th>2</th>\n",
       "      <td>True</td>\n",
       "      <td>True</td>\n",
       "    </tr>\n",
       "    <tr>\n",
       "      <th>3</th>\n",
       "      <td>True</td>\n",
       "      <td>True</td>\n",
       "    </tr>\n",
       "    <tr>\n",
       "      <th>4</th>\n",
       "      <td>True</td>\n",
       "      <td>True</td>\n",
       "    </tr>\n",
       "    <tr>\n",
       "      <th>5</th>\n",
       "      <td>True</td>\n",
       "      <td>True</td>\n",
       "    </tr>\n",
       "    <tr>\n",
       "      <th>6</th>\n",
       "      <td>True</td>\n",
       "      <td>True</td>\n",
       "    </tr>\n",
       "    <tr>\n",
       "      <th>7</th>\n",
       "      <td>True</td>\n",
       "      <td>True</td>\n",
       "    </tr>\n",
       "    <tr>\n",
       "      <th>8</th>\n",
       "      <td>True</td>\n",
       "      <td>True</td>\n",
       "    </tr>\n",
       "  </tbody>\n",
       "</table>\n",
       "</div>"
      ],
      "text/plain": [
       "    num  depth\n",
       "0  True   True\n",
       "1  True   True\n",
       "2  True   True\n",
       "3  True   True\n",
       "4  True   True\n",
       "5  True   True\n",
       "6  True   True\n",
       "7  True   True\n",
       "8  True   True"
      ]
     },
     "execution_count": 128,
     "metadata": {},
     "output_type": "execute_result"
    }
   ],
   "source": [
    "sequence_explode_split(format_input([[[[[4,3],4],4],[7,[[8,4],9]]],[1,1]])) == format_input([[[[0,7],4],[[7,8],[6,0]]],[8,1]]\n",
    ")"
   ]
  },
  {
   "cell_type": "code",
   "execution_count": 129,
   "id": "b41e32a6",
   "metadata": {
    "ExecuteTime": {
     "end_time": "2021-12-19T21:38:01.762919Z",
     "start_time": "2021-12-19T21:38:01.759674Z"
    }
   },
   "outputs": [],
   "source": [
    "file = ['[1,1]', '[2,2]', '[3,3]', '[4,4]', '[5,5]', '[6,6]']"
   ]
  },
  {
   "cell_type": "code",
   "execution_count": 130,
   "id": "6944a3ad",
   "metadata": {
    "ExecuteTime": {
     "end_time": "2021-12-19T21:38:02.289608Z",
     "start_time": "2021-12-19T21:38:02.269004Z"
    }
   },
   "outputs": [
    {
     "name": "stdout",
     "output_type": "stream",
     "text": [
      "[array([0, 1]), array([2, 3])]\n",
      "[array([1, 2])]\n",
      "[array([0, 1]), array([2, 3])]\n",
      "[array([1, 2])]\n"
     ]
    }
   ],
   "source": [
    "init = file[0]\n",
    "init = format_input(init)\n",
    "for seq in file[1:6]:\n",
    "    seq = format_input(seq)\n",
    "    init = pd.concat([init, seq], axis=0).reset_index(drop=True)\n",
    "    init.depth += 1\n",
    "    init = sequence_explode_split(init)"
   ]
  },
  {
   "cell_type": "code",
   "execution_count": 131,
   "id": "f2b37386",
   "metadata": {
    "ExecuteTime": {
     "end_time": "2021-12-19T21:38:02.777455Z",
     "start_time": "2021-12-19T21:38:02.767645Z"
    }
   },
   "outputs": [
    {
     "data": {
      "text/html": [
       "<div>\n",
       "<style scoped>\n",
       "    .dataframe tbody tr th:only-of-type {\n",
       "        vertical-align: middle;\n",
       "    }\n",
       "\n",
       "    .dataframe tbody tr th {\n",
       "        vertical-align: top;\n",
       "    }\n",
       "\n",
       "    .dataframe thead th {\n",
       "        text-align: right;\n",
       "    }\n",
       "</style>\n",
       "<table border=\"1\" class=\"dataframe\">\n",
       "  <thead>\n",
       "    <tr style=\"text-align: right;\">\n",
       "      <th></th>\n",
       "      <th>num</th>\n",
       "      <th>depth</th>\n",
       "    </tr>\n",
       "  </thead>\n",
       "  <tbody>\n",
       "    <tr>\n",
       "      <th>0</th>\n",
       "      <td>True</td>\n",
       "      <td>True</td>\n",
       "    </tr>\n",
       "    <tr>\n",
       "      <th>1</th>\n",
       "      <td>True</td>\n",
       "      <td>True</td>\n",
       "    </tr>\n",
       "    <tr>\n",
       "      <th>2</th>\n",
       "      <td>True</td>\n",
       "      <td>True</td>\n",
       "    </tr>\n",
       "    <tr>\n",
       "      <th>3</th>\n",
       "      <td>True</td>\n",
       "      <td>True</td>\n",
       "    </tr>\n",
       "    <tr>\n",
       "      <th>4</th>\n",
       "      <td>True</td>\n",
       "      <td>True</td>\n",
       "    </tr>\n",
       "    <tr>\n",
       "      <th>5</th>\n",
       "      <td>True</td>\n",
       "      <td>True</td>\n",
       "    </tr>\n",
       "    <tr>\n",
       "      <th>6</th>\n",
       "      <td>True</td>\n",
       "      <td>True</td>\n",
       "    </tr>\n",
       "    <tr>\n",
       "      <th>7</th>\n",
       "      <td>True</td>\n",
       "      <td>True</td>\n",
       "    </tr>\n",
       "  </tbody>\n",
       "</table>\n",
       "</div>"
      ],
      "text/plain": [
       "    num  depth\n",
       "0  True   True\n",
       "1  True   True\n",
       "2  True   True\n",
       "3  True   True\n",
       "4  True   True\n",
       "5  True   True\n",
       "6  True   True\n",
       "7  True   True"
      ]
     },
     "execution_count": 131,
     "metadata": {},
     "output_type": "execute_result"
    }
   ],
   "source": [
    "init == format_input([[[[5,0],[7,4]],[5,5]],[6,6]])"
   ]
  },
  {
   "cell_type": "code",
   "execution_count": 132,
   "id": "97d3cdfe",
   "metadata": {
    "ExecuteTime": {
     "end_time": "2021-12-19T21:38:03.224035Z",
     "start_time": "2021-12-19T21:38:03.219986Z"
    }
   },
   "outputs": [
    {
     "data": {
      "text/plain": [
       "['[1,1]', '[2,2]', '[3,3]', '[4,4]', '[5,5]', '[6,6]']"
      ]
     },
     "execution_count": 132,
     "metadata": {},
     "output_type": "execute_result"
    }
   ],
   "source": [
    "file"
   ]
  },
  {
   "cell_type": "code",
   "execution_count": 135,
   "id": "c60f19d3",
   "metadata": {
    "ExecuteTime": {
     "end_time": "2021-12-19T21:38:13.605577Z",
     "start_time": "2021-12-19T21:38:13.527836Z"
    }
   },
   "outputs": [
    {
     "name": "stdout",
     "output_type": "stream",
     "text": [
      "[array([1, 2]), array([5, 6]), array([7, 8]), array([12, 13]), array([14, 15]), array([16, 17]), array([18, 19])]\n",
      "[array([4, 5]), array([6, 7]), array([11, 12]), array([13, 14]), array([15, 16]), array([17, 18])]\n",
      "[array([5, 6]), array([10, 11]), array([12, 13]), array([14, 15]), array([16, 17])]\n",
      "[array([ 9, 10]), array([11, 12]), array([13, 14]), array([15, 16])]\n",
      "[array([10, 11]), array([12, 13]), array([14, 15])]\n",
      "[array([11, 12]), array([13, 14])]\n",
      "[array([12, 13])]\n",
      "[array([6, 7]), array([11, 12]), array([14, 15])]\n",
      "[array([10, 11]), array([13, 14])]\n",
      "[array([12, 13])]\n",
      "[array([7, 8]), array([13, 14]), array([15, 16])]\n",
      "[array([12, 13]), array([14, 15])]\n",
      "[array([13, 14])]\n",
      "[array([12, 13])]\n",
      "[array([12, 13])]\n",
      "[array([11, 12])]\n",
      "[array([10, 11])]\n",
      "[array([ 9, 10])]\n",
      "[array([8, 9])]\n"
     ]
    }
   ],
   "source": [
    "init = file[0]\n",
    "init = format_input(init)\n",
    "for seq in file[1:2]:\n",
    "    seq = format_input(seq)\n",
    "    init = pd.concat([init, seq], axis=0).reset_index(drop=True)\n",
    "    init.depth += 1\n",
    "    init = sequence_explode_split(init)"
   ]
  },
  {
   "cell_type": "code",
   "execution_count": 136,
   "id": "cbe2a5e3",
   "metadata": {
    "ExecuteTime": {
     "end_time": "2021-12-19T21:38:20.089751Z",
     "start_time": "2021-12-19T21:38:20.083076Z"
    }
   },
   "outputs": [
    {
     "data": {
      "text/html": [
       "<div>\n",
       "<style scoped>\n",
       "    .dataframe tbody tr th:only-of-type {\n",
       "        vertical-align: middle;\n",
       "    }\n",
       "\n",
       "    .dataframe tbody tr th {\n",
       "        vertical-align: top;\n",
       "    }\n",
       "\n",
       "    .dataframe thead th {\n",
       "        text-align: right;\n",
       "    }\n",
       "</style>\n",
       "<table border=\"1\" class=\"dataframe\">\n",
       "  <thead>\n",
       "    <tr style=\"text-align: right;\">\n",
       "      <th></th>\n",
       "      <th>num</th>\n",
       "      <th>depth</th>\n",
       "    </tr>\n",
       "  </thead>\n",
       "  <tbody>\n",
       "    <tr>\n",
       "      <th>0</th>\n",
       "      <td>4</td>\n",
       "      <td>4</td>\n",
       "    </tr>\n",
       "    <tr>\n",
       "      <th>1</th>\n",
       "      <td>0</td>\n",
       "      <td>4</td>\n",
       "    </tr>\n",
       "    <tr>\n",
       "      <th>2</th>\n",
       "      <td>5</td>\n",
       "      <td>4</td>\n",
       "    </tr>\n",
       "    <tr>\n",
       "      <th>3</th>\n",
       "      <td>4</td>\n",
       "      <td>4</td>\n",
       "    </tr>\n",
       "    <tr>\n",
       "      <th>4</th>\n",
       "      <td>7</td>\n",
       "      <td>4</td>\n",
       "    </tr>\n",
       "    <tr>\n",
       "      <th>5</th>\n",
       "      <td>7</td>\n",
       "      <td>4</td>\n",
       "    </tr>\n",
       "    <tr>\n",
       "      <th>6</th>\n",
       "      <td>6</td>\n",
       "      <td>4</td>\n",
       "    </tr>\n",
       "    <tr>\n",
       "      <th>7</th>\n",
       "      <td>5</td>\n",
       "      <td>4</td>\n",
       "    </tr>\n",
       "    <tr>\n",
       "      <th>8</th>\n",
       "      <td>0</td>\n",
       "      <td>4</td>\n",
       "    </tr>\n",
       "    <tr>\n",
       "      <th>9</th>\n",
       "      <td>6</td>\n",
       "      <td>4</td>\n",
       "    </tr>\n",
       "    <tr>\n",
       "      <th>10</th>\n",
       "      <td>6</td>\n",
       "      <td>4</td>\n",
       "    </tr>\n",
       "    <tr>\n",
       "      <th>11</th>\n",
       "      <td>6</td>\n",
       "      <td>4</td>\n",
       "    </tr>\n",
       "    <tr>\n",
       "      <th>12</th>\n",
       "      <td>6</td>\n",
       "      <td>4</td>\n",
       "    </tr>\n",
       "    <tr>\n",
       "      <th>13</th>\n",
       "      <td>8</td>\n",
       "      <td>4</td>\n",
       "    </tr>\n",
       "    <tr>\n",
       "      <th>14</th>\n",
       "      <td>5</td>\n",
       "      <td>4</td>\n",
       "    </tr>\n",
       "    <tr>\n",
       "      <th>15</th>\n",
       "      <td>6</td>\n",
       "      <td>4</td>\n",
       "    </tr>\n",
       "  </tbody>\n",
       "</table>\n",
       "</div>"
      ],
      "text/plain": [
       "    num  depth\n",
       "0     4      4\n",
       "1     0      4\n",
       "2     5      4\n",
       "3     4      4\n",
       "4     7      4\n",
       "5     7      4\n",
       "6     6      4\n",
       "7     5      4\n",
       "8     0      4\n",
       "9     6      4\n",
       "10    6      4\n",
       "11    6      4\n",
       "12    6      4\n",
       "13    8      4\n",
       "14    5      4\n",
       "15    6      4"
      ]
     },
     "execution_count": 136,
     "metadata": {},
     "output_type": "execute_result"
    }
   ],
   "source": [
    "init"
   ]
  },
  {
   "cell_type": "code",
   "execution_count": 89,
   "id": "d499ceb4",
   "metadata": {
    "ExecuteTime": {
     "end_time": "2021-12-19T20:59:13.457601Z",
     "start_time": "2021-12-19T20:59:13.452855Z"
    }
   },
   "outputs": [
    {
     "data": {
      "text/plain": [
       "(1, 2)"
      ]
     },
     "execution_count": 89,
     "metadata": {},
     "output_type": "execute_result"
    }
   ],
   "source": [
    "get_indexes_with_max_depth(init)a"
   ]
  },
  {
   "cell_type": "code",
   "execution_count": 71,
   "id": "dc680437",
   "metadata": {
    "ExecuteTime": {
     "end_time": "2021-12-19T20:57:35.364169Z",
     "start_time": "2021-12-19T20:57:35.356541Z"
    }
   },
   "outputs": [
    {
     "data": {
      "text/html": [
       "<div>\n",
       "<style scoped>\n",
       "    .dataframe tbody tr th:only-of-type {\n",
       "        vertical-align: middle;\n",
       "    }\n",
       "\n",
       "    .dataframe tbody tr th {\n",
       "        vertical-align: top;\n",
       "    }\n",
       "\n",
       "    .dataframe thead th {\n",
       "        text-align: right;\n",
       "    }\n",
       "</style>\n",
       "<table border=\"1\" class=\"dataframe\">\n",
       "  <thead>\n",
       "    <tr style=\"text-align: right;\">\n",
       "      <th></th>\n",
       "      <th>num</th>\n",
       "      <th>depth</th>\n",
       "    </tr>\n",
       "  </thead>\n",
       "  <tbody>\n",
       "    <tr>\n",
       "      <th>0</th>\n",
       "      <td>0</td>\n",
       "      <td>4</td>\n",
       "    </tr>\n",
       "    <tr>\n",
       "      <th>1</th>\n",
       "      <td>4</td>\n",
       "      <td>5</td>\n",
       "    </tr>\n",
       "    <tr>\n",
       "      <th>2</th>\n",
       "      <td>5</td>\n",
       "      <td>5</td>\n",
       "    </tr>\n",
       "    <tr>\n",
       "      <th>3</th>\n",
       "      <td>0</td>\n",
       "      <td>4</td>\n",
       "    </tr>\n",
       "    <tr>\n",
       "      <th>4</th>\n",
       "      <td>0</td>\n",
       "      <td>4</td>\n",
       "    </tr>\n",
       "    <tr>\n",
       "      <th>5</th>\n",
       "      <td>4</td>\n",
       "      <td>5</td>\n",
       "    </tr>\n",
       "    <tr>\n",
       "      <th>6</th>\n",
       "      <td>5</td>\n",
       "      <td>5</td>\n",
       "    </tr>\n",
       "    <tr>\n",
       "      <th>7</th>\n",
       "      <td>2</td>\n",
       "      <td>5</td>\n",
       "    </tr>\n",
       "    <tr>\n",
       "      <th>8</th>\n",
       "      <td>6</td>\n",
       "      <td>5</td>\n",
       "    </tr>\n",
       "    <tr>\n",
       "      <th>9</th>\n",
       "      <td>9</td>\n",
       "      <td>4</td>\n",
       "    </tr>\n",
       "    <tr>\n",
       "      <th>10</th>\n",
       "      <td>5</td>\n",
       "      <td>4</td>\n",
       "    </tr>\n",
       "    <tr>\n",
       "      <th>11</th>\n",
       "      <td>7</td>\n",
       "      <td>2</td>\n",
       "    </tr>\n",
       "    <tr>\n",
       "      <th>12</th>\n",
       "      <td>3</td>\n",
       "      <td>5</td>\n",
       "    </tr>\n",
       "    <tr>\n",
       "      <th>13</th>\n",
       "      <td>7</td>\n",
       "      <td>5</td>\n",
       "    </tr>\n",
       "    <tr>\n",
       "      <th>14</th>\n",
       "      <td>4</td>\n",
       "      <td>5</td>\n",
       "    </tr>\n",
       "    <tr>\n",
       "      <th>15</th>\n",
       "      <td>3</td>\n",
       "      <td>5</td>\n",
       "    </tr>\n",
       "    <tr>\n",
       "      <th>16</th>\n",
       "      <td>6</td>\n",
       "      <td>5</td>\n",
       "    </tr>\n",
       "    <tr>\n",
       "      <th>17</th>\n",
       "      <td>3</td>\n",
       "      <td>5</td>\n",
       "    </tr>\n",
       "    <tr>\n",
       "      <th>18</th>\n",
       "      <td>8</td>\n",
       "      <td>5</td>\n",
       "    </tr>\n",
       "    <tr>\n",
       "      <th>19</th>\n",
       "      <td>8</td>\n",
       "      <td>5</td>\n",
       "    </tr>\n",
       "  </tbody>\n",
       "</table>\n",
       "</div>"
      ],
      "text/plain": [
       "    num  depth\n",
       "0     0      4\n",
       "1     4      5\n",
       "2     5      5\n",
       "3     0      4\n",
       "4     0      4\n",
       "5     4      5\n",
       "6     5      5\n",
       "7     2      5\n",
       "8     6      5\n",
       "9     9      4\n",
       "10    5      4\n",
       "11    7      2\n",
       "12    3      5\n",
       "13    7      5\n",
       "14    4      5\n",
       "15    3      5\n",
       "16    6      5\n",
       "17    3      5\n",
       "18    8      5\n",
       "19    8      5"
      ]
     },
     "execution_count": 71,
     "metadata": {},
     "output_type": "execute_result"
    }
   ],
   "source": [
    "init"
   ]
  },
  {
   "cell_type": "markdown",
   "id": "a1e497c8",
   "metadata": {},
   "source": [
    "## code"
   ]
  },
  {
   "cell_type": "code",
   "execution_count": 134,
   "id": "dea27b7f",
   "metadata": {
    "ExecuteTime": {
     "end_time": "2021-12-19T21:38:11.476362Z",
     "start_time": "2021-12-19T21:38:11.470458Z"
    }
   },
   "outputs": [
    {
     "data": {
      "text/plain": [
       "0            [[[0,[4,5]],[0,0]],[[[4,5],[2,6]],[9,5]]]\n",
       "1                    [7,[[[3,7],[4,3]],[[6,3],[8,8]]]]\n",
       "2            [[2,[[0,8],[3,4]]],[[[6,7],1],[7,[1,6]]]]\n",
       "3    [[[[2,4],7],[6,[0,5]]],[[[6,8],[2,8]],[[2,1],[...\n",
       "4                                [7,[5,[[3,8],[1,4]]]]\n",
       "5                                [[2,[2,2]],[8,[8,1]]]\n",
       "6                                                [2,9]\n",
       "7                        [1,[[[9,3],9],[[9,0],[0,7]]]]\n",
       "8                                    [[[5,[7,4]],7],1]\n",
       "9                                [[[[4,2],2],6],[8,7]]\n",
       "dtype: object"
      ]
     },
     "execution_count": 134,
     "metadata": {},
     "output_type": "execute_result"
    }
   ],
   "source": [
    "day = 'day18'\n",
    "with open(f'test{day}' , 'r') as f:\n",
    "    file = f.read().splitlines()\n",
    "file = pd.Series(file)\n",
    "file"
   ]
  },
  {
   "cell_type": "code",
   "execution_count": null,
   "id": "59e69ea8",
   "metadata": {},
   "outputs": [],
   "source": []
  },
  {
   "cell_type": "code",
   "execution_count": 4,
   "id": "110a6139",
   "metadata": {
    "ExecuteTime": {
     "end_time": "2021-12-18T05:26:27.592331Z",
     "start_time": "2021-12-18T05:26:27.585706Z"
    }
   },
   "outputs": [
    {
     "name": "stderr",
     "output_type": "stream",
     "text": [
      "/Users/alixtiran-cappello/.pyenv/versions/3.7.12/envs/rotor/lib/python3.7/site-packages/ipykernel_launcher.py:3: DeprecationWarning: The default dtype for empty Series will be 'object' instead of 'float64' in a future version. Specify a dtype explicitly to silence this warning.\n",
      "  This is separate from the ipykernel package so we can avoid doing imports until\n"
     ]
    },
    {
     "data": {
      "text/plain": [
       "Series([], dtype: float64)"
      ]
     },
     "execution_count": 4,
     "metadata": {},
     "output_type": "execute_result"
    }
   ],
   "source": [
    "with open(day , 'r') as f:\n",
    "    file = f.read().splitlines()\n",
    "file = pd.Series(file)\n",
    "file"
   ]
  },
  {
   "cell_type": "code",
   "execution_count": 3,
   "id": "1ffadb40",
   "metadata": {
    "ExecuteTime": {
     "end_time": "2021-12-18T10:02:01.116493Z",
     "start_time": "2021-12-18T10:02:01.110252Z"
    }
   },
   "outputs": [
    {
     "data": {
      "text/plain": [
       "[[1, 1], [2, 2], [3, 3], [4, 4], [5, 5], [6, 6]]"
      ]
     },
     "execution_count": 3,
     "metadata": {},
     "output_type": "execute_result"
    }
   ],
   "source": [
    "def map_pattern(x):\n",
    "    #x = x.split(\": \")[1]\n",
    "    #x = x.split(',')\n",
    "    return eval(x)#np.array(x, dtype=int)\n",
    "          \n",
    "data = file.apply(map_pattern).to_list()\n",
    "#data = pd.DataFrame(data)\n",
    "#data = data.astype(int)\n",
    "data "
   ]
  },
  {
   "cell_type": "code",
   "execution_count": 61,
   "id": "693a6220",
   "metadata": {
    "ExecuteTime": {
     "end_time": "2021-12-18T10:25:25.075304Z",
     "start_time": "2021-12-18T10:25:25.070839Z"
    }
   },
   "outputs": [
    {
     "data": {
      "text/plain": [
       "[[1, 1], [2, 2], [3, 3], [4, 4], [5, 5], [6, 6]]"
      ]
     },
     "execution_count": 61,
     "metadata": {},
     "output_type": "execute_result"
    }
   ],
   "source": [
    "data"
   ]
  },
  {
   "cell_type": "code",
   "execution_count": 179,
   "id": "e1246c8c",
   "metadata": {
    "ExecuteTime": {
     "end_time": "2021-12-18T21:04:55.628417Z",
     "start_time": "2021-12-18T21:04:55.540508Z"
    }
   },
   "outputs": [],
   "source": [
    "root = file[0]\n",
    "root = format_input(root)\n",
    "#root.depth += 1\n",
    "#a = sequence_explode_split(a)\n",
    "for f in file[1:2]:\n",
    "    extent = format_input(f)\n",
    "    #root.depth += 1\n",
    "    root = pd.concat([root, extent],axis=0).reset_index(drop=True)\n",
    "    root.depth += 1\n",
    "    root = sequence_explode_split(root)\n",
    "    #root.depth += 1\n",
    "    "
   ]
  },
  {
   "cell_type": "code",
   "execution_count": 174,
   "id": "9b10918f",
   "metadata": {
    "ExecuteTime": {
     "end_time": "2021-12-18T20:59:50.671851Z",
     "start_time": "2021-12-18T20:59:50.664160Z"
    }
   },
   "outputs": [
    {
     "data": {
      "text/html": [
       "<div>\n",
       "<style scoped>\n",
       "    .dataframe tbody tr th:only-of-type {\n",
       "        vertical-align: middle;\n",
       "    }\n",
       "\n",
       "    .dataframe tbody tr th {\n",
       "        vertical-align: top;\n",
       "    }\n",
       "\n",
       "    .dataframe thead th {\n",
       "        text-align: right;\n",
       "    }\n",
       "</style>\n",
       "<table border=\"1\" class=\"dataframe\">\n",
       "  <thead>\n",
       "    <tr style=\"text-align: right;\">\n",
       "      <th></th>\n",
       "      <th>num</th>\n",
       "      <th>depth</th>\n",
       "    </tr>\n",
       "  </thead>\n",
       "  <tbody>\n",
       "    <tr>\n",
       "      <th>0</th>\n",
       "      <td>0</td>\n",
       "      <td>4</td>\n",
       "    </tr>\n",
       "    <tr>\n",
       "      <th>1</th>\n",
       "      <td>7</td>\n",
       "      <td>4</td>\n",
       "    </tr>\n",
       "    <tr>\n",
       "      <th>2</th>\n",
       "      <td>6</td>\n",
       "      <td>4</td>\n",
       "    </tr>\n",
       "    <tr>\n",
       "      <th>3</th>\n",
       "      <td>6</td>\n",
       "      <td>4</td>\n",
       "    </tr>\n",
       "    <tr>\n",
       "      <th>4</th>\n",
       "      <td>6</td>\n",
       "      <td>4</td>\n",
       "    </tr>\n",
       "    <tr>\n",
       "      <th>5</th>\n",
       "      <td>6</td>\n",
       "      <td>4</td>\n",
       "    </tr>\n",
       "    <tr>\n",
       "      <th>6</th>\n",
       "      <td>5</td>\n",
       "      <td>4</td>\n",
       "    </tr>\n",
       "    <tr>\n",
       "      <th>7</th>\n",
       "      <td>6</td>\n",
       "      <td>4</td>\n",
       "    </tr>\n",
       "    <tr>\n",
       "      <th>8</th>\n",
       "      <td>0</td>\n",
       "      <td>4</td>\n",
       "    </tr>\n",
       "    <tr>\n",
       "      <th>9</th>\n",
       "      <td>4</td>\n",
       "      <td>4</td>\n",
       "    </tr>\n",
       "    <tr>\n",
       "      <th>10</th>\n",
       "      <td>6</td>\n",
       "      <td>3</td>\n",
       "    </tr>\n",
       "    <tr>\n",
       "      <th>11</th>\n",
       "      <td>8</td>\n",
       "      <td>3</td>\n",
       "    </tr>\n",
       "    <tr>\n",
       "      <th>12</th>\n",
       "      <td>7</td>\n",
       "      <td>3</td>\n",
       "    </tr>\n",
       "  </tbody>\n",
       "</table>\n",
       "</div>"
      ],
      "text/plain": [
       "    num  depth\n",
       "0     0      4\n",
       "1     7      4\n",
       "2     6      4\n",
       "3     6      4\n",
       "4     6      4\n",
       "5     6      4\n",
       "6     5      4\n",
       "7     6      4\n",
       "8     0      4\n",
       "9     4      4\n",
       "10    6      3\n",
       "11    8      3\n",
       "12    7      3"
      ]
     },
     "execution_count": 174,
     "metadata": {},
     "output_type": "execute_result"
    }
   ],
   "source": [
    "root"
   ]
  },
  {
   "cell_type": "code",
   "execution_count": 175,
   "id": "dc4bf437",
   "metadata": {
    "ExecuteTime": {
     "end_time": "2021-12-18T21:00:04.356952Z",
     "start_time": "2021-12-18T21:00:04.348018Z"
    }
   },
   "outputs": [
    {
     "data": {
      "text/html": [
       "<div>\n",
       "<style scoped>\n",
       "    .dataframe tbody tr th:only-of-type {\n",
       "        vertical-align: middle;\n",
       "    }\n",
       "\n",
       "    .dataframe tbody tr th {\n",
       "        vertical-align: top;\n",
       "    }\n",
       "\n",
       "    .dataframe thead th {\n",
       "        text-align: right;\n",
       "    }\n",
       "</style>\n",
       "<table border=\"1\" class=\"dataframe\">\n",
       "  <thead>\n",
       "    <tr style=\"text-align: right;\">\n",
       "      <th></th>\n",
       "      <th>num</th>\n",
       "      <th>depth</th>\n",
       "    </tr>\n",
       "  </thead>\n",
       "  <tbody>\n",
       "    <tr>\n",
       "      <th>0</th>\n",
       "      <td>8</td>\n",
       "      <td>4</td>\n",
       "    </tr>\n",
       "    <tr>\n",
       "      <th>1</th>\n",
       "      <td>7</td>\n",
       "      <td>4</td>\n",
       "    </tr>\n",
       "    <tr>\n",
       "      <th>2</th>\n",
       "      <td>7</td>\n",
       "      <td>4</td>\n",
       "    </tr>\n",
       "    <tr>\n",
       "      <th>3</th>\n",
       "      <td>7</td>\n",
       "      <td>4</td>\n",
       "    </tr>\n",
       "    <tr>\n",
       "      <th>4</th>\n",
       "      <td>8</td>\n",
       "      <td>4</td>\n",
       "    </tr>\n",
       "    <tr>\n",
       "      <th>5</th>\n",
       "      <td>6</td>\n",
       "      <td>4</td>\n",
       "    </tr>\n",
       "    <tr>\n",
       "      <th>6</th>\n",
       "      <td>7</td>\n",
       "      <td>4</td>\n",
       "    </tr>\n",
       "    <tr>\n",
       "      <th>7</th>\n",
       "      <td>7</td>\n",
       "      <td>4</td>\n",
       "    </tr>\n",
       "    <tr>\n",
       "      <th>8</th>\n",
       "      <td>0</td>\n",
       "      <td>4</td>\n",
       "    </tr>\n",
       "    <tr>\n",
       "      <th>9</th>\n",
       "      <td>7</td>\n",
       "      <td>4</td>\n",
       "    </tr>\n",
       "    <tr>\n",
       "      <th>10</th>\n",
       "      <td>6</td>\n",
       "      <td>4</td>\n",
       "    </tr>\n",
       "    <tr>\n",
       "      <th>11</th>\n",
       "      <td>6</td>\n",
       "      <td>4</td>\n",
       "    </tr>\n",
       "    <tr>\n",
       "      <th>12</th>\n",
       "      <td>8</td>\n",
       "      <td>3</td>\n",
       "    </tr>\n",
       "    <tr>\n",
       "      <th>13</th>\n",
       "      <td>7</td>\n",
       "      <td>3</td>\n",
       "    </tr>\n",
       "  </tbody>\n",
       "</table>\n",
       "</div>"
      ],
      "text/plain": [
       "    num  depth\n",
       "0     8      4\n",
       "1     7      4\n",
       "2     7      4\n",
       "3     7      4\n",
       "4     8      4\n",
       "5     6      4\n",
       "6     7      4\n",
       "7     7      4\n",
       "8     0      4\n",
       "9     7      4\n",
       "10    6      4\n",
       "11    6      4\n",
       "12    8      3\n",
       "13    7      3"
      ]
     },
     "execution_count": 175,
     "metadata": {},
     "output_type": "execute_result"
    }
   ],
   "source": [
    "format_input([[[[8,7],[7,7]],[[8,6],[7,7]]],[[[0,7],[6,6]],[8,7]]])"
   ]
  },
  {
   "cell_type": "code",
   "execution_count": null,
   "id": "cf941122",
   "metadata": {},
   "outputs": [],
   "source": []
  },
  {
   "cell_type": "markdown",
   "id": "29a94793",
   "metadata": {},
   "source": [
    "# Day 19"
   ]
  },
  {
   "cell_type": "code",
   "execution_count": 13,
   "id": "c5ebe497",
   "metadata": {
    "ExecuteTime": {
     "end_time": "2021-12-19T07:05:58.551204Z",
     "start_time": "2021-12-19T07:05:58.544808Z"
    }
   },
   "outputs": [],
   "source": [
    "from numpy import rot90, array\n",
    "\n",
    "def rotations4(polycube, axes):\n",
    "    \"\"\"List the four rotations of the given 3d array in the plane spanned by the given axes.\"\"\"\n",
    "    for i in range(4):\n",
    "         yield rot90(polycube, i, axes)\n",
    "def rotations24(polycube):\n",
    "    \"\"\"List all 24 rotations of the given 3d array\"\"\"\n",
    "\n",
    "\n",
    "    # imagine shape is pointing in axis 0 (up)\n",
    "\n",
    "    # 4 rotations about axis 0\n",
    "    yield from rotations4(polycube, (1,2))\n",
    "\n",
    "    # rotate 180 about axis 1, now shape is pointing down in axis 0\n",
    "    # 4 rotations about axis 0\n",
    "    yield from rotations4(rot90(polycube, 2, axes=(0,2)), (1,2))\n",
    "\n",
    "    # rotate 90 or 270 about axis 1, now shape is pointing in axis 2\n",
    "    # 8 rotations about axis 2\n",
    "    yield from rotations4(rot90(polycube, axes=(0,2)), (0,1))\n",
    "    yield from rotations4(rot90(polycube, -1, axes=(0,2)), (0,1))\n",
    "\n",
    "    # rotate about axis 2, now shape is pointing in axis 1\n",
    "    # 8 rotations about axis 1\n",
    "    yield from rotations4(rot90(polycube, axes=(0,1)), (0,2))\n",
    "    yield from rotations4(rot90(polycube, -1, axes=(0,1)), (0,2))"
   ]
  },
  {
   "cell_type": "code",
   "execution_count": 87,
   "id": "ba5b5719",
   "metadata": {
    "ExecuteTime": {
     "end_time": "2021-12-19T08:37:11.297609Z",
     "start_time": "2021-12-19T08:37:11.289751Z"
    }
   },
   "outputs": [
    {
     "data": {
      "text/plain": [
       "0      --- scanner 0 ---\n",
       "1          404,-588,-901\n",
       "2           528,-643,409\n",
       "3           -838,591,734\n",
       "4          390,-675,-793\n",
       "             ...        \n",
       "131          807,604,487\n",
       "132         839,-516,451\n",
       "133         891,-625,532\n",
       "134       -652,-548,-490\n",
       "135           30,-46,-14\n",
       "Length: 136, dtype: object"
      ]
     },
     "execution_count": 87,
     "metadata": {},
     "output_type": "execute_result"
    }
   ],
   "source": [
    "day = 'day19'\n",
    "with open(f'test{day}' , 'r') as f:\n",
    "    file = f.read().splitlines()\n",
    "file = pd.Series(file)\n",
    "file"
   ]
  },
  {
   "cell_type": "code",
   "execution_count": 99,
   "id": "a507177c",
   "metadata": {
    "ExecuteTime": {
     "end_time": "2021-12-19T08:49:46.995291Z",
     "start_time": "2021-12-19T08:49:46.991441Z"
    }
   },
   "outputs": [],
   "source": [
    "scanners = []  \n",
    "for line in file:\n",
    "    if '---' in line:\n",
    "        beacons = []\n",
    "    elif line == '':\n",
    "        scanners.append(np.array(beacons))\n",
    "    else:\n",
    "        beacons.append(map_pattern(line))\n",
    "    "
   ]
  },
  {
   "cell_type": "code",
   "execution_count": 103,
   "id": "ae8f610f",
   "metadata": {
    "ExecuteTime": {
     "end_time": "2021-12-19T08:50:45.991315Z",
     "start_time": "2021-12-19T08:50:45.984698Z"
    }
   },
   "outputs": [
    {
     "data": {
      "text/plain": [
       "[array([[ 404, -588, -901],\n",
       "        [ 528, -643,  409],\n",
       "        [-838,  591,  734],\n",
       "        [ 390, -675, -793],\n",
       "        [-537, -823, -458],\n",
       "        [-485, -357,  347],\n",
       "        [-345, -311,  381],\n",
       "        [-661, -816, -575],\n",
       "        [-876,  649,  763],\n",
       "        [-618, -824, -621],\n",
       "        [ 553,  345, -567],\n",
       "        [ 474,  580,  667],\n",
       "        [-447, -329,  318],\n",
       "        [-584,  868, -557],\n",
       "        [ 544, -627, -890],\n",
       "        [ 564,  392, -477],\n",
       "        [ 455,  729,  728],\n",
       "        [-892,  524,  684],\n",
       "        [-689,  845, -530],\n",
       "        [ 423, -701,  434],\n",
       "        [   7,  -33,  -71],\n",
       "        [ 630,  319, -379],\n",
       "        [ 443,  580,  662],\n",
       "        [-789,  900, -551],\n",
       "        [ 459, -707,  401]]),\n",
       " array([[ 686,  422,  578],\n",
       "        [ 605,  423,  415],\n",
       "        [ 515,  917, -361],\n",
       "        [-336,  658,  858],\n",
       "        [  95,  138,   22],\n",
       "        [-476,  619,  847],\n",
       "        [-340, -569, -846],\n",
       "        [ 567, -361,  727],\n",
       "        [-460,  603, -452],\n",
       "        [ 669, -402,  600],\n",
       "        [ 729,  430,  532],\n",
       "        [-500, -761,  534],\n",
       "        [-322,  571,  750],\n",
       "        [-466, -666, -811],\n",
       "        [-429, -592,  574],\n",
       "        [-355,  545, -477],\n",
       "        [ 703, -491, -529],\n",
       "        [-328, -685,  520],\n",
       "        [ 413,  935, -424],\n",
       "        [-391,  539, -444],\n",
       "        [ 586, -435,  557],\n",
       "        [-364, -763, -893],\n",
       "        [ 807, -499, -711],\n",
       "        [ 755, -354, -619],\n",
       "        [ 553,  889, -390]]),\n",
       " array([[ 649,  640,  665],\n",
       "        [ 682, -795,  504],\n",
       "        [-784,  533, -524],\n",
       "        [-644,  584, -595],\n",
       "        [-588, -843,  648],\n",
       "        [ -30,    6,   44],\n",
       "        [-674,  560,  763],\n",
       "        [ 500,  723, -460],\n",
       "        [ 609,  671, -379],\n",
       "        [-555, -800,  653],\n",
       "        [-675, -892, -343],\n",
       "        [ 697, -426, -610],\n",
       "        [ 578,  704,  681],\n",
       "        [ 493,  664, -388],\n",
       "        [-671, -858,  530],\n",
       "        [-667,  343,  800],\n",
       "        [ 571, -461, -707],\n",
       "        [-138, -166,  112],\n",
       "        [-889,  563, -600],\n",
       "        [ 646, -828,  498],\n",
       "        [ 640,  759,  510],\n",
       "        [-630,  509,  768],\n",
       "        [-681, -892, -333],\n",
       "        [ 673, -379, -804],\n",
       "        [-742, -814, -386],\n",
       "        [ 577, -820,  562]]),\n",
       " array([[-589,  542,  597],\n",
       "        [ 605, -692,  669],\n",
       "        [-500,  565, -823],\n",
       "        [-660,  373,  557],\n",
       "        [-458, -679, -417],\n",
       "        [-488,  449,  543],\n",
       "        [-626,  468, -788],\n",
       "        [ 338, -750, -386],\n",
       "        [ 528, -832, -391],\n",
       "        [ 562, -778,  733],\n",
       "        [-938, -730,  414],\n",
       "        [ 543,  643, -506],\n",
       "        [-524,  371, -870],\n",
       "        [ 407,  773,  750],\n",
       "        [-104,   29,   83],\n",
       "        [ 378, -903, -323],\n",
       "        [-778, -728,  485],\n",
       "        [ 426,  699,  580],\n",
       "        [-438, -605, -362],\n",
       "        [-469, -447, -387],\n",
       "        [ 509,  732,  623],\n",
       "        [ 647,  635, -688],\n",
       "        [-868, -804,  481],\n",
       "        [ 614, -800,  639],\n",
       "        [ 595,  780, -596]])]"
      ]
     },
     "execution_count": 103,
     "metadata": {},
     "output_type": "execute_result"
    }
   ],
   "source": [
    "scanners"
   ]
  },
  {
   "cell_type": "code",
   "execution_count": 86,
   "id": "152214f3",
   "metadata": {
    "ExecuteTime": {
     "end_time": "2021-12-19T08:37:08.773276Z",
     "start_time": "2021-12-19T08:37:08.761197Z"
    }
   },
   "outputs": [
    {
     "name": "stderr",
     "output_type": "stream",
     "text": [
      "/Users/alixtiran-cappello/.pyenv/versions/3.7.12/envs/rotor/lib/python3.7/site-packages/ipykernel_launcher.py:3: DeprecationWarning: The default dtype for empty Series will be 'object' instead of 'float64' in a future version. Specify a dtype explicitly to silence this warning.\n",
      "  This is separate from the ipykernel package so we can avoid doing imports until\n"
     ]
    },
    {
     "data": {
      "text/plain": [
       "Series([], dtype: float64)"
      ]
     },
     "execution_count": 86,
     "metadata": {},
     "output_type": "execute_result"
    }
   ],
   "source": [
    "with open(day , 'r') as f:\n",
    "    file = f.read().splitlines()\n",
    "file = pd.Series(file)\n",
    "file"
   ]
  },
  {
   "cell_type": "code",
   "execution_count": 8,
   "id": "d811fafd",
   "metadata": {
    "ExecuteTime": {
     "end_time": "2021-12-19T06:55:19.628395Z",
     "start_time": "2021-12-19T06:55:19.624505Z"
    }
   },
   "outputs": [],
   "source": [
    "def map_pattern(x):\n",
    "    #x = x.split(\": \")[1]\n",
    "    x = x.split(',')\n",
    "    return [int(i) for i in x]\n",
    "          \n",
    "data = file.apply(map_pattern).to_list()\n",
    "#data = pd.DataFrame(data)\n",
    "#data = data.astype(int)\n",
    "data = np.array(data )"
   ]
  },
  {
   "cell_type": "code",
   "execution_count": 85,
   "id": "a14727d8",
   "metadata": {
    "ExecuteTime": {
     "end_time": "2021-12-19T08:37:02.743728Z",
     "start_time": "2021-12-19T08:37:02.738852Z"
    }
   },
   "outputs": [],
   "source": [
    "def roll(v): return (v[0],v[2],-v[1])\n",
    "def turn(v): return (-v[1],v[0],v[2])\n",
    "def sequence (v):\n",
    "    for cycle in range(2):\n",
    "        for step in range(3):  # Yield RTTT 3 times\n",
    "            v = roll(v)\n",
    "            yield(v)           #    Yield R\n",
    "            for i in range(3): #    Yield TTT\n",
    "                v = turn(v)\n",
    "                yield(v)\n",
    "        v = roll(turn(roll(v)))  # Do RTR\n",
    "\n",
    "#p = sequence(( 1, 1, 1))\n",
    "#q = sequence((-1,-1, 1))\n",
    "#for i in sorted(zip(p,q)):\n",
    "#    print(i)"
   ]
  },
  {
   "cell_type": "code",
   "execution_count": 83,
   "id": "05956996",
   "metadata": {
    "ExecuteTime": {
     "end_time": "2021-12-19T08:34:26.853901Z",
     "start_time": "2021-12-19T08:34:26.849252Z"
    }
   },
   "outputs": [],
   "source": [
    "def calculate_permutations(list_coordo):\n",
    "    res = [list(sequence(i)) for i in list_coordo]\n",
    "\n",
    "    res= np.array(res)\n",
    "\n",
    "    rot = [res[:, i, :] for i in range(24)]\n",
    "    res = np.array(rot)\n",
    "    return res"
   ]
  },
  {
   "cell_type": "code",
   "execution_count": 109,
   "id": "eef9eace",
   "metadata": {
    "ExecuteTime": {
     "end_time": "2021-12-19T08:56:20.406323Z",
     "start_time": "2021-12-19T08:56:20.401712Z"
    }
   },
   "outputs": [],
   "source": [
    "permutation0 = calculate_permutations(scanners[0])\n",
    "permutation1 = calculate_permutations(scanners[1])"
   ]
  },
  {
   "cell_type": "code",
   "execution_count": 110,
   "id": "25608662",
   "metadata": {
    "ExecuteTime": {
     "end_time": "2021-12-19T08:57:05.702014Z",
     "start_time": "2021-12-19T08:57:05.699708Z"
    }
   },
   "outputs": [],
   "source": [
    "# iterate sur chaque permutation\n",
    "# iterate sur chaque permutation\n",
    "# iterate sur chaque ligne\n",
    "# is line in permutation\n",
    "# "
   ]
  },
  {
   "cell_type": "code",
   "execution_count": 123,
   "id": "357e5cea",
   "metadata": {
    "ExecuteTime": {
     "end_time": "2021-12-19T09:09:52.259546Z",
     "start_time": "2021-12-19T09:09:52.256166Z"
    }
   },
   "outputs": [],
   "source": [
    "def calculate_common_lines(base, target):\n",
    "    base = base.tolist()\n",
    "    target = target.tolist()\n",
    "    res = 0\n",
    "    for line in base:\n",
    "        if line in target:\n",
    "            res += 1\n",
    "    return res"
   ]
  },
  {
   "cell_type": "code",
   "execution_count": 152,
   "id": "e4c3cfc0",
   "metadata": {
    "ExecuteTime": {
     "end_time": "2021-12-19T20:19:44.361860Z",
     "start_time": "2021-12-19T20:19:44.357858Z"
    }
   },
   "outputs": [],
   "source": [
    "def manhattan_distance(a, b):\n",
    "    return np.abs(a - b).sum()\n",
    "\n",
    "def calculate_distances(scanner):\n",
    "    res = []\n",
    "    for aline in scanner:\n",
    "        for bline in scanner:\n",
    "            res.append(manhattan_distance(aline, bline))\n",
    "    \n",
    "    res = np.array(set(res))\n",
    "    return res\n",
    "        "
   ]
  },
  {
   "cell_type": "code",
   "execution_count": 154,
   "id": "4fc55da8",
   "metadata": {
    "ExecuteTime": {
     "end_time": "2021-12-19T20:20:01.980096Z",
     "start_time": "2021-12-19T20:20:01.947918Z"
    }
   },
   "outputs": [
    {
     "name": "stdout",
     "output_type": "stream",
     "text": [
      "34\n",
      "45\n",
      "307\n",
      "35\n"
     ]
    }
   ],
   "source": [
    "for i in range(0, len(scanners)):\n",
    "    print(calculate_common_lines(calculate_distances(scanners[2]), calculate_distances(scanners[i])))"
   ]
  },
  {
   "cell_type": "code",
   "execution_count": 148,
   "id": "c50354f3",
   "metadata": {
    "ExecuteTime": {
     "end_time": "2021-12-19T20:10:23.107371Z",
     "start_time": "2021-12-19T20:10:23.103411Z"
    }
   },
   "outputs": [
    {
     "data": {
      "text/plain": [
       "4"
      ]
     },
     "execution_count": 148,
     "metadata": {},
     "output_type": "execute_result"
    }
   ],
   "source": [
    "len(scanners)"
   ]
  },
  {
   "cell_type": "code",
   "execution_count": null,
   "id": "0c601510",
   "metadata": {},
   "outputs": [],
   "source": [
    "from collections import defaultdict\n",
    "from itertools import permutations\n",
    "\n",
    "from datetime import datetime\n",
    "\n",
    "\n",
    "def read_file(f):\n",
    "    \"\"\"Reads file\"\"\"\n",
    "    with open(f, 'r') as file:\n",
    "        return file.read().strip()\n",
    "\n",
    "\n",
    "def timer(func):\n",
    "    \"\"\"Prints result and timer for result\"\"\"\n",
    "    def wrapper(*args):\n",
    "        start = datetime.now()\n",
    "        f = func(*args)\n",
    "        end = datetime.now()\n",
    "        print(f)\n",
    "        print(end - start)\n",
    "        print()\n",
    "        return f\n",
    "    return wrapper\n",
    "\n",
    "def orientation():\n",
    "    \"\"\"Yields each of 8 possible orientations\"\"\"\n",
    "    for i in range(8):\n",
    "        yield (-1) ** (i % 2), (-1) ** ((i // 2) % 2), (-1) ** ((i // 4) % 2)\n",
    "\n",
    "\n",
    "class Scanner:\n",
    "    def __init__(self, num, pos=None):\n",
    "        self.beacons = set()\n",
    "        self.num = num\n",
    "        self.pos = pos\n",
    "\n",
    "    def add_beacon(self, beacon):\n",
    "        self.beacons.add(beacon)\n",
    "\n",
    "    def compare(self, other):\n",
    "        # Possible positions from self\n",
    "        c = dict()\n",
    "\n",
    "        # For each orientation and permutation (?? 48 possible orientations ??)\n",
    "        for orient in orientation():\n",
    "            for perm in permutations((0, 1, 2)):\n",
    "                c[orient, perm] = defaultdict(int)\n",
    "\n",
    "                # Compare each beacon from each scanner\n",
    "                for a in self.beacons:\n",
    "                    for b in other.beacons:\n",
    "                        # Assume a is absolute, find other.pos\n",
    "                        c[orient, perm][tuple(da+o*b[dp] for da, o, dp in zip(a, orient, perm))] += 1\n",
    "\n",
    "                # If 12 beacons have the same comparison, k is the absolute position of the other scanner\n",
    "                for k, v in c[orient, perm].items():\n",
    "                    if v >= 12:\n",
    "                        other.pos = k\n",
    "\n",
    "                        # Reorient all beacons based on absolute position\n",
    "                        other.reorient(orient, perm)\n",
    "                        return other.pos\n",
    "\n",
    "    def __str__(self):\n",
    "        return '--- scanner ' + str(self.num) + ' ---\\nPosition: ' \\\n",
    "               + str(self.pos) + '\\n' + '\\n'.join(str(b) for b in self.beacons)\n",
    "\n",
    "    def __repr__(self):\n",
    "        return str(self)\n",
    "\n",
    "    def reorient(self, orient, perm):\n",
    "        \"\"\"Reorient the scanner by the permutation and orientation\"\"\"\n",
    "        new_s = set()\n",
    "        for b in self.beacons:\n",
    "            new_b = tuple(self.pos[order] - o*b[p] for o, p, order in zip(orient, perm, (0, 1, 2)))\n",
    "            new_s.add(new_b)\n",
    "\n",
    "        self.beacons = new_s\n",
    "\n",
    "\n",
    "def prep_scanners(ins):\n",
    "    s = []\n",
    "\n",
    "    # Read each scanner in\n",
    "    for i, scanner in enumerate(f):\n",
    "        s.append(Scanner(i))\n",
    "        for line in scanner.split('\\n')[1:]:\n",
    "            s[i].add_beacon(tuple(int(i) for i in line.split(',')))\n",
    "\n",
    "    # Give scanner 0 the origin position\n",
    "    known = {0}\n",
    "    s[0].pos = (0, 0, 0)\n",
    "\n",
    "    # Keep comparing scanners until all absolute positions are known\n",
    "    while set(range(len(s))) - known != set():\n",
    "        new = set()\n",
    "        for k in known:\n",
    "            for i in range(len(s)):\n",
    "                if i in known:\n",
    "                    continue\n",
    "                if s[k].compare(s[i]):\n",
    "                    new.add(i)\n",
    "        known |= new\n",
    "        print(\"Total Mapped:\", len(known))\n",
    "\n",
    "    return s\n",
    "\n",
    "\n",
    "def manhattan(a, b):\n",
    "    return sum(abs(da - db) for da, db in zip(a, b))\n",
    "\n",
    "\n",
    "@timer\n",
    "def p1(s):\n",
    "    beacons = set.union(*(scan.beacons for scan in s))\n",
    "    return len(beacons)\n",
    "\n",
    "\n",
    "@timer\n",
    "def p2(s):\n",
    "    p = [scan.pos for scan in s]\n",
    "    m = 0\n",
    "\n",
    "    for i in p:\n",
    "        for j in p:\n",
    "            m = max(m, manhattan(i, j))\n",
    "\n",
    "    return m\n",
    "\n",
    "\n",
    "f = read_file(\"input.rb\").split('\\n\\n')\n",
    "s = prep_scanners(f)\n",
    "print('\\n')\n",
    "p1(s)\n",
    "p2(s)"
   ]
  }
 ],
 "metadata": {
  "kernelspec": {
   "display_name": "Python 3",
   "language": "python",
   "name": "python3"
  },
  "language_info": {
   "codemirror_mode": {
    "name": "ipython",
    "version": 3
   },
   "file_extension": ".py",
   "mimetype": "text/x-python",
   "name": "python",
   "nbconvert_exporter": "python",
   "pygments_lexer": "ipython3",
   "version": "3.7.12"
  },
  "toc": {
   "base_numbering": 1,
   "nav_menu": {},
   "number_sections": true,
   "sideBar": true,
   "skip_h1_title": false,
   "title_cell": "Table of Contents",
   "title_sidebar": "Contents",
   "toc_cell": false,
   "toc_position": {
    "height": "calc(100% - 180px)",
    "left": "10px",
    "top": "150px",
    "width": "281.2px"
   },
   "toc_section_display": true,
   "toc_window_display": true
  }
 },
 "nbformat": 4,
 "nbformat_minor": 5
}
