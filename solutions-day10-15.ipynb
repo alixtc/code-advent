{
 "cells": [
  {
   "cell_type": "code",
   "execution_count": 1,
   "id": "d90c2285",
   "metadata": {
    "ExecuteTime": {
     "end_time": "2021-12-12T21:19:19.427671Z",
     "start_time": "2021-12-12T21:19:18.748669Z"
    }
   },
   "outputs": [],
   "source": [
    "import pandas as pd\n",
    "import numpy as np"
   ]
  },
  {
   "cell_type": "markdown",
   "id": "ede73318",
   "metadata": {
    "ExecuteTime": {
     "end_time": "2021-12-09T18:03:43.792927Z",
     "start_time": "2021-12-09T18:03:43.790251Z"
    }
   },
   "source": [
    "# TEMPLATE"
   ]
  },
  {
   "cell_type": "code",
   "execution_count": null,
   "id": "bba75474",
   "metadata": {},
   "outputs": [],
   "source": []
  },
  {
   "cell_type": "markdown",
   "id": "895ffadf",
   "metadata": {},
   "source": [
    "# Day 10"
   ]
  },
  {
   "cell_type": "code",
   "execution_count": 5,
   "id": "ee70902e",
   "metadata": {
    "ExecuteTime": {
     "end_time": "2021-12-10T05:06:47.078333Z",
     "start_time": "2021-12-10T05:06:47.046727Z"
    }
   },
   "outputs": [
    {
     "name": "stderr",
     "output_type": "stream",
     "text": [
      "/Users/alixtiran-cappello/.pyenv/versions/3.7.12/envs/rotor/lib/python3.7/site-packages/ipykernel_launcher.py:4: DeprecationWarning: The default dtype for empty Series will be 'object' instead of 'float64' in a future version. Specify a dtype explicitly to silence this warning.\n",
      "  after removing the cwd from sys.path.\n"
     ]
    },
    {
     "data": {
      "text/plain": [
       "Series([], dtype: float64)"
      ]
     },
     "execution_count": 5,
     "metadata": {},
     "output_type": "execute_result"
    }
   ],
   "source": [
    "day = 'day10'\n",
    "with open(f'test{day}' , 'r') as f:\n",
    "    file = f.read().splitlines()\n",
    "file = pd.Series(file)\n",
    "file"
   ]
  },
  {
   "cell_type": "code",
   "execution_count": 155,
   "id": "b96d6c77",
   "metadata": {
    "ExecuteTime": {
     "end_time": "2021-12-10T05:53:59.879097Z",
     "start_time": "2021-12-10T05:53:59.871379Z"
    }
   },
   "outputs": [
    {
     "data": {
      "text/plain": [
       "0      (({({({(({{<{{()<>}}>}}([<[(<>{})(()()))[[{}[]...\n",
       "1      [{(<(<<([[[{(([]{})<(){}>)<{<>}(()[])>}]]{[([(...\n",
       "2      ((<[([(({<<<{{<><>}({}<>)}{{<>{}}[[]()]}>>([<[...\n",
       "3      [<[<({{({{[({[[][]]<{}<>>})<[<{}{}>]([<><>](<>...\n",
       "4      [<{<<({[{{{(<({}()){{}[]}><(<><>)[[]{}]>)}<(([...\n",
       "                             ...                        \n",
       "97     <({{<(<([({<[{<>[]}]<[{}{}]{()[]}>>(({[]()}))}...\n",
       "98     {[(([<([[<[<{[()]}>[<[<>{}][<><>]>{[()]{<>}}]]...\n",
       "99     <<({<<<({(<<[<[]()>{[][]}][<{}{}>{[]<>}]>[{{<>...\n",
       "100    [[[(<<(({[(((((){})(<>{}))<[[]()]{{}{})>)(<[()...\n",
       "101    {[[{<[{([<[<{(<><>)}({{}}([][]))>]{{<[<>{}]>(<...\n",
       "Length: 102, dtype: object"
      ]
     },
     "execution_count": 155,
     "metadata": {},
     "output_type": "execute_result"
    }
   ],
   "source": [
    "with open(day , 'r') as f:\n",
    "    file = f.read().splitlines()\n",
    "file = pd.Series(file)\n",
    "file"
   ]
  },
  {
   "cell_type": "code",
   "execution_count": null,
   "id": "cee89c90",
   "metadata": {},
   "outputs": [],
   "source": [
    "def map_pattern(x):\n",
    "    #x = x.split(\": \")[1]\n",
    "    x = x.split(',')\n",
    "    return np.array(x, dtype=int)\n",
    "          \n",
    "data = file.apply(map_pattern).to_list()\n",
    "#data = pd.DataFrame(data)\n",
    "#data = data.astype(int)\n",
    "data "
   ]
  },
  {
   "cell_type": "markdown",
   "id": "cb75e048",
   "metadata": {},
   "source": [
    "## Test"
   ]
  },
  {
   "cell_type": "code",
   "execution_count": 156,
   "id": "6ceb510f",
   "metadata": {
    "ExecuteTime": {
     "end_time": "2021-12-10T05:54:05.077638Z",
     "start_time": "2021-12-10T05:54:05.067084Z"
    }
   },
   "outputs": [
    {
     "data": {
      "text/html": [
       "<div>\n",
       "<style scoped>\n",
       "    .dataframe tbody tr th:only-of-type {\n",
       "        vertical-align: middle;\n",
       "    }\n",
       "\n",
       "    .dataframe tbody tr th {\n",
       "        vertical-align: top;\n",
       "    }\n",
       "\n",
       "    .dataframe thead th {\n",
       "        text-align: right;\n",
       "    }\n",
       "</style>\n",
       "<table border=\"1\" class=\"dataframe\">\n",
       "  <thead>\n",
       "    <tr style=\"text-align: right;\">\n",
       "      <th></th>\n",
       "      <th>string</th>\n",
       "    </tr>\n",
       "  </thead>\n",
       "  <tbody>\n",
       "    <tr>\n",
       "      <th>0</th>\n",
       "      <td>(({({({(({{&lt;{{()&lt;&gt;}}&gt;}}([&lt;[(&lt;&gt;{})(()()))[[{}[]...</td>\n",
       "    </tr>\n",
       "    <tr>\n",
       "      <th>1</th>\n",
       "      <td>[{(&lt;(&lt;&lt;([[[{(([]{})&lt;(){}&gt;)&lt;{&lt;&gt;}(()[])&gt;}]]{[([(...</td>\n",
       "    </tr>\n",
       "    <tr>\n",
       "      <th>2</th>\n",
       "      <td>((&lt;[([(({&lt;&lt;&lt;{{&lt;&gt;&lt;&gt;}({}&lt;&gt;)}{{&lt;&gt;{}}[[]()]}&gt;&gt;([&lt;[...</td>\n",
       "    </tr>\n",
       "    <tr>\n",
       "      <th>3</th>\n",
       "      <td>[&lt;[&lt;({{({{[({[[][]]&lt;{}&lt;&gt;&gt;})&lt;[&lt;{}{}&gt;]([&lt;&gt;&lt;&gt;](&lt;&gt;...</td>\n",
       "    </tr>\n",
       "    <tr>\n",
       "      <th>4</th>\n",
       "      <td>[&lt;{&lt;&lt;({[{{{(&lt;({}()){{}[]}&gt;&lt;(&lt;&gt;&lt;&gt;)[[]{}]&gt;)}&lt;(([...</td>\n",
       "    </tr>\n",
       "    <tr>\n",
       "      <th>...</th>\n",
       "      <td>...</td>\n",
       "    </tr>\n",
       "    <tr>\n",
       "      <th>97</th>\n",
       "      <td>&lt;({{&lt;(&lt;([({&lt;[{&lt;&gt;[]}]&lt;[{}{}]{()[]}&gt;&gt;(({[]()}))}...</td>\n",
       "    </tr>\n",
       "    <tr>\n",
       "      <th>98</th>\n",
       "      <td>{[(([&lt;([[&lt;[&lt;{[()]}&gt;[&lt;[&lt;&gt;{}][&lt;&gt;&lt;&gt;]&gt;{[()]{&lt;&gt;}}]]...</td>\n",
       "    </tr>\n",
       "    <tr>\n",
       "      <th>99</th>\n",
       "      <td>&lt;&lt;({&lt;&lt;&lt;({(&lt;&lt;[&lt;[]()&gt;{[][]}][&lt;{}{}&gt;{[]&lt;&gt;}]&gt;[{{&lt;&gt;...</td>\n",
       "    </tr>\n",
       "    <tr>\n",
       "      <th>100</th>\n",
       "      <td>[[[(&lt;&lt;(({[(((((){})(&lt;&gt;{}))&lt;[[]()]{{}{})&gt;)(&lt;[()...</td>\n",
       "    </tr>\n",
       "    <tr>\n",
       "      <th>101</th>\n",
       "      <td>{[[{&lt;[{([&lt;[&lt;{(&lt;&gt;&lt;&gt;)}({{}}([][]))&gt;]{{&lt;[&lt;&gt;{}]&gt;(&lt;...</td>\n",
       "    </tr>\n",
       "  </tbody>\n",
       "</table>\n",
       "<p>102 rows × 1 columns</p>\n",
       "</div>"
      ],
      "text/plain": [
       "                                                string\n",
       "0    (({({({(({{<{{()<>}}>}}([<[(<>{})(()()))[[{}[]...\n",
       "1    [{(<(<<([[[{(([]{})<(){}>)<{<>}(()[])>}]]{[([(...\n",
       "2    ((<[([(({<<<{{<><>}({}<>)}{{<>{}}[[]()]}>>([<[...\n",
       "3    [<[<({{({{[({[[][]]<{}<>>})<[<{}{}>]([<><>](<>...\n",
       "4    [<{<<({[{{{(<({}()){{}[]}><(<><>)[[]{}]>)}<(([...\n",
       "..                                                 ...\n",
       "97   <({{<(<([({<[{<>[]}]<[{}{}]{()[]}>>(({[]()}))}...\n",
       "98   {[(([<([[<[<{[()]}>[<[<>{}][<><>]>{[()]{<>}}]]...\n",
       "99   <<({<<<({(<<[<[]()>{[][]}][<{}{}>{[]<>}]>[{{<>...\n",
       "100  [[[(<<(({[(((((){})(<>{}))<[[]()]{{}{})>)(<[()...\n",
       "101  {[[{<[{([<[<{(<><>)}({{}}([][]))>]{{<[<>{}]>(<...\n",
       "\n",
       "[102 rows x 1 columns]"
      ]
     },
     "execution_count": 156,
     "metadata": {},
     "output_type": "execute_result"
    }
   ],
   "source": [
    "data = pd.DataFrame(file, columns=['string'])\n",
    "data"
   ]
  },
  {
   "cell_type": "markdown",
   "id": "300e338d",
   "metadata": {},
   "source": [
    "## Prep"
   ]
  },
  {
   "cell_type": "code",
   "execution_count": 165,
   "id": "645adfbe",
   "metadata": {
    "ExecuteTime": {
     "end_time": "2021-12-10T05:54:38.510389Z",
     "start_time": "2021-12-10T05:54:38.506888Z"
    }
   },
   "outputs": [],
   "source": [
    "# Python3 code to Check for \n",
    "# balanced parentheses in an expression\n",
    "open_list = [\"[\",\"{\",\"(\", '<']\n",
    "close_list = [\"]\",\"}\",\")\", '>']\n",
    "\n",
    "matching = { \n",
    "    ')': 3,\n",
    "            \n",
    "    \"]\": 57,\n",
    "'}': 1197,\n",
    "'>': 25137\n",
    "}"
   ]
  },
  {
   "cell_type": "code",
   "execution_count": 158,
   "id": "80b514d0",
   "metadata": {
    "ExecuteTime": {
     "end_time": "2021-12-10T05:54:14.623610Z",
     "start_time": "2021-12-10T05:54:14.615709Z"
    }
   },
   "outputs": [
    {
     "name": "stdout",
     "output_type": "stream",
     "text": [
      "{[]{()}} - ('Balanced', None)\n",
      "[{}{})(] - ('Corrupted', ')')\n",
      "((() - ('Unbalanced', None)\n"
     ]
    }
   ],
   "source": [
    "# Function to check parentheses\n",
    "def check(myStr):\n",
    "    stack = []\n",
    "    for i in myStr:\n",
    "        if i in open_list:\n",
    "            stack.append(i)\n",
    "        elif i in close_list:\n",
    "            pos = close_list.index(i)\n",
    "            if ((len(stack) > 0) and\n",
    "                (open_list[pos] == stack[len(stack)-1])):\n",
    "                stack.pop()\n",
    "            else:\n",
    "                return \"Corrupted\", i\n",
    "    if len(stack) == 0:\n",
    "        return \"Balanced\", None\n",
    "    else:\n",
    "        return \"Unbalanced\", None\n",
    "  \n",
    "  \n",
    "# Driver code\n",
    "string = \"{[]{()}}\"\n",
    "print(string,\"-\", check(string))\n",
    "  \n",
    "string = \"[{}{})(]\"\n",
    "print(string,\"-\", check(string))\n",
    "  \n",
    "string = \"((()\"\n",
    "print(string,\"-\",check(string))"
   ]
  },
  {
   "cell_type": "markdown",
   "id": "c87314ea",
   "metadata": {},
   "source": [
    "## Part 1"
   ]
  },
  {
   "cell_type": "code",
   "execution_count": 159,
   "id": "1ededc67",
   "metadata": {
    "ExecuteTime": {
     "end_time": "2021-12-10T05:54:21.334475Z",
     "start_time": "2021-12-10T05:54:21.326857Z"
    }
   },
   "outputs": [],
   "source": [
    "data['status']= data.string.apply(check)"
   ]
  },
  {
   "cell_type": "code",
   "execution_count": 160,
   "id": "257e7fd7",
   "metadata": {
    "ExecuteTime": {
     "end_time": "2021-12-10T05:54:21.882956Z",
     "start_time": "2021-12-10T05:54:21.878813Z"
    }
   },
   "outputs": [],
   "source": [
    "data['char'] = data.status.apply(lambda x: x[1])"
   ]
  },
  {
   "cell_type": "code",
   "execution_count": 161,
   "id": "998ca0d3",
   "metadata": {
    "ExecuteTime": {
     "end_time": "2021-12-10T05:54:22.569919Z",
     "start_time": "2021-12-10T05:54:22.566529Z"
    }
   },
   "outputs": [],
   "source": [
    "data['status'] = data.status.apply(lambda x: x[0])"
   ]
  },
  {
   "cell_type": "code",
   "execution_count": 162,
   "id": "0d7a35e0",
   "metadata": {
    "ExecuteTime": {
     "end_time": "2021-12-10T05:54:23.233015Z",
     "start_time": "2021-12-10T05:54:23.221999Z"
    }
   },
   "outputs": [
    {
     "data": {
      "text/html": [
       "<div>\n",
       "<style scoped>\n",
       "    .dataframe tbody tr th:only-of-type {\n",
       "        vertical-align: middle;\n",
       "    }\n",
       "\n",
       "    .dataframe tbody tr th {\n",
       "        vertical-align: top;\n",
       "    }\n",
       "\n",
       "    .dataframe thead th {\n",
       "        text-align: right;\n",
       "    }\n",
       "</style>\n",
       "<table border=\"1\" class=\"dataframe\">\n",
       "  <thead>\n",
       "    <tr style=\"text-align: right;\">\n",
       "      <th></th>\n",
       "      <th>string</th>\n",
       "      <th>status</th>\n",
       "      <th>char</th>\n",
       "    </tr>\n",
       "  </thead>\n",
       "  <tbody>\n",
       "    <tr>\n",
       "      <th>0</th>\n",
       "      <td>(({({({(({{&lt;{{()&lt;&gt;}}&gt;}}([&lt;[(&lt;&gt;{})(()()))[[{}[]...</td>\n",
       "      <td>Corrupted</td>\n",
       "      <td>)</td>\n",
       "    </tr>\n",
       "    <tr>\n",
       "      <th>1</th>\n",
       "      <td>[{(&lt;(&lt;&lt;([[[{(([]{})&lt;(){}&gt;)&lt;{&lt;&gt;}(()[])&gt;}]]{[([(...</td>\n",
       "      <td>Unbalanced</td>\n",
       "      <td>None</td>\n",
       "    </tr>\n",
       "    <tr>\n",
       "      <th>2</th>\n",
       "      <td>((&lt;[([(({&lt;&lt;&lt;{{&lt;&gt;&lt;&gt;}({}&lt;&gt;)}{{&lt;&gt;{}}[[]()]}&gt;&gt;([&lt;[...</td>\n",
       "      <td>Corrupted</td>\n",
       "      <td>}</td>\n",
       "    </tr>\n",
       "    <tr>\n",
       "      <th>3</th>\n",
       "      <td>[&lt;[&lt;({{({{[({[[][]]&lt;{}&lt;&gt;&gt;})&lt;[&lt;{}{}&gt;]([&lt;&gt;&lt;&gt;](&lt;&gt;...</td>\n",
       "      <td>Corrupted</td>\n",
       "      <td>}</td>\n",
       "    </tr>\n",
       "    <tr>\n",
       "      <th>4</th>\n",
       "      <td>[&lt;{&lt;&lt;({[{{{(&lt;({}()){{}[]}&gt;&lt;(&lt;&gt;&lt;&gt;)[[]{}]&gt;)}&lt;(([...</td>\n",
       "      <td>Unbalanced</td>\n",
       "      <td>None</td>\n",
       "    </tr>\n",
       "    <tr>\n",
       "      <th>...</th>\n",
       "      <td>...</td>\n",
       "      <td>...</td>\n",
       "      <td>...</td>\n",
       "    </tr>\n",
       "    <tr>\n",
       "      <th>97</th>\n",
       "      <td>&lt;({{&lt;(&lt;([({&lt;[{&lt;&gt;[]}]&lt;[{}{}]{()[]}&gt;&gt;(({[]()}))}...</td>\n",
       "      <td>Unbalanced</td>\n",
       "      <td>None</td>\n",
       "    </tr>\n",
       "    <tr>\n",
       "      <th>98</th>\n",
       "      <td>{[(([&lt;([[&lt;[&lt;{[()]}&gt;[&lt;[&lt;&gt;{}][&lt;&gt;&lt;&gt;]&gt;{[()]{&lt;&gt;}}]]...</td>\n",
       "      <td>Unbalanced</td>\n",
       "      <td>None</td>\n",
       "    </tr>\n",
       "    <tr>\n",
       "      <th>99</th>\n",
       "      <td>&lt;&lt;({&lt;&lt;&lt;({(&lt;&lt;[&lt;[]()&gt;{[][]}][&lt;{}{}&gt;{[]&lt;&gt;}]&gt;[{{&lt;&gt;...</td>\n",
       "      <td>Unbalanced</td>\n",
       "      <td>None</td>\n",
       "    </tr>\n",
       "    <tr>\n",
       "      <th>100</th>\n",
       "      <td>[[[(&lt;&lt;(({[(((((){})(&lt;&gt;{}))&lt;[[]()]{{}{})&gt;)(&lt;[()...</td>\n",
       "      <td>Corrupted</td>\n",
       "      <td>)</td>\n",
       "    </tr>\n",
       "    <tr>\n",
       "      <th>101</th>\n",
       "      <td>{[[{&lt;[{([&lt;[&lt;{(&lt;&gt;&lt;&gt;)}({{}}([][]))&gt;]{{&lt;[&lt;&gt;{}]&gt;(&lt;...</td>\n",
       "      <td>Unbalanced</td>\n",
       "      <td>None</td>\n",
       "    </tr>\n",
       "  </tbody>\n",
       "</table>\n",
       "<p>102 rows × 3 columns</p>\n",
       "</div>"
      ],
      "text/plain": [
       "                                                string      status  char\n",
       "0    (({({({(({{<{{()<>}}>}}([<[(<>{})(()()))[[{}[]...   Corrupted     )\n",
       "1    [{(<(<<([[[{(([]{})<(){}>)<{<>}(()[])>}]]{[([(...  Unbalanced  None\n",
       "2    ((<[([(({<<<{{<><>}({}<>)}{{<>{}}[[]()]}>>([<[...   Corrupted     }\n",
       "3    [<[<({{({{[({[[][]]<{}<>>})<[<{}{}>]([<><>](<>...   Corrupted     }\n",
       "4    [<{<<({[{{{(<({}()){{}[]}><(<><>)[[]{}]>)}<(([...  Unbalanced  None\n",
       "..                                                 ...         ...   ...\n",
       "97   <({{<(<([({<[{<>[]}]<[{}{}]{()[]}>>(({[]()}))}...  Unbalanced  None\n",
       "98   {[(([<([[<[<{[()]}>[<[<>{}][<><>]>{[()]{<>}}]]...  Unbalanced  None\n",
       "99   <<({<<<({(<<[<[]()>{[][]}][<{}{}>{[]<>}]>[{{<>...  Unbalanced  None\n",
       "100  [[[(<<(({[(((((){})(<>{}))<[[]()]{{}{})>)(<[()...   Corrupted     )\n",
       "101  {[[{<[{([<[<{(<><>)}({{}}([][]))>]{{<[<>{}]>(<...  Unbalanced  None\n",
       "\n",
       "[102 rows x 3 columns]"
      ]
     },
     "execution_count": 162,
     "metadata": {},
     "output_type": "execute_result"
    }
   ],
   "source": [
    "data"
   ]
  },
  {
   "cell_type": "code",
   "execution_count": 167,
   "id": "de880092",
   "metadata": {
    "ExecuteTime": {
     "end_time": "2021-12-10T05:54:54.514346Z",
     "start_time": "2021-12-10T05:54:54.505536Z"
    }
   },
   "outputs": [
    {
     "data": {
      "text/html": [
       "<div>\n",
       "<style scoped>\n",
       "    .dataframe tbody tr th:only-of-type {\n",
       "        vertical-align: middle;\n",
       "    }\n",
       "\n",
       "    .dataframe tbody tr th {\n",
       "        vertical-align: top;\n",
       "    }\n",
       "\n",
       "    .dataframe thead th {\n",
       "        text-align: right;\n",
       "    }\n",
       "</style>\n",
       "<table border=\"1\" class=\"dataframe\">\n",
       "  <thead>\n",
       "    <tr style=\"text-align: right;\">\n",
       "      <th></th>\n",
       "      <th>index</th>\n",
       "      <th>char</th>\n",
       "    </tr>\n",
       "  </thead>\n",
       "  <tbody>\n",
       "    <tr>\n",
       "      <th>0</th>\n",
       "      <td>)</td>\n",
       "      <td>17</td>\n",
       "    </tr>\n",
       "    <tr>\n",
       "      <th>1</th>\n",
       "      <td>&gt;</td>\n",
       "      <td>15</td>\n",
       "    </tr>\n",
       "    <tr>\n",
       "      <th>2</th>\n",
       "      <td>}</td>\n",
       "      <td>10</td>\n",
       "    </tr>\n",
       "    <tr>\n",
       "      <th>3</th>\n",
       "      <td>]</td>\n",
       "      <td>9</td>\n",
       "    </tr>\n",
       "  </tbody>\n",
       "</table>\n",
       "</div>"
      ],
      "text/plain": [
       "  index  char\n",
       "0     )    17\n",
       "1     >    15\n",
       "2     }    10\n",
       "3     ]     9"
      ]
     },
     "execution_count": 167,
     "metadata": {},
     "output_type": "execute_result"
    }
   ],
   "source": [
    "summary = pd.DataFrame(data.char.value_counts()).reset_index()\n",
    "summary"
   ]
  },
  {
   "cell_type": "code",
   "execution_count": 168,
   "id": "7adb6d58",
   "metadata": {
    "ExecuteTime": {
     "end_time": "2021-12-10T05:55:05.144408Z",
     "start_time": "2021-12-10T05:55:05.139989Z"
    }
   },
   "outputs": [],
   "source": [
    "summary['index'] = summary['index'].map(matching)"
   ]
  },
  {
   "cell_type": "code",
   "execution_count": 169,
   "id": "48a6dfee",
   "metadata": {
    "ExecuteTime": {
     "end_time": "2021-12-10T05:55:05.973388Z",
     "start_time": "2021-12-10T05:55:05.968228Z"
    }
   },
   "outputs": [
    {
     "data": {
      "text/plain": [
       "389589"
      ]
     },
     "execution_count": 169,
     "metadata": {},
     "output_type": "execute_result"
    }
   ],
   "source": [
    "(summary['index'] * summary.char).sum()"
   ]
  },
  {
   "cell_type": "markdown",
   "id": "355de38b",
   "metadata": {},
   "source": [
    "## Part 2"
   ]
  },
  {
   "cell_type": "code",
   "execution_count": 170,
   "id": "7fe17cf5",
   "metadata": {
    "ExecuteTime": {
     "end_time": "2021-12-10T05:55:09.971178Z",
     "start_time": "2021-12-10T05:55:09.965693Z"
    }
   },
   "outputs": [],
   "source": [
    "# Function to check parentheses\n",
    "def check(myStr):\n",
    "    stack = []\n",
    "    unba = []\n",
    "    for i in myStr:\n",
    "        if i in open_list:\n",
    "            stack.append(i)\n",
    "        elif i in close_list:\n",
    "            pos = close_list.index(i)\n",
    "            if ((len(stack) > 0) and\n",
    "                (open_list[pos] == stack[len(stack)-1])):\n",
    "                stack.pop()\n",
    "            else:\n",
    "                return \"Corrupted\", i\n",
    "    if len(stack) == 0:\n",
    "        return \"Balanced\", None\n",
    "    else:\n",
    "        return stack"
   ]
  },
  {
   "cell_type": "code",
   "execution_count": 171,
   "id": "1871c9dc",
   "metadata": {
    "ExecuteTime": {
     "end_time": "2021-12-10T05:55:11.725835Z",
     "start_time": "2021-12-10T05:55:11.721209Z"
    }
   },
   "outputs": [],
   "source": [
    "unba = data[data.status == 'Unbalanced']\n",
    "unba = unba[['string']]"
   ]
  },
  {
   "cell_type": "code",
   "execution_count": 173,
   "id": "323486f6",
   "metadata": {
    "ExecuteTime": {
     "end_time": "2021-12-10T05:55:15.308694Z",
     "start_time": "2021-12-10T05:55:15.302238Z"
    }
   },
   "outputs": [],
   "source": [
    "unba['list'] = unba.string.apply(check)"
   ]
  },
  {
   "cell_type": "code",
   "execution_count": 175,
   "id": "7f3e597c",
   "metadata": {
    "ExecuteTime": {
     "end_time": "2021-12-10T05:55:18.375753Z",
     "start_time": "2021-12-10T05:55:18.372990Z"
    }
   },
   "outputs": [],
   "source": [
    "matcher = { \n",
    "    '(': 1,   \n",
    "    \"[\": 2,\n",
    "'{': 3,\n",
    "'<': 4\n",
    "}"
   ]
  },
  {
   "cell_type": "code",
   "execution_count": 176,
   "id": "cf977c5e",
   "metadata": {
    "ExecuteTime": {
     "end_time": "2021-12-10T05:55:18.859733Z",
     "start_time": "2021-12-10T05:55:18.856402Z"
    }
   },
   "outputs": [],
   "source": [
    "def count_point(stack):\n",
    "    count = 0\n",
    "    stack.reverse()\n",
    "    for item in stack:\n",
    "        count *= 5\n",
    "        count += matcher[item]\n",
    "    return count"
   ]
  },
  {
   "cell_type": "code",
   "execution_count": 177,
   "id": "c066d52f",
   "metadata": {
    "ExecuteTime": {
     "end_time": "2021-12-10T05:55:19.916471Z",
     "start_time": "2021-12-10T05:55:19.912679Z"
    }
   },
   "outputs": [],
   "source": [
    "unba['res'] = unba['list'].apply(count_point)"
   ]
  },
  {
   "cell_type": "code",
   "execution_count": 179,
   "id": "af0144f7",
   "metadata": {
    "ExecuteTime": {
     "end_time": "2021-12-10T05:55:25.228889Z",
     "start_time": "2021-12-10T05:55:25.225182Z"
    }
   },
   "outputs": [],
   "source": [
    "res = unba['res'].sort_values().reset_index(drop='True')"
   ]
  },
  {
   "cell_type": "code",
   "execution_count": 180,
   "id": "3643398d",
   "metadata": {
    "ExecuteTime": {
     "end_time": "2021-12-10T05:55:25.848433Z",
     "start_time": "2021-12-10T05:55:25.844053Z"
    }
   },
   "outputs": [
    {
     "data": {
      "text/plain": [
       "1190420163"
      ]
     },
     "execution_count": 180,
     "metadata": {},
     "output_type": "execute_result"
    }
   ],
   "source": [
    "res[len(res) // 2]"
   ]
  },
  {
   "cell_type": "code",
   "execution_count": null,
   "id": "85714475",
   "metadata": {},
   "outputs": [],
   "source": []
  },
  {
   "cell_type": "markdown",
   "id": "f58c60db",
   "metadata": {},
   "source": [
    "# Day 11"
   ]
  },
  {
   "cell_type": "code",
   "execution_count": 3,
   "id": "8d59a60f",
   "metadata": {
    "ExecuteTime": {
     "end_time": "2021-12-11T18:53:47.262926Z",
     "start_time": "2021-12-11T18:53:47.248987Z"
    }
   },
   "outputs": [
    {
     "data": {
      "text/plain": [
       "0    5483143223\n",
       "1    2745854711\n",
       "2    5264556173\n",
       "3    6141336146\n",
       "4    6357385478\n",
       "5    4167524645\n",
       "6    2176841721\n",
       "7    6882881134\n",
       "8    4846848554\n",
       "9    5283751526\n",
       "dtype: object"
      ]
     },
     "execution_count": 3,
     "metadata": {},
     "output_type": "execute_result"
    }
   ],
   "source": [
    "day = 'day11'\n",
    "with open(f'test{day}' , 'r') as f:\n",
    "    file = f.read().splitlines()\n",
    "file = pd.Series(file)\n",
    "file"
   ]
  },
  {
   "cell_type": "code",
   "execution_count": 4,
   "id": "10f604eb",
   "metadata": {
    "ExecuteTime": {
     "end_time": "2021-12-11T18:53:47.700071Z",
     "start_time": "2021-12-11T18:53:47.693157Z"
    }
   },
   "outputs": [
    {
     "data": {
      "text/plain": [
       "0    5212166716\n",
       "1    1567322581\n",
       "2    2268461548\n",
       "3    3481561744\n",
       "4    6248342248\n",
       "5    6526667368\n",
       "6    5627335775\n",
       "7    8124511754\n",
       "8    4614137683\n",
       "9    4724561156\n",
       "dtype: object"
      ]
     },
     "execution_count": 4,
     "metadata": {},
     "output_type": "execute_result"
    }
   ],
   "source": [
    "with open(day , 'r') as f:\n",
    "    file = f.read().splitlines()\n",
    "file = pd.Series(file)\n",
    "file"
   ]
  },
  {
   "cell_type": "code",
   "execution_count": 5,
   "id": "e5dce24f",
   "metadata": {
    "ExecuteTime": {
     "end_time": "2021-12-11T18:53:49.107645Z",
     "start_time": "2021-12-11T18:53:49.087468Z"
    }
   },
   "outputs": [
    {
     "data": {
      "text/html": [
       "<div>\n",
       "<style scoped>\n",
       "    .dataframe tbody tr th:only-of-type {\n",
       "        vertical-align: middle;\n",
       "    }\n",
       "\n",
       "    .dataframe tbody tr th {\n",
       "        vertical-align: top;\n",
       "    }\n",
       "\n",
       "    .dataframe thead th {\n",
       "        text-align: right;\n",
       "    }\n",
       "</style>\n",
       "<table border=\"1\" class=\"dataframe\">\n",
       "  <thead>\n",
       "    <tr style=\"text-align: right;\">\n",
       "      <th></th>\n",
       "      <th>0</th>\n",
       "      <th>1</th>\n",
       "      <th>2</th>\n",
       "      <th>3</th>\n",
       "      <th>4</th>\n",
       "      <th>5</th>\n",
       "      <th>6</th>\n",
       "      <th>7</th>\n",
       "      <th>8</th>\n",
       "      <th>9</th>\n",
       "    </tr>\n",
       "  </thead>\n",
       "  <tbody>\n",
       "    <tr>\n",
       "      <th>0</th>\n",
       "      <td>5</td>\n",
       "      <td>2</td>\n",
       "      <td>1</td>\n",
       "      <td>2</td>\n",
       "      <td>1</td>\n",
       "      <td>6</td>\n",
       "      <td>6</td>\n",
       "      <td>7</td>\n",
       "      <td>1</td>\n",
       "      <td>6</td>\n",
       "    </tr>\n",
       "    <tr>\n",
       "      <th>1</th>\n",
       "      <td>1</td>\n",
       "      <td>5</td>\n",
       "      <td>6</td>\n",
       "      <td>7</td>\n",
       "      <td>3</td>\n",
       "      <td>2</td>\n",
       "      <td>2</td>\n",
       "      <td>5</td>\n",
       "      <td>8</td>\n",
       "      <td>1</td>\n",
       "    </tr>\n",
       "    <tr>\n",
       "      <th>2</th>\n",
       "      <td>2</td>\n",
       "      <td>2</td>\n",
       "      <td>6</td>\n",
       "      <td>8</td>\n",
       "      <td>4</td>\n",
       "      <td>6</td>\n",
       "      <td>1</td>\n",
       "      <td>5</td>\n",
       "      <td>4</td>\n",
       "      <td>8</td>\n",
       "    </tr>\n",
       "    <tr>\n",
       "      <th>3</th>\n",
       "      <td>3</td>\n",
       "      <td>4</td>\n",
       "      <td>8</td>\n",
       "      <td>1</td>\n",
       "      <td>5</td>\n",
       "      <td>6</td>\n",
       "      <td>1</td>\n",
       "      <td>7</td>\n",
       "      <td>4</td>\n",
       "      <td>4</td>\n",
       "    </tr>\n",
       "    <tr>\n",
       "      <th>4</th>\n",
       "      <td>6</td>\n",
       "      <td>2</td>\n",
       "      <td>4</td>\n",
       "      <td>8</td>\n",
       "      <td>3</td>\n",
       "      <td>4</td>\n",
       "      <td>2</td>\n",
       "      <td>2</td>\n",
       "      <td>4</td>\n",
       "      <td>8</td>\n",
       "    </tr>\n",
       "    <tr>\n",
       "      <th>5</th>\n",
       "      <td>6</td>\n",
       "      <td>5</td>\n",
       "      <td>2</td>\n",
       "      <td>6</td>\n",
       "      <td>6</td>\n",
       "      <td>6</td>\n",
       "      <td>7</td>\n",
       "      <td>3</td>\n",
       "      <td>6</td>\n",
       "      <td>8</td>\n",
       "    </tr>\n",
       "    <tr>\n",
       "      <th>6</th>\n",
       "      <td>5</td>\n",
       "      <td>6</td>\n",
       "      <td>2</td>\n",
       "      <td>7</td>\n",
       "      <td>3</td>\n",
       "      <td>3</td>\n",
       "      <td>5</td>\n",
       "      <td>7</td>\n",
       "      <td>7</td>\n",
       "      <td>5</td>\n",
       "    </tr>\n",
       "    <tr>\n",
       "      <th>7</th>\n",
       "      <td>8</td>\n",
       "      <td>1</td>\n",
       "      <td>2</td>\n",
       "      <td>4</td>\n",
       "      <td>5</td>\n",
       "      <td>1</td>\n",
       "      <td>1</td>\n",
       "      <td>7</td>\n",
       "      <td>5</td>\n",
       "      <td>4</td>\n",
       "    </tr>\n",
       "    <tr>\n",
       "      <th>8</th>\n",
       "      <td>4</td>\n",
       "      <td>6</td>\n",
       "      <td>1</td>\n",
       "      <td>4</td>\n",
       "      <td>1</td>\n",
       "      <td>3</td>\n",
       "      <td>7</td>\n",
       "      <td>6</td>\n",
       "      <td>8</td>\n",
       "      <td>3</td>\n",
       "    </tr>\n",
       "    <tr>\n",
       "      <th>9</th>\n",
       "      <td>4</td>\n",
       "      <td>7</td>\n",
       "      <td>2</td>\n",
       "      <td>4</td>\n",
       "      <td>5</td>\n",
       "      <td>6</td>\n",
       "      <td>1</td>\n",
       "      <td>1</td>\n",
       "      <td>5</td>\n",
       "      <td>6</td>\n",
       "    </tr>\n",
       "  </tbody>\n",
       "</table>\n",
       "</div>"
      ],
      "text/plain": [
       "   0  1  2  3  4  5  6  7  8  9\n",
       "0  5  2  1  2  1  6  6  7  1  6\n",
       "1  1  5  6  7  3  2  2  5  8  1\n",
       "2  2  2  6  8  4  6  1  5  4  8\n",
       "3  3  4  8  1  5  6  1  7  4  4\n",
       "4  6  2  4  8  3  4  2  2  4  8\n",
       "5  6  5  2  6  6  6  7  3  6  8\n",
       "6  5  6  2  7  3  3  5  7  7  5\n",
       "7  8  1  2  4  5  1  1  7  5  4\n",
       "8  4  6  1  4  1  3  7  6  8  3\n",
       "9  4  7  2  4  5  6  1  1  5  6"
      ]
     },
     "execution_count": 5,
     "metadata": {},
     "output_type": "execute_result"
    }
   ],
   "source": [
    "def map_pattern(x):\n",
    "    #x = x.split(\": \")[1]\n",
    "    x = [it for it in x]\n",
    "    return np.array(x, dtype=int)\n",
    "          \n",
    "data = file.apply(map_pattern).to_list()\n",
    "data = pd.DataFrame(data)\n",
    "#data = data.astype(int)\n",
    "#data  = data.to_numpy()\n",
    "data"
   ]
  },
  {
   "cell_type": "markdown",
   "id": "b0e55ddf",
   "metadata": {},
   "source": [
    "## Part 1"
   ]
  },
  {
   "cell_type": "code",
   "execution_count": 7,
   "id": "9da78e38",
   "metadata": {
    "ExecuteTime": {
     "end_time": "2021-12-11T18:53:54.220775Z",
     "start_time": "2021-12-11T18:53:54.212610Z"
    }
   },
   "outputs": [],
   "source": [
    "import itertools\n",
    "\n",
    "def limit_range(coordo):\n",
    "    return max(coordo-1, 0), min(coordo+2, 10)\n",
    "\n",
    "def upgrade_next(x, y):\n",
    "    positions = []\n",
    "    a = np.arange(*limit_range(x))\n",
    "    b = np.arange(*limit_range(y))\n",
    "    \n",
    "    positions = itertools.product(a,b)         \n",
    "    return list(positions)\n",
    "\n",
    "def run(df, n_runs):\n",
    "    data = df.copy()\n",
    "    flashes = 0\n",
    "    \n",
    "    for run in range(n_runs):\n",
    "        data = data + 1\n",
    "        xs, ys = np.where(data > 9)\n",
    "        \n",
    "        while len(xs) > 0:\n",
    "        \n",
    "            flashes += len(xs)\n",
    "            \n",
    "            positions = []\n",
    "            for x, y in zip(xs, ys):\n",
    "                # add new positions to upgrade to list\n",
    "                positions += upgrade_next(x, y)\n",
    "                \n",
    "                # Reset count once count passes 9\n",
    "                data.iloc[x, y] = 0\n",
    "            \n",
    "            # update df if value is not a zero\n",
    "            for x, y in positions:\n",
    "                if data.iloc[x, y] > 0:\n",
    "                    data.iloc[x, y] += 1\n",
    "            \n",
    "            xs, ys = np.where(data > 9)\n",
    "            \n",
    "    return flashes"
   ]
  },
  {
   "cell_type": "code",
   "execution_count": 8,
   "id": "7ec52864",
   "metadata": {
    "ExecuteTime": {
     "end_time": "2021-12-11T18:53:56.441442Z",
     "start_time": "2021-12-11T18:53:54.710379Z"
    }
   },
   "outputs": [
    {
     "data": {
      "text/plain": [
       "1719"
      ]
     },
     "execution_count": 8,
     "metadata": {},
     "output_type": "execute_result"
    }
   ],
   "source": [
    "run(data, 100) "
   ]
  },
  {
   "cell_type": "code",
   "execution_count": 10,
   "id": "7f582d82",
   "metadata": {
    "ExecuteTime": {
     "end_time": "2021-12-11T18:53:56.456428Z",
     "start_time": "2021-12-11T18:53:56.450062Z"
    }
   },
   "outputs": [
    {
     "data": {
      "text/plain": [
       "'réponse 1719'"
      ]
     },
     "execution_count": 10,
     "metadata": {},
     "output_type": "execute_result"
    }
   ],
   "source": [
    "\"réponse 1719\""
   ]
  },
  {
   "cell_type": "code",
   "execution_count": null,
   "id": "3c0c083f",
   "metadata": {},
   "outputs": [],
   "source": []
  },
  {
   "cell_type": "markdown",
   "id": "234790aa",
   "metadata": {},
   "source": [
    "## Part 2"
   ]
  },
  {
   "cell_type": "code",
   "execution_count": 18,
   "id": "2c45649c",
   "metadata": {
    "ExecuteTime": {
     "end_time": "2021-12-11T13:08:36.566175Z",
     "start_time": "2021-12-11T13:08:36.556925Z"
    }
   },
   "outputs": [],
   "source": [
    "def run(df):\n",
    "    data = df.copy()\n",
    "    flashes = 0\n",
    "    run = 0\n",
    "    \n",
    "    while True:\n",
    "        run += 1\n",
    "        data = data + 1\n",
    "        \n",
    "        xs, ys = np.where(data > 9)\n",
    "        x_to_reset = [] \n",
    "        y_to_reset = []\n",
    "        while len(xs) > 0:\n",
    "            x_to_reset += xs.tolist() \n",
    "            y_to_reset += ys.tolist()\n",
    "            \n",
    "            positions = []\n",
    "            flashes += len(xs)\n",
    "\n",
    "            for i in range(len(xs)):\n",
    "                pos = upgrade_next(xs[i], ys[i])\n",
    "                positions += pos\n",
    "\n",
    "            positions = pd.DataFrame(positions, columns=['x', 'y'])\n",
    "\n",
    "            cond = (\n",
    "                ((positions.x >= 0) & (positions.x <= 9))\n",
    "                &\n",
    "                ((positions.y >= 0) & (positions.y <= 9))\n",
    "            )\n",
    "            positions = positions[cond]\n",
    "\n",
    "            # update df\n",
    "            for idx, row in positions.iterrows():\n",
    "                data.iloc[row['x'], row['y']] += 1\n",
    "            \n",
    "            for x, y in zip(xs, ys):\n",
    "                data.iloc[x, y] = 0\n",
    "            xs, ys = np.where(data > 9)\n",
    "            \n",
    "            \n",
    "        for x, y in zip(x_to_reset, y_to_reset):\n",
    "                data.iloc[x, y] = 0\n",
    "        \n",
    "        if (data == 0).sum().sum() == 100:\n",
    "            return run\n",
    "        \n",
    "    return flashes, data"
   ]
  },
  {
   "cell_type": "code",
   "execution_count": 19,
   "id": "5e9c4caa",
   "metadata": {
    "ExecuteTime": {
     "end_time": "2021-12-11T13:08:49.079959Z",
     "start_time": "2021-12-11T13:08:37.016509Z"
    }
   },
   "outputs": [
    {
     "data": {
      "text/plain": [
       "351"
      ]
     },
     "execution_count": 19,
     "metadata": {},
     "output_type": "execute_result"
    }
   ],
   "source": [
    "run(data)"
   ]
  },
  {
   "cell_type": "code",
   "execution_count": 106,
   "id": "3b355d6b",
   "metadata": {
    "ExecuteTime": {
     "end_time": "2021-12-11T06:25:34.995615Z",
     "start_time": "2021-12-11T06:25:34.991364Z"
    }
   },
   "outputs": [
    {
     "data": {
      "text/plain": [
       "'réponse 382'"
      ]
     },
     "execution_count": 106,
     "metadata": {},
     "output_type": "execute_result"
    }
   ],
   "source": [
    "\"réponse 382\""
   ]
  },
  {
   "cell_type": "code",
   "execution_count": null,
   "id": "ecc88a7e",
   "metadata": {},
   "outputs": [],
   "source": []
  },
  {
   "cell_type": "markdown",
   "id": "0eee1683",
   "metadata": {
    "ExecuteTime": {
     "end_time": "2021-12-09T18:03:43.792927Z",
     "start_time": "2021-12-09T18:03:43.790251Z"
    }
   },
   "source": [
    "# Day 12"
   ]
  },
  {
   "cell_type": "markdown",
   "id": "afc2a273",
   "metadata": {
    "ExecuteTime": {
     "end_time": "2021-12-09T18:03:43.792927Z",
     "start_time": "2021-12-09T18:03:43.790251Z"
    }
   },
   "source": [
    "## Preparation"
   ]
  },
  {
   "cell_type": "code",
   "execution_count": 2,
   "id": "11eb8224",
   "metadata": {
    "ExecuteTime": {
     "end_time": "2021-12-12T12:54:28.175569Z",
     "start_time": "2021-12-12T12:54:28.161506Z"
    }
   },
   "outputs": [
    {
     "data": {
      "text/plain": [
       "0      dc-end\n",
       "1    HN-start\n",
       "2    start-kj\n",
       "3    dc-start\n",
       "4       dc-HN\n",
       "5       LN-dc\n",
       "6      HN-end\n",
       "7       kj-sa\n",
       "8       kj-HN\n",
       "9       kj-dc\n",
       "dtype: object"
      ]
     },
     "execution_count": 2,
     "metadata": {},
     "output_type": "execute_result"
    }
   ],
   "source": [
    "day = 'day12'\n",
    "with open(f'test{day}' , 'r') as f:\n",
    "    file = f.read().splitlines()\n",
    "file = pd.Series(file)\n",
    "file"
   ]
  },
  {
   "cell_type": "code",
   "execution_count": 324,
   "id": "f9c6877b",
   "metadata": {
    "ExecuteTime": {
     "end_time": "2021-12-12T08:28:39.173751Z",
     "start_time": "2021-12-12T08:28:39.167028Z"
    }
   },
   "outputs": [
    {
     "data": {
      "text/plain": [
       "0     start-qs\n",
       "1        qs-jz\n",
       "2     start-lm\n",
       "3        qb-QV\n",
       "4        QV-dr\n",
       "5       QV-end\n",
       "6        ni-qb\n",
       "7        VH-jz\n",
       "8        qs-lm\n",
       "9       qb-end\n",
       "10       dr-fu\n",
       "11       jz-lm\n",
       "12    start-VH\n",
       "13       QV-jz\n",
       "14       VH-qs\n",
       "15       lm-dr\n",
       "16       dr-ni\n",
       "17       ni-jz\n",
       "18       lm-QV\n",
       "19       jz-dr\n",
       "20      ni-end\n",
       "21       VH-dr\n",
       "22       VH-ni\n",
       "23       qb-HE\n",
       "dtype: object"
      ]
     },
     "execution_count": 324,
     "metadata": {},
     "output_type": "execute_result"
    }
   ],
   "source": [
    "with open(day , 'r') as f:\n",
    "    file = f.read().splitlines()\n",
    "file = pd.Series(file)\n",
    "file"
   ]
  },
  {
   "cell_type": "code",
   "execution_count": 11,
   "id": "ff1e662b",
   "metadata": {
    "ExecuteTime": {
     "end_time": "2021-12-11T18:56:11.215553Z",
     "start_time": "2021-12-11T18:56:11.209294Z"
    }
   },
   "outputs": [
    {
     "data": {
      "text/plain": [
       "[5212166716,\n",
       " 1567322581,\n",
       " 2268461548,\n",
       " 3481561744,\n",
       " 6248342248,\n",
       " 6526667368,\n",
       " 5627335775,\n",
       " 8124511754,\n",
       " 4614137683,\n",
       " 4724561156]"
      ]
     },
     "execution_count": 11,
     "metadata": {},
     "output_type": "execute_result"
    }
   ],
   "source": [
    "def map_pattern(x):\n",
    "    #x = x.split(\": \")[1]\n",
    "    #x = x.split(',')\n",
    "    return np.array(x, dtype=int)\n",
    "          \n",
    "data = file.apply(map_pattern).to_list()\n",
    "#data = pd.DataFrame(data)\n",
    "#data = data.astype(int)\n",
    "data "
   ]
  },
  {
   "cell_type": "markdown",
   "id": "b2619058",
   "metadata": {},
   "source": [
    "## Test"
   ]
  },
  {
   "cell_type": "code",
   "execution_count": 327,
   "id": "79572ea9",
   "metadata": {
    "ExecuteTime": {
     "end_time": "2021-12-12T08:29:08.394348Z",
     "start_time": "2021-12-12T08:29:07.873386Z"
    }
   },
   "outputs": [
    {
     "data": {
      "text/plain": [
       "5178"
      ]
     },
     "execution_count": 327,
     "metadata": {},
     "output_type": "execute_result"
    }
   ],
   "source": [
    "import re\n",
    "\n",
    "class PathFinder:\n",
    "    def __init__(self, chemins):\n",
    "        self.chemins = chemins\n",
    "        self.visited_path = []\n",
    "\n",
    "    def find_path(self, visits, point='start'):\n",
    "        # first item start\n",
    "        point = f'-{point}|{point}-'\n",
    "\n",
    "        # find all path with first item\n",
    "        # remove first item from path \n",
    "        # remove dash\n",
    "        paths = [item for item in self.chemins if re.search(point, item) ]\n",
    "        paths = [re.sub(point, '', p) for p in paths]\n",
    "        paths \n",
    "\n",
    "        if len(visits) == 0:\n",
    "            visited = ['start']\n",
    "        else:\n",
    "            visited = visits.copy()\n",
    "\n",
    "            \n",
    "        # new point to start with\n",
    "        for new_point in paths:\n",
    "\n",
    "            if new_point.islower() and new_point in visited:\n",
    "                continue\n",
    "            \n",
    "            if new_point == \"end\":\n",
    "                \n",
    "                visited.append(new_point)\n",
    "                self.visited_path.append(visited)\n",
    "                #print('path saved', visited, '\\n')\n",
    "                visited.pop()\n",
    "                continue\n",
    "            \n",
    "            \n",
    "            #if new_point not in visited:\n",
    "            visited.append(new_point)\n",
    "            a = self.find_path(visited, new_point)\n",
    "            \n",
    "            if a == 'dead':\n",
    "                visited.pop()\n",
    "                continue\n",
    "            \n",
    "        \n",
    "        return 'dead'\n",
    "        # call function from there\n",
    "\n",
    "finder = PathFinder(file)\n",
    "\n",
    "\n",
    "finder.find_path([])\n",
    "\n",
    "res = sorted([','.join(line) for line in finder.visited_path])\n",
    "len(res)"
   ]
  },
  {
   "cell_type": "code",
   "execution_count": 326,
   "id": "7a806fd0",
   "metadata": {
    "ExecuteTime": {
     "end_time": "2021-12-12T08:28:45.337182Z",
     "start_time": "2021-12-12T08:28:45.330786Z"
    }
   },
   "outputs": [],
   "source": [
    "test = \"\"\"start,A,b,A,c,A,end\n",
    "start,A,b,A,end\n",
    "start,A,b,end\n",
    "start,A,c,A,b,A,end\n",
    "start,A,c,A,b,end\n",
    "start,A,c,A,end\n",
    "start,A,end\n",
    "start,b,A,c,A,end\n",
    "start,b,A,end\n",
    "start,b,end\"\"\".split('\\n')"
   ]
  },
  {
   "cell_type": "code",
   "execution_count": 232,
   "id": "7ecf9960",
   "metadata": {
    "ExecuteTime": {
     "end_time": "2021-12-12T07:21:13.663747Z",
     "start_time": "2021-12-12T07:21:13.659421Z"
    }
   },
   "outputs": [
    {
     "data": {
      "text/plain": [
       "False"
      ]
     },
     "execution_count": 232,
     "metadata": {},
     "output_type": "execute_result"
    }
   ],
   "source": [
    "res == test"
   ]
  },
  {
   "cell_type": "markdown",
   "id": "05557ffb",
   "metadata": {},
   "source": [
    "## Part 1"
   ]
  },
  {
   "cell_type": "code",
   "execution_count": 332,
   "id": "044b16b4",
   "metadata": {
    "ExecuteTime": {
     "end_time": "2021-12-12T08:46:53.530185Z",
     "start_time": "2021-12-12T08:46:53.523098Z"
    }
   },
   "outputs": [
    {
     "data": {
      "text/plain": [
       "0       ax-end\n",
       "1        xq-GF\n",
       "2       end-xq\n",
       "3        im-wg\n",
       "4        ax-ie\n",
       "5     start-ws\n",
       "6        ie-ws\n",
       "7     CV-start\n",
       "8        ng-wg\n",
       "9        ng-ie\n",
       "10       GF-ng\n",
       "11       ng-av\n",
       "12      CV-end\n",
       "13       ie-GF\n",
       "14       CV-ie\n",
       "15       im-xq\n",
       "16    start-GF\n",
       "17       GF-ws\n",
       "18       wg-LY\n",
       "19       CV-ws\n",
       "20       im-CV\n",
       "21       CV-wg\n",
       "dtype: object"
      ]
     },
     "execution_count": 332,
     "metadata": {},
     "output_type": "execute_result"
    }
   ],
   "source": [
    "day = 'day12'\n",
    "with open(f'{day}' , 'r') as f:\n",
    "    file = f.read().splitlines()\n",
    "file = pd.Series(file)\n",
    "file"
   ]
  },
  {
   "cell_type": "code",
   "execution_count": 28,
   "id": "d3cec4d5",
   "metadata": {
    "ExecuteTime": {
     "end_time": "2021-12-12T12:17:24.812586Z",
     "start_time": "2021-12-12T12:17:24.807416Z"
    }
   },
   "outputs": [
    {
     "data": {
      "text/plain": [
       "0      dc-end\n",
       "1    HN-start\n",
       "2    start-kj\n",
       "3    dc-start\n",
       "4       dc-HN\n",
       "5       LN-dc\n",
       "6      HN-end\n",
       "7       kj-sa\n",
       "8       kj-HN\n",
       "9       kj-dc\n",
       "dtype: object"
      ]
     },
     "execution_count": 28,
     "metadata": {},
     "output_type": "execute_result"
    }
   ],
   "source": []
  },
  {
   "cell_type": "code",
   "execution_count": 30,
   "id": "5b216fb6",
   "metadata": {
    "ExecuteTime": {
     "end_time": "2021-12-12T12:19:16.105639Z",
     "start_time": "2021-12-12T12:19:16.100392Z"
    }
   },
   "outputs": [
    {
     "data": {
      "text/plain": [
       "['start', 'dc', 'end', 'kj']"
      ]
     },
     "execution_count": 30,
     "metadata": {},
     "output_type": "execute_result"
    }
   ],
   "source": [
    "paths = [string for string in file  if CHEMINS in string]\n",
    "paths = [string.replace(CHEMINS, '').replace('-', '') for string in paths]\n",
    "paths"
   ]
  },
  {
   "cell_type": "code",
   "execution_count": 14,
   "id": "653b48d4",
   "metadata": {
    "ExecuteTime": {
     "end_time": "2021-12-12T13:00:37.076616Z",
     "start_time": "2021-12-12T13:00:37.069221Z"
    }
   },
   "outputs": [],
   "source": [
    "def get_paths_from_point(point, paths_from_file=file):\n",
    "    # find all path with a given point \n",
    "    # keep only the other point in those paths\n",
    "    paths = [string for string in paths_from_file if point in string]\n",
    "    paths = [string.replace(point, '').replace('-', '') for string in paths]\n",
    "    return paths\n",
    "\n",
    "def find_path(visits=[], point='start', os=''):\n",
    "    if len(visits) == 0:\n",
    "        visited = ['start']\n",
    "    else:\n",
    "        visited = visits.copy()\n",
    "    \n",
    "    global res\n",
    "\n",
    "    # Begin search among possible paths\n",
    "    paths = get_paths_from_point(point)\n",
    "    for new_point in paths:\n",
    "        one_shot = os\n",
    "\n",
    "        if new_point == \"end\": # Saves results in global variable\n",
    "            res.append(visited)\n",
    "            continue\n",
    "\n",
    "        if new_point.islower() and new_point in visited:\n",
    "            if new_point == 'start':\n",
    "                continue\n",
    "            else: \n",
    "                if one_shot == '':\n",
    "                    one_shot = new_point\n",
    "                else:\n",
    "                    if visited.count(one_shot) > 1:\n",
    "                        continue \n",
    "\n",
    "        visited.append(new_point)\n",
    "        a = find_path(visited, new_point, one_shot)\n",
    "\n",
    "        if a == 'dead':\n",
    "            visited.pop()\n",
    "            continue\n",
    "\n",
    "    return 'dead'\n"
   ]
  },
  {
   "cell_type": "code",
   "execution_count": 15,
   "id": "3755fa4f",
   "metadata": {
    "ExecuteTime": {
     "end_time": "2021-12-12T13:00:37.726744Z",
     "start_time": "2021-12-12T13:00:37.720644Z"
    },
    "scrolled": true
   },
   "outputs": [
    {
     "data": {
      "text/plain": [
       "103"
      ]
     },
     "execution_count": 15,
     "metadata": {},
     "output_type": "execute_result"
    }
   ],
   "source": [
    "res = []\n",
    "find_path()\n",
    "len(res)"
   ]
  },
  {
   "cell_type": "markdown",
   "id": "6f214e33",
   "metadata": {},
   "source": [
    "# Day 13"
   ]
  },
  {
   "cell_type": "markdown",
   "id": "ff1c41e5",
   "metadata": {
    "ExecuteTime": {
     "end_time": "2021-12-09T18:03:43.792927Z",
     "start_time": "2021-12-09T18:03:43.790251Z"
    }
   },
   "source": [
    "## Preparation"
   ]
  },
  {
   "cell_type": "code",
   "execution_count": 241,
   "id": "8aff9735",
   "metadata": {
    "ExecuteTime": {
     "end_time": "2021-12-13T06:09:53.179138Z",
     "start_time": "2021-12-13T06:09:53.172067Z"
    }
   },
   "outputs": [
    {
     "data": {
      "text/plain": [
       "0               6,10\n",
       "1               0,14\n",
       "2               9,10\n",
       "3                0,3\n",
       "4               10,4\n",
       "5               4,11\n",
       "6                6,0\n",
       "7               6,12\n",
       "8                4,1\n",
       "9               0,13\n",
       "10             10,12\n",
       "11               3,4\n",
       "12               3,0\n",
       "13               8,4\n",
       "14              1,10\n",
       "15              2,14\n",
       "16              8,10\n",
       "17               9,0\n",
       "18                  \n",
       "19    fold along y=7\n",
       "20    fold along x=5\n",
       "dtype: object"
      ]
     },
     "execution_count": 241,
     "metadata": {},
     "output_type": "execute_result"
    }
   ],
   "source": [
    "day = 'day13'\n",
    "with open(f'test{day}' , 'r') as f:\n",
    "    file = f.read().splitlines()\n",
    "file = pd.Series(file)\n",
    "file"
   ]
  },
  {
   "cell_type": "code",
   "execution_count": 394,
   "id": "d7885765",
   "metadata": {
    "ExecuteTime": {
     "end_time": "2021-12-13T06:54:58.342325Z",
     "start_time": "2021-12-13T06:54:58.335366Z"
    }
   },
   "outputs": [
    {
     "data": {
      "text/plain": [
       "0               388,758\n",
       "1                82,197\n",
       "2               689,684\n",
       "3               140,677\n",
       "4                616,14\n",
       "             ...       \n",
       "1029    fold along y=55\n",
       "1030    fold along x=40\n",
       "1031    fold along y=27\n",
       "1032    fold along y=13\n",
       "1033     fold along y=6\n",
       "Length: 1034, dtype: object"
      ]
     },
     "execution_count": 394,
     "metadata": {},
     "output_type": "execute_result"
    }
   ],
   "source": [
    "with open(day , 'r') as f:\n",
    "    file = f.read().splitlines()\n",
    "file = pd.Series(file)\n",
    "file"
   ]
  },
  {
   "cell_type": "code",
   "execution_count": 395,
   "id": "f2c457fb",
   "metadata": {
    "ExecuteTime": {
     "end_time": "2021-12-13T06:54:59.505117Z",
     "start_time": "2021-12-13T06:54:59.500793Z"
    }
   },
   "outputs": [],
   "source": [
    "fold = [f.split('along ')[1] for f in file if 'fold' in f]\n",
    "xy = [f.split(',') for f in file if ',' in f]"
   ]
  },
  {
   "cell_type": "code",
   "execution_count": 397,
   "id": "c5c7946a",
   "metadata": {
    "ExecuteTime": {
     "end_time": "2021-12-13T06:55:00.105122Z",
     "start_time": "2021-12-13T06:55:00.100928Z"
    }
   },
   "outputs": [],
   "source": [
    "data = pd.DataFrame(xy, columns=['x', 'y']).astype(int)"
   ]
  },
  {
   "cell_type": "code",
   "execution_count": 399,
   "id": "ba0db876",
   "metadata": {
    "ExecuteTime": {
     "end_time": "2021-12-13T06:55:01.101111Z",
     "start_time": "2021-12-13T06:55:00.685000Z"
    }
   },
   "outputs": [],
   "source": [
    "grid = np.ones(( data.y.max()+1, data.x.max()+1))\n",
    "grid = np.where(grid ==1, '.', grid)\n",
    "#grid = pd.DataFrame(grid)"
   ]
  },
  {
   "cell_type": "code",
   "execution_count": 401,
   "id": "e8d4c2ce",
   "metadata": {
    "ExecuteTime": {
     "end_time": "2021-12-13T06:55:01.274584Z",
     "start_time": "2021-12-13T06:55:01.205780Z"
    }
   },
   "outputs": [],
   "source": [
    "for idx, row in data.iterrows():\n",
    "    grid[row['y'], row['x']] = \"#\"\n",
    "    #print(row['x'],row['y'])"
   ]
  },
  {
   "cell_type": "code",
   "execution_count": 402,
   "id": "b119ad00",
   "metadata": {
    "ExecuteTime": {
     "end_time": "2021-12-13T06:55:01.655763Z",
     "start_time": "2021-12-13T06:55:01.650859Z"
    }
   },
   "outputs": [
    {
     "data": {
      "text/plain": [
       "array([['.', '.', '.', ..., '.', '.', '.'],\n",
       "       ['.', '.', '.', ..., '.', '.', '.'],\n",
       "       ['.', '.', '.', ..., '.', '.', '.'],\n",
       "       ...,\n",
       "       ['.', '.', '.', ..., '.', '.', '.'],\n",
       "       ['.', '.', '.', ..., '.', '.', '.'],\n",
       "       ['.', '.', '.', ..., '.', '.', '.']], dtype='<U32')"
      ]
     },
     "execution_count": 402,
     "metadata": {},
     "output_type": "execute_result"
    }
   ],
   "source": [
    "grid"
   ]
  },
  {
   "cell_type": "code",
   "execution_count": 403,
   "id": "f4aa0f7c",
   "metadata": {
    "ExecuteTime": {
     "end_time": "2021-12-13T06:55:02.096521Z",
     "start_time": "2021-12-13T06:55:02.091618Z"
    }
   },
   "outputs": [],
   "source": [
    "def split_grid(grid, dic_entry):\n",
    "    axis, value = dic_entry.split('=')\n",
    "    value = int(value)\n",
    "    if axis=='y':\n",
    "        first_grid = grid[:value][:]\n",
    "        second_grid = grid[value+1:][:]\n",
    "        second_grid = np.flip(second_grid, 0)\n",
    "    \n",
    "    if axis=='x':\n",
    "        first_grid = grid[:, :value]\n",
    "        second_grid = grid[:, value+1:]\n",
    "        second_grid = np.flip(second_grid, 1)\n",
    "        \n",
    "    return first_grid, second_grid"
   ]
  },
  {
   "cell_type": "code",
   "execution_count": 404,
   "id": "69109549",
   "metadata": {
    "ExecuteTime": {
     "end_time": "2021-12-13T06:55:02.771282Z",
     "start_time": "2021-12-13T06:55:02.767297Z"
    }
   },
   "outputs": [],
   "source": [
    "def fold_grid(grid, fold):\n",
    "    for f in fold:\n",
    "        a, b = split_grid(grid, f)\n",
    "        if f[0] == 'x':\n",
    "            grid = merge_on_x(a,b)\n",
    "        else:\n",
    "            grid = merge_on_y(a, b)\n",
    "    return grid"
   ]
  },
  {
   "cell_type": "code",
   "execution_count": 406,
   "id": "5b28dfd2",
   "metadata": {
    "ExecuteTime": {
     "end_time": "2021-12-13T06:55:08.697955Z",
     "start_time": "2021-12-13T06:55:08.694023Z"
    }
   },
   "outputs": [],
   "source": [
    "def merge_on_y(a, b):\n",
    "    for idxb, tempb in enumerate(b[::-1][:]):\n",
    "        tempa = a[-1-idxb, :]\n",
    "        replace = np.where(tempb==\"#\", \"#\", tempa)\n",
    "        a[-1-idxb, :] = replace\n",
    "    return a"
   ]
  },
  {
   "cell_type": "code",
   "execution_count": 407,
   "id": "3ea42889",
   "metadata": {
    "ExecuteTime": {
     "end_time": "2021-12-13T06:55:09.021800Z",
     "start_time": "2021-12-13T06:55:09.017609Z"
    }
   },
   "outputs": [],
   "source": [
    "def merge_on_x(a,b ):\n",
    "    for idxb, tempb in enumerate(b[:, ::-1].T):\n",
    "        tempa = a[:, -1-idxb ]\n",
    "        replace = np.where(tempb==\"#\", \"#\", tempa)\n",
    "        a[:, -1-idxb] = replace\n",
    "    return a"
   ]
  },
  {
   "cell_type": "code",
   "execution_count": 405,
   "id": "d2c8f49d",
   "metadata": {
    "ExecuteTime": {
     "end_time": "2021-12-13T06:55:07.471436Z",
     "start_time": "2021-12-13T06:55:07.468501Z"
    }
   },
   "outputs": [],
   "source": [
    "a, b = split_grid(grid, fold[0])"
   ]
  },
  {
   "cell_type": "code",
   "execution_count": 408,
   "id": "bc492fbe",
   "metadata": {
    "ExecuteTime": {
     "end_time": "2021-12-13T06:55:09.751927Z",
     "start_time": "2021-12-13T06:55:09.711435Z"
    }
   },
   "outputs": [],
   "source": [
    "a = merge_on_y(a, b)"
   ]
  },
  {
   "cell_type": "code",
   "execution_count": 355,
   "id": "bcf15c32",
   "metadata": {
    "ExecuteTime": {
     "end_time": "2021-12-13T06:43:56.544127Z",
     "start_time": "2021-12-13T06:43:56.460387Z"
    }
   },
   "outputs": [],
   "source": [
    "one = merge_on_x(a, b)"
   ]
  },
  {
   "cell_type": "code",
   "execution_count": 409,
   "id": "f0bd6de9",
   "metadata": {
    "ExecuteTime": {
     "end_time": "2021-12-13T06:55:12.675283Z",
     "start_time": "2021-12-13T06:55:12.417388Z"
    }
   },
   "outputs": [
    {
     "data": {
      "text/plain": [
       "{'#': 842, '.': 585383}"
      ]
     },
     "execution_count": 409,
     "metadata": {},
     "output_type": "execute_result"
    }
   ],
   "source": [
    "unique, counts = np.unique(a, return_counts=True)\n",
    "dict(zip(unique, counts))"
   ]
  },
  {
   "cell_type": "markdown",
   "id": "4ae54f55",
   "metadata": {},
   "source": [
    "## Part 2"
   ]
  },
  {
   "cell_type": "code",
   "execution_count": 410,
   "id": "f9c04f10",
   "metadata": {
    "ExecuteTime": {
     "end_time": "2021-12-13T06:55:32.545520Z",
     "start_time": "2021-12-13T06:55:32.411232Z"
    }
   },
   "outputs": [],
   "source": [
    "res = fold_grid(grid, fold)"
   ]
  },
  {
   "cell_type": "code",
   "execution_count": 411,
   "id": "7dde99c8",
   "metadata": {
    "ExecuteTime": {
     "end_time": "2021-12-13T06:55:32.592139Z",
     "start_time": "2021-12-13T06:55:32.588554Z"
    }
   },
   "outputs": [],
   "source": [
    "res = np.where(res=='.', 0, res)\n",
    "res = np.where(res=='#', 1, res)"
   ]
  },
  {
   "cell_type": "code",
   "execution_count": 412,
   "id": "e9d67a94",
   "metadata": {
    "ExecuteTime": {
     "end_time": "2021-12-13T06:55:32.776089Z",
     "start_time": "2021-12-13T06:55:32.772430Z"
    }
   },
   "outputs": [],
   "source": [
    "res = pd.DataFrame(res).astype(int)"
   ]
  },
  {
   "cell_type": "code",
   "execution_count": 413,
   "id": "a703dccf",
   "metadata": {
    "ExecuteTime": {
     "end_time": "2021-12-13T06:55:33.610572Z",
     "start_time": "2021-12-13T06:55:33.438660Z"
    },
    "scrolled": false
   },
   "outputs": [
    {
     "data": {
      "text/plain": [
       "<matplotlib.image.AxesImage at 0x11e10b990>"
      ]
     },
     "execution_count": 413,
     "metadata": {},
     "output_type": "execute_result"
    },
    {
     "data": {
      "image/png": "[encoded data removed]",
      "text/plain": [
       "<Figure size 432x288 with 1 Axes>"
      ]
     },
     "metadata": {
      "needs_background": "light"
     },
     "output_type": "display_data"
    }
   ],
   "source": [
    "import matplotlib.pyplot as plt\n",
    "plt.imshow(res)"
   ]
  },
  {
   "cell_type": "markdown",
   "id": "6c31f39d",
   "metadata": {},
   "source": [
    "# Day 14"
   ]
  },
  {
   "cell_type": "markdown",
   "id": "3fc1a306",
   "metadata": {
    "ExecuteTime": {
     "end_time": "2021-12-09T18:03:43.792927Z",
     "start_time": "2021-12-09T18:03:43.790251Z"
    }
   },
   "source": [
    "## Preparation"
   ]
  },
  {
   "cell_type": "code",
   "execution_count": 2,
   "id": "814e24df",
   "metadata": {
    "ExecuteTime": {
     "end_time": "2021-12-12T21:20:45.664947Z",
     "start_time": "2021-12-12T21:20:45.644592Z"
    }
   },
   "outputs": [
    {
     "name": "stderr",
     "output_type": "stream",
     "text": [
      "/Users/alixtiran-cappello/.pyenv/versions/3.7.12/envs/rotor/lib/python3.7/site-packages/ipykernel_launcher.py:4: DeprecationWarning: The default dtype for empty Series will be 'object' instead of 'float64' in a future version. Specify a dtype explicitly to silence this warning.\n",
      "  after removing the cwd from sys.path.\n"
     ]
    },
    {
     "data": {
      "text/plain": [
       "Series([], dtype: float64)"
      ]
     },
     "execution_count": 2,
     "metadata": {},
     "output_type": "execute_result"
    }
   ],
   "source": [
    "day = 'day13'\n",
    "with open(f'test{day}' , 'r') as f:\n",
    "    file = f.read().splitlines()\n",
    "file = pd.Series(file)\n",
    "file"
   ]
  },
  {
   "cell_type": "code",
   "execution_count": null,
   "id": "7103b1eb",
   "metadata": {},
   "outputs": [],
   "source": [
    "with open(day , 'r') as f:\n",
    "    file = f.read().splitlines()\n",
    "file = pd.Series(file)\n",
    "file"
   ]
  },
  {
   "cell_type": "code",
   "execution_count": null,
   "id": "f8e80335",
   "metadata": {},
   "outputs": [],
   "source": [
    "def map_pattern(x):\n",
    "    #x = x.split(\": \")[1]\n",
    "    x = x.split(',')\n",
    "    return np.array(x, dtype=int)\n",
    "          \n",
    "data = file.apply(map_pattern).to_list()\n",
    "#data = pd.DataFrame(data)\n",
    "#data = data.astype(int)\n",
    "data "
   ]
  },
  {
   "cell_type": "markdown",
   "id": "b9a00bd8",
   "metadata": {},
   "source": [
    "## Test"
   ]
  },
  {
   "cell_type": "code",
   "execution_count": null,
   "id": "b1378725",
   "metadata": {},
   "outputs": [],
   "source": []
  },
  {
   "cell_type": "markdown",
   "id": "c61fef41",
   "metadata": {},
   "source": [
    "## Part 1"
   ]
  },
  {
   "cell_type": "code",
   "execution_count": null,
   "id": "df04cf09",
   "metadata": {},
   "outputs": [],
   "source": []
  },
  {
   "cell_type": "markdown",
   "id": "a25279ef",
   "metadata": {},
   "source": [
    "## Part 2"
   ]
  },
  {
   "cell_type": "code",
   "execution_count": null,
   "id": "cbb73fb9",
   "metadata": {},
   "outputs": [],
   "source": []
  }
 ],
 "metadata": {
  "kernelspec": {
   "display_name": "Python 3",
   "language": "python",
   "name": "python3"
  },
  "language_info": {
   "codemirror_mode": {
    "name": "ipython",
    "version": 3
   },
   "file_extension": ".py",
   "mimetype": "text/x-python",
   "name": "python",
   "nbconvert_exporter": "python",
   "pygments_lexer": "ipython3",
   "version": "3.7.12"
  },
  "toc": {
   "base_numbering": 1,
   "nav_menu": {},
   "number_sections": true,
   "sideBar": true,
   "skip_h1_title": false,
   "title_cell": "Table of Contents",
   "title_sidebar": "Contents",
   "toc_cell": false,
   "toc_position": {
    "height": "calc(100% - 180px)",
    "left": "10px",
    "top": "150px",
    "width": "281.2px"
   },
   "toc_section_display": true,
   "toc_window_display": true
  }
 },
 "nbformat": 4,
 "nbformat_minor": 5
}
