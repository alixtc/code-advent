{
 "cells": [
  {
   "cell_type": "code",
   "execution_count": null,
   "id": "d90c2285",
   "metadata": {},
   "outputs": [],
   "source": [
    "import pandas as pd\n",
    "import numpy as np"
   ]
  },
  {
   "cell_type": "markdown",
   "id": "ff1c41e5",
   "metadata": {
    "ExecuteTime": {
     "end_time": "2021-12-09T18:03:43.792927Z",
     "start_time": "2021-12-09T18:03:43.790251Z"
    }
   },
   "source": [
    "# TEMPLATE\n",
    "\n",
    "## Preparation\n",
    "\n"
   ]
  },
  {
   "cell_type": "code",
   "execution_count": null,
   "id": "ee70902e",
   "metadata": {},
   "outputs": [],
   "source": [
    "day = 'day'\n",
    "with open(f'test{day}' , 'r') as f:\n",
    "    file = f.read().splitlines()\n",
    "file = pd.Series(file)\n",
    "file"
   ]
  },
  {
   "cell_type": "code",
   "execution_count": null,
   "id": "b96d6c77",
   "metadata": {},
   "outputs": [],
   "source": [
    "with open(day , 'r') as f:\n",
    "    file = f.read().splitlines()\n",
    "file = pd.Series(file)\n",
    "file"
   ]
  },
  {
   "cell_type": "code",
   "execution_count": null,
   "id": "cee89c90",
   "metadata": {},
   "outputs": [],
   "source": [
    "def map_pattern(x):\n",
    "    #x = x.split(\": \")[1]\n",
    "    x = x.split(',')\n",
    "    return np.array(x, dtype=int)\n",
    "          \n",
    "data = file.apply(map_pattern).to_list()\n",
    "#data = pd.DataFrame(data)\n",
    "#data = data.astype(int)\n",
    "data "
   ]
  },
  {
   "cell_type": "markdown",
   "id": "cb75e048",
   "metadata": {},
   "source": [
    "## Test"
   ]
  },
  {
   "cell_type": "code",
   "execution_count": null,
   "id": "6ceb510f",
   "metadata": {},
   "outputs": [],
   "source": []
  },
  {
   "cell_type": "markdown",
   "id": "300e338d",
   "metadata": {},
   "source": [
    "## Part 1"
   ]
  },
  {
   "cell_type": "code",
   "execution_count": null,
   "id": "80b514d0",
   "metadata": {},
   "outputs": [],
   "source": []
  },
  {
   "cell_type": "markdown",
   "id": "c87314ea",
   "metadata": {},
   "source": [
    "## Part 2"
   ]
  },
  {
   "cell_type": "code",
   "execution_count": null,
   "id": "1ededc67",
   "metadata": {},
   "outputs": [],
   "source": []
  }
 ],
 "metadata": {
  "kernelspec": {
   "display_name": "Python 3",
   "language": "python",
   "name": "python3"
  },
  "language_info": {
   "codemirror_mode": {
    "name": "ipython",
    "version": 3
   },
   "file_extension": ".py",
   "mimetype": "text/x-python",
   "name": "python",
   "nbconvert_exporter": "python",
   "pygments_lexer": "ipython3",
   "version": "3.7.12"
  },
  "toc": {
   "base_numbering": 1,
   "nav_menu": {},
   "number_sections": true,
   "sideBar": true,
   "skip_h1_title": false,
   "title_cell": "Table of Contents",
   "title_sidebar": "Contents",
   "toc_cell": false,
   "toc_position": {},
   "toc_section_display": true,
   "toc_window_display": false
  }
 },
 "nbformat": 4,
 "nbformat_minor": 5
}
