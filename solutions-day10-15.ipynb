{
 "cells": [
  {
   "cell_type": "code",
   "execution_count": 4,
   "id": "d90c2285",
   "metadata": {
    "ExecuteTime": {
     "end_time": "2021-12-10T05:06:43.174566Z",
     "start_time": "2021-12-10T05:06:43.171690Z"
    }
   },
   "outputs": [],
   "source": [
    "import pandas as pd\n",
    "import numpy as np"
   ]
  },
  {
   "cell_type": "markdown",
   "id": "ff1c41e5",
   "metadata": {
    "ExecuteTime": {
     "end_time": "2021-12-09T18:03:43.792927Z",
     "start_time": "2021-12-09T18:03:43.790251Z"
    }
   },
   "source": [
    "# TEMPLATE\n",
    "\n",
    "## Preparation\n",
    "\n"
   ]
  },
  {
   "cell_type": "code",
   "execution_count": 5,
   "id": "ee70902e",
   "metadata": {
    "ExecuteTime": {
     "end_time": "2021-12-10T05:06:47.078333Z",
     "start_time": "2021-12-10T05:06:47.046727Z"
    }
   },
   "outputs": [
    {
     "name": "stderr",
     "output_type": "stream",
     "text": [
      "/Users/alixtiran-cappello/.pyenv/versions/3.7.12/envs/rotor/lib/python3.7/site-packages/ipykernel_launcher.py:4: DeprecationWarning: The default dtype for empty Series will be 'object' instead of 'float64' in a future version. Specify a dtype explicitly to silence this warning.\n",
      "  after removing the cwd from sys.path.\n"
     ]
    },
    {
     "data": {
      "text/plain": [
       "Series([], dtype: float64)"
      ]
     },
     "execution_count": 5,
     "metadata": {},
     "output_type": "execute_result"
    }
   ],
   "source": [
    "day = 'day10'\n",
    "with open(f'test{day}' , 'r') as f:\n",
    "    file = f.read().splitlines()\n",
    "file = pd.Series(file)\n",
    "file"
   ]
  },
  {
   "cell_type": "code",
   "execution_count": 155,
   "id": "b96d6c77",
   "metadata": {
    "ExecuteTime": {
     "end_time": "2021-12-10T05:53:59.879097Z",
     "start_time": "2021-12-10T05:53:59.871379Z"
    }
   },
   "outputs": [
    {
     "data": {
      "text/plain": [
       "0      (({({({(({{<{{()<>}}>}}([<[(<>{})(()()))[[{}[]...\n",
       "1      [{(<(<<([[[{(([]{})<(){}>)<{<>}(()[])>}]]{[([(...\n",
       "2      ((<[([(({<<<{{<><>}({}<>)}{{<>{}}[[]()]}>>([<[...\n",
       "3      [<[<({{({{[({[[][]]<{}<>>})<[<{}{}>]([<><>](<>...\n",
       "4      [<{<<({[{{{(<({}()){{}[]}><(<><>)[[]{}]>)}<(([...\n",
       "                             ...                        \n",
       "97     <({{<(<([({<[{<>[]}]<[{}{}]{()[]}>>(({[]()}))}...\n",
       "98     {[(([<([[<[<{[()]}>[<[<>{}][<><>]>{[()]{<>}}]]...\n",
       "99     <<({<<<({(<<[<[]()>{[][]}][<{}{}>{[]<>}]>[{{<>...\n",
       "100    [[[(<<(({[(((((){})(<>{}))<[[]()]{{}{})>)(<[()...\n",
       "101    {[[{<[{([<[<{(<><>)}({{}}([][]))>]{{<[<>{}]>(<...\n",
       "Length: 102, dtype: object"
      ]
     },
     "execution_count": 155,
     "metadata": {},
     "output_type": "execute_result"
    }
   ],
   "source": [
    "with open(day , 'r') as f:\n",
    "    file = f.read().splitlines()\n",
    "file = pd.Series(file)\n",
    "file"
   ]
  },
  {
   "cell_type": "code",
   "execution_count": null,
   "id": "cee89c90",
   "metadata": {},
   "outputs": [],
   "source": [
    "def map_pattern(x):\n",
    "    #x = x.split(\": \")[1]\n",
    "    x = x.split(',')\n",
    "    return np.array(x, dtype=int)\n",
    "          \n",
    "data = file.apply(map_pattern).to_list()\n",
    "#data = pd.DataFrame(data)\n",
    "#data = data.astype(int)\n",
    "data "
   ]
  },
  {
   "cell_type": "markdown",
   "id": "cb75e048",
   "metadata": {},
   "source": [
    "## Test"
   ]
  },
  {
   "cell_type": "code",
   "execution_count": 156,
   "id": "6ceb510f",
   "metadata": {
    "ExecuteTime": {
     "end_time": "2021-12-10T05:54:05.077638Z",
     "start_time": "2021-12-10T05:54:05.067084Z"
    }
   },
   "outputs": [
    {
     "data": {
      "text/html": [
       "<div>\n",
       "<style scoped>\n",
       "    .dataframe tbody tr th:only-of-type {\n",
       "        vertical-align: middle;\n",
       "    }\n",
       "\n",
       "    .dataframe tbody tr th {\n",
       "        vertical-align: top;\n",
       "    }\n",
       "\n",
       "    .dataframe thead th {\n",
       "        text-align: right;\n",
       "    }\n",
       "</style>\n",
       "<table border=\"1\" class=\"dataframe\">\n",
       "  <thead>\n",
       "    <tr style=\"text-align: right;\">\n",
       "      <th></th>\n",
       "      <th>string</th>\n",
       "    </tr>\n",
       "  </thead>\n",
       "  <tbody>\n",
       "    <tr>\n",
       "      <th>0</th>\n",
       "      <td>(({({({(({{&lt;{{()&lt;&gt;}}&gt;}}([&lt;[(&lt;&gt;{})(()()))[[{}[]...</td>\n",
       "    </tr>\n",
       "    <tr>\n",
       "      <th>1</th>\n",
       "      <td>[{(&lt;(&lt;&lt;([[[{(([]{})&lt;(){}&gt;)&lt;{&lt;&gt;}(()[])&gt;}]]{[([(...</td>\n",
       "    </tr>\n",
       "    <tr>\n",
       "      <th>2</th>\n",
       "      <td>((&lt;[([(({&lt;&lt;&lt;{{&lt;&gt;&lt;&gt;}({}&lt;&gt;)}{{&lt;&gt;{}}[[]()]}&gt;&gt;([&lt;[...</td>\n",
       "    </tr>\n",
       "    <tr>\n",
       "      <th>3</th>\n",
       "      <td>[&lt;[&lt;({{({{[({[[][]]&lt;{}&lt;&gt;&gt;})&lt;[&lt;{}{}&gt;]([&lt;&gt;&lt;&gt;](&lt;&gt;...</td>\n",
       "    </tr>\n",
       "    <tr>\n",
       "      <th>4</th>\n",
       "      <td>[&lt;{&lt;&lt;({[{{{(&lt;({}()){{}[]}&gt;&lt;(&lt;&gt;&lt;&gt;)[[]{}]&gt;)}&lt;(([...</td>\n",
       "    </tr>\n",
       "    <tr>\n",
       "      <th>...</th>\n",
       "      <td>...</td>\n",
       "    </tr>\n",
       "    <tr>\n",
       "      <th>97</th>\n",
       "      <td>&lt;({{&lt;(&lt;([({&lt;[{&lt;&gt;[]}]&lt;[{}{}]{()[]}&gt;&gt;(({[]()}))}...</td>\n",
       "    </tr>\n",
       "    <tr>\n",
       "      <th>98</th>\n",
       "      <td>{[(([&lt;([[&lt;[&lt;{[()]}&gt;[&lt;[&lt;&gt;{}][&lt;&gt;&lt;&gt;]&gt;{[()]{&lt;&gt;}}]]...</td>\n",
       "    </tr>\n",
       "    <tr>\n",
       "      <th>99</th>\n",
       "      <td>&lt;&lt;({&lt;&lt;&lt;({(&lt;&lt;[&lt;[]()&gt;{[][]}][&lt;{}{}&gt;{[]&lt;&gt;}]&gt;[{{&lt;&gt;...</td>\n",
       "    </tr>\n",
       "    <tr>\n",
       "      <th>100</th>\n",
       "      <td>[[[(&lt;&lt;(({[(((((){})(&lt;&gt;{}))&lt;[[]()]{{}{})&gt;)(&lt;[()...</td>\n",
       "    </tr>\n",
       "    <tr>\n",
       "      <th>101</th>\n",
       "      <td>{[[{&lt;[{([&lt;[&lt;{(&lt;&gt;&lt;&gt;)}({{}}([][]))&gt;]{{&lt;[&lt;&gt;{}]&gt;(&lt;...</td>\n",
       "    </tr>\n",
       "  </tbody>\n",
       "</table>\n",
       "<p>102 rows × 1 columns</p>\n",
       "</div>"
      ],
      "text/plain": [
       "                                                string\n",
       "0    (({({({(({{<{{()<>}}>}}([<[(<>{})(()()))[[{}[]...\n",
       "1    [{(<(<<([[[{(([]{})<(){}>)<{<>}(()[])>}]]{[([(...\n",
       "2    ((<[([(({<<<{{<><>}({}<>)}{{<>{}}[[]()]}>>([<[...\n",
       "3    [<[<({{({{[({[[][]]<{}<>>})<[<{}{}>]([<><>](<>...\n",
       "4    [<{<<({[{{{(<({}()){{}[]}><(<><>)[[]{}]>)}<(([...\n",
       "..                                                 ...\n",
       "97   <({{<(<([({<[{<>[]}]<[{}{}]{()[]}>>(({[]()}))}...\n",
       "98   {[(([<([[<[<{[()]}>[<[<>{}][<><>]>{[()]{<>}}]]...\n",
       "99   <<({<<<({(<<[<[]()>{[][]}][<{}{}>{[]<>}]>[{{<>...\n",
       "100  [[[(<<(({[(((((){})(<>{}))<[[]()]{{}{})>)(<[()...\n",
       "101  {[[{<[{([<[<{(<><>)}({{}}([][]))>]{{<[<>{}]>(<...\n",
       "\n",
       "[102 rows x 1 columns]"
      ]
     },
     "execution_count": 156,
     "metadata": {},
     "output_type": "execute_result"
    }
   ],
   "source": [
    "data = pd.DataFrame(file, columns=['string'])\n",
    "data"
   ]
  },
  {
   "cell_type": "markdown",
   "id": "300e338d",
   "metadata": {},
   "source": [
    "## Prep"
   ]
  },
  {
   "cell_type": "code",
   "execution_count": 165,
   "id": "645adfbe",
   "metadata": {
    "ExecuteTime": {
     "end_time": "2021-12-10T05:54:38.510389Z",
     "start_time": "2021-12-10T05:54:38.506888Z"
    }
   },
   "outputs": [],
   "source": [
    "# Python3 code to Check for \n",
    "# balanced parentheses in an expression\n",
    "open_list = [\"[\",\"{\",\"(\", '<']\n",
    "close_list = [\"]\",\"}\",\")\", '>']\n",
    "\n",
    "matching = { \n",
    "    ')': 3,\n",
    "            \n",
    "    \"]\": 57,\n",
    "'}': 1197,\n",
    "'>': 25137\n",
    "}"
   ]
  },
  {
   "cell_type": "code",
   "execution_count": 158,
   "id": "80b514d0",
   "metadata": {
    "ExecuteTime": {
     "end_time": "2021-12-10T05:54:14.623610Z",
     "start_time": "2021-12-10T05:54:14.615709Z"
    }
   },
   "outputs": [
    {
     "name": "stdout",
     "output_type": "stream",
     "text": [
      "{[]{()}} - ('Balanced', None)\n",
      "[{}{})(] - ('Corrupted', ')')\n",
      "((() - ('Unbalanced', None)\n"
     ]
    }
   ],
   "source": [
    "# Function to check parentheses\n",
    "def check(myStr):\n",
    "    stack = []\n",
    "    for i in myStr:\n",
    "        if i in open_list:\n",
    "            stack.append(i)\n",
    "        elif i in close_list:\n",
    "            pos = close_list.index(i)\n",
    "            if ((len(stack) > 0) and\n",
    "                (open_list[pos] == stack[len(stack)-1])):\n",
    "                stack.pop()\n",
    "            else:\n",
    "                return \"Corrupted\", i\n",
    "    if len(stack) == 0:\n",
    "        return \"Balanced\", None\n",
    "    else:\n",
    "        return \"Unbalanced\", None\n",
    "  \n",
    "  \n",
    "# Driver code\n",
    "string = \"{[]{()}}\"\n",
    "print(string,\"-\", check(string))\n",
    "  \n",
    "string = \"[{}{})(]\"\n",
    "print(string,\"-\", check(string))\n",
    "  \n",
    "string = \"((()\"\n",
    "print(string,\"-\",check(string))"
   ]
  },
  {
   "cell_type": "markdown",
   "id": "c87314ea",
   "metadata": {},
   "source": [
    "## Part 1"
   ]
  },
  {
   "cell_type": "code",
   "execution_count": 159,
   "id": "1ededc67",
   "metadata": {
    "ExecuteTime": {
     "end_time": "2021-12-10T05:54:21.334475Z",
     "start_time": "2021-12-10T05:54:21.326857Z"
    }
   },
   "outputs": [],
   "source": [
    "data['status']= data.string.apply(check)"
   ]
  },
  {
   "cell_type": "code",
   "execution_count": 160,
   "id": "257e7fd7",
   "metadata": {
    "ExecuteTime": {
     "end_time": "2021-12-10T05:54:21.882956Z",
     "start_time": "2021-12-10T05:54:21.878813Z"
    }
   },
   "outputs": [],
   "source": [
    "data['char'] = data.status.apply(lambda x: x[1])"
   ]
  },
  {
   "cell_type": "code",
   "execution_count": 161,
   "id": "998ca0d3",
   "metadata": {
    "ExecuteTime": {
     "end_time": "2021-12-10T05:54:22.569919Z",
     "start_time": "2021-12-10T05:54:22.566529Z"
    }
   },
   "outputs": [],
   "source": [
    "data['status'] = data.status.apply(lambda x: x[0])"
   ]
  },
  {
   "cell_type": "code",
   "execution_count": 162,
   "id": "0d7a35e0",
   "metadata": {
    "ExecuteTime": {
     "end_time": "2021-12-10T05:54:23.233015Z",
     "start_time": "2021-12-10T05:54:23.221999Z"
    }
   },
   "outputs": [
    {
     "data": {
      "text/html": [
       "<div>\n",
       "<style scoped>\n",
       "    .dataframe tbody tr th:only-of-type {\n",
       "        vertical-align: middle;\n",
       "    }\n",
       "\n",
       "    .dataframe tbody tr th {\n",
       "        vertical-align: top;\n",
       "    }\n",
       "\n",
       "    .dataframe thead th {\n",
       "        text-align: right;\n",
       "    }\n",
       "</style>\n",
       "<table border=\"1\" class=\"dataframe\">\n",
       "  <thead>\n",
       "    <tr style=\"text-align: right;\">\n",
       "      <th></th>\n",
       "      <th>string</th>\n",
       "      <th>status</th>\n",
       "      <th>char</th>\n",
       "    </tr>\n",
       "  </thead>\n",
       "  <tbody>\n",
       "    <tr>\n",
       "      <th>0</th>\n",
       "      <td>(({({({(({{&lt;{{()&lt;&gt;}}&gt;}}([&lt;[(&lt;&gt;{})(()()))[[{}[]...</td>\n",
       "      <td>Corrupted</td>\n",
       "      <td>)</td>\n",
       "    </tr>\n",
       "    <tr>\n",
       "      <th>1</th>\n",
       "      <td>[{(&lt;(&lt;&lt;([[[{(([]{})&lt;(){}&gt;)&lt;{&lt;&gt;}(()[])&gt;}]]{[([(...</td>\n",
       "      <td>Unbalanced</td>\n",
       "      <td>None</td>\n",
       "    </tr>\n",
       "    <tr>\n",
       "      <th>2</th>\n",
       "      <td>((&lt;[([(({&lt;&lt;&lt;{{&lt;&gt;&lt;&gt;}({}&lt;&gt;)}{{&lt;&gt;{}}[[]()]}&gt;&gt;([&lt;[...</td>\n",
       "      <td>Corrupted</td>\n",
       "      <td>}</td>\n",
       "    </tr>\n",
       "    <tr>\n",
       "      <th>3</th>\n",
       "      <td>[&lt;[&lt;({{({{[({[[][]]&lt;{}&lt;&gt;&gt;})&lt;[&lt;{}{}&gt;]([&lt;&gt;&lt;&gt;](&lt;&gt;...</td>\n",
       "      <td>Corrupted</td>\n",
       "      <td>}</td>\n",
       "    </tr>\n",
       "    <tr>\n",
       "      <th>4</th>\n",
       "      <td>[&lt;{&lt;&lt;({[{{{(&lt;({}()){{}[]}&gt;&lt;(&lt;&gt;&lt;&gt;)[[]{}]&gt;)}&lt;(([...</td>\n",
       "      <td>Unbalanced</td>\n",
       "      <td>None</td>\n",
       "    </tr>\n",
       "    <tr>\n",
       "      <th>...</th>\n",
       "      <td>...</td>\n",
       "      <td>...</td>\n",
       "      <td>...</td>\n",
       "    </tr>\n",
       "    <tr>\n",
       "      <th>97</th>\n",
       "      <td>&lt;({{&lt;(&lt;([({&lt;[{&lt;&gt;[]}]&lt;[{}{}]{()[]}&gt;&gt;(({[]()}))}...</td>\n",
       "      <td>Unbalanced</td>\n",
       "      <td>None</td>\n",
       "    </tr>\n",
       "    <tr>\n",
       "      <th>98</th>\n",
       "      <td>{[(([&lt;([[&lt;[&lt;{[()]}&gt;[&lt;[&lt;&gt;{}][&lt;&gt;&lt;&gt;]&gt;{[()]{&lt;&gt;}}]]...</td>\n",
       "      <td>Unbalanced</td>\n",
       "      <td>None</td>\n",
       "    </tr>\n",
       "    <tr>\n",
       "      <th>99</th>\n",
       "      <td>&lt;&lt;({&lt;&lt;&lt;({(&lt;&lt;[&lt;[]()&gt;{[][]}][&lt;{}{}&gt;{[]&lt;&gt;}]&gt;[{{&lt;&gt;...</td>\n",
       "      <td>Unbalanced</td>\n",
       "      <td>None</td>\n",
       "    </tr>\n",
       "    <tr>\n",
       "      <th>100</th>\n",
       "      <td>[[[(&lt;&lt;(({[(((((){})(&lt;&gt;{}))&lt;[[]()]{{}{})&gt;)(&lt;[()...</td>\n",
       "      <td>Corrupted</td>\n",
       "      <td>)</td>\n",
       "    </tr>\n",
       "    <tr>\n",
       "      <th>101</th>\n",
       "      <td>{[[{&lt;[{([&lt;[&lt;{(&lt;&gt;&lt;&gt;)}({{}}([][]))&gt;]{{&lt;[&lt;&gt;{}]&gt;(&lt;...</td>\n",
       "      <td>Unbalanced</td>\n",
       "      <td>None</td>\n",
       "    </tr>\n",
       "  </tbody>\n",
       "</table>\n",
       "<p>102 rows × 3 columns</p>\n",
       "</div>"
      ],
      "text/plain": [
       "                                                string      status  char\n",
       "0    (({({({(({{<{{()<>}}>}}([<[(<>{})(()()))[[{}[]...   Corrupted     )\n",
       "1    [{(<(<<([[[{(([]{})<(){}>)<{<>}(()[])>}]]{[([(...  Unbalanced  None\n",
       "2    ((<[([(({<<<{{<><>}({}<>)}{{<>{}}[[]()]}>>([<[...   Corrupted     }\n",
       "3    [<[<({{({{[({[[][]]<{}<>>})<[<{}{}>]([<><>](<>...   Corrupted     }\n",
       "4    [<{<<({[{{{(<({}()){{}[]}><(<><>)[[]{}]>)}<(([...  Unbalanced  None\n",
       "..                                                 ...         ...   ...\n",
       "97   <({{<(<([({<[{<>[]}]<[{}{}]{()[]}>>(({[]()}))}...  Unbalanced  None\n",
       "98   {[(([<([[<[<{[()]}>[<[<>{}][<><>]>{[()]{<>}}]]...  Unbalanced  None\n",
       "99   <<({<<<({(<<[<[]()>{[][]}][<{}{}>{[]<>}]>[{{<>...  Unbalanced  None\n",
       "100  [[[(<<(({[(((((){})(<>{}))<[[]()]{{}{})>)(<[()...   Corrupted     )\n",
       "101  {[[{<[{([<[<{(<><>)}({{}}([][]))>]{{<[<>{}]>(<...  Unbalanced  None\n",
       "\n",
       "[102 rows x 3 columns]"
      ]
     },
     "execution_count": 162,
     "metadata": {},
     "output_type": "execute_result"
    }
   ],
   "source": [
    "data"
   ]
  },
  {
   "cell_type": "code",
   "execution_count": 167,
   "id": "de880092",
   "metadata": {
    "ExecuteTime": {
     "end_time": "2021-12-10T05:54:54.514346Z",
     "start_time": "2021-12-10T05:54:54.505536Z"
    }
   },
   "outputs": [
    {
     "data": {
      "text/html": [
       "<div>\n",
       "<style scoped>\n",
       "    .dataframe tbody tr th:only-of-type {\n",
       "        vertical-align: middle;\n",
       "    }\n",
       "\n",
       "    .dataframe tbody tr th {\n",
       "        vertical-align: top;\n",
       "    }\n",
       "\n",
       "    .dataframe thead th {\n",
       "        text-align: right;\n",
       "    }\n",
       "</style>\n",
       "<table border=\"1\" class=\"dataframe\">\n",
       "  <thead>\n",
       "    <tr style=\"text-align: right;\">\n",
       "      <th></th>\n",
       "      <th>index</th>\n",
       "      <th>char</th>\n",
       "    </tr>\n",
       "  </thead>\n",
       "  <tbody>\n",
       "    <tr>\n",
       "      <th>0</th>\n",
       "      <td>)</td>\n",
       "      <td>17</td>\n",
       "    </tr>\n",
       "    <tr>\n",
       "      <th>1</th>\n",
       "      <td>&gt;</td>\n",
       "      <td>15</td>\n",
       "    </tr>\n",
       "    <tr>\n",
       "      <th>2</th>\n",
       "      <td>}</td>\n",
       "      <td>10</td>\n",
       "    </tr>\n",
       "    <tr>\n",
       "      <th>3</th>\n",
       "      <td>]</td>\n",
       "      <td>9</td>\n",
       "    </tr>\n",
       "  </tbody>\n",
       "</table>\n",
       "</div>"
      ],
      "text/plain": [
       "  index  char\n",
       "0     )    17\n",
       "1     >    15\n",
       "2     }    10\n",
       "3     ]     9"
      ]
     },
     "execution_count": 167,
     "metadata": {},
     "output_type": "execute_result"
    }
   ],
   "source": [
    "summary = pd.DataFrame(data.char.value_counts()).reset_index()\n",
    "summary"
   ]
  },
  {
   "cell_type": "code",
   "execution_count": 168,
   "id": "7adb6d58",
   "metadata": {
    "ExecuteTime": {
     "end_time": "2021-12-10T05:55:05.144408Z",
     "start_time": "2021-12-10T05:55:05.139989Z"
    }
   },
   "outputs": [],
   "source": [
    "summary['index'] = summary['index'].map(matching)"
   ]
  },
  {
   "cell_type": "code",
   "execution_count": 169,
   "id": "48a6dfee",
   "metadata": {
    "ExecuteTime": {
     "end_time": "2021-12-10T05:55:05.973388Z",
     "start_time": "2021-12-10T05:55:05.968228Z"
    }
   },
   "outputs": [
    {
     "data": {
      "text/plain": [
       "389589"
      ]
     },
     "execution_count": 169,
     "metadata": {},
     "output_type": "execute_result"
    }
   ],
   "source": [
    "(summary['index'] * summary.char).sum()"
   ]
  },
  {
   "cell_type": "markdown",
   "id": "355de38b",
   "metadata": {},
   "source": [
    "## Part 2"
   ]
  },
  {
   "cell_type": "code",
   "execution_count": 170,
   "id": "7fe17cf5",
   "metadata": {
    "ExecuteTime": {
     "end_time": "2021-12-10T05:55:09.971178Z",
     "start_time": "2021-12-10T05:55:09.965693Z"
    }
   },
   "outputs": [],
   "source": [
    "# Function to check parentheses\n",
    "def check(myStr):\n",
    "    stack = []\n",
    "    unba = []\n",
    "    for i in myStr:\n",
    "        if i in open_list:\n",
    "            stack.append(i)\n",
    "        elif i in close_list:\n",
    "            pos = close_list.index(i)\n",
    "            if ((len(stack) > 0) and\n",
    "                (open_list[pos] == stack[len(stack)-1])):\n",
    "                stack.pop()\n",
    "            else:\n",
    "                return \"Corrupted\", i\n",
    "    if len(stack) == 0:\n",
    "        return \"Balanced\", None\n",
    "    else:\n",
    "        return stack"
   ]
  },
  {
   "cell_type": "code",
   "execution_count": 171,
   "id": "1871c9dc",
   "metadata": {
    "ExecuteTime": {
     "end_time": "2021-12-10T05:55:11.725835Z",
     "start_time": "2021-12-10T05:55:11.721209Z"
    }
   },
   "outputs": [],
   "source": [
    "unba = data[data.status == 'Unbalanced']\n",
    "unba = unba[['string']]"
   ]
  },
  {
   "cell_type": "code",
   "execution_count": 173,
   "id": "323486f6",
   "metadata": {
    "ExecuteTime": {
     "end_time": "2021-12-10T05:55:15.308694Z",
     "start_time": "2021-12-10T05:55:15.302238Z"
    }
   },
   "outputs": [],
   "source": [
    "unba['list'] = unba.string.apply(check)"
   ]
  },
  {
   "cell_type": "code",
   "execution_count": 175,
   "id": "7f3e597c",
   "metadata": {
    "ExecuteTime": {
     "end_time": "2021-12-10T05:55:18.375753Z",
     "start_time": "2021-12-10T05:55:18.372990Z"
    }
   },
   "outputs": [],
   "source": [
    "matcher = { \n",
    "    '(': 1,   \n",
    "    \"[\": 2,\n",
    "'{': 3,\n",
    "'<': 4\n",
    "}"
   ]
  },
  {
   "cell_type": "code",
   "execution_count": 176,
   "id": "cf977c5e",
   "metadata": {
    "ExecuteTime": {
     "end_time": "2021-12-10T05:55:18.859733Z",
     "start_time": "2021-12-10T05:55:18.856402Z"
    }
   },
   "outputs": [],
   "source": [
    "def count_point(stack):\n",
    "    count = 0\n",
    "    stack.reverse()\n",
    "    for item in stack:\n",
    "        count *= 5\n",
    "        count += matcher[item]\n",
    "    return count"
   ]
  },
  {
   "cell_type": "code",
   "execution_count": 177,
   "id": "c066d52f",
   "metadata": {
    "ExecuteTime": {
     "end_time": "2021-12-10T05:55:19.916471Z",
     "start_time": "2021-12-10T05:55:19.912679Z"
    }
   },
   "outputs": [],
   "source": [
    "unba['res'] = unba['list'].apply(count_point)"
   ]
  },
  {
   "cell_type": "code",
   "execution_count": 179,
   "id": "af0144f7",
   "metadata": {
    "ExecuteTime": {
     "end_time": "2021-12-10T05:55:25.228889Z",
     "start_time": "2021-12-10T05:55:25.225182Z"
    }
   },
   "outputs": [],
   "source": [
    "res = unba['res'].sort_values().reset_index(drop='True')"
   ]
  },
  {
   "cell_type": "code",
   "execution_count": 180,
   "id": "3643398d",
   "metadata": {
    "ExecuteTime": {
     "end_time": "2021-12-10T05:55:25.848433Z",
     "start_time": "2021-12-10T05:55:25.844053Z"
    }
   },
   "outputs": [
    {
     "data": {
      "text/plain": [
       "1190420163"
      ]
     },
     "execution_count": 180,
     "metadata": {},
     "output_type": "execute_result"
    }
   ],
   "source": [
    "res[len(res) // 2]"
   ]
  },
  {
   "cell_type": "code",
   "execution_count": null,
   "id": "85714475",
   "metadata": {},
   "outputs": [],
   "source": []
  }
 ],
 "metadata": {
  "kernelspec": {
   "display_name": "Python 3",
   "language": "python",
   "name": "python3"
  },
  "language_info": {
   "codemirror_mode": {
    "name": "ipython",
    "version": 3
   },
   "file_extension": ".py",
   "mimetype": "text/x-python",
   "name": "python",
   "nbconvert_exporter": "python",
   "pygments_lexer": "ipython3",
   "version": "3.7.12"
  },
  "toc": {
   "base_numbering": 1,
   "nav_menu": {},
   "number_sections": true,
   "sideBar": true,
   "skip_h1_title": false,
   "title_cell": "Table of Contents",
   "title_sidebar": "Contents",
   "toc_cell": false,
   "toc_position": {},
   "toc_section_display": true,
   "toc_window_display": true
  }
 },
 "nbformat": 4,
 "nbformat_minor": 5
}
